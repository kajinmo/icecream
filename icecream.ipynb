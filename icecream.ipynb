{
 "cells": [
  {
   "cell_type": "markdown",
   "metadata": {},
   "source": [
    "# Intro"
   ]
  },
  {
   "cell_type": "markdown",
   "metadata": {},
   "source": [
    "* Loading Data"
   ]
  },
  {
   "cell_type": "code",
   "execution_count": null,
   "metadata": {},
   "outputs": [],
   "source": [
    "# Loading libraries\n",
    "\n",
    "import numpy as np\n",
    "import pandas as pd"
   ]
  },
  {
   "cell_type": "code",
   "execution_count": null,
   "metadata": {},
   "outputs": [],
   "source": [
    "df = pd.read_csv(\"products.csv\")\n",
    "print(\"the dataset has \" + str(df.shape[0]) + \" observations (ice cream flavors) and \" + str(df.shape[1]) + \" features \" + str([col for col in df.columns]))\n",
    "\n",
    "# Dataset: https://www.kaggle.com/datasets/tysonpo/ice-cream-dataset\n",
    "\n",
    "# Inspirations\n",
    "# Using Ice Cream Ingredients to Predict Rating: https://www.kaggle.com/code/gcdatkin/using-ice-cream-ingredients-to-predict-rating\n",
    "# Finding the Best Ice Cream: https://www.kaggle.com/code/kelvintran1998/finding-the-best-ice-cream\n",
    "# EDA ideas: McDonalds Ice Cream Machines Breaking: https://www.kaggle.com/code/aashidutt3/eda-mcdonalds-ice-cream-machines-breaking"
   ]
  },
  {
   "cell_type": "code",
   "execution_count": null,
   "metadata": {},
   "outputs": [],
   "source": [
    "df.head(10)"
   ]
  },
  {
   "cell_type": "markdown",
   "metadata": {},
   "source": [
    "* Data Cleaning: dropping unused columns"
   ]
  },
  {
   "cell_type": "code",
   "execution_count": null,
   "metadata": {},
   "outputs": [],
   "source": [
    "# we don't need to use these columns, so we will drop it\n",
    "df = df.drop(columns=['key','subhead','description'])"
   ]
  },
  {
   "cell_type": "markdown",
   "metadata": {},
   "source": [
    "* Data Cleaning: transform brand feature to more readable names"
   ]
  },
  {
   "cell_type": "code",
   "execution_count": null,
   "metadata": {},
   "outputs": [],
   "source": [
    "# change brand name\n",
    "df['brand'] = df['brand'].replace(['hd','breyers','bj','talenti'],['HaagenDazs','Breyers','BenJerrys','Talenti'])\n",
    "df['brand'].value_counts()"
   ]
  },
  {
   "cell_type": "markdown",
   "metadata": {},
   "source": [
    "# Exploratory Data Analysis"
   ]
  },
  {
   "cell_type": "markdown",
   "metadata": {},
   "source": [
    "* Exploratory Data Analysis: Color Scheme"
   ]
  },
  {
   "cell_type": "code",
   "execution_count": 19,
   "metadata": {},
   "outputs": [
    {
     "data": {
      "text/plain": [
       "<Figure size 1200x800 with 0 Axes>"
      ]
     },
     "metadata": {},
     "output_type": "display_data"
    }
   ],
   "source": [
    "# loading dataviz libraries\n",
    "import seaborn as sns\n",
    "import matplotlib.pyplot as plt\n",
    "from pylab import rcParams\n",
    "\n",
    "sns.set_theme(style=\"whitegrid\")\n",
    "sns.despine(left=True, bottom=True)"
   ]
  },
  {
   "cell_type": "code",
   "execution_count": null,
   "metadata": {},
   "outputs": [],
   "source": [
    "# Color Scheme\n",
    "class clr:\n",
    "    S = '\\033[1m' + '\\033[96m' # chance color text\n",
    "    E = '\\033[0m'\n",
    "    \n",
    "my_colors = ['#1F6082', '#6A2340', '#83563f', '#495057']\n",
    "\n",
    "sns.palplot(sns.color_palette(my_colors))\n",
    "\n",
    "print(clr.S + \"Notebook Color Scheme: \" + clr.E)\n",
    "print(r\"Ben Jerry's, Häagen-Dazs, Talenti, Breyers\")\n"
   ]
  },
  {
   "cell_type": "code",
   "execution_count": null,
   "metadata": {},
   "outputs": [],
   "source": [
    "# create color reference dict\n",
    "# the idea is to use this dict to sort the color code in the same way of the plot\n",
    "# colors = ['#1F6082', '#6A2340', '#83563f', '#171717']\n",
    "\n",
    "color_reference = {'BenJerrys':'#1F6082', 'Breyers':'#495057', 'HaagenDazs':'#6A2340', 'Talenti':'#83563f'}\n",
    "color_reference"
   ]
  },
  {
   "cell_type": "code",
   "execution_count": null,
   "metadata": {},
   "outputs": [],
   "source": [
    "sns.set()\n",
    "plt.style.use('seaborn-v0_8-notebook')\n",
    "%matplotlib inline\n",
    "rcParams['figure.figsize'] = 12,8\n",
    "rcParams['figure.titlesize'] = 14\n",
    "rcParams['font.size'] = 15"
   ]
  },
  {
   "cell_type": "markdown",
   "metadata": {},
   "source": [
    "* Exploratory Data Analysis"
   ]
  },
  {
   "cell_type": "code",
   "execution_count": 14,
   "metadata": {},
   "outputs": [
    {
     "data": {
      "text/html": [
       "<div>\n",
       "<style scoped>\n",
       "    .dataframe tbody tr th:only-of-type {\n",
       "        vertical-align: middle;\n",
       "    }\n",
       "\n",
       "    .dataframe tbody tr th {\n",
       "        vertical-align: top;\n",
       "    }\n",
       "\n",
       "    .dataframe thead th {\n",
       "        text-align: right;\n",
       "    }\n",
       "</style>\n",
       "<table border=\"1\" class=\"dataframe\">\n",
       "  <thead>\n",
       "    <tr style=\"text-align: right;\">\n",
       "      <th></th>\n",
       "      <th>brand</th>\n",
       "      <th>value_counts</th>\n",
       "    </tr>\n",
       "  </thead>\n",
       "  <tbody>\n",
       "    <tr>\n",
       "      <th>0</th>\n",
       "      <td>HaagenDazs</td>\n",
       "      <td>70</td>\n",
       "    </tr>\n",
       "    <tr>\n",
       "      <th>1</th>\n",
       "      <td>Breyers</td>\n",
       "      <td>69</td>\n",
       "    </tr>\n",
       "    <tr>\n",
       "      <th>2</th>\n",
       "      <td>BenJerrys</td>\n",
       "      <td>57</td>\n",
       "    </tr>\n",
       "    <tr>\n",
       "      <th>3</th>\n",
       "      <td>Talenti</td>\n",
       "      <td>45</td>\n",
       "    </tr>\n",
       "  </tbody>\n",
       "</table>\n",
       "</div>"
      ],
      "text/plain": [
       "        brand  value_counts\n",
       "0  HaagenDazs            70\n",
       "1     Breyers            69\n",
       "2   BenJerrys            57\n",
       "3     Talenti            45"
      ]
     },
     "execution_count": 14,
     "metadata": {},
     "output_type": "execute_result"
    }
   ],
   "source": [
    "# change column names\n",
    "flavors = df['brand'].value_counts().reset_index().sort_values('brand', ascending=False)\n",
    "flavors = flavors.rename(columns = {'index':'brand', 'brand':'value_counts'})\n",
    "flavors"
   ]
  },
  {
   "cell_type": "code",
   "execution_count": 20,
   "metadata": {},
   "outputs": [
    {
     "data": {
      "text/plain": [
       "Text(0, 0.5, '# Flavors')"
      ]
     },
     "execution_count": 20,
     "metadata": {},
     "output_type": "execute_result"
    },
    {
     "data": {
      "image/png": "[encoded data removed]",
      "text/plain": [
       "<Figure size 800x600 with 1 Axes>"
      ]
     },
     "metadata": {},
     "output_type": "display_data"
    }
   ],
   "source": [
    "# plot the brands flavors counts\n",
    "\n",
    "plt.figure(figsize=(8, 6))\n",
    "colors = flavors['brand'].replace(color_reference) # replace elements in a list using dictionary lookup\n",
    "colors = colors.tolist() # list of colors for palette parameter in sns plot\n",
    "splot = sns.barplot(data=flavors, x='brand', y='value_counts', palette=colors)\n",
    "for p in splot.patches:\n",
    "    splot.annotate(format(p.get_height(), '.0f'), \n",
    "                   (p.get_x() + p.get_width() / 2., p.get_height()), \n",
    "                   ha = 'center', va = 'center', \n",
    "                   xytext = (0, 9), \n",
    "                   textcoords = 'offset points')\n",
    "plt.xlabel('Brand', fontsize=14)\n",
    "plt.ylabel('# Flavors', fontsize=14)\n"
   ]
  },
  {
   "cell_type": "markdown",
   "metadata": {},
   "source": [
    "* Exploratory Data Analysis: Flavors vs Rating"
   ]
  },
  {
   "cell_type": "code",
   "execution_count": 21,
   "metadata": {},
   "outputs": [
    {
     "data": {
      "text/plain": [
       "Text(0, 0.5, 'Flavors')"
      ]
     },
     "execution_count": 21,
     "metadata": {},
     "output_type": "execute_result"
    },
    {
     "data": {
      "image/png": "[encoded data removed]",
      "text/plain": [
       "<Figure size 800x600 with 1 Axes>"
      ]
     },
     "metadata": {},
     "output_type": "display_data"
    }
   ],
   "source": [
    "# Rating Distribution\n",
    "plt.figure(figsize=(8, 6))\n",
    "sns.histplot(data=df, x='rating')\n",
    "plt.xlabel('Rating', fontsize=14)\n",
    "plt.ylabel('Flavors', fontsize=14)"
   ]
  },
  {
   "cell_type": "code",
   "execution_count": 22,
   "metadata": {},
   "outputs": [
    {
     "data": {
      "text/html": [
       "<div>\n",
       "<style scoped>\n",
       "    .dataframe tbody tr th:only-of-type {\n",
       "        vertical-align: middle;\n",
       "    }\n",
       "\n",
       "    .dataframe tbody tr th {\n",
       "        vertical-align: top;\n",
       "    }\n",
       "\n",
       "    .dataframe thead th {\n",
       "        text-align: right;\n",
       "    }\n",
       "</style>\n",
       "<table border=\"1\" class=\"dataframe\">\n",
       "  <thead>\n",
       "    <tr style=\"text-align: right;\">\n",
       "      <th></th>\n",
       "      <th>brand</th>\n",
       "      <th>rating_count</th>\n",
       "    </tr>\n",
       "  </thead>\n",
       "  <tbody>\n",
       "    <tr>\n",
       "      <th>0</th>\n",
       "      <td>BenJerrys</td>\n",
       "      <td>7954</td>\n",
       "    </tr>\n",
       "    <tr>\n",
       "      <th>1</th>\n",
       "      <td>Breyers</td>\n",
       "      <td>5009</td>\n",
       "    </tr>\n",
       "    <tr>\n",
       "      <th>2</th>\n",
       "      <td>HaagenDazs</td>\n",
       "      <td>4657</td>\n",
       "    </tr>\n",
       "    <tr>\n",
       "      <th>3</th>\n",
       "      <td>Talenti</td>\n",
       "      <td>4074</td>\n",
       "    </tr>\n",
       "  </tbody>\n",
       "</table>\n",
       "</div>"
      ],
      "text/plain": [
       "        brand  rating_count\n",
       "0   BenJerrys          7954\n",
       "1     Breyers          5009\n",
       "2  HaagenDazs          4657\n",
       "3     Talenti          4074"
      ]
     },
     "execution_count": 22,
     "metadata": {},
     "output_type": "execute_result"
    }
   ],
   "source": [
    "# change column names\n",
    "ratings_by_brand = df.groupby('brand')['rating_count'].sum().reset_index().sort_values('brand', ascending=True)\n",
    "ratings_by_brand"
   ]
  },
  {
   "cell_type": "code",
   "execution_count": 23,
   "metadata": {},
   "outputs": [
    {
     "data": {
      "text/plain": [
       "Text(0, 0.5, '# Reviews')"
      ]
     },
     "execution_count": 23,
     "metadata": {},
     "output_type": "execute_result"
    },
    {
     "data": {
      "image/png": "[encoded data removed]",
      "text/plain": [
       "<Figure size 800x600 with 1 Axes>"
      ]
     },
     "metadata": {},
     "output_type": "display_data"
    }
   ],
   "source": [
    "# plot the brands flavors counts\n",
    "\n",
    "plt.figure(figsize=(8, 6))\n",
    "colors = ratings_by_brand['brand'].replace(color_reference) # replace elements in a list using dictionary lookup\n",
    "colors = colors.tolist() # list of colors for palette parameter in sns plot\n",
    "splot = sns.barplot(data=ratings_by_brand, x='brand', y='rating_count', palette=colors)\n",
    "for p in splot.patches:\n",
    "    splot.annotate(format(p.get_height(), '.0f'), \n",
    "                   (p.get_x() + p.get_width() / 2., p.get_height()), \n",
    "                   ha = 'center', va = 'center', \n",
    "                   xytext = (0, 9), \n",
    "                   textcoords = 'offset points')\n",
    "plt.xlabel('Brand', size=14)\n",
    "plt.ylabel('# Reviews', size=14)"
   ]
  },
  {
   "cell_type": "code",
   "execution_count": 24,
   "metadata": {},
   "outputs": [
    {
     "data": {
      "text/plain": [
       "<seaborn.axisgrid.FacetGrid at 0x20c465870a0>"
      ]
     },
     "execution_count": 24,
     "metadata": {},
     "output_type": "execute_result"
    },
    {
     "data": {
      "image/png": "[encoded data removed]",
      "text/plain": [
       "<Figure size 1143.38x1000 with 4 Axes>"
      ]
     },
     "metadata": {},
     "output_type": "display_data"
    }
   ],
   "source": [
    "# scatter plot by brand\n",
    "sns.relplot(data=df,\n",
    "                x='rating', y='rating_count',\n",
    "                hue='brand',\n",
    "                col='brand',\n",
    "                palette=my_colors,\n",
    "                sizes=(1, 6), linewidth=0, col_wrap=2\n",
    "                )"
   ]
  },
  {
   "cell_type": "code",
   "execution_count": null,
   "metadata": {},
   "outputs": [],
   "source": [
    "# scatter plot by brand\n",
    "_, axs = plt.subplots(nrows=1, ncols=2) # making a subplot with 1 row and 2 columns\n",
    "sns.stripplot(data=df, x='brand', y='rating', palette=my_colors, ax=axs[0])\n",
    "sns.boxplot(data=df, x='brand', y='rating', palette=my_colors, ax=axs[1])"
   ]
  },
  {
   "cell_type": "code",
   "execution_count": null,
   "metadata": {},
   "outputs": [],
   "source": [
    "# Data Summary and Comments\n",
    "\n",
    "\"\"\"\n",
    "\n",
    "\n",
    "\n",
    "\"\"\"\n"
   ]
  },
  {
   "cell_type": "code",
   "execution_count": null,
   "metadata": {},
   "outputs": [],
   "source": [
    "df.query('rating < 2.5')"
   ]
  },
  {
   "cell_type": "markdown",
   "metadata": {},
   "source": [
    "* Top Ice Cream for each brand"
   ]
  },
  {
   "cell_type": "code",
   "execution_count": null,
   "metadata": {},
   "outputs": [],
   "source": [
    "# Top 10 Ben & Jerry's Ice Cream\n",
    "top10_bj = df[df['brand'] == 'BenJerrys'].sort_values(by=['rating','rating_count'], ascending=False).head(10)\n",
    "top10_bj"
   ]
  },
  {
   "cell_type": "code",
   "execution_count": null,
   "metadata": {},
   "outputs": [],
   "source": [
    "# Top 10 Haagen Dazs Ice Cream\n",
    "top10_hd = df[df['brand'] == 'HaagenDazs'].sort_values(by=['rating','rating_count'], ascending=False).head(10)\n",
    "top10_hd"
   ]
  },
  {
   "cell_type": "code",
   "execution_count": null,
   "metadata": {},
   "outputs": [],
   "source": [
    "# Top 10 Talenti Ice Cream"
   ]
  },
  {
   "cell_type": "code",
   "execution_count": null,
   "metadata": {},
   "outputs": [],
   "source": [
    "# Top 10 Breyers Ice Cream "
   ]
  },
  {
   "cell_type": "markdown",
   "metadata": {},
   "source": [
    "# Getting Unique List of All Ingredients"
   ]
  },
  {
   "cell_type": "markdown",
   "metadata": {},
   "source": [
    "* Data Cleaning"
   ]
  },
  {
   "cell_type": "code",
   "execution_count": null,
   "metadata": {},
   "outputs": [],
   "source": [
    "# increasing column character limit for better visualization\n",
    "pd.set_option('display.max_colwidth', 50000)"
   ]
  },
  {
   "cell_type": "code",
   "execution_count": null,
   "metadata": {},
   "outputs": [],
   "source": [
    "# eliminating content inside parentheses ()\n",
    "df['ingredients_cleaned'] = df['ingredients'].str.lower()\n",
    "df['ingredients_cleaned'].head()"
   ]
  },
  {
   "cell_type": "code",
   "execution_count": null,
   "metadata": {},
   "outputs": [],
   "source": [
    "# generate all unique ingredients\n",
    "all_ingredients = set()\n",
    "\n",
    "for row in df.iterrows():\n",
    "    ingredients = df.loc[row[0], 'ingredients_cleaned']\n",
    "    for ingredient in ingredients.split(','):\n",
    "        if ingredient not in all_ingredients:\n",
    "            all_ingredients.add(ingredient)\n",
    "\n",
    "# iterrows(): returns a tuple containing the index and the rest of the row"
   ]
  },
  {
   "cell_type": "code",
   "execution_count": null,
   "metadata": {},
   "outputs": [],
   "source": [
    "all_ingredients\n",
    "\n",
    "# we can se all the problems with the description ingredients (that subingredients of an ingredient)\n",
    "\n",
    "# 1) parentheses capture all the content inside parentheses\n",
    "# 2) AND and OR\n",
    "# 3) special character\n",
    "\n",
    "# PorterStemmer()\n",
    "# stem function()\n",
    "# takes all words and break them down to their root. This reduces significantly duplicated words (ex: egg x eggs)"
   ]
  },
  {
   "cell_type": "code",
   "execution_count": null,
   "metadata": {},
   "outputs": [],
   "source": [
    "# importing regex module\n",
    "import re"
   ]
  },
  {
   "cell_type": "code",
   "execution_count": null,
   "metadata": {},
   "outputs": [],
   "source": [
    "# eliminating content inside parentheses '()'\n",
    "df['ingredients_cleaned'] = df['ingredients_cleaned'].str.replace(r'\\([^()]*\\)',\"\", regex=True)\n",
    "df['ingredients_cleaned'].head() # checking"
   ]
  },
  {
   "cell_type": "code",
   "execution_count": null,
   "metadata": {},
   "outputs": [],
   "source": [
    "# this function for spliting text: corrects and process text\n",
    "def ingredients_processing(text):\n",
    "    bool = df['ingredients_cleaned'].str.contains(text, regex=False)\n",
    "    val_to_replace = df['ingredients_cleaned'][bool].str.split(text).str[0]\n",
    "    df['ingredients_cleaned'] = df['ingredients_cleaned'].mask(bool, val_to_replace)\n",
    "    return"
   ]
  },
  {
   "cell_type": "code",
   "execution_count": null,
   "metadata": {},
   "outputs": [],
   "source": [
    "# problematic text: spliting by and selecting only first column\n",
    "\n",
    "problematic_text_ingredients_list = ['\\ncontains', 'contains', '.']\n",
    "\n",
    "for text in problematic_text_ingredients_list:\n",
    "    ingredients_processing(text)"
   ]
  },
  {
   "cell_type": "code",
   "execution_count": null,
   "metadata": {},
   "outputs": [],
   "source": [
    "#checking results\n",
    "\n",
    "df['ingredients_cleaned']"
   ]
  },
  {
   "cell_type": "code",
   "execution_count": null,
   "metadata": {},
   "outputs": [],
   "source": [
    "# Observations with ':' \n",
    "# These observations strongly indicates that ice cream have additional items (coating, caramel/fudge, chocolate chips, chocolate drizzle, peanut butter, etc)\n",
    "\n",
    "# 1) First, I'm going to create a column that checks for existing additional items. Then, if necessary, I will manually make corrections.\n",
    "# 2) Secondl, because the first ':' indicates the first item (ice cream) ingredients, i'll split that row and select second column (\"ice cream: milk, ...\")"
   ]
  },
  {
   "cell_type": "code",
   "execution_count": null,
   "metadata": {},
   "outputs": [],
   "source": [
    "# checking ice creams flavors that have additional items\n",
    "bool = df['ingredients_cleaned'].str.contains(\":\", regex=False)\n",
    "df['have_additional_items'] = bool"
   ]
  },
  {
   "cell_type": "code",
   "execution_count": null,
   "metadata": {},
   "outputs": [],
   "source": [
    "# checking inconsistencies\n",
    "\n",
    "df[df['have_additional_items']== True]"
   ]
  },
  {
   "cell_type": "code",
   "execution_count": null,
   "metadata": {},
   "outputs": [],
   "source": [
    "# manual correction\n",
    "# only row 157 (Talenti Organic Oak-Aged Vanilla Gelato) needs correction\n",
    "\n",
    "df.loc[157, 'have_additional_items'] = False"
   ]
  },
  {
   "cell_type": "code",
   "execution_count": null,
   "metadata": {},
   "outputs": [],
   "source": [
    "# observations with ':' problem - spliting by and selecting only second column\n",
    "\n",
    "bool = df['ingredients_cleaned'].str.contains(\":\", regex=False)\n",
    "val_to_replace = df['ingredients_cleaned'][bool].str.split(\": \").str[1] # here we will use the second column, not the first\n",
    "df['ingredients_cleaned'] = df['ingredients_cleaned'].mask(bool, val_to_replace)"
   ]
  },
  {
   "cell_type": "code",
   "execution_count": null,
   "metadata": {},
   "outputs": [],
   "source": [
    "df['ingredients_cleaned']"
   ]
  },
  {
   "cell_type": "markdown",
   "metadata": {},
   "source": [
    "* Data Treatment: Manual Correction"
   ]
  },
  {
   "cell_type": "code",
   "execution_count": null,
   "metadata": {},
   "outputs": [],
   "source": [
    "# tests\n",
    "#df[df['ingredients_cleaned'].str.contains(\"mono and diglycerides\", regex=False)] == True\n",
    "#df[df['ingredients_cleaned'].str.contains(\" and \", regex=False)] == True\n",
    "#df[df['ingredients_cleaned'].str.contains(\"and/or\", regex=False)] == True\n",
    "#df[df['ingredients_cleaned'].str.contains(\"†\", regex=False)] == True\n",
    "#df[df['ingredients_cleaned'].str.contains(\"*\", regex=False)] == True\n",
    "#df[df['ingredients_cleaned'].str.contains(\")\", regex=False)] == True\n",
    "#df[df['ingredients_cleaned'].str.contains(\"/\", regex=False)] == True\n",
    "df[df['ingredients_cleaned'].str.contains(\"vanilla ice cream\", regex=False) == True]\n",
    "\n",
    "#81 have_add"
   ]
  },
  {
   "cell_type": "code",
   "execution_count": null,
   "metadata": {},
   "outputs": [],
   "source": [
    "# treating the problem with 'mono and diglycerides'\n",
    "\n",
    "df['ingredients_cleaned'] = df['ingredients_cleaned'].str.replace(\"mono and diglycerides\", \"monoglycerides, diglycerides\", regex=False)"
   ]
  },
  {
   "cell_type": "code",
   "execution_count": null,
   "metadata": {},
   "outputs": [],
   "source": [
    "# treating the problem with 'and/or' + 'and':\n",
    "unwanted_text = [' and ', 'and/or']\n",
    "\n",
    "for word in unwanted_text:\n",
    "    df['ingredients_cleaned'] = df['ingredients_cleaned'].str.replace(word, ',', regex=False)"
   ]
  },
  {
   "cell_type": "code",
   "execution_count": null,
   "metadata": {},
   "outputs": [],
   "source": [
    "# replacing strange text to ''\n",
    "\n",
    "unwanted_text = ['†', ')' , 'organic', 'pasteurized','(sugar', 'unbleached', 'enriched', 'unenriched', 'vanilla ice cream', 'coffee ice cream', 'white chocolate ice cream', \n",
    "'unsweetened', 'whole', 'pieces', 'concentrates', 'concentrate', 'juice', 'pasteurized', 'puree',  'vegetable s', ' lake']\n",
    "\n",
    "for word in unwanted_text:\n",
    "    df['ingredients_cleaned'] = df['ingredients_cleaned'].str.replace(word, '', regex=False)"
   ]
  },
  {
   "cell_type": "code",
   "execution_count": null,
   "metadata": {},
   "outputs": [],
   "source": [
    "# replacing strange text to ' '\n",
    "\n",
    "unwanted_text = ['*', '/']\n",
    "\n",
    "for word in unwanted_text:\n",
    "    df['ingredients_cleaned'] = df['ingredients_cleaned'].str.replace(word, ' ', regex=False)"
   ]
  },
  {
   "cell_type": "code",
   "execution_count": null,
   "metadata": {},
   "outputs": [],
   "source": [
    "# Word Correcting\n",
    "\n",
    "# Ok. I'm feeling very dumb for doing this checking mannually. \n",
    "# I could use PorterStemmer, which is based on suffixes in the English language. But after some tests, i'm not feeling very confident to use that\n",
    "\n",
    "# Creating a dictionary\n",
    "word_correcting = {\"reese's mini \": \"reese's peanut butter\", \"reese's peanut butter cup \": \"reese's peanut butter\", \"reese's peanut butter cups\": \"reese's peanut butter\", \"reese's peanut butter sauce\": \"reese's peanut butter\", \"reese's peanut butter swirl\": \"reese's peanut butter\", 'almonds roasted in vegetable oil': 'almonds', 'roasted almonds': 'almonds', 'dried apples': 'apple', 'apples': 'apple', 'artificial color lake': 'artificial color', 'color added': 'artificial color', 'annatto': 'artificial color', 'blue 1': 'artificial color', 'blue 1': 'artificial color', 'blue 1 lake': 'artificial color', 'blue 2': 'artificial color', 'blue 2 lake': 'artificial color', 'yellow 5': 'artificial color', 'yellow 5 lake': 'artificial color', 'yellow 6': 'artificial color', 'yellow 6 lake': 'artificial color', 'red 40': 'artificial color', 'red 40 lake': 'artificial color', 'reb a': 'artificial color', 'artificial color lake': 'artificial color', 'artificial flavoring': 'artificial flavor', 'artificial flavors': 'artificial flavor', 'banana puree': 'banana', 'bananas': 'banana', 'black carrot s': 'black carrot', 'black raspberry puree': 'black raspberry', 'black raspberries': 'black raspberry', 'blueberries': 'blueberry', 'butteroil': 'butter', 'butterfat': 'butter', 'butter oil': 'butter', 'dried cane syrup': 'cane syrup', 'caramelized sugar': 'caramel', 'caramel color': 'caramel', 'caramel flavor': 'caramel', 'caramel swirl': 'caramel', 'caramel syrup': 'caramel', 'caramelized sugar syrup': 'caramelized sugar', 'carob bean': 'carob bean gum', 'carob gum': 'carob bean gum', 'cheese culture': 'cheese cultures', 'cherries': 'cherry', 'cherry': 'cherry', 'cherry puree': 'cherry', 'cherry concentrate': 'cherry', 'cherry juice concentrate': 'cherry', 'chocolate chip cookies': 'chocolate', 'chocolate chips': 'chocolate', 'chocolate cookie pieces': 'chocolate', 'chocolate flavored coating': 'chocolate', 'chocolate liquor': 'chocolate', 'chocolate processed with alkali': 'chocolate', 'chocolatey chips': 'chocolate', 'milk chocolate candies': 'chocolate', 'milk chocolate': 'chocolate', 'dark chocolate': 'chocolate', 'semi-sweet chocolate chunks': 'chocolate', 'chocolaty coated cone': 'chocolatey coated cone', 'black cocoa processed with alkali': 'cocoa processed with alkali', 'coconut concentrate': 'coconut', 'coconut cream': 'coconut', 'coconut extract': 'coconut', 'desiccated coconut': 'coconut', 'coffee extract': 'coffee', 'coffee extract concentrate': 'coffee', 'condensed skim milk': 'condensed milk', 'evaporated milk': 'condensed milk', 'sweetened condensed milk': 'condensed milk', 'sweetened condensed skim milk': 'condensed milk', 'corn syrup solids': 'corn syrup', 'high fructose corn syrup': 'corn syrup', 'corn starch': 'cornstarch', 'modified corn starch': 'cornstarch', 'modified cornstarch': 'cornstarch', 'modified food starch': 'cornstarch', 'modified cornstarch': 'cornstarch', 'eggs': 'egg', 'whole egg': 'egg', 'whole eggs': 'egg', 'egg whites': 'egg white', 'egg yolks': 'egg yolk', 'guar': 'guar gum', 'ground heath toffee': 'heath toffee bar', 'hibiscus flower': 'hibiscus', 'hibiscus powder': 'hibiscus', 'invert cane sugar': 'inverted sugar syrup', 'invert sugar': 'inverted sugar syrup', 'lactase enzyme': 'lactase', 'lemon juice': 'lemon', 'lemon juice concentrate': 'lemon', 'locust bean': 'locust bean gum', 'dry malt extract': 'malt extract', 'maltitol': 'maltitol syrup', 'corn maltodextrin': 'maltodextrin', 'mango puree': 'mango', 'mangos': 'mango', 'organic milk': 'milk', 'anhydrous milkfat': 'milk fat', 'milkfat': 'milk fat', 'nonfat milk solids': 'milk powder', 'nonfat dry milk': 'milk powder', 'whole milk powder': 'milk powder', 'skim milk powder': 'milk powder', 'natural flavors': 'natural flavor', 'rolled oats': 'oats', 'vitamin a palm oil oilitate': 'palm oil', '^palm$': 'palm oil', 'palm kernel': 'palm oil', 'palm kernel oil': 'palm oil', 'partially defatted peanut flour': 'peanut', 'roasted peanuts': 'peanuts', 'peppermint bark': 'peppermint', 'peppermint extract': 'peppermint', 'peppermint oil': 'peppermint', 'peppermint twists candy': 'peppermint', 'pistachio paste': 'pistachio', 'pistachios': 'pistachio', 'raspberries': 'raspberry', 'raspberry swirl': 'raspberry', 'sea salt': 'salt', 'organic skim milk': 'skim milk', 'lactose reduced skim milk': 'skim milk', 'nonfat milk': 'skim milk', 'soy lecithin': 'soybean lecithin', 'soybean lecithin natural flavor': 'soybean lecithin', 'soy lecithin natural flavor': 'soybean lecithin', 'soybean oils': 'soybean oil', 'expeller pressed soybean oil': 'soybean oil', 'spice': 'spices', 'strawberries': 'strawberry', 'strawberry swirl': 'strawberry', 'powdered sugar': 'sugar', 'cane sugar': 'sugar', 'liquid sugar': 'sugar syrup', 'sunflower oils': 'sunflower oil', 'tapioca flour': 'tapioca', 'tapioca starch': 'tapioca', 'tapioca syrup': 'tapioca', 'tara': 'tara gum', 'thiamin mononitrate': 'thiamine mononitrate', 'vanilla bean seeds': 'vanilla', 'vanilla beans': 'vanilla', 'vanilla extract': 'vanilla', 'ground vanilla': 'vanilla', 'processed vanilla': 'vanilla', 'vegetable gums': 'vegetable gum', 'waffle cone': 'waffle cone pieces', 'un wheat flour': 'wheat flour', 'bleached wheat flour': 'wheat flour', 'whey protein concentrate': 'whey', 'milk protein concentrate': 'whey', 'whey protein': 'whey', 'heavy cream': 'cream'\n",
    "}"
   ]
  },
  {
   "cell_type": "code",
   "execution_count": null,
   "metadata": {},
   "outputs": [],
   "source": [
    "# dictionary\n",
    "\n",
    "df['ingredients_cleaned'] = df['ingredients_cleaned'].replace(word_correcting, regex=True)"
   ]
  },
  {
   "cell_type": "code",
   "execution_count": null,
   "metadata": {},
   "outputs": [],
   "source": [
    "df['ingredients_cleaned']"
   ]
  },
  {
   "cell_type": "code",
   "execution_count": null,
   "metadata": {},
   "outputs": [],
   "source": [
    "# generate all unique ingredients\n",
    "all_ingredients = set()\n",
    "\n",
    "for row in df.iterrows():\n",
    "    ingredients = df.loc[row[0], 'ingredients_cleaned']\n",
    "    ingredients = ingredients.replace(' , ', ', ') # trim excess of whitespace\n",
    "    ingredients = ingredients.replace(',,', ', ') # trim excess of comma\n",
    "    for ingredient in ingredients.split(','):\n",
    "        if ingredient not in all_ingredients:\n",
    "            #print(ingredient)\n",
    "            ingredient = re.sub(r\"^ +| +$\", \"\", ingredient) # trim leading and trailing whitespace\n",
    "            all_ingredients.add(ingredient)"
   ]
  },
  {
   "cell_type": "code",
   "execution_count": null,
   "metadata": {},
   "outputs": [],
   "source": [
    "all_ingredients.remove('')"
   ]
  },
  {
   "cell_type": "code",
   "execution_count": null,
   "metadata": {},
   "outputs": [],
   "source": [
    "all_ingredients"
   ]
  },
  {
   "cell_type": "code",
   "execution_count": null,
   "metadata": {},
   "outputs": [],
   "source": [
    "df['ingredients_cleaned'] = df['ingredients_cleaned'].str.split(',')"
   ]
  },
  {
   "cell_type": "markdown",
   "metadata": {},
   "source": [
    "# Getting Dummy Matrix"
   ]
  },
  {
   "cell_type": "code",
   "execution_count": null,
   "metadata": {},
   "outputs": [],
   "source": [
    "y = df.loc[:, 'rating']\n",
    "X = df.drop('rating', axis=1)\n",
    "df_bckp = df.copy()"
   ]
  },
  {
   "cell_type": "code",
   "execution_count": null,
   "metadata": {},
   "outputs": [],
   "source": [
    "def dummy(df, column, prefix):\n",
    "    dummies = pd.get_dummies(df[column], prefix=prefix)\n",
    "    df = pd.concat([df, dummies], axis=1)\n",
    "    df = df.drop(column, axis=1)\n",
    "    return df"
   ]
  },
  {
   "cell_type": "code",
   "execution_count": null,
   "metadata": {},
   "outputs": [],
   "source": [
    "X = dummy(X, 'brand', 'b')"
   ]
  },
  {
   "cell_type": "code",
   "execution_count": null,
   "metadata": {},
   "outputs": [],
   "source": [
    "X"
   ]
  },
  {
   "cell_type": "code",
   "execution_count": null,
   "metadata": {},
   "outputs": [],
   "source": [
    "ingredients_df = X['ingredients_cleaned']\n",
    "ingredients_df"
   ]
  },
  {
   "cell_type": "code",
   "execution_count": null,
   "metadata": {},
   "outputs": [],
   "source": [
    "from sklearn.preprocessing import MultiLabelBinarizer\n",
    "from sklearn.model_selection import train_test_split"
   ]
  },
  {
   "cell_type": "code",
   "execution_count": null,
   "metadata": {},
   "outputs": [],
   "source": [
    "mlb = MultiLabelBinarizer()\n",
    "\n",
    "ingredients_df = pd.DataFrame(mlb.fit_transform(ingredients_df), columns=mlb.classes_)"
   ]
  },
  {
   "cell_type": "code",
   "execution_count": null,
   "metadata": {},
   "outputs": [],
   "source": [
    "for col in ingredients_df.columns:\n",
    "    print(col)"
   ]
  },
  {
   "cell_type": "code",
   "execution_count": null,
   "metadata": {},
   "outputs": [],
   "source": [
    "X_train, X_test, y_train, y_test = train_test_split(X, y, train_size=0.7, random_state=100)\n",
    "#arrumar aqui"
   ]
  },
  {
   "cell_type": "code",
   "execution_count": null,
   "metadata": {},
   "outputs": [],
   "source": [
    "X_train"
   ]
  },
  {
   "cell_type": "code",
   "execution_count": null,
   "metadata": {},
   "outputs": [],
   "source": [
    "from sklearn.linear_model import LinearRegression"
   ]
  },
  {
   "cell_type": "code",
   "execution_count": null,
   "metadata": {},
   "outputs": [],
   "source": [
    "model = LinearRegression()\n",
    "\n",
    "model.fit(X_train, y_train)"
   ]
  },
  {
   "cell_type": "markdown",
   "metadata": {},
   "source": [
    "* Ingredients without Order"
   ]
  },
  {
   "cell_type": "code",
   "execution_count": null,
   "metadata": {},
   "outputs": [],
   "source": [
    "# putting ingredient order row content\n",
    "# split: splita a coluna ingredients usando a vírgula como separador\n",
    "\n",
    "new_ingredients = df['ingredients'].str.split(\",\", expand=True) \n",
    "new_ingredients.head()"
   ]
  },
  {
   "cell_type": "code",
   "execution_count": null,
   "metadata": {},
   "outputs": [],
   "source": [
    "# all unique ingredients: final\n",
    "all_ingredients = set()\n",
    "\n",
    "for row in df.iterrows():\n",
    "    ingredients = df.loc[row[0], 'ingredients']\n",
    "    for ingredient in ingredients.split(','):\n",
    "        if ingredient not in all_ingredients:\n",
    "            all_ingredients.add(ingredient)"
   ]
  },
  {
   "cell_type": "markdown",
   "metadata": {},
   "source": [
    "* Ingredients with Order"
   ]
  },
  {
   "cell_type": "code",
   "execution_count": null,
   "metadata": {},
   "outputs": [],
   "source": [
    "for col in new_ingredients.columns:\n",
    "    new_ingredients[col] = new_ingredients[col] + \" \" + str((col + 1))\n",
    "new_ingredients.head()"
   ]
  },
  {
   "cell_type": "code",
   "execution_count": null,
   "metadata": {},
   "outputs": [],
   "source": [
    "new_ingredients = new_ingredients.stack().value_counts().reset_index()\n",
    "\n",
    "# stack: reshapa o df de forma que cada observação tenha um em index \"interno\"\n",
    "# value_counts: contagem de vezes em que o ingrediente aparece\n",
    "# reset_index: cria uma nova linha e coluna com os índices (a ideia é usar para inserir nome para as colunas)"
   ]
  },
  {
   "cell_type": "code",
   "execution_count": null,
   "metadata": {},
   "outputs": [],
   "source": [
    "new_ingredients.columns = ['Word', 'Frequency']\n",
    "new_ingredients"
   ]
  },
  {
   "cell_type": "code",
   "execution_count": null,
   "metadata": {},
   "outputs": [],
   "source": [
    "# checks for unique values for check any problem"
   ]
  },
  {
   "cell_type": "code",
   "execution_count": null,
   "metadata": {},
   "outputs": [],
   "source": [
    "# https://www.fda.gov/food/food-ingredients-packaging/overview-food-ingredients-additives-colors"
   ]
  },
  {
   "cell_type": "markdown",
   "metadata": {},
   "source": [
    "## Chi Squared Feature Selection"
   ]
  },
  {
   "cell_type": "code",
   "execution_count": null,
   "metadata": {},
   "outputs": [],
   "source": [
    "# https://machinelearningmastery.com/feature-selection-with-categorical-data/"
   ]
  },
  {
   "cell_type": "markdown",
   "metadata": {},
   "source": [
    "## Deprecated"
   ]
  },
  {
   "cell_type": "code",
   "execution_count": null,
   "metadata": {},
   "outputs": [],
   "source": [
    "# showing the problem with \"contains:\" and \"\\ncontains:\"\n",
    "bool = df['ingredients_cleaned'].str.contains('\\ncontains', regex=False)\n",
    "df['ingredients_cleaned'][bool == True] # checking"
   ]
  },
  {
   "cell_type": "code",
   "execution_count": null,
   "metadata": {},
   "outputs": [],
   "source": [
    "pd.options.display.max_rows = None\n",
    "pd.options.display.max_columns = None"
   ]
  },
  {
   "cell_type": "code",
   "execution_count": null,
   "metadata": {},
   "outputs": [],
   "source": [
    "# eliminating content after '\\ncontains'\n",
    "val_to_replace = df['ingredients_cleaned'][df['ingredients_cleaned'].str.contains(\":\", regex=False) == True].str.split('\\ncontains').str[0]\n",
    "df['ingredients_cleaned'] = df['ingredients_cleaned'].mask(bool, val_to_replace)"
   ]
  },
  {
   "cell_type": "code",
   "execution_count": null,
   "metadata": {},
   "outputs": [],
   "source": [
    "df['ingredients_cleaned'][117]"
   ]
  },
  {
   "cell_type": "code",
   "execution_count": null,
   "metadata": {},
   "outputs": [],
   "source": [
    "\"\"\"# Draw a scatter plot while assigning point colors and sizes to different variables in the dataset\n",
    "f, ax = plt.subplots(figsize=(6.5, 6.5))\n",
    "sns.despine(f, left=True, bottom=True)\n",
    "clarity_ranking = [\"bj\", \"breyers\", \"hd\", \"talenti\"]\n",
    "sns.scatterplot(x=\"rating\", y=\"rating_count\",\n",
    "                hue=\"rating\",\n",
    "                palette=\"ch:r=-.2,d=.3_r\",\n",
    "                hue_order=clarity_ranking,\n",
    "                sizes=(1, 8), linewidth=0,\n",
    "                data=df, ax=ax)\"\"\""
   ]
  },
  {
   "cell_type": "code",
   "execution_count": null,
   "metadata": {},
   "outputs": [],
   "source": [
    "\"\"\"f, ax = plt.subplots(figsize=(6.5, 6.5))\n",
    "sns.despine(f, left=True, bottom=True)\n",
    "clarity_ranking = [\"bj\", \"breyers\", \"hd\", \"talenti\"]\n",
    "sns.scatterplot(data=df,\n",
    "                x=\"rating\", y=\"rating_count\",\n",
    "                hue=\"brand\",\n",
    "                style=\"brand\",\n",
    "                sizes=(1, 8), linewidth=0\n",
    "                )\"\"\""
   ]
  }
 ],
 "metadata": {
  "kernelspec": {
   "display_name": "Python 3.9.6 ('venv': venv)",
   "language": "python",
   "name": "python3"
  },
  "language_info": {
   "codemirror_mode": {
    "name": "ipython",
    "version": 3
   },
   "file_extension": ".py",
   "mimetype": "text/x-python",
   "name": "python",
   "nbconvert_exporter": "python",
   "pygments_lexer": "ipython3",
   "version": "3.9.6"
  },
  "orig_nbformat": 4,
  "vscode": {
   "interpreter": {
    "hash": "2f5c964f10db18ca2e24ede473c8e1bbf38968f9e6b980b72f721a488ad58e77"
   }
  }
 },
 "nbformat": 4,
 "nbformat_minor": 2
}
