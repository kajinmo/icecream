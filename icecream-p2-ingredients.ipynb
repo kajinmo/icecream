{
 "cells": [
  {
   "cell_type": "markdown",
   "metadata": {},
   "source": [
    "# Intro"
   ]
  },
  {
   "attachments": {},
   "cell_type": "markdown",
   "metadata": {},
   "source": [
    "* Loading Data and Libraries"
   ]
  },
  {
   "cell_type": "code",
   "execution_count": null,
   "metadata": {},
   "outputs": [],
   "source": [
    "# loading libraries\n",
    "\n",
    "import numpy as np\n",
    "import pandas as pd"
   ]
  },
  {
   "cell_type": "code",
   "execution_count": null,
   "metadata": {},
   "outputs": [],
   "source": [
    "# reading dataset\n",
    "\n",
    "df = pd.read_csv(\"pre-processed.csv\")\n",
    "print(\"the dataset has \" + str(df.shape[0]) + \" observations (ice cream flavors) and \" + str(df.shape[1]) + \" features \" + str([col for col in df.columns]))\n",
    "\n",
    "# dataset: https://www.kaggle.com/datasets/tysonpo/ice-cream-dataset\n",
    "\n",
    "# Inspiration Notebooks:\n",
    "# Using Ice Cream Ingredients to Predict Rating: https://www.kaggle.com/code/gcdatkin/using-ice-cream-ingredients-to-predict-rating\n",
    "# Finding the Best Ice Cream: https://www.kaggle.com/code/kelvintran1998/finding-the-best-ice-cream\n",
    "# EDA ideas: McDonalds Ice Cream Machines Breaking: https://www.kaggle.com/code/aashidutt3/eda-mcdonalds-ice-cream-machines-breaking"
   ]
  },
  {
   "cell_type": "code",
   "execution_count": null,
   "metadata": {},
   "outputs": [],
   "source": [
    "df.head(10)"
   ]
  },
  {
   "cell_type": "code",
   "execution_count": null,
   "metadata": {},
   "outputs": [],
   "source": [
    "df.head().to_csv('icecream2_head.csv', index=False, header=True, encoding='cp1252')"
   ]
  },
  {
   "attachments": {},
   "cell_type": "markdown",
   "metadata": {},
   "source": [
    "# Correcting the ingredient list and getting an unique list with all Ingredients"
   ]
  },
  {
   "attachments": {},
   "cell_type": "markdown",
   "metadata": {},
   "source": [
    "I want to use generate dummy variables to check if that ingredient is in that ice cream and with these dummy variables I will do the modeling\n",
    "for that i need a unique list of ingredients"
   ]
  },
  {
   "cell_type": "markdown",
   "metadata": {},
   "source": [
    "* Data Cleaning"
   ]
  },
  {
   "cell_type": "code",
   "execution_count": null,
   "metadata": {},
   "outputs": [],
   "source": [
    "# increasing column character limit for better visualization\n",
    "\n",
    "pd.set_option('display.max_colwidth', 50000)"
   ]
  },
  {
   "cell_type": "code",
   "execution_count": null,
   "metadata": {},
   "outputs": [],
   "source": [
    "# leave the column list in lower case\n",
    "\n",
    "df['ingredients_cleaned'] = df['ingredients'].str.lower()\n",
    "df['ingredients_cleaned'].head()"
   ]
  },
  {
   "cell_type": "code",
   "execution_count": null,
   "metadata": {},
   "outputs": [],
   "source": [
    "# checking for all unique ingredients to find errors\n",
    "\n",
    "all_ingredients = set()\n",
    "\n",
    "for row in df.iterrows():\n",
    "    ingredients = df.loc[row[0], 'ingredients_cleaned']\n",
    "    for ingredient in ingredients.split(','):\n",
    "        if ingredient not in all_ingredients:\n",
    "            all_ingredients.add(ingredient)\n",
    "\n",
    "# iterrows(): returns a tuple containing the index and the rest of the row"
   ]
  },
  {
   "cell_type": "code",
   "execution_count": null,
   "metadata": {},
   "outputs": [],
   "source": [
    "all_ingredients\n",
    "\n",
    "# we can se all the problems with the description ingredients (that subingredients of an ingredient)\n",
    "\n",
    "# 1) parentheses capture all the content inside parentheses\n",
    "# 2) AND and OR\n",
    "# 3) special characters\n",
    "# 4) excess of whitespace\n",
    "# 5) use of synonyms or equivalent ingredients\n",
    "\n",
    "# PorterStemmer() and stem function()\n",
    "# takes all words and break them down to their root. This reduces significantly duplicated words (ex: egg x eggs)"
   ]
  },
  {
   "cell_type": "code",
   "execution_count": null,
   "metadata": {},
   "outputs": [],
   "source": [
    "# importing regex module\n",
    "import re"
   ]
  },
  {
   "cell_type": "code",
   "execution_count": null,
   "metadata": {},
   "outputs": [],
   "source": [
    "# eliminating content inside parentheses '()'\n",
    "\n",
    "df['ingredients_cleaned'] = df['ingredients_cleaned'].str.replace(r'\\([^()]*\\)',\"\", regex=True)\n",
    "df['ingredients_cleaned'].head() # checking"
   ]
  },
  {
   "cell_type": "code",
   "execution_count": null,
   "metadata": {},
   "outputs": [],
   "source": [
    "# remove_excess_whitespace\n",
    "df['ingredients_cleaned'] = df['ingredients_cleaned'].str.replace(r'\\s*,\\s*',\", \", regex=True)\n",
    "df['ingredients_cleaned'].head() # checking"
   ]
  },
  {
   "cell_type": "code",
   "execution_count": null,
   "metadata": {},
   "outputs": [],
   "source": [
    "# because this will be a repetitive task, let's create a function for spliting text: corrects and process text\n",
    "\n",
    "def ingredients_processing(text):\n",
    "    bool = df['ingredients_cleaned'].str.contains(text, regex=False)\n",
    "    val_to_replace = df['ingredients_cleaned'][bool].str.split(text).str[0]\n",
    "    df['ingredients_cleaned'] = df['ingredients_cleaned'].mask(bool, val_to_replace)\n",
    "    return"
   ]
  },
  {
   "cell_type": "code",
   "execution_count": null,
   "metadata": {},
   "outputs": [],
   "source": [
    "# problematic text: spliting by and selecting only first column\n",
    "\n",
    "problematic_text_ingredients_list = ['\\ncontains', 'contains', '.']\n",
    "\n",
    "for text in problematic_text_ingredients_list:\n",
    "    ingredients_processing(text)"
   ]
  },
  {
   "cell_type": "code",
   "execution_count": null,
   "metadata": {},
   "outputs": [],
   "source": [
    "#checking results\n",
    "\n",
    "df['ingredients_cleaned']"
   ]
  },
  {
   "cell_type": "code",
   "execution_count": null,
   "metadata": {},
   "outputs": [],
   "source": [
    "# observations with ':' problem - spliting by and selecting only second column\n",
    "\n",
    "bool = df['ingredients_cleaned'].str.contains(\":\", regex=False)\n",
    "val_to_replace = df['ingredients_cleaned'][bool].str.split(\": \").str[1] # here we will use the second column, not the first\n",
    "df['ingredients_cleaned'] = df['ingredients_cleaned'].mask(bool, val_to_replace)\n",
    "\n",
    "df['ingredients_cleaned'] #checking results"
   ]
  },
  {
   "cell_type": "markdown",
   "metadata": {},
   "source": [
    "* Data Treatment: Manual Correction"
   ]
  },
  {
   "cell_type": "code",
   "execution_count": null,
   "metadata": {},
   "outputs": [],
   "source": [
    "# checking tests\n",
    "\n",
    "#df[df['ingredients_cleaned'].str.contains(\"mono and diglycerides\", regex=False)] == True\n",
    "#df[df['ingredients_cleaned'].str.contains(\" and \", regex=False)] == True\n",
    "#df[df['ingredients_cleaned'].str.contains(\"and/or\", regex=False)] == True\n",
    "#df[df['ingredients_cleaned'].str.contains(\"†\", regex=False)] == True\n",
    "#df[df['ingredients_cleaned'].str.contains(\"*\", regex=False)] == True\n",
    "#df[df['ingredients_cleaned'].str.contains(\")\", regex=False)] == True\n",
    "#df[df['ingredients_cleaned'].str.contains(\"/\", regex=False)] == True\n",
    "#df[df['ingredients_cleaned'].str.contains(\"vanilla ice cream\", regex=False) == True]"
   ]
  },
  {
   "cell_type": "code",
   "execution_count": null,
   "metadata": {},
   "outputs": [],
   "source": [
    "# treating the problem with 'mono and diglycerides'\n",
    "\n",
    "df['ingredients_cleaned'] = df['ingredients_cleaned'].str.replace(\"mono and diglycerides\", \"monoglycerides, diglycerides\", regex=False)"
   ]
  },
  {
   "cell_type": "code",
   "execution_count": null,
   "metadata": {},
   "outputs": [],
   "source": [
    "# treating the problem with 'and/or' + 'and':\n",
    "\n",
    "unwanted_text = [' and ', 'and/or']\n",
    "\n",
    "for word in unwanted_text:\n",
    "    df['ingredients_cleaned'] = df['ingredients_cleaned'].str.replace(word, ',', regex=False)"
   ]
  },
  {
   "cell_type": "code",
   "execution_count": null,
   "metadata": {},
   "outputs": [],
   "source": [
    "# replacing strange text to ''\n",
    "\n",
    "unwanted_text = ['†', ')' , 'organic', 'pasteurized','(sugar', 'unbleached', 'enriched', 'unenriched', 'vanilla ice cream', 'coffee ice cream', 'white chocolate ice cream', \n",
    "'unsweetened', 'whole', 'pieces', 'concentrates', 'concentrate', 'juice', 'pasteurized', 'puree',  'vegetable s', ' lake']\n",
    "\n",
    "for word in unwanted_text:\n",
    "    df['ingredients_cleaned'] = df['ingredients_cleaned'].str.replace(word, '', regex=False)"
   ]
  },
  {
   "cell_type": "code",
   "execution_count": null,
   "metadata": {},
   "outputs": [],
   "source": [
    "# replacing strange text to ' '\n",
    "\n",
    "unwanted_text = ['*', '/']\n",
    "\n",
    "for word in unwanted_text:\n",
    "    df['ingredients_cleaned'] = df['ingredients_cleaned'].str.replace(word, ' ', regex=False)"
   ]
  },
  {
   "cell_type": "code",
   "execution_count": null,
   "metadata": {},
   "outputs": [],
   "source": [
    "# Word Correcting\n",
    "\n",
    "# Ok. I'm feeling very dumb for doing this checking mannually. \n",
    "# I could use PorterStemmer library, which is based on suffixes in the English language. But after some tests, i'm not feeling very confident to use that method.\n",
    "\n",
    "# Creating a dictionary\n",
    "word_correcting = {\"reese's mini \": \"reese's peanut butter\", \"reese's peanut butter cup \": \"reese's peanut butter\", \"reese's peanut butter cups\": \"reese's peanut butter\",\n",
    "                   \"reese's peanut butter sauce\": \"reese's peanut butter\", \"reese's peanut butter swirl\": \"reese's peanut butter\", 'almonds roasted in vegetable oil': 'almonds',\n",
    "                   'roasted almonds': 'almonds', 'dried apples': 'apple', 'apples': 'apple', 'artificial color lake': 'artificial color', 'color added': 'artificial color',\n",
    "                   'annatto': 'artificial color', 'blue 1': 'artificial color', 'blue 1': 'artificial color', 'blue 1 lake': 'artificial color', 'blue 2': 'artificial color',\n",
    "                   'blue 2 lake': 'artificial color', 'yellow 5': 'artificial color', 'yellow 5 lake': 'artificial color', 'yellow 6': 'artificial color', 'yellow 6 lake': 'artificial color',\n",
    "                   'red 40': 'artificial color', 'red 40 lake': 'artificial color', 'reb a': 'artificial color', 'artificial color lake': 'artificial color',\n",
    "                   'artificial flavoring': 'artificial flavor', 'artificial flavors': 'artificial flavor', 'banana puree': 'banana', 'bananas': 'banana', 'black carrot s': 'black carrot',\n",
    "                   'black raspberry puree': 'black raspberry', 'black raspberries': 'black raspberry', 'blueberries': 'blueberry', 'butteroil': 'butter', 'butterfat': 'butter',\n",
    "                   'butter oil': 'butter', 'dried cane syrup': 'cane syrup', 'caramelized sugar': 'caramel', 'caramel color': 'caramel', 'caramel flavor': 'caramel',\n",
    "                   'caramel swirl': 'caramel', 'caramel syrup': 'caramel', 'caramelized sugar syrup': 'caramelized sugar', 'carob bean': 'carob bean gum', 'carob gum': 'carob bean gum',\n",
    "                   'cheese cultures': 'cheese culture', 'cherries': 'cherry', 'cherry': 'cherry', 'cherry puree': 'cherry', 'cherry concentrate': 'cherry', 'cherry juice concentrate': 'cherry',\n",
    "                   'chocolate chip cookies': 'chocolate', 'chocolate chips': 'chocolate', 'chocolate cookie pieces': 'chocolate', 'chocolate flavored coating': 'chocolate', 'chocolate liquor':\n",
    "                   'chocolate', 'chocolate processed with alkali': 'chocolate', 'chocolatey chips': 'chocolate', 'milk chocolate candies': 'chocolate',\n",
    "                   'milk chocolate': 'chocolate','dark chocolate': 'chocolate', 'semi-sweet chocolate chunks': 'chocolate', 'chocolaty coated cone': 'chocolatey coated cone',\n",
    "                   'black cocoa processed with alkali': 'cocoa powder', 'dutched cocoa': 'cocoa powder', 'coconut concentrate': 'coconut', 'coconut cream': 'coconut', 'coconut extract': 'coconut',\n",
    "                   'desiccated coconut': 'coconut', 'coffee extract': 'coffee', 'coffee extract concentrate': 'coffee', 'condensed skim milk': 'condensed milk',\n",
    "                   'evaporated milk': 'condensed milk', 'sweetened condensed milk': 'condensed milk', 'sweetened condensed skim milk': 'condensed milk', 'corn syrup solids': 'corn syrup',\n",
    "                   'high fructose corn syrup': 'corn syrup', 'corn starch': 'cornstarch', 'modified corn starch': 'cornstarch', 'modified food starch': 'cornstarch',\n",
    "                   'modified cornstarch': 'cornstarch', 'eggs': 'egg', 'whole egg': 'egg', 'whole eggs': 'egg', 'egg whites': 'egg white',\n",
    "                   'egg yolks': 'egg yolk', 'guar': 'guar gum', 'ground heath toffee': 'heath toffee bar', 'hibiscus flower': 'hibiscus', 'hibiscus powder': 'hibiscus',\n",
    "                   'invert cane sugar': 'inverted sugar syrup', 'invert sugar': 'inverted sugar syrup', 'lactase enzyme': 'lactase', 'lemon juice': 'lemon', 'lemon juice concentrate': 'lemon',\n",
    "                   'locust bean': 'locust bean gum', 'dry malt extract': 'malt extract', 'maltitol': 'maltitol syrup', 'corn maltodextrin': 'maltodextrin', 'mango puree': 'mango',\n",
    "                   'mangos': 'mango', 'organic milk': 'milk', 'anhydrous milkfat': 'milk fat', 'milkfat': 'milk fat', 'nonfat milk solids': 'milk powder', 'nonfat dry milk': 'milk powder',\n",
    "                   'whole milk powder': 'milk powder', 'skim milk powder': 'milk powder', 'natural flavors': 'natural flavor', 'rolled oats': 'oats', 'vitamin a palm oil oilitate': 'palm oil',\n",
    "                   '^palm$': 'palm oil', 'palm': 'palm oil', 'palm kernel': 'palm oil', 'palm kernel oil': 'palm oil', 'partially defatted peanut flour': 'peanut', 'roasted peanuts': 'peanut',\n",
    "                   'peppermint bark': 'peppermint', 'peppermint extract': 'peppermint', 'peppermint oil': 'peppermint', 'peppermint twists candy': 'peppermint', 'pistachio paste': 'pistachio',\n",
    "                   'pistachios': 'pistachio', 'raspberries': 'raspberry', 'raspberry swirl': 'raspberry', 'sea salt': 'salt', 'organic skim milk': 'skim milk', 'lactose reduced skim milk': 'skim milk',\n",
    "                   'nonfat milk': 'skim milk', 'soy lecithin': 'soybean lecithin', 'soybean lecithin natural flavor': 'soybean lecithin','soybean oils': 'soybean oil',\n",
    "                   'expeller pressed soybean oil': 'soybean oil', 'spice': 'spices', 'strawberries': 'strawberry', 'strawberry swirl': 'strawberry',\n",
    "                   'powdered sugar': 'sugar', 'cane sugar': 'sugar', 'liquid sugar': 'sugar syrup', 'sunflower oils': 'sunflower oil', 'tapioca flour': 'tapioca', 'tapioca starch': 'tapioca',\n",
    "                   'tapioca syrup': 'tapioca', 'tara': 'tara gum', 'thiamin mononitrate': 'thiamine mononitrate', 'vanilla bean seeds': 'vanilla', 'vanilla beans': 'vanilla',\n",
    "                   'vanilla extract': 'vanilla', 'ground vanilla': 'vanilla', 'processed vanilla': 'vanilla', 'vegetable gums': 'vegetable gum', 'vegetable oil coating': 'vegetable oil',\n",
    "                   'waffle cone': 'waffle cone pieces', 'un wheat flour': 'wheat flour', 'bleached wheat flour': 'wheat flour', 'whey protein concentrate': 'whey',\n",
    "                   'milk protein concentrate': 'whey', 'whey protein': 'whey', 'heavy cream': 'cream'\n",
    "}"
   ]
  },
  {
   "cell_type": "code",
   "execution_count": null,
   "metadata": {},
   "outputs": [],
   "source": [
    "# using the dictionary to correct wrong words\n",
    "\n",
    "df['ingredients_cleaned'] = df['ingredients_cleaned'].replace(word_correcting, regex=True)\n",
    "\n",
    "df['ingredients_cleaned'] #checking results"
   ]
  },
  {
   "cell_type": "code",
   "execution_count": null,
   "metadata": {},
   "outputs": [],
   "source": [
    "df['ingredients_cleaned'] = df['ingredients_cleaned'].replace(' , ', ', ') # trim excess of whitespace"
   ]
  },
  {
   "cell_type": "code",
   "execution_count": null,
   "metadata": {},
   "outputs": [],
   "source": [
    "df['ingredients_cleaned'] = df['ingredients_cleaned'].replace(' , ', ', ') # trim excess of whitespace"
   ]
  },
  {
   "cell_type": "code",
   "execution_count": null,
   "metadata": {},
   "outputs": [],
   "source": [
    "df['ingredients_cleaned'] = df['ingredients_cleaned'].replace(',,', ', ') # trim excess of comma"
   ]
  },
  {
   "cell_type": "code",
   "execution_count": null,
   "metadata": {},
   "outputs": [],
   "source": [
    "df['ingredients_cleaned'] = df['ingredients_cleaned'].replace(r'\"', '') # trim quotation marks"
   ]
  },
  {
   "cell_type": "code",
   "execution_count": null,
   "metadata": {},
   "outputs": [],
   "source": [
    "# is working?\n",
    "df['ingredients_cleaned'] = df['ingredients_cleaned'].replace(to_replace=r'gum gum', value='gum', regex=True) # duplicated gum words"
   ]
  },
  {
   "cell_type": "code",
   "execution_count": null,
   "metadata": {},
   "outputs": [],
   "source": [
    "df['ingredients_cleaned'] = df['ingredients_cleaned'].replace(to_replace=r'oil oil', value='oil', regex=True) # duplicated oil words"
   ]
  },
  {
   "cell_type": "code",
   "execution_count": null,
   "metadata": {},
   "outputs": [],
   "source": [
    "df['ingredients_cleaned'] = df['ingredients_cleaned'].replace(to_replace=r'syrup syrup', value='syrup', regex=True) # duplicated syrup words"
   ]
  },
  {
   "cell_type": "code",
   "execution_count": null,
   "metadata": {},
   "outputs": [],
   "source": [
    "df['ingredients_cleaned'] = df['ingredients_cleaned'].replace(to_replace=r'peanuts', value='peanut', regex=True)"
   ]
  },
  {
   "cell_type": "code",
   "execution_count": null,
   "metadata": {},
   "outputs": [],
   "source": [
    "df['ingredients_cleaned'] = df['ingredients_cleaned'].replace(to_replace=r'palm oil kernel oil', value='palm oil', regex=True)"
   ]
  },
  {
   "cell_type": "code",
   "execution_count": null,
   "metadata": {},
   "outputs": [],
   "source": [
    "df['ingredients_cleaned'] = df['ingredients_cleaned'].replace(to_replace=r'palm oil kernel', value='palm oil', regex=True)"
   ]
  },
  {
   "cell_type": "code",
   "execution_count": null,
   "metadata": {},
   "outputs": [],
   "source": [
    "df['ingredients_cleaned'] = df['ingredients_cleaned'].replace(to_replace=r'vitamin a palm oilitate', value='vitamin a palmitate', regex=True)"
   ]
  },
  {
   "cell_type": "code",
   "execution_count": null,
   "metadata": {},
   "outputs": [],
   "source": [
    "df['ingredients_cleaned'] = df['ingredients_cleaned'].replace(to_replace=r'cocoa processed with alkali', value='cocoa powder', regex=True)"
   ]
  },
  {
   "cell_type": "code",
   "execution_count": null,
   "metadata": {},
   "outputs": [],
   "source": [
    "df['ingredients_cleaned'] = df['ingredients_cleaned'].replace(to_replace=r', cocoa,', value=', cocoa powder,', regex=True)\n",
    "df['ingredients_cleaned'] = df['ingredients_cleaned'].replace(to_replace=r', cocoa,', value=', cocoa powder,', regex=True) # yeah... i really need to do this 2x"
   ]
  },
  {
   "cell_type": "code",
   "execution_count": null,
   "metadata": {},
   "outputs": [],
   "source": [
    "df['ingredients_cleaned'] = df['ingredients_cleaned'].replace(to_replace=r'spicess', value='spices', regex=True)"
   ]
  },
  {
   "cell_type": "code",
   "execution_count": null,
   "metadata": {},
   "outputs": [],
   "source": [
    "df['ingredients_cleaned'] = df['ingredients_cleaned'].replace(to_replace=r'soybean lecithin natural flavor', value='soybean lecithin', regex=True)"
   ]
  },
  {
   "cell_type": "code",
   "execution_count": null,
   "metadata": {},
   "outputs": [],
   "source": [
    "df['ingredients_cleaned'] = df['ingredients_cleaned'].replace(to_replace=r'^\\s*,\\s*', value='', regex=True) # trim ingredient list wich starts with ','"
   ]
  },
  {
   "cell_type": "code",
   "execution_count": null,
   "metadata": {},
   "outputs": [],
   "source": [
    "df['ingredients_cleaned'] = df['ingredients_cleaned'].replace(to_replace=r'^\\s+', value='', regex=True) # trim ingredient list wich starts with whitespace"
   ]
  },
  {
   "cell_type": "code",
   "execution_count": null,
   "metadata": {},
   "outputs": [],
   "source": [
    "df['ingredients_cleaned'] = df['ingredients_cleaned'].replace(to_replace=r'\\s*,\\s*', value=', ', regex=True) # trim leading and trailing whitespace"
   ]
  },
  {
   "cell_type": "code",
   "execution_count": null,
   "metadata": {},
   "outputs": [],
   "source": [
    "df['ingredients_cleaned'] = df['ingredients_cleaned'].replace(to_replace=r',\\s,\\s', value=', ', regex=True) # trim excess of comma"
   ]
  },
  {
   "cell_type": "code",
   "execution_count": null,
   "metadata": {},
   "outputs": [],
   "source": [
    "df['ingredients_cleaned'] = df['ingredients_cleaned'].replace(to_replace=r'\\s{2,}', value='', regex=True) # trim excess of whitespace"
   ]
  },
  {
   "cell_type": "code",
   "execution_count": null,
   "metadata": {},
   "outputs": [],
   "source": [
    "df['ingredients_cleaned'] = df['ingredients_cleaned'].replace(to_replace=r'\\s+$', value='', regex=True) # remove all whitespaces at the end of a string"
   ]
  },
  {
   "cell_type": "code",
   "execution_count": null,
   "metadata": {},
   "outputs": [],
   "source": [
    "# small corrections\n",
    "\n",
    "df = df.drop('ingredients', axis=1)"
   ]
  },
  {
   "cell_type": "code",
   "execution_count": null,
   "metadata": {},
   "outputs": [],
   "source": [
    "#checking the ingredients list\n",
    "\n",
    "df['ingredients_cleaned']"
   ]
  },
  {
   "attachments": {},
   "cell_type": "markdown",
   "metadata": {},
   "source": [
    "* Data Treatment: unique ingredients list"
   ]
  },
  {
   "cell_type": "code",
   "execution_count": null,
   "metadata": {},
   "outputs": [],
   "source": [
    "# convert the ingredients list in a python list to correct problems like repeated words and excess of whitespace\n",
    "\n",
    "all_ingredients = set()\n",
    "\n",
    "for row in df.iterrows():\n",
    "    ingredient_list = df.loc[row[0], 'ingredients_cleaned'].split(', ')\n",
    "    for ingredient in ingredient_list:\n",
    "        if ingredient not in all_ingredients:\n",
    "            all_ingredients.add(ingredient)"
   ]
  },
  {
   "cell_type": "code",
   "execution_count": null,
   "metadata": {},
   "outputs": [],
   "source": [
    "#checking the unique ingredients list for 'dummerize' it\n",
    "\n",
    "all_ingredients"
   ]
  },
  {
   "cell_type": "code",
   "execution_count": null,
   "metadata": {},
   "outputs": [],
   "source": [
    "unique_ingredients_lenght = len(all_ingredients)\n",
    "\n",
    "print(\"There are \" + str(unique_ingredients_lenght) + \" unique ingredients\")"
   ]
  },
  {
   "cell_type": "code",
   "execution_count": null,
   "metadata": {},
   "outputs": [],
   "source": [
    "# Common Ingredients for top and bottom ice cream"
   ]
  },
  {
   "attachments": {},
   "cell_type": "markdown",
   "metadata": {},
   "source": [
    "# Common Ingredients for top and bottom ice cream"
   ]
  },
  {
   "attachments": {},
   "cell_type": "markdown",
   "metadata": {},
   "source": [
    "Here, we'll be looking at the bottom ice cream ingredients for each brand and all of them together.\n",
    "\n",
    "We'll mainly be looking at the top ingredients with the highest count.\n",
    "reescrever"
   ]
  },
  {
   "cell_type": "code",
   "execution_count": null,
   "metadata": {},
   "outputs": [],
   "source": [
    "# Bottom Ben & Jerry's Ingredients"
   ]
  },
  {
   "cell_type": "code",
   "execution_count": null,
   "metadata": {},
   "outputs": [],
   "source": [
    "# bottom combined\n"
   ]
  },
  {
   "cell_type": "code",
   "execution_count": null,
   "metadata": {},
   "outputs": [],
   "source": [
    "#  wordcloud\n",
    "#wordcloud2(bcombined_word, size=1, color='random-dark')\n"
   ]
  },
  {
   "attachments": {},
   "cell_type": "markdown",
   "metadata": {},
   "source": [
    "Ingredients Difference"
   ]
  },
  {
   "cell_type": "code",
   "execution_count": null,
   "metadata": {},
   "outputs": [],
   "source": [
    "# Find Difference between Top and Bottom Ingredients\n",
    "\n",
    "#Ben & Jerry's Difference\n",
    "# ntop x nbot x ndiff"
   ]
  },
  {
   "cell_type": "code",
   "execution_count": null,
   "metadata": {},
   "outputs": [],
   "source": [
    "df"
   ]
  },
  {
   "attachments": {},
   "cell_type": "markdown",
   "metadata": {},
   "source": [
    "# under: part 3"
   ]
  },
  {
   "cell_type": "markdown",
   "metadata": {},
   "source": [
    "# Getting Dummy Matrix"
   ]
  },
  {
   "attachments": {},
   "cell_type": "markdown",
   "metadata": {},
   "source": [
    "we will get the dummy matrix and concatenate it with the dataframe"
   ]
  },
  {
   "cell_type": "code",
   "execution_count": null,
   "metadata": {},
   "outputs": [],
   "source": [
    "y = df.loc[:, 'rating']\n",
    "X = df.copy()\n",
    "#X = df.drop(['rating', 'name'], axis=1)\n",
    "df_bckp = df.copy()"
   ]
  },
  {
   "cell_type": "code",
   "execution_count": null,
   "metadata": {},
   "outputs": [],
   "source": [
    "X.head()"
   ]
  },
  {
   "cell_type": "code",
   "execution_count": null,
   "metadata": {},
   "outputs": [],
   "source": [
    "X['ingredients_cleaned'] = X['ingredients_cleaned'].str.split(',')\n",
    "ingredients_df = X['ingredients_cleaned']\n",
    "ingredients_df.head()"
   ]
  },
  {
   "cell_type": "code",
   "execution_count": null,
   "metadata": {},
   "outputs": [],
   "source": [
    "# generating ingredient dummy matrix\n",
    "\n",
    "# convert unique ingredients set to pandas series\n",
    "ingredient_dummy = pd.DataFrame(columns=list(all_ingredients))\n",
    "\n",
    "# checking if the wordlist contains the column name and generating the dummy matrix \n",
    "for column_name in ingredient_dummy.columns:\n",
    "    ingredient_dummy[column_name] = X['ingredients_cleaned'].apply(lambda x: 1 if column_name in x else 0)\n",
    "\n",
    "# concatenating the dummy matrix with X\n",
    "X = pd.concat([X, ingredient_dummy], axis=1)\n",
    "#X = X.drop('ingredients_cleaned', axis=1)\n",
    "\n",
    "# checking the result\n",
    "X"
   ]
  },
  {
   "attachments": {},
   "cell_type": "markdown",
   "metadata": {},
   "source": [
    "# Classifying ingredients into categories: common Ingredients for top and bottom ice cream"
   ]
  },
  {
   "cell_type": "code",
   "execution_count": null,
   "metadata": {},
   "outputs": [],
   "source": [
    "# attempt to classify ingredients according to fat, milk/water, sweetening, flavor, dye and other\n",
    "# generating filter lists to select only some dummies\n",
    "\n",
    "dye = ['artificial color', 'black carrot', 'red cabbage']\n",
    "fat = ['butter', 'canola oil', 'carnauba wax', 'cocoa butter', 'coconut oil', 'corn oil', 'cottonseed oil', 'cream', 'hydrogenated vegetable oil', 'milk fat', 'palm oil', 'safflower oil', 'soybean oil', 'sunflower oil', 'vegetable oil']\n",
    "flavor = ['almond extract', 'almonds', 'apple', 'balsamic vinegar', 'banana', 'belgian chocolate', 'black cherry', 'black raspberry', 'blackberry', 'blueberry', 'bourbon', 'carrot', 'cheesecake base', 'cheesecakewith graham crust', 'cherry', 'chocolate', 'chocolate cookie', 'chocolatey coated cone', 'chocolatey coated peanut', 'cinnamon', 'cloves', 'cocoa powder', 'coconut', 'coffee', 'cone', \"confectioner's glaze\", 'cream cheese', 'fruit', 'fudge coating', 'fudge covered waffle cone pieces', 'fudge swirl', 'ginger', 'graham crumb', 'graham flour', 'grape', 'green tea', 'hazelnuts', 'heath toffee bar', 'hibiscus', 'leavening', 'lemon', 'lemon oil', 'lemon peel', 'lime', \"m&m's minis chocolate with cocoa butter\", 'malted barley flour', 'mango', 'matcha green tea', 'mint leaf extractives', 'natural flavor', 'nutmeg', 'oakwood extract', 'oats', 'orange', 'oreo cookie', 'pea protein', 'peaches', 'peanut', 'peanut butter', 'peanut extract', 'peanut flour', 'peanut oil', 'pecans', 'peppermint', 'pineapple', 'pistachio', 'plum', 'pumpkin', 'raisins', 'raspberry', \"reese's peanut butter\", 'rum', 'salt', 'snickers', 'soybean', 'spices', 'strawberry', 'sweetened lemon zest', 'toffee', 'vanilla', 'vermouth', 'waffle cone pieces', 'walnuts', 'wheat bran', 'wheat germ', 'wheat graham flour', 'whiskey', 'wine']\n",
    "milk_water = ['almond milk', 'milk', 'milk powder', 'milk protein', 'skim milk', 'water', 'whey']\n",
    "other = ['artificial flavor', 'ascorbic acid', 'baking powder', 'baking soda', 'calcium carbonate', 'calcium phosphate', 'carob bean gum', 'carrageenan', 'carrot powder', 'cellulose gum', 'cheese culture', 'citric acid', 'cornstarch', 'cream of tartar', 'diglycerides', 'egg', 'egg white', 'egg yolk', 'enzymes', 'flour', 'folic acid', 'glycerin', 'guar gum', 'lactase', 'lactic acid', 'lactose', 'lecithin', 'locust bean gum', 'malic acid', 'malt extract', 'modified cornstarch', 'monocalcium phosphate', 'monoglycerides', 'niacin', 'pectin', 'pgpr', 'potassium sorbate', 'potato', 'potato flour', 'propylene glycol monoesters', 'reduced iron', 'riboflavin', 'rice flour', 'rice starch', 'sodium acid pyrophosphate', 'sodium bicarbonate', 'sodium caseinate', 'sodium citrate', 'soluble corn fiber', 'soybean lecithin', 'sunflower lecithin', 'tapioca', 'tara gum', 'tbhq', 'thiamine mononitrate', 'vanillin', 'vegetable', 'vegetable gum', 'vegetablecolor', 'vitamin a palmitate', 'wheat flour', 'xanthan gum', 'yeast extract']\n",
    "sweetening = ['acesulfame potassium', 'barley malt', 'beet', 'brown sugar', 'cane syrup', 'caramel', 'caramel syrup', 'condensed milk', 'corn syrup', 'dextrin', 'dextrose', 'erythritol', 'fructose', 'honey', 'inverted sugar syrup', 'maltitol syrup', 'maltodextrin', 'maple syrup', 'molasses', 'polydextrose', 'sorbitol', 'sucralose', 'sugar', 'sugar syrup', 'sweetened condensed milk']\n",
    "\n",
    "# generating aux brand filter\n",
    "brand = ['brand_BenJerrys', 'brand_Breyers', 'brand_HaagenDazs', 'brand_Talenti']"
   ]
  },
  {
   "attachments": {},
   "cell_type": "markdown",
   "metadata": {},
   "source": [
    "* Comparing top and bot ingredients"
   ]
  },
  {
   "attachments": {},
   "cell_type": "markdown",
   "metadata": {},
   "source": [
    "we will create three function:\n",
    "ingredient_dummy_filter\n",
    "parse_top_bot_ingredient"
   ]
  },
  {
   "cell_type": "code",
   "execution_count": null,
   "metadata": {},
   "outputs": [],
   "source": [
    "# 1\n",
    "# possible parameters\n",
    "# ingredient_list: dye, fat, flavor, milk_water, other or sweetening\n",
    "\n",
    "def ingredient_dummy_filter(ingredient_list):\n",
    "    filtered = pd.concat([X.iloc[:, :5], X[ingredient_list]], axis=1)\n",
    "    return filtered"
   ]
  },
  {
   "cell_type": "code",
   "execution_count": 104,
   "metadata": {},
   "outputs": [],
   "source": [
    "# 2\n",
    "# possible parameters\n",
    "# brand (string): all, BenJerrys, Breyers, HaagenDazs, Talenti\n",
    "# filtered (df):  filter_dye, filter_fat, filter_flavor, filter_milk_water, filter_other, filter_sweetening\n",
    "\n",
    "\n",
    "def parse_top_bot_ingredients(brand, filtered):\n",
    "    # classifying and parsing the top and bot df\n",
    "    if brand == 'all':\n",
    "        top = filtered.sort_values('rating', ascending=False).head(10)\n",
    "        bot = filtered.sort_values('rating', ascending=False).tail(10)\n",
    "    else:\n",
    "        top = filtered[filtered['brand'] == brand].sort_values('rating', ascending=False).head(10)\n",
    "        bot = filtered[filtered['brand'] == brand].sort_values('rating', ascending=False).tail(10)\n",
    "\n",
    "\n",
    "    #creating a top10 and bot10 unique ingredients list\n",
    "    top10_unique_ingredients = set()\n",
    "    bot10_unique_ingredients = set()\n",
    "    df_list = [top, bot]\n",
    "    for topbotdf in df_list:\n",
    "        for row in topbotdf.iterrows():\n",
    "            ingredient_list = topbotdf.loc[row[0], 'ingredients_cleaned']\n",
    "            for ingredient in ingredient_list:\n",
    "                if ingredient not in top10_unique_ingredients:\n",
    "                    top10_unique_ingredients.add(ingredient)\n",
    "                if ingredient not in bot10_unique_ingredients:\n",
    "                    bot10_unique_ingredients.add(ingredient)\n",
    "\n",
    "    return top10_unique_ingredients, bot10_unique_ingredients"
   ]
  },
  {
   "cell_type": "code",
   "execution_count": 105,
   "metadata": {},
   "outputs": [],
   "source": [
    "# 3\n",
    "# possible parameters\n",
    "# brand (string): \n",
    "# filtered (df): \n",
    "\n",
    "# count ocurrencies\n",
    "\n",
    "def tb_ingredients_count(tb10_filtered, tb10_unique_set):\n",
    "    # tb10 prefix is for top10 or bot10. this function works for both\n",
    "    tb10_dict_ingredients = dict.fromkeys(tb10_unique_set, 0) # before counting ocurrencies, we need to create dictionary\n",
    "    for ingredient in tb10_dict_ingredients:\n",
    "        count = tb10_filtered['ingredients_cleaned'].str.count(ingredient, re.I).sum() # count of occurrences of the ingredient\n",
    "        tb10_dict_ingredients[ingredient] = count\n",
    "    return tb10_dict_ingredients"
   ]
  },
  {
   "cell_type": "code",
   "execution_count": 108,
   "metadata": {},
   "outputs": [],
   "source": [
    "filtered_df_dye = ingredient_dummy_filter(dye)\n",
    "filtered_df_fat = ingredient_dummy_filter(fat)\n",
    "filtered_df_flavor = ingredient_dummy_filter(flavor)\n",
    "filtered_df_milk_water = ingredient_dummy_filter(milk_water)\n",
    "filtered_df_other = ingredient_dummy_filter(other)\n",
    "filtered_df_sweetening = ingredient_dummy_filter(sweetening)"
   ]
  },
  {
   "cell_type": "code",
   "execution_count": 109,
   "metadata": {},
   "outputs": [],
   "source": [
    "top10_unique_ingredients_dye, bot10_unique_ingredients_dye = parse_top_bot_ingredients('all', filtered_df_dye)\n",
    "top10_unique_ingredients_fat, bot10_unique_ingredients_fat = parse_top_bot_ingredients('all', filtered_df_fat)\n",
    "top10_unique_ingredients_flavor, bot10_unique_ingredients_flavor = parse_top_bot_ingredients('all', filtered_df_flavor)\n",
    "top10_unique_ingredients_milk_water, bot10_unique_ingredients_milk_water = parse_top_bot_ingredients('all', filtered_df_milk_water)\n",
    "top10_unique_ingredients_other, bot10_unique_ingredients_other = parse_top_bot_ingredients('all', filtered_df_other)\n",
    "top10_unique_ingredients_sweetening, bot10_unique_ingredients_sweetening = parse_top_bot_ingredients('all', filtered_df_sweetening)"
   ]
  },
  {
   "cell_type": "code",
   "execution_count": 116,
   "metadata": {},
   "outputs": [
    {
     "data": {
      "text/html": [
       "<div>\n",
       "<style scoped>\n",
       "    .dataframe tbody tr th:only-of-type {\n",
       "        vertical-align: middle;\n",
       "    }\n",
       "\n",
       "    .dataframe tbody tr th {\n",
       "        vertical-align: top;\n",
       "    }\n",
       "\n",
       "    .dataframe thead th {\n",
       "        text-align: right;\n",
       "    }\n",
       "</style>\n",
       "<table border=\"1\" class=\"dataframe\">\n",
       "  <thead>\n",
       "    <tr style=\"text-align: right;\">\n",
       "      <th></th>\n",
       "      <th>brand</th>\n",
       "      <th>name</th>\n",
       "      <th>rating</th>\n",
       "      <th>rating_count</th>\n",
       "      <th>ingredients_cleaned</th>\n",
       "      <th>artificial color</th>\n",
       "      <th>black carrot</th>\n",
       "      <th>red cabbage</th>\n",
       "    </tr>\n",
       "  </thead>\n",
       "  <tbody>\n",
       "    <tr>\n",
       "      <th>0</th>\n",
       "      <td>BenJerrys</td>\n",
       "      <td>Salted Caramel Core</td>\n",
       "      <td>3.7</td>\n",
       "      <td>208</td>\n",
       "      <td>[cream,  skim milk,  sugar syrup,  water,  brown sugar,  sugar,  milk,  wheat flour,  egg yolk,  corn syrup,  egg,  butter,  butter,  pectin,  salt,  soybean oil,  vanilla,  guar gum,  soybean lecithin,  baking powder,  baking soda,  salt,  carrageenan,  lactase]</td>\n",
       "      <td>0</td>\n",
       "      <td>0</td>\n",
       "      <td>0</td>\n",
       "    </tr>\n",
       "    <tr>\n",
       "      <th>1</th>\n",
       "      <td>BenJerrys</td>\n",
       "      <td>Netflix &amp; Chilll'd™</td>\n",
       "      <td>4.0</td>\n",
       "      <td>127</td>\n",
       "      <td>[cream,  skim milk,  sugar syrup,  water,  sugar,  peanut,  wheat flour,  canola oil,  egg yolk,  cornstarch,  peanut oil,  cocoa powder,  salt,  soybean oil,  inverted sugar syrup,  milk fat,  egg,  egg white,  guar gum,  soybean lecithin,  tapioca,  baking soda,  carrageenan,  vanilla,  barley malt,  malted barley flour]</td>\n",
       "      <td>0</td>\n",
       "      <td>0</td>\n",
       "      <td>0</td>\n",
       "    </tr>\n",
       "    <tr>\n",
       "      <th>2</th>\n",
       "      <td>BenJerrys</td>\n",
       "      <td>Chip Happens</td>\n",
       "      <td>4.7</td>\n",
       "      <td>130</td>\n",
       "      <td>[cream,  sugar syrup,  skim milk,  water,  sugar,  cocoa powder,  potato,  coconut oil,  corn syrup,  soybean oil,  egg yolk,  rice starch,  sunflower oil,  barley malt,  cocoa powder,  wheat flour,  milk,  salt,  soybean lecithin,  yeast extract,  natural flavor,  guar gum,  salt,  milk fat,  vanilla,  enzymes,  carrageenan,  baking soda]</td>\n",
       "      <td>0</td>\n",
       "      <td>0</td>\n",
       "      <td>0</td>\n",
       "    </tr>\n",
       "    <tr>\n",
       "      <th>3</th>\n",
       "      <td>BenJerrys</td>\n",
       "      <td>Cannoli</td>\n",
       "      <td>3.6</td>\n",
       "      <td>70</td>\n",
       "      <td>[cream,  skim milk,  sugar syrup,  water,  corn syrup,  coconut oil,  sugar,  cane syrup,  egg yolk,  wheat flour,  milk,  cocoa powder,  natural flavor,  guar gum,  soybean lecithin,  butter,  natural flavor,  locust bean gum,  salt,  citric acid,  vanilla,  soybean oil,  tapioca,  lactic acid,  carrageenan]</td>\n",
       "      <td>0</td>\n",
       "      <td>0</td>\n",
       "      <td>0</td>\n",
       "    </tr>\n",
       "    <tr>\n",
       "      <th>4</th>\n",
       "      <td>BenJerrys</td>\n",
       "      <td>Gimme S’more!™</td>\n",
       "      <td>4.5</td>\n",
       "      <td>281</td>\n",
       "      <td>[cream,  skim milk,  water,  sugar syrup,  sugar,  canola oil,  soybean oil,  egg yolk,  corn syrup,  wheat flour,  coconut oil,  cornstarch,  cocoa powder,  corn syrup,  cocoa powder,  graham flour,  salt,  egg white,  butter,  tapioca,  guar gum,  soybean lecithin,  baking soda,  natural flavor,  molasses,  honey,  vanilla,  pectin,  caramel syrup,  carrageenan]</td>\n",
       "      <td>0</td>\n",
       "      <td>0</td>\n",
       "      <td>0</td>\n",
       "    </tr>\n",
       "    <tr>\n",
       "      <th>...</th>\n",
       "      <td>...</td>\n",
       "      <td>...</td>\n",
       "      <td>...</td>\n",
       "      <td>...</td>\n",
       "      <td>...</td>\n",
       "      <td>...</td>\n",
       "      <td>...</td>\n",
       "      <td>...</td>\n",
       "    </tr>\n",
       "    <tr>\n",
       "      <th>236</th>\n",
       "      <td>Breyers</td>\n",
       "      <td>CINNABON®</td>\n",
       "      <td>4.0</td>\n",
       "      <td>28</td>\n",
       "      <td>[milk,  corn syrup,  sugar,  brown sugar,  soybean oil,  water,  butter,  cream,  salt,  corn syrup,  spices,  salt,  soybean lecithin,  vanilla,  cane syrup,  wheat flour,  coconut oil,  water,  butter,  cream,  salt,  molasses,  sodium bicarbonate,  spices,  corn syrup,  soybean lecithin,  salt,  fructose,  coconut oil,  whey,  cream,  vegetable gum,  guar gum,  carob bean gum,  monoglycerides,  diglycerides,  natural flavor]</td>\n",
       "      <td>0</td>\n",
       "      <td>0</td>\n",
       "      <td>0</td>\n",
       "    </tr>\n",
       "    <tr>\n",
       "      <th>237</th>\n",
       "      <td>Breyers</td>\n",
       "      <td>CarbSmart™ Caramel Swirl Bar</td>\n",
       "      <td>4.7</td>\n",
       "      <td>18</td>\n",
       "      <td>[milk,  water,  caramel,  sugar,  water,  corn syrup,  corn syrup,  milk powder,  butter,  cream,  salt,  salt,  molasses,  pectin,  soybean lecithin,  natural flavor,  potassium sorbate,  sodium citrate,  lactic acid,  maltitol syrup,  polydextrose,  coconut oil,  whey,  glycerin,  cream,  soluble corn fiber,  vegetable gum,  carob bean gum,  guar gum,  caramel,  monoglycerides,  diglycerides,  natural flavor,  acesulfame potassium,  sucralose]</td>\n",
       "      <td>0</td>\n",
       "      <td>0</td>\n",
       "      <td>0</td>\n",
       "    </tr>\n",
       "    <tr>\n",
       "      <th>238</th>\n",
       "      <td>Breyers</td>\n",
       "      <td>Layered Dessert S'mores</td>\n",
       "      <td>2.5</td>\n",
       "      <td>31</td>\n",
       "      <td>[milk,  corn syrup,  sugar,  wheat flour,  butter,  cream,  salt,  palm oil,  corn syrup,  skim milk,  water,  rice flour,  natural flavor,  salt,  wheat flour,  sugar,  palm oil,  molasses,  spices,  salt,  baking soda,  natural flavor,  soybean lecithin,  fructose,  coconut oil,  cocoa powder,  whey,  cream,  vegetable gum,  guar gum,  carob bean gum,  monoglycerides,  diglycerides,  natural flavor,  vanilla]</td>\n",
       "      <td>0</td>\n",
       "      <td>0</td>\n",
       "      <td>0</td>\n",
       "    </tr>\n",
       "    <tr>\n",
       "      <th>239</th>\n",
       "      <td>Breyers</td>\n",
       "      <td>Layered Dessert Peach Cobbler</td>\n",
       "      <td>3.2</td>\n",
       "      <td>38</td>\n",
       "      <td>[milk,  corn syrup,  wheat flour,  wheat flour,  niacin,  reduced iron,  thiamine mononitrate,  riboflavin,  folic acid,  sugar,  butter,  cream,  salt,  canola oil,  milk powder,  salt,  sodium bicarbonate,  peaches,  fructose,  coconut oil,  sugar,  whey,  cream,  vegetable gum,  guar gum,  carob bean gum,  tara gum,  monoglycerides,  diglycerides,  natural flavor,  vanilla,  artificial color,  vanilla]</td>\n",
       "      <td>0</td>\n",
       "      <td>0</td>\n",
       "      <td>0</td>\n",
       "    </tr>\n",
       "    <tr>\n",
       "      <th>240</th>\n",
       "      <td>Breyers</td>\n",
       "      <td>Layered Dessert Brownie Cheesecake</td>\n",
       "      <td>2.8</td>\n",
       "      <td>25</td>\n",
       "      <td>[milk,  corn syrup,  sugar,  wheat flour,  wheat flour,  niacin,  reduced iron,  thiamine mononitrate,  riboflavin,  folic acid,  sugar,  sugar,  cornstarch,  cocoa powder,  water,  palm oil,  soybean oil,  milk powder,  soybean lecithin,  natural flavor,  fructose,  cheesecakewith graham crust,  cream cheese,  milk,  cream,  cheese culture,  salt,  carob bean gum,  sugar,  egg,  graham crumb,  wheat flour,  wheat graham flour,  sugar,  canola oil,  molasses,  honey,  salt,  sodium bicarbonate,  cornstarch,  palm oil,  natural flavor,  sweetened lemon zest,  lemon peel,  sugar,  lemon oil,  guar gum,  coconut oil,  cocoa powder,  whey,  cream,  cream cheese,  milk,  cream,  cheese culture,  salt,  carob bean gum,  cane syrup,  vegetable gum,  guar gum,  carob bean gum,  monoglycerides,  diglycerides,  natural flavor,  salt,  pectin,  sugar,  artificial color]</td>\n",
       "      <td>0</td>\n",
       "      <td>0</td>\n",
       "      <td>0</td>\n",
       "    </tr>\n",
       "  </tbody>\n",
       "</table>\n",
       "<p>241 rows × 8 columns</p>\n",
       "</div>"
      ],
      "text/plain": [
       "         brand                                name  rating  rating_count  \\\n",
       "0    BenJerrys                 Salted Caramel Core     3.7           208   \n",
       "1    BenJerrys                 Netflix & Chilll'd™     4.0           127   \n",
       "2    BenJerrys                        Chip Happens     4.7           130   \n",
       "3    BenJerrys                             Cannoli     3.6            70   \n",
       "4    BenJerrys                      Gimme S’more!™     4.5           281   \n",
       "..         ...                                 ...     ...           ...   \n",
       "236    Breyers                           CINNABON®     4.0            28   \n",
       "237    Breyers        CarbSmart™ Caramel Swirl Bar     4.7            18   \n",
       "238    Breyers             Layered Dessert S'mores     2.5            31   \n",
       "239    Breyers       Layered Dessert Peach Cobbler     3.2            38   \n",
       "240    Breyers  Layered Dessert Brownie Cheesecake     2.8            25   \n",
       "\n",
       "                                                                                                                                                                                                                                                                                                                                                                                                                                                                                                                                                                                                                                                                                                                                                                                                                                                                                         ingredients_cleaned  \\\n",
       "0                                                                                                                                                                                                                                                                                                                                                                                                                                                                                                                                                                                                                                    [cream,  skim milk,  sugar syrup,  water,  brown sugar,  sugar,  milk,  wheat flour,  egg yolk,  corn syrup,  egg,  butter,  butter,  pectin,  salt,  soybean oil,  vanilla,  guar gum,  soybean lecithin,  baking powder,  baking soda,  salt,  carrageenan,  lactase]   \n",
       "1                                                                                                                                                                                                                                                                                                                                                                                                                                                                                                                                                                       [cream,  skim milk,  sugar syrup,  water,  sugar,  peanut,  wheat flour,  canola oil,  egg yolk,  cornstarch,  peanut oil,  cocoa powder,  salt,  soybean oil,  inverted sugar syrup,  milk fat,  egg,  egg white,  guar gum,  soybean lecithin,  tapioca,  baking soda,  carrageenan,  vanilla,  barley malt,  malted barley flour]   \n",
       "2                                                                                                                                                                                                                                                                                                                                                                                                                                                                                                                                                      [cream,  sugar syrup,  skim milk,  water,  sugar,  cocoa powder,  potato,  coconut oil,  corn syrup,  soybean oil,  egg yolk,  rice starch,  sunflower oil,  barley malt,  cocoa powder,  wheat flour,  milk,  salt,  soybean lecithin,  yeast extract,  natural flavor,  guar gum,  salt,  milk fat,  vanilla,  enzymes,  carrageenan,  baking soda]   \n",
       "3                                                                                                                                                                                                                                                                                                                                                                                                                                                                                                                                                                                     [cream,  skim milk,  sugar syrup,  water,  corn syrup,  coconut oil,  sugar,  cane syrup,  egg yolk,  wheat flour,  milk,  cocoa powder,  natural flavor,  guar gum,  soybean lecithin,  butter,  natural flavor,  locust bean gum,  salt,  citric acid,  vanilla,  soybean oil,  tapioca,  lactic acid,  carrageenan]   \n",
       "4                                                                                                                                                                                                                                                                                                                                                                                                                                                                                                                             [cream,  skim milk,  water,  sugar syrup,  sugar,  canola oil,  soybean oil,  egg yolk,  corn syrup,  wheat flour,  coconut oil,  cornstarch,  cocoa powder,  corn syrup,  cocoa powder,  graham flour,  salt,  egg white,  butter,  tapioca,  guar gum,  soybean lecithin,  baking soda,  natural flavor,  molasses,  honey,  vanilla,  pectin,  caramel syrup,  carrageenan]   \n",
       "..                                                                                                                                                                                                                                                                                                                                                                                                                                                                                                                                                                                                                                                                                                                                                                                                                                                                                                       ...   \n",
       "236                                                                                                                                                                                                                                                                                                                                                                                                                                                          [milk,  corn syrup,  sugar,  brown sugar,  soybean oil,  water,  butter,  cream,  salt,  corn syrup,  spices,  salt,  soybean lecithin,  vanilla,  cane syrup,  wheat flour,  coconut oil,  water,  butter,  cream,  salt,  molasses,  sodium bicarbonate,  spices,  corn syrup,  soybean lecithin,  salt,  fructose,  coconut oil,  whey,  cream,  vegetable gum,  guar gum,  carob bean gum,  monoglycerides,  diglycerides,  natural flavor]   \n",
       "237                                                                                                                                                                                                                                                                                                                                                                                                                                        [milk,  water,  caramel,  sugar,  water,  corn syrup,  corn syrup,  milk powder,  butter,  cream,  salt,  salt,  molasses,  pectin,  soybean lecithin,  natural flavor,  potassium sorbate,  sodium citrate,  lactic acid,  maltitol syrup,  polydextrose,  coconut oil,  whey,  glycerin,  cream,  soluble corn fiber,  vegetable gum,  carob bean gum,  guar gum,  caramel,  monoglycerides,  diglycerides,  natural flavor,  acesulfame potassium,  sucralose]   \n",
       "238                                                                                                                                                                                                                                                                                                                                                                                                                                                                           [milk,  corn syrup,  sugar,  wheat flour,  butter,  cream,  salt,  palm oil,  corn syrup,  skim milk,  water,  rice flour,  natural flavor,  salt,  wheat flour,  sugar,  palm oil,  molasses,  spices,  salt,  baking soda,  natural flavor,  soybean lecithin,  fructose,  coconut oil,  cocoa powder,  whey,  cream,  vegetable gum,  guar gum,  carob bean gum,  monoglycerides,  diglycerides,  natural flavor,  vanilla]   \n",
       "239                                                                                                                                                                                                                                                                                                                                                                                                                                                                                 [milk,  corn syrup,  wheat flour,  wheat flour,  niacin,  reduced iron,  thiamine mononitrate,  riboflavin,  folic acid,  sugar,  butter,  cream,  salt,  canola oil,  milk powder,  salt,  sodium bicarbonate,  peaches,  fructose,  coconut oil,  sugar,  whey,  cream,  vegetable gum,  guar gum,  carob bean gum,  tara gum,  monoglycerides,  diglycerides,  natural flavor,  vanilla,  artificial color,  vanilla]   \n",
       "240  [milk,  corn syrup,  sugar,  wheat flour,  wheat flour,  niacin,  reduced iron,  thiamine mononitrate,  riboflavin,  folic acid,  sugar,  sugar,  cornstarch,  cocoa powder,  water,  palm oil,  soybean oil,  milk powder,  soybean lecithin,  natural flavor,  fructose,  cheesecakewith graham crust,  cream cheese,  milk,  cream,  cheese culture,  salt,  carob bean gum,  sugar,  egg,  graham crumb,  wheat flour,  wheat graham flour,  sugar,  canola oil,  molasses,  honey,  salt,  sodium bicarbonate,  cornstarch,  palm oil,  natural flavor,  sweetened lemon zest,  lemon peel,  sugar,  lemon oil,  guar gum,  coconut oil,  cocoa powder,  whey,  cream,  cream cheese,  milk,  cream,  cheese culture,  salt,  carob bean gum,  cane syrup,  vegetable gum,  guar gum,  carob bean gum,  monoglycerides,  diglycerides,  natural flavor,  salt,  pectin,  sugar,  artificial color]   \n",
       "\n",
       "     artificial color  black carrot  red cabbage  \n",
       "0                   0             0            0  \n",
       "1                   0             0            0  \n",
       "2                   0             0            0  \n",
       "3                   0             0            0  \n",
       "4                   0             0            0  \n",
       "..                ...           ...          ...  \n",
       "236                 0             0            0  \n",
       "237                 0             0            0  \n",
       "238                 0             0            0  \n",
       "239                 0             0            0  \n",
       "240                 0             0            0  \n",
       "\n",
       "[241 rows x 8 columns]"
      ]
     },
     "execution_count": 116,
     "metadata": {},
     "output_type": "execute_result"
    }
   ],
   "source": [
    "filtered_df_dye"
   ]
  },
  {
   "cell_type": "code",
   "execution_count": 114,
   "metadata": {},
   "outputs": [
    {
     "name": "stdout",
     "output_type": "stream",
     "text": [
      " peppermint\n",
      "0.0\n",
      " water\n",
      "0.0\n",
      " pecans\n",
      "0.0\n",
      " molasses\n",
      "0.0\n",
      " riboflavin\n",
      "0.0\n",
      " carrageenan\n",
      "0.0\n",
      " soybean lecithin\n",
      "0.0\n",
      " maltodextrin\n",
      "0.0\n",
      " brown sugar\n",
      "0.0\n",
      " calcium phosphate\n",
      "0.0\n",
      " flour\n",
      "0.0\n",
      " artificial flavor\n",
      "0.0\n",
      " fructose\n",
      "0.0\n",
      " sorbitol\n",
      "0.0\n",
      " cocoa powder\n",
      "0.0\n",
      " caramel\n",
      "0.0\n",
      "cream\n",
      "0.0\n",
      " spices\n",
      "0.0\n",
      " glycerin\n",
      "0.0\n",
      " niacin\n",
      "0.0\n",
      " lemon peel\n",
      "0.0\n",
      " peanut oil\n",
      "0.0\n",
      " cane syrup\n",
      "0.0\n",
      " lemon\n",
      "0.0\n",
      " diglycerides\n",
      "0.0\n",
      "water\n",
      "0.0\n",
      " baking soda\n",
      "0.0\n",
      " peanut\n",
      "0.0\n",
      " oreo cookie\n",
      "0.0\n",
      " cellulose gum\n",
      "0.0\n",
      " milk fat\n",
      "0.0\n",
      " folic acid\n",
      "0.0\n",
      " egg yolk\n",
      "0.0\n",
      " milk\n",
      "0.0\n",
      " cream\n",
      "0.0\n",
      " canola oil\n",
      "0.0\n",
      " vanilla\n",
      "0.0\n",
      " sugar syrup\n",
      "0.0\n",
      " sunflower lecithin\n",
      "0.0\n",
      " banana\n",
      "0.0\n",
      " wheat flour\n",
      "0.0\n",
      " palm oil\n",
      "0.0\n",
      " pectin\n",
      "0.0\n",
      " chocolate\n",
      "0.0\n",
      " whey\n",
      "0.0\n",
      " corn syrup\n",
      "0.0\n",
      " almonds\n",
      "0.0\n",
      " milk powder\n",
      "0.0\n",
      " butter\n",
      "0.0\n",
      " thiamine mononitrate\n",
      "0.0\n",
      " carob bean gum\n",
      "0.0\n",
      " sunflower oil\n",
      "0.0\n",
      " lactase\n",
      "0.0\n",
      " cornstarch\n",
      "0.0\n",
      " acesulfame potassium\n",
      "0.0\n",
      " soybean oil\n",
      "0.0\n",
      " honey\n",
      "0.0\n",
      " reduced iron\n",
      "0.0\n",
      " safflower oil\n",
      "0.0\n",
      " skim milk\n",
      "0.0\n",
      " tapioca\n",
      "0.0\n",
      " tara gum\n",
      "0.0\n",
      " monoglycerides\n",
      "0.0\n",
      " salt\n",
      "0.0\n",
      " condensed milk\n",
      "0.0\n",
      " sucralose\n",
      "0.0\n",
      " cocoa butter\n",
      "0.0\n",
      " natural flavor\n",
      "0.0\n",
      " coffee\n",
      "0.0\n",
      " rice flour\n",
      "0.0\n",
      " propylene glycol monoesters\n",
      "0.0\n",
      "milk\n",
      "0.0\n",
      " dextrose\n",
      "0.0\n",
      "skim milk\n",
      "0.0\n",
      " guar gum\n",
      "0.0\n",
      " walnuts\n",
      "0.0\n",
      " coconut oil\n",
      "0.0\n",
      " vitamin a palmitate\n",
      "0.0\n",
      " artificial color\n",
      "0.0\n",
      " vegetable gum\n",
      "0.0\n",
      " vegetable\n",
      "0.0\n",
      "peppermint\n",
      "0.0\n",
      " sugar\n",
      "0.0\n",
      " leavening\n",
      "0.0\n",
      " egg\n",
      "0.0\n"
     ]
    },
    {
     "data": {
      "text/plain": [
       "{' peppermint': 0,\n",
       " ' water': 0,\n",
       " ' pecans': 0,\n",
       " ' molasses': 0,\n",
       " ' riboflavin': 0,\n",
       " ' carrageenan': 0,\n",
       " ' soybean lecithin': 0,\n",
       " ' maltodextrin': 0,\n",
       " ' brown sugar': 0,\n",
       " ' calcium phosphate': 0,\n",
       " ' flour': 0,\n",
       " ' artificial flavor': 0,\n",
       " ' fructose': 0,\n",
       " ' sorbitol': 0,\n",
       " ' cocoa powder': 0,\n",
       " ' caramel': 0,\n",
       " 'cream': 0,\n",
       " ' spices': 0,\n",
       " ' glycerin': 0,\n",
       " ' niacin': 0,\n",
       " ' lemon peel': 0,\n",
       " ' peanut oil': 0,\n",
       " ' cane syrup': 0,\n",
       " ' lemon': 0,\n",
       " ' diglycerides': 0,\n",
       " 'water': 0,\n",
       " ' baking soda': 0,\n",
       " ' peanut': 0,\n",
       " ' oreo cookie': 0,\n",
       " ' cellulose gum': 0,\n",
       " ' milk fat': 0,\n",
       " ' folic acid': 0,\n",
       " ' egg yolk': 0,\n",
       " ' milk': 0,\n",
       " ' cream': 0,\n",
       " ' canola oil': 0,\n",
       " ' vanilla': 0,\n",
       " ' sugar syrup': 0,\n",
       " ' sunflower lecithin': 0,\n",
       " ' banana': 0,\n",
       " ' wheat flour': 0,\n",
       " ' palm oil': 0,\n",
       " ' pectin': 0,\n",
       " ' chocolate': 0,\n",
       " ' whey': 0,\n",
       " ' corn syrup': 0,\n",
       " ' almonds': 0,\n",
       " ' milk powder': 0,\n",
       " ' butter': 0,\n",
       " ' thiamine mononitrate': 0,\n",
       " ' carob bean gum': 0,\n",
       " ' sunflower oil': 0,\n",
       " ' lactase': 0,\n",
       " ' cornstarch': 0,\n",
       " ' acesulfame potassium': 0,\n",
       " ' soybean oil': 0,\n",
       " ' honey': 0,\n",
       " ' reduced iron': 0,\n",
       " ' safflower oil': 0,\n",
       " ' skim milk': 0,\n",
       " ' tapioca': 0,\n",
       " ' tara gum': 0,\n",
       " ' monoglycerides': 0,\n",
       " ' salt': 0,\n",
       " ' condensed milk': 0,\n",
       " ' sucralose': 0,\n",
       " ' cocoa butter': 0,\n",
       " ' natural flavor': 0,\n",
       " ' coffee': 0,\n",
       " ' rice flour': 0,\n",
       " ' propylene glycol monoesters': 0,\n",
       " 'milk': 0,\n",
       " ' dextrose': 0,\n",
       " 'skim milk': 0,\n",
       " ' guar gum': 0,\n",
       " ' walnuts': 0,\n",
       " ' coconut oil': 0,\n",
       " ' vitamin a palmitate': 0,\n",
       " ' artificial color': 0,\n",
       " ' vegetable gum': 0,\n",
       " ' vegetable': 0,\n",
       " 'peppermint': 0,\n",
       " ' sugar': 0,\n",
       " ' leavening': 0,\n",
       " ' egg': 0}"
      ]
     },
     "execution_count": 114,
     "metadata": {},
     "output_type": "execute_result"
    }
   ],
   "source": [
    "tb10_dict_ingredients = dict.fromkeys(top10_unique_ingredients_milk_water, 0) # before counting ocurrencies, we need to create dictionary\n",
    "for ingredient in tb10_dict_ingredients:\n",
    "    print(ingredient)\n",
    "    count = filtered_df_milk_water['ingredients_cleaned'].str.count(ingredient, re.I).sum() # count of occurrences of the ingredient\n",
    "    print(count)\n",
    "    \"\"\"PROBLEMA DETECTADO: O DICTIONARY ESTÁ PEGANDO WHITESPACE COMO SUFIXO\"\"\"\n",
    "#    tb10_dict_ingredients[ingredient] = count\n",
    "#return tb10_dict_ingredients\n",
    "tb10_dict_ingredients"
   ]
  },
  {
   "cell_type": "code",
   "execution_count": 110,
   "metadata": {},
   "outputs": [
    {
     "ename": "TypeError",
     "evalue": "'set' object is not subscriptable",
     "output_type": "error",
     "traceback": [
      "\u001b[1;31m---------------------------------------------------------------------------\u001b[0m",
      "\u001b[1;31mTypeError\u001b[0m                                 Traceback (most recent call last)",
      "Cell \u001b[1;32mIn[110], line 1\u001b[0m\n\u001b[1;32m----> 1\u001b[0m hitop \u001b[39m=\u001b[39m tb_ingredients_count(filtered_df_milk_water,top10_unique_ingredients_milk_water)\n\u001b[0;32m      2\u001b[0m hitop\n",
      "Cell \u001b[1;32mIn[105], line 12\u001b[0m, in \u001b[0;36mtb_ingredients_count\u001b[1;34m(tb10_set, tb10_filtered)\u001b[0m\n\u001b[0;32m     10\u001b[0m tb10_dict_ingredients \u001b[39m=\u001b[39m \u001b[39mdict\u001b[39m\u001b[39m.\u001b[39mfromkeys(tb10_set, \u001b[39m0\u001b[39m) \u001b[39m# before counting ocurrencies, we need to create dictionary\u001b[39;00m\n\u001b[0;32m     11\u001b[0m \u001b[39mfor\u001b[39;00m ingredient \u001b[39min\u001b[39;00m tb10_dict_ingredients:\n\u001b[1;32m---> 12\u001b[0m     count \u001b[39m=\u001b[39m tb10_filtered[\u001b[39m'\u001b[39;49m\u001b[39mingredients_cleaned\u001b[39;49m\u001b[39m'\u001b[39;49m]\u001b[39m.\u001b[39mstr\u001b[39m.\u001b[39mcount(ingredient, re\u001b[39m.\u001b[39mI)\u001b[39m.\u001b[39msum() \u001b[39m# count of occurrences of the ingredient\u001b[39;00m\n\u001b[0;32m     13\u001b[0m     tb10_dict_ingredients[ingredient] \u001b[39m=\u001b[39m count\n\u001b[0;32m     14\u001b[0m \u001b[39mreturn\u001b[39;00m tb10_dict_ingredients\n",
      "\u001b[1;31mTypeError\u001b[0m: 'set' object is not subscriptable"
     ]
    }
   ],
   "source": [
    "hitop = tb_ingredients_count(filtered_df_milk_water,top10_unique_ingredients_milk_water)\n",
    "hitop"
   ]
  },
  {
   "cell_type": "code",
   "execution_count": 102,
   "metadata": {},
   "outputs": [
    {
     "ename": "TypeError",
     "evalue": "'set' object is not subscriptable",
     "output_type": "error",
     "traceback": [
      "\u001b[1;31m---------------------------------------------------------------------------\u001b[0m",
      "\u001b[1;31mTypeError\u001b[0m                                 Traceback (most recent call last)",
      "Cell \u001b[1;32mIn[102], line 1\u001b[0m\n\u001b[1;32m----> 1\u001b[0m top_aeho \u001b[39m=\u001b[39m tb_ingredients_count(top10_ingredients_milk_water)\n\u001b[0;32m      2\u001b[0m aeho\n",
      "Cell \u001b[1;32mIn[101], line 12\u001b[0m, in \u001b[0;36mtb_ingredients_count\u001b[1;34m(tb10_df)\u001b[0m\n\u001b[0;32m     10\u001b[0m tb10_dict_ingredients \u001b[39m=\u001b[39m \u001b[39mdict\u001b[39m\u001b[39m.\u001b[39mfromkeys(tb10_df, \u001b[39m0\u001b[39m) \u001b[39m# before counting ocurrencies, we need to create dictionary\u001b[39;00m\n\u001b[0;32m     11\u001b[0m \u001b[39mfor\u001b[39;00m ingredient \u001b[39min\u001b[39;00m tb10_dict_ingredients:\n\u001b[1;32m---> 12\u001b[0m     count \u001b[39m=\u001b[39m tb10_df[\u001b[39m'\u001b[39;49m\u001b[39mingredients_cleaned\u001b[39;49m\u001b[39m'\u001b[39;49m]\u001b[39m.\u001b[39mstr\u001b[39m.\u001b[39mcount(ingredient, re\u001b[39m.\u001b[39mI)\u001b[39m.\u001b[39msum() \u001b[39m# count of occurrences of the ingredient\u001b[39;00m\n\u001b[0;32m     13\u001b[0m     tb10_dict_ingredients[ingredient] \u001b[39m=\u001b[39m count\n\u001b[0;32m     14\u001b[0m \u001b[39mreturn\u001b[39;00m tb10_dict_ingredients\n",
      "\u001b[1;31mTypeError\u001b[0m: 'set' object is not subscriptable"
     ]
    }
   ],
   "source": [
    "top_aeho = tb_ingredients_count(top10_ingredients_milk_water)\n",
    "aeho"
   ]
  },
  {
   "cell_type": "code",
   "execution_count": null,
   "metadata": {},
   "outputs": [],
   "source": [
    "hi1 = pd.Series(top10_dict_ingredients, name='top_count')\n",
    "hi1"
   ]
  },
  {
   "cell_type": "code",
   "execution_count": null,
   "metadata": {},
   "outputs": [],
   "source": [
    "hi2 = pd.Series(bot10_dict_ingredients, name='bottom_count')\n",
    "hi2"
   ]
  },
  {
   "cell_type": "code",
   "execution_count": null,
   "metadata": {},
   "outputs": [],
   "source": [
    "hi = pd.concat([hi1, hi2], axis=1)\n",
    "hi = hi.fillna(0)\n",
    "hi['diff'] = hi['top_count'] - hi['bottom_count']\n",
    "hi = hi.sort_values('diff', ascending=False).reset_index().rename(columns={'index':'ingredient'})\n",
    "#hi.to_csv('icecream2_topbot_diff.csv', index=True, header=True, encoding='utf-8')\n",
    "hi"
   ]
  },
  {
   "cell_type": "code",
   "execution_count": null,
   "metadata": {},
   "outputs": [],
   "source": [
    "import seaborn as sns"
   ]
  },
  {
   "cell_type": "code",
   "execution_count": null,
   "metadata": {},
   "outputs": [],
   "source": [
    "sns.barplot(data=hi, x=\"diff\", y=\"ingredient\", orient='h', palette='Spectral')"
   ]
  },
  {
   "cell_type": "code",
   "execution_count": null,
   "metadata": {},
   "outputs": [],
   "source": []
  },
  {
   "attachments": {},
   "cell_type": "markdown",
   "metadata": {},
   "source": [
    "* flavor"
   ]
  },
  {
   "cell_type": "code",
   "execution_count": null,
   "metadata": {},
   "outputs": [],
   "source": [
    "# selecting 4 first columns and concatenating with the selected ingredients based on a list filter\n",
    "filtered = pd.concat([X.iloc[:, :4], X[flavor]], axis=1)"
   ]
  },
  {
   "cell_type": "code",
   "execution_count": null,
   "metadata": {},
   "outputs": [],
   "source": []
  },
  {
   "cell_type": "code",
   "execution_count": null,
   "metadata": {},
   "outputs": [],
   "source": []
  },
  {
   "cell_type": "code",
   "execution_count": null,
   "metadata": {},
   "outputs": [],
   "source": []
  },
  {
   "cell_type": "code",
   "execution_count": null,
   "metadata": {},
   "outputs": [],
   "source": []
  },
  {
   "cell_type": "code",
   "execution_count": null,
   "metadata": {},
   "outputs": [],
   "source": []
  },
  {
   "cell_type": "code",
   "execution_count": null,
   "metadata": {},
   "outputs": [],
   "source": [
    "#pd.options.display.max_rows = None\n",
    "#pd.options.display.max_columns = None"
   ]
  }
 ],
 "metadata": {
  "kernelspec": {
   "display_name": "venv",
   "language": "python",
   "name": "python3"
  },
  "language_info": {
   "codemirror_mode": {
    "name": "ipython",
    "version": 3
   },
   "file_extension": ".py",
   "mimetype": "text/x-python",
   "name": "python",
   "nbconvert_exporter": "python",
   "pygments_lexer": "ipython3",
   "version": "3.9.6"
  },
  "orig_nbformat": 4,
  "vscode": {
   "interpreter": {
    "hash": "2f5c964f10db18ca2e24ede473c8e1bbf38968f9e6b980b72f721a488ad58e77"
   }
  }
 },
 "nbformat": 4,
 "nbformat_minor": 2
}
