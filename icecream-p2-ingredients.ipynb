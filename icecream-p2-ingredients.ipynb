{
 "cells": [
  {
   "cell_type": "markdown",
   "metadata": {},
   "source": [
    "# Intro"
   ]
  },
  {
   "attachments": {},
   "cell_type": "markdown",
   "metadata": {},
   "source": [
    "* Loading Data and Libraries"
   ]
  },
  {
   "cell_type": "code",
   "execution_count": 2,
   "metadata": {},
   "outputs": [],
   "source": [
    "# loading libraries\n",
    "\n",
    "import numpy as np\n",
    "import pandas as pd"
   ]
  },
  {
   "cell_type": "code",
   "execution_count": 3,
   "metadata": {},
   "outputs": [
    {
     "name": "stdout",
     "output_type": "stream",
     "text": [
      "the dataset has 241 observations (ice cream flavors) and 5 features ['brand', 'name', 'rating', 'rating_count', 'ingredients']\n"
     ]
    }
   ],
   "source": [
    "# reading dataset\n",
    "\n",
    "df = pd.read_csv(\"pre-processed.csv\")\n",
    "print(\"the dataset has \" + str(df.shape[0]) + \" observations (ice cream flavors) and \" + str(df.shape[1]) + \" features \" + str([col for col in df.columns]))\n",
    "\n",
    "# dataset: https://www.kaggle.com/datasets/tysonpo/ice-cream-dataset\n",
    "\n",
    "# Inspiration Notebooks:\n",
    "# Using Ice Cream Ingredients to Predict Rating: https://www.kaggle.com/code/gcdatkin/using-ice-cream-ingredients-to-predict-rating\n",
    "# Finding the Best Ice Cream: https://www.kaggle.com/code/kelvintran1998/finding-the-best-ice-cream\n",
    "# EDA ideas: McDonalds Ice Cream Machines Breaking: https://www.kaggle.com/code/aashidutt3/eda-mcdonalds-ice-cream-machines-breaking"
   ]
  },
  {
   "cell_type": "code",
   "execution_count": 4,
   "metadata": {},
   "outputs": [
    {
     "data": {
      "text/html": [
       "<div>\n",
       "<style scoped>\n",
       "    .dataframe tbody tr th:only-of-type {\n",
       "        vertical-align: middle;\n",
       "    }\n",
       "\n",
       "    .dataframe tbody tr th {\n",
       "        vertical-align: top;\n",
       "    }\n",
       "\n",
       "    .dataframe thead th {\n",
       "        text-align: right;\n",
       "    }\n",
       "</style>\n",
       "<table border=\"1\" class=\"dataframe\">\n",
       "  <thead>\n",
       "    <tr style=\"text-align: right;\">\n",
       "      <th></th>\n",
       "      <th>brand</th>\n",
       "      <th>name</th>\n",
       "      <th>rating</th>\n",
       "      <th>rating_count</th>\n",
       "      <th>ingredients</th>\n",
       "    </tr>\n",
       "  </thead>\n",
       "  <tbody>\n",
       "    <tr>\n",
       "      <th>0</th>\n",
       "      <td>BenJerrys</td>\n",
       "      <td>Salted Caramel Core</td>\n",
       "      <td>3.7</td>\n",
       "      <td>208</td>\n",
       "      <td>CREAM, SKIM MILK, LIQUID SUGAR (SUGAR, WATER),...</td>\n",
       "    </tr>\n",
       "    <tr>\n",
       "      <th>1</th>\n",
       "      <td>BenJerrys</td>\n",
       "      <td>Netflix &amp; Chilll'd™</td>\n",
       "      <td>4.0</td>\n",
       "      <td>127</td>\n",
       "      <td>CREAM, SKIM MILK, LIQUID SUGAR (SUGAR, WATER),...</td>\n",
       "    </tr>\n",
       "    <tr>\n",
       "      <th>2</th>\n",
       "      <td>BenJerrys</td>\n",
       "      <td>Chip Happens</td>\n",
       "      <td>4.7</td>\n",
       "      <td>130</td>\n",
       "      <td>CREAM, LIQUID SUGAR (SUGAR, WATER), SKIM MILK,...</td>\n",
       "    </tr>\n",
       "    <tr>\n",
       "      <th>3</th>\n",
       "      <td>BenJerrys</td>\n",
       "      <td>Cannoli</td>\n",
       "      <td>3.6</td>\n",
       "      <td>70</td>\n",
       "      <td>CREAM, SKIM MILK, LIQUID SUGAR (SUGAR, WATER),...</td>\n",
       "    </tr>\n",
       "    <tr>\n",
       "      <th>4</th>\n",
       "      <td>BenJerrys</td>\n",
       "      <td>Gimme S’more!™</td>\n",
       "      <td>4.5</td>\n",
       "      <td>281</td>\n",
       "      <td>CREAM, SKIM MILK, WATER, LIQUID SUGAR (SUGAR, ...</td>\n",
       "    </tr>\n",
       "    <tr>\n",
       "      <th>5</th>\n",
       "      <td>BenJerrys</td>\n",
       "      <td>Peanut Butter Half Baked®</td>\n",
       "      <td>4.9</td>\n",
       "      <td>14</td>\n",
       "      <td>CREAM, LIQUID SUGAR (SUGAR, WATER), SKIM MILK,...</td>\n",
       "    </tr>\n",
       "    <tr>\n",
       "      <th>6</th>\n",
       "      <td>BenJerrys</td>\n",
       "      <td>Berry Sweet Mascarpone</td>\n",
       "      <td>4.6</td>\n",
       "      <td>10</td>\n",
       "      <td>CREAM, SKIM MILK, WATER, LIQUID SUGAR (SUGAR, ...</td>\n",
       "    </tr>\n",
       "    <tr>\n",
       "      <th>7</th>\n",
       "      <td>BenJerrys</td>\n",
       "      <td>Chocolate Peanut Butter Split</td>\n",
       "      <td>5.0</td>\n",
       "      <td>7</td>\n",
       "      <td>CREAM, SKIM MILK, LIQUID SUGAR (SUGAR, WATER),...</td>\n",
       "    </tr>\n",
       "    <tr>\n",
       "      <th>8</th>\n",
       "      <td>BenJerrys</td>\n",
       "      <td>Justice ReMix'd ™</td>\n",
       "      <td>4.3</td>\n",
       "      <td>110</td>\n",
       "      <td>CREAM, LIQUID SUGAR (SUGAR, WATER), SKIM MILK,...</td>\n",
       "    </tr>\n",
       "    <tr>\n",
       "      <th>9</th>\n",
       "      <td>BenJerrys</td>\n",
       "      <td>Boots on the Moooo’n™</td>\n",
       "      <td>4.7</td>\n",
       "      <td>42</td>\n",
       "      <td>CREAM, LIQUID SUGAR (SUGAR, WATER), SKIM MILK,...</td>\n",
       "    </tr>\n",
       "  </tbody>\n",
       "</table>\n",
       "</div>"
      ],
      "text/plain": [
       "       brand                           name  rating  rating_count  \\\n",
       "0  BenJerrys            Salted Caramel Core     3.7           208   \n",
       "1  BenJerrys            Netflix & Chilll'd™     4.0           127   \n",
       "2  BenJerrys                   Chip Happens     4.7           130   \n",
       "3  BenJerrys                        Cannoli     3.6            70   \n",
       "4  BenJerrys                 Gimme S’more!™     4.5           281   \n",
       "5  BenJerrys      Peanut Butter Half Baked®     4.9            14   \n",
       "6  BenJerrys         Berry Sweet Mascarpone     4.6            10   \n",
       "7  BenJerrys  Chocolate Peanut Butter Split     5.0             7   \n",
       "8  BenJerrys              Justice ReMix'd ™     4.3           110   \n",
       "9  BenJerrys          Boots on the Moooo’n™     4.7            42   \n",
       "\n",
       "                                         ingredients  \n",
       "0  CREAM, SKIM MILK, LIQUID SUGAR (SUGAR, WATER),...  \n",
       "1  CREAM, SKIM MILK, LIQUID SUGAR (SUGAR, WATER),...  \n",
       "2  CREAM, LIQUID SUGAR (SUGAR, WATER), SKIM MILK,...  \n",
       "3  CREAM, SKIM MILK, LIQUID SUGAR (SUGAR, WATER),...  \n",
       "4  CREAM, SKIM MILK, WATER, LIQUID SUGAR (SUGAR, ...  \n",
       "5  CREAM, LIQUID SUGAR (SUGAR, WATER), SKIM MILK,...  \n",
       "6  CREAM, SKIM MILK, WATER, LIQUID SUGAR (SUGAR, ...  \n",
       "7  CREAM, SKIM MILK, LIQUID SUGAR (SUGAR, WATER),...  \n",
       "8  CREAM, LIQUID SUGAR (SUGAR, WATER), SKIM MILK,...  \n",
       "9  CREAM, LIQUID SUGAR (SUGAR, WATER), SKIM MILK,...  "
      ]
     },
     "execution_count": 4,
     "metadata": {},
     "output_type": "execute_result"
    }
   ],
   "source": [
    "df.head(10)"
   ]
  },
  {
   "cell_type": "markdown",
   "metadata": {},
   "source": [
    "# Getting Unique List of All Ingredients"
   ]
  },
  {
   "cell_type": "markdown",
   "metadata": {},
   "source": [
    "* Data Cleaning"
   ]
  },
  {
   "cell_type": "code",
   "execution_count": 5,
   "metadata": {},
   "outputs": [],
   "source": [
    "# increasing column character limit for better visualization\n",
    "pd.set_option('display.max_colwidth', 50000)"
   ]
  },
  {
   "cell_type": "code",
   "execution_count": 6,
   "metadata": {},
   "outputs": [
    {
     "data": {
      "text/plain": [
       "0                                   cream, skim milk, liquid sugar (sugar, water), water, brown sugar, sugar, milk, wheat flour, egg yolks, corn syrup, eggs, butter (cream, salt), butteroil, pectin, sea salt, soybean oil, vanilla extract, guar gum, soy lecithin, baking powder (sodium acid pyrophosphate, sodium bicarbonate, corn starch, monocalcium phosphate), baking soda, salt, carrageenan, lactase\n",
       "1                                                                          cream, skim milk, liquid sugar (sugar, water), water, sugar, peanuts, wheat flour, canola oil, egg yolks, corn starch, peanut oil, cocoa powder, salt, soybean oil, invert cane sugar, milk fat, eggs, egg whites, guar gum, soy lecithin, tapioca starch, baking soda, carrageenan, vanilla extract, barley malt, malted barley flour\n",
       "2    cream, liquid sugar (sugar, water), skim milk, water, sugar, cocoa (processed with alkali), potato, coconut oil, corn syrup solids, soybean oil, egg yolks, rice starch, sunflower oil, barley malt, cocoa powder, wheat flour, milk, salt, soy lecithin, yeast extract, natural flavor, guar gum, sea salt, milkfat, vanilla extract, enzymes, carrageenan, baking soda. contains milk, eggs, wheat and soy\n",
       "3                                                                                cream, skim milk, liquid sugar (sugar, water),  water, corn syrup, coconut oil, sugar, dried cane syrup, egg yolks, wheat flour, milk, cocoa, natural flavor, guar gum, soy lecithin, butter oil, natural flavors, locust bean gum, salt, citric acid, vanilla bean seeds, soybean oil, tapioca starch, lactic acid, carrageenan\n",
       "4     cream, skim milk, water, liquid sugar (sugar, water), sugar, canola oil, soybean oil, egg yolks, corn syrup, wheat flour, coconut oil, corn starch, cocoa (processed with alkali), corn syrup solids, cocoa, graham flour, salt, egg whites, butteroil, tapioca starch, guar gum, soy lecithin, baking soda, natural flavor, molasses, honey, vanilla extract, pectin, caramelized sugar syrup, carrageenan\n",
       "Name: ingredients_cleaned, dtype: object"
      ]
     },
     "execution_count": 6,
     "metadata": {},
     "output_type": "execute_result"
    }
   ],
   "source": [
    "# eliminating content inside parentheses ()\n",
    "df['ingredients_cleaned'] = df['ingredients'].str.lower()\n",
    "df['ingredients_cleaned'].head()"
   ]
  },
  {
   "cell_type": "code",
   "execution_count": 7,
   "metadata": {},
   "outputs": [],
   "source": [
    "# generate all unique ingredients\n",
    "all_ingredients = set()\n",
    "\n",
    "for row in df.iterrows():\n",
    "    ingredients = df.loc[row[0], 'ingredients_cleaned']\n",
    "    for ingredient in ingredients.split(','):\n",
    "        if ingredient not in all_ingredients:\n",
    "            all_ingredients.add(ingredient)\n",
    "\n",
    "# iterrows(): returns a tuple containing the index and the rest of the row"
   ]
  },
  {
   "cell_type": "code",
   "execution_count": 8,
   "metadata": {},
   "outputs": [
    {
     "data": {
      "text/plain": [
       "{'  water',\n",
       " ' acesulfame potassium',\n",
       " ' almond extract',\n",
       " ' almonds',\n",
       " ' almonds roasted in vegetable oil',\n",
       " ' and/or baking soda',\n",
       " ' and/or calcium phosphate',\n",
       " ' and/or canola oil',\n",
       " ' and/or palm oil',\n",
       " ' and/or sunflower oil)',\n",
       " ' anhydrous milkfat',\n",
       " ' annatto (color)',\n",
       " ' annatto (for color)',\n",
       " ' apple juice',\n",
       " ' artificial color',\n",
       " ' artificial flavor',\n",
       " ' artificial flavoring',\n",
       " ' artificial flavors',\n",
       " ' ascorbic acid',\n",
       " ' baking powder',\n",
       " ' baking powder (sodium acid pyrophosphate',\n",
       " ' baking soda',\n",
       " ' baking soda and/or calcium phosphate',\n",
       " ' baking soda. contains milk',\n",
       " ' balsamic vinegar (red wine vinegar',\n",
       " ' banana puree',\n",
       " ' bananas',\n",
       " ' barley malt',\n",
       " ' beet juice (for color)',\n",
       " ' belgian chocolate',\n",
       " ' black carrot concentrate (for color)',\n",
       " ' black cherries',\n",
       " ' black raspberries',\n",
       " ' black raspberry puree',\n",
       " ' blackberry juice concentrate',\n",
       " ' bleached wheat flour',\n",
       " ' blue 1',\n",
       " ' blue 1 lake',\n",
       " ' blue 2',\n",
       " ' blue 2 lake',\n",
       " ' blueberries',\n",
       " ' blueberry puree concentrate',\n",
       " ' bourbon',\n",
       " ' brown sugar',\n",
       " ' brown sugar†',\n",
       " ' butter',\n",
       " ' butter (cream',\n",
       " ' butter (cream)',\n",
       " ' butter (milk)',\n",
       " ' butter oil',\n",
       " ' butterfat',\n",
       " ' butteroil',\n",
       " ' calcium carbonate',\n",
       " ' cane sugar',\n",
       " ' canola oil',\n",
       " ' caramel (for color)',\n",
       " ' caramel color',\n",
       " ' caramel flavor',\n",
       " ' caramel swirl',\n",
       " ' caramelized sugar',\n",
       " ' caramelized sugar syrup',\n",
       " ' carnauba wax',\n",
       " ' carob bean',\n",
       " ' carob bean gum',\n",
       " ' carob bean gum)',\n",
       " ' carob gum',\n",
       " ' carrageenan',\n",
       " ' carrot juice concentrate',\n",
       " ' carrot powder (color)',\n",
       " ' cellulose gum',\n",
       " ' cheese culture',\n",
       " ' cheese cultures',\n",
       " ' cheesecake base',\n",
       " ' cheesecake pieces with graham crust',\n",
       " ' cherries',\n",
       " ' cherry and black carrot concentrates (for color)',\n",
       " ' cherry concentrate (for color)',\n",
       " ' cherry juice concentrate',\n",
       " ' cherry puree',\n",
       " ' chocolate',\n",
       " ' chocolate (processed with alkali)',\n",
       " ' chocolate chip cookies',\n",
       " ' chocolate chips (sugar',\n",
       " ' chocolate cookie pieces',\n",
       " ' chocolate flavored coating',\n",
       " ' chocolate liquor',\n",
       " ' chocolate liquor (processed with alkali)',\n",
       " ' chocolate processed with alkali',\n",
       " ' chocolatey chips',\n",
       " ' chocolatey coated peanuts',\n",
       " ' chocolaty coated cone pieces',\n",
       " ' cinnamon',\n",
       " ' citric acid',\n",
       " ' citric acid (to maintain freshness)',\n",
       " ' cloves',\n",
       " ' cocoa',\n",
       " ' cocoa (processed with alkali)',\n",
       " ' cocoa butter',\n",
       " ' cocoa butter)',\n",
       " ' cocoa butter. dark chocolate and vegetable oil coating with peppermint candy pieces: dark chocolate (sugar',\n",
       " ' cocoa powder',\n",
       " ' cocoa powder (processed with alkali)',\n",
       " ' cocoa processed with alkali',\n",
       " ' coconut',\n",
       " ' coconut and soybean and sunflower oils',\n",
       " ' coconut and soybean oil',\n",
       " ' coconut concentrate',\n",
       " ' coconut cream',\n",
       " ' coconut cream (coconut extract',\n",
       " ' coconut extract',\n",
       " ' coconut oil',\n",
       " ' coconut oil. chocolate cookie: bleached wheat flour',\n",
       " ' coconut oil. contains: milk',\n",
       " ' coffee',\n",
       " ' coffee extract',\n",
       " ' coffee extract concentrate',\n",
       " ' coffee ice cream',\n",
       " ' color added',\n",
       " ' condensed milk',\n",
       " ' condensed skim milk',\n",
       " ' cone pieces',\n",
       " \" confectioner's glaze\",\n",
       " ' corn maltodextrin',\n",
       " ' corn oil',\n",
       " ' corn starch',\n",
       " ' corn starch)',\n",
       " ' corn syrup',\n",
       " ' corn syrup solids',\n",
       " ' corn syrup†',\n",
       " ' cornstarch',\n",
       " ' cornstarch)',\n",
       " ' cottonseed oil',\n",
       " ' cream',\n",
       " ' cream (milk)',\n",
       " ' cream cheese',\n",
       " ' cream cheese (cream',\n",
       " ' cream cheese (cultured pasteurized milk and cream',\n",
       " ' cream cheese (milk',\n",
       " ' cream cheese (pasteurized milk',\n",
       " ' cream cheese (pasteurized milk and cream',\n",
       " ' cream of tartar',\n",
       " ' dark chocolate',\n",
       " ' dark chocolate (belgian chocolate',\n",
       " ' desiccated coconut',\n",
       " ' dextrin',\n",
       " ' dextrose',\n",
       " ' dextrose†',\n",
       " ' dried apples',\n",
       " ' dried cane syrup',\n",
       " ' dry malt extract (barley)',\n",
       " ' dutched cocoa (processed with alkali)',\n",
       " ' egg',\n",
       " ' egg and egg yolk',\n",
       " ' egg and soy ingredients',\n",
       " ' egg whites',\n",
       " ' egg yolk and egg',\n",
       " ' egg yolk and whole egg',\n",
       " ' egg yolks',\n",
       " ' egg yolks and egg whites',\n",
       " ' egg yolks. chocolaty coating: sugar',\n",
       " ' eggs',\n",
       " ' enriched flour',\n",
       " ' enriched flour (wheat flour',\n",
       " ' enriched wheat flour',\n",
       " ' enriched wheat flour (wheat flour',\n",
       " ' enzymes',\n",
       " ' enzymes)',\n",
       " ' erythritol',\n",
       " ' evaporated milk',\n",
       " ' expeller pressed soybean oil',\n",
       " ' folic acid',\n",
       " ' folic acid)',\n",
       " ' fructose',\n",
       " ' fruit and vegetable concentrates (color)',\n",
       " ' fruit and vegetable juice (for color)',\n",
       " ' fudge coating',\n",
       " ' fudge covered waffle cone pieces',\n",
       " ' fudge swirl',\n",
       " ' ginger',\n",
       " ' glycerin',\n",
       " ' graham crumb',\n",
       " ' graham flour',\n",
       " ' grape juice concentrate',\n",
       " ' grape must)',\n",
       " ' green tea',\n",
       " ' ground heath toffee pieces',\n",
       " ' ground vanilla beans',\n",
       " ' guar',\n",
       " ' guar gum',\n",
       " ' guar gum)',\n",
       " ' hazelnuts',\n",
       " ' heath toffee bar pieces',\n",
       " ' heavy cream',\n",
       " ' hibiscus flower',\n",
       " ' hibiscus powder',\n",
       " ' high fructose corn syrup',\n",
       " ' honey',\n",
       " ' hydrogenated vegetable oil',\n",
       " ' invert cane sugar',\n",
       " ' invert sugar',\n",
       " ' lactase',\n",
       " ' lactase enzyme',\n",
       " ' lactic acid',\n",
       " ' lactose',\n",
       " ' lactose reduced skim milk',\n",
       " ' leavening',\n",
       " ' lecithin (soy)',\n",
       " ' lemon juice',\n",
       " ' lemon juice concentrate',\n",
       " ' lemon oil',\n",
       " ' lemon peel',\n",
       " ' lime juice concentrate',\n",
       " ' liquid sugar',\n",
       " ' liquid sugar (sugar',\n",
       " ' locust bean',\n",
       " ' locust bean gum',\n",
       " \" m&m's minis milk chocolate candies with cocoa butter\",\n",
       " ' malic acid',\n",
       " ' malted barley flour',\n",
       " ' maltitol',\n",
       " ' maltitol syrup',\n",
       " ' maltodextrin (corn)',\n",
       " ' mango',\n",
       " ' mango puree',\n",
       " ' maple syrup',\n",
       " ' milk',\n",
       " ' milk chocolate',\n",
       " ' milk chocolate and vegetable oil coating',\n",
       " ' milk chocolate candies',\n",
       " ' milk fat',\n",
       " ' milk protein concentrate',\n",
       " ' milkfat',\n",
       " ' mint leaf extractives',\n",
       " ' modified corn starch',\n",
       " ' modified cornstarch',\n",
       " ' modified food starch (corn)',\n",
       " ' modified food starch (tapioca)',\n",
       " ' molasses',\n",
       " ' molasses†',\n",
       " ' mono and diglycerides',\n",
       " ' monocalcium phosphate',\n",
       " ' monocalcium phosphate)',\n",
       " ' natural flavor',\n",
       " ' natural flavor (coconut)',\n",
       " ' natural flavor)',\n",
       " ' natural flavors',\n",
       " ' natural flavors (contains barley)',\n",
       " ' niacin',\n",
       " ' nonfat dry milk',\n",
       " ' nonfat milk',\n",
       " ' nonfat milk solids',\n",
       " ' nutmeg',\n",
       " ' oakwood extract',\n",
       " ' oats',\n",
       " ' orange juice (from concentrate)',\n",
       " ' orange juice concentrate',\n",
       " ' oreo cookie pieces',\n",
       " ' organic black cocoa processed with alkali',\n",
       " ' organic butter (cream',\n",
       " ' organic butter (organic cream',\n",
       " ' organic cane sugar',\n",
       " ' organic caramelized sugar (organic cane sugar',\n",
       " ' organic carob bean gum',\n",
       " ' organic chocolate',\n",
       " ' organic cocoa processed with alkali',\n",
       " ' organic cream',\n",
       " ' organic dextrose',\n",
       " ' organic egg whites and egg yolks',\n",
       " ' organic egg yolks',\n",
       " ' organic ginger',\n",
       " ' organic green tea',\n",
       " ' organic lemon juice concentrate',\n",
       " ' organic matcha green tea',\n",
       " ' organic milk',\n",
       " ' organic vanilla extract',\n",
       " ' palm and palm kernel oil',\n",
       " ' palm and soybean oils',\n",
       " ' palm kernel',\n",
       " ' palm kernel oil',\n",
       " ' palm oil',\n",
       " ' palm oil and soybean oil',\n",
       " ' palm oil and/or canola oil',\n",
       " ' partially defatted peanut flour',\n",
       " ' pasteurized eggs',\n",
       " ' pasteurized milk',\n",
       " ' pasteurized milk and cream',\n",
       " ' pasteurized whole eggs',\n",
       " ' pea protein',\n",
       " ' peaches',\n",
       " ' peanut butter (peanuts)',\n",
       " ' peanut extract',\n",
       " ' peanut flour',\n",
       " ' peanut oil',\n",
       " ' peanut oil)',\n",
       " ' peanuts',\n",
       " ' pecans',\n",
       " ' pectin',\n",
       " ' pectin. caramel swirl: brown sugar',\n",
       " ' peppermint bark pieces (sugar',\n",
       " ' peppermint candy pieces: (sugar',\n",
       " ' peppermint extract',\n",
       " ' peppermint oil',\n",
       " ' peppermint oil)',\n",
       " ' peppermint twists candy (sugar',\n",
       " ' pgpr',\n",
       " ' pgpr (emulsifier)',\n",
       " ' pineapple',\n",
       " ' pistachio paste',\n",
       " ' pistachios',\n",
       " ' pistachios and soy ingredients',\n",
       " ' plum',\n",
       " ' plum concentrate (for color)',\n",
       " ' polydextrose',\n",
       " ' potassium sorbate (preservative)',\n",
       " ' potato',\n",
       " ' potato flour',\n",
       " ' powdered sugar',\n",
       " ' powdered sugar (cane sugar',\n",
       " ' processed vanilla beans',\n",
       " ' propylene glycol monoesters',\n",
       " ' pumpkin',\n",
       " ' pumpkin juice concentrate',\n",
       " ' pumpkin puree',\n",
       " ' raisins',\n",
       " ' raspberry puree',\n",
       " ' raspberry puree concentrate',\n",
       " ' raspberry swirl',\n",
       " ' reb a (stevia leaf extract)',\n",
       " ' red 40',\n",
       " ' red 40 lake',\n",
       " ' red cabbage juice (color)',\n",
       " ' red cabbage juice concentrate (for color)',\n",
       " ' reduced iron',\n",
       " \" reese's mini pieces\",\n",
       " \" reese's peanut butter cup pieces\",\n",
       " \" reese's peanut butter cups\",\n",
       " \" reese's peanut butter sauce\",\n",
       " \" reese's peanut butter swirl\",\n",
       " ' riboflavin',\n",
       " ' riboflavin (vitamin b2)',\n",
       " ' rice flour',\n",
       " ' rice starch',\n",
       " ' roasted almonds',\n",
       " ' roasted almonds (almonds',\n",
       " ' roasted peanuts',\n",
       " ' rolled oats',\n",
       " ' rum',\n",
       " ' safflower',\n",
       " ' safflower oil',\n",
       " ' salt',\n",
       " ' salt)',\n",
       " ' salt). organic glucose syrup',\n",
       " ' salt. dark chocolate and vegetable oil coating: dark chocolate (sugar',\n",
       " ' salt. roasted pistachios: pistachios',\n",
       " ' sea salt',\n",
       " ' semi-sweet chocolate chunks',\n",
       " ' skim milk',\n",
       " ' skim milk powder',\n",
       " ' snickers pieces*',\n",
       " ' sodium acid pyrophosphate',\n",
       " ' sodium bicarbonate',\n",
       " ' sodium caseinate',\n",
       " ' sodium citrate',\n",
       " ' soluble corn fiber',\n",
       " ' sorbitol',\n",
       " ' soy lecithin',\n",
       " ' soy lecithin (emulsifier)',\n",
       " ' soy lecithin natural flavor',\n",
       " ' soy lecithin)',\n",
       " ' soy lecithin.\\ncontains: milk',\n",
       " ' soy lecithin. caramel swirl: sweetened condensed milk (milk',\n",
       " ' soy lecithin. may contain other tree nuts',\n",
       " ' soy lecithin. salted caramel swirl: corn syrup',\n",
       " ' soybean',\n",
       " ' soybean lecithin',\n",
       " ' soybean oil',\n",
       " ' soybean oil. salted fudge swirl: powdered cane sugar (cane sugar',\n",
       " ' spice',\n",
       " ' spices',\n",
       " ' strawberries',\n",
       " ' strawberry puree',\n",
       " ' strawberry swirl',\n",
       " ' sucralose',\n",
       " ' sugar',\n",
       " ' sugar)',\n",
       " ' sugar†',\n",
       " ' sunflower lecithin',\n",
       " ' sunflower oil',\n",
       " ' sweetened condensed milk',\n",
       " ' sweetened condensed milk (condensed milk sugar)',\n",
       " ' sweetened condensed milk (milk',\n",
       " ' sweetened condensed skim milk (skim milk',\n",
       " ' sweetened lemon zest',\n",
       " ' tapioca flour',\n",
       " ' tapioca starch',\n",
       " ' tapioca syrup',\n",
       " ' tara',\n",
       " ' tara gum',\n",
       " ' tbhq (preservative)',\n",
       " ' tbhq (to maintain freshness)',\n",
       " ' tbhq and citric acid (to maintain freshness)',\n",
       " ' thaimin mononitrate',\n",
       " ' thiamin mononitrate',\n",
       " ' thiamin mononitrate (vitamin b1)',\n",
       " ' thiamine mononitrate',\n",
       " ' thiamine mononitrate (vitamin b1)',\n",
       " ' toffee',\n",
       " ' unbleached enriched flour',\n",
       " ' unbleached enriched wheat flour',\n",
       " ' unbleached unenriched wheat flour',\n",
       " ' unsweetened chocolate',\n",
       " ' vanilla',\n",
       " ' vanilla bean seeds',\n",
       " ' vanilla beans',\n",
       " ' vanilla extract',\n",
       " ' vanilla extract)',\n",
       " ' vanilla extract. chocolate chunks with vegetable oil: belgian chocolate (sugar',\n",
       " ' vanilla extract. chocolaty coating: sugar',\n",
       " ' vanilla extract. dark chocolate drizzle with vegetable oil: dark chocolate (sugar',\n",
       " ' vanilla extract. milk chocolate and vegetable oil coating: milk chocolate (sugar',\n",
       " ' vanilla)',\n",
       " ' vanillin',\n",
       " ' vanillin (artificial flavor)',\n",
       " ' vegetable gum (guar)',\n",
       " ' vegetable gum (tara)',\n",
       " ' vegetable gums',\n",
       " ' vegetable juice (for color)',\n",
       " ' vegetable juice concentrate color.\\ncontains: milk',\n",
       " ' vegetable oil',\n",
       " ' vegetable oil (canola',\n",
       " ' vermouth',\n",
       " ' vitamin a palmitate',\n",
       " ' waffle cone',\n",
       " ' waffle cone pieces',\n",
       " ' walnuts',\n",
       " ' water',\n",
       " ' water)',\n",
       " ' wheat and soy',\n",
       " ' wheat bran',\n",
       " ' wheat flour',\n",
       " ' wheat germ',\n",
       " ' whey',\n",
       " ' whey protein concentrate',\n",
       " ' whiskey',\n",
       " ' whole egg',\n",
       " ' whole egg and egg yolk',\n",
       " ' whole eggs',\n",
       " ' whole milk powder',\n",
       " ' whole wheat graham flour',\n",
       " ' whole wheat/graham flour',\n",
       " ' wine',\n",
       " ' xanthan gum',\n",
       " ' xanthan gum)',\n",
       " ' yeast extract',\n",
       " ' yellow 5',\n",
       " ' yellow 5 lake',\n",
       " ' yellow 6',\n",
       " ' yellow 6 lake',\n",
       " 'almond milk',\n",
       " 'cane sugar',\n",
       " 'caramel ice cream: cream',\n",
       " 'chocolate ice cream: cream',\n",
       " 'coconut cream',\n",
       " 'coconut cream (coconut extract',\n",
       " 'cream',\n",
       " 'ingredients: organic skim milk',\n",
       " 'mangos',\n",
       " 'milk',\n",
       " 'nonfat milk',\n",
       " 'organic skim milk',\n",
       " 'peanut butter frozen dessert: water',\n",
       " 'raspberries',\n",
       " 'skim milk',\n",
       " 'sugar)',\n",
       " 'thiamin mononitrate',\n",
       " 'ulce de leche ice cream: cream',\n",
       " 'vanilla extract',\n",
       " 'vanilla ice cream',\n",
       " 'vanilla ice cream: cream',\n",
       " 'water',\n",
       " 'weet cream ice cream: cream',\n",
       " 'white chocolate ice cream',\n",
       " 'white chocolate ice cream (cream',\n",
       " 'white chocolate ice cream: cream'}"
      ]
     },
     "execution_count": 8,
     "metadata": {},
     "output_type": "execute_result"
    }
   ],
   "source": [
    "all_ingredients\n",
    "\n",
    "# we can se all the problems with the description ingredients (that subingredients of an ingredient)\n",
    "\n",
    "# 1) parentheses capture all the content inside parentheses\n",
    "# 2) AND and OR\n",
    "# 3) special character\n",
    "\n",
    "# PorterStemmer()\n",
    "# stem function()\n",
    "# takes all words and break them down to their root. This reduces significantly duplicated words (ex: egg x eggs)"
   ]
  },
  {
   "cell_type": "code",
   "execution_count": 9,
   "metadata": {},
   "outputs": [],
   "source": [
    "# importing regex module\n",
    "import re"
   ]
  },
  {
   "cell_type": "code",
   "execution_count": 10,
   "metadata": {},
   "outputs": [
    {
     "data": {
      "text/plain": [
       "0                                                                                                            cream, skim milk, liquid sugar , water, brown sugar, sugar, milk, wheat flour, egg yolks, corn syrup, eggs, butter , butteroil, pectin, sea salt, soybean oil, vanilla extract, guar gum, soy lecithin, baking powder , baking soda, salt, carrageenan, lactase\n",
       "1                                                   cream, skim milk, liquid sugar , water, sugar, peanuts, wheat flour, canola oil, egg yolks, corn starch, peanut oil, cocoa powder, salt, soybean oil, invert cane sugar, milk fat, eggs, egg whites, guar gum, soy lecithin, tapioca starch, baking soda, carrageenan, vanilla extract, barley malt, malted barley flour\n",
       "2    cream, liquid sugar , skim milk, water, sugar, cocoa , potato, coconut oil, corn syrup solids, soybean oil, egg yolks, rice starch, sunflower oil, barley malt, cocoa powder, wheat flour, milk, salt, soy lecithin, yeast extract, natural flavor, guar gum, sea salt, milkfat, vanilla extract, enzymes, carrageenan, baking soda. contains milk, eggs, wheat and soy\n",
       "3                                                         cream, skim milk, liquid sugar ,  water, corn syrup, coconut oil, sugar, dried cane syrup, egg yolks, wheat flour, milk, cocoa, natural flavor, guar gum, soy lecithin, butter oil, natural flavors, locust bean gum, salt, citric acid, vanilla bean seeds, soybean oil, tapioca starch, lactic acid, carrageenan\n",
       "4     cream, skim milk, water, liquid sugar , sugar, canola oil, soybean oil, egg yolks, corn syrup, wheat flour, coconut oil, corn starch, cocoa , corn syrup solids, cocoa, graham flour, salt, egg whites, butteroil, tapioca starch, guar gum, soy lecithin, baking soda, natural flavor, molasses, honey, vanilla extract, pectin, caramelized sugar syrup, carrageenan\n",
       "Name: ingredients_cleaned, dtype: object"
      ]
     },
     "execution_count": 10,
     "metadata": {},
     "output_type": "execute_result"
    }
   ],
   "source": [
    "# eliminating content inside parentheses '()'\n",
    "df['ingredients_cleaned'] = df['ingredients_cleaned'].str.replace(r'\\([^()]*\\)',\"\", regex=True)\n",
    "df['ingredients_cleaned'].head() # checking"
   ]
  },
  {
   "cell_type": "code",
   "execution_count": 11,
   "metadata": {},
   "outputs": [],
   "source": [
    "# this function for spliting text: corrects and process text\n",
    "def ingredients_processing(text):\n",
    "    bool = df['ingredients_cleaned'].str.contains(text, regex=False)\n",
    "    val_to_replace = df['ingredients_cleaned'][bool].str.split(text).str[0]\n",
    "    df['ingredients_cleaned'] = df['ingredients_cleaned'].mask(bool, val_to_replace)\n",
    "    return"
   ]
  },
  {
   "cell_type": "code",
   "execution_count": 12,
   "metadata": {},
   "outputs": [],
   "source": [
    "# problematic text: spliting by and selecting only first column\n",
    "\n",
    "problematic_text_ingredients_list = ['\\ncontains', 'contains', '.']\n",
    "\n",
    "for text in problematic_text_ingredients_list:\n",
    "    ingredients_processing(text)"
   ]
  },
  {
   "cell_type": "code",
   "execution_count": 13,
   "metadata": {},
   "outputs": [
    {
     "data": {
      "text/plain": [
       "0                                                                                                                                                                                                                                                                                                                                                                                                                                                                                                                                                                                                                                                                       cream, skim milk, liquid sugar , water, brown sugar, sugar, milk, wheat flour, egg yolks, corn syrup, eggs, butter , butteroil, pectin, sea salt, soybean oil, vanilla extract, guar gum, soy lecithin, baking powder , baking soda, salt, carrageenan, lactase\n",
       "1                                                                                                                                                                                                                                                                                                                                                                                                                                                                                                                                                                                                              cream, skim milk, liquid sugar , water, sugar, peanuts, wheat flour, canola oil, egg yolks, corn starch, peanut oil, cocoa powder, salt, soybean oil, invert cane sugar, milk fat, eggs, egg whites, guar gum, soy lecithin, tapioca starch, baking soda, carrageenan, vanilla extract, barley malt, malted barley flour\n",
       "2                                                                                                                                                                                                                                                                                                                                                                                                                                                                                                                                                                                                   cream, liquid sugar , skim milk, water, sugar, cocoa , potato, coconut oil, corn syrup solids, soybean oil, egg yolks, rice starch, sunflower oil, barley malt, cocoa powder, wheat flour, milk, salt, soy lecithin, yeast extract, natural flavor, guar gum, sea salt, milkfat, vanilla extract, enzymes, carrageenan, baking soda\n",
       "3                                                                                                                                                                                                                                                                                                                                                                                                                                                                                                                                                                                                                    cream, skim milk, liquid sugar ,  water, corn syrup, coconut oil, sugar, dried cane syrup, egg yolks, wheat flour, milk, cocoa, natural flavor, guar gum, soy lecithin, butter oil, natural flavors, locust bean gum, salt, citric acid, vanilla bean seeds, soybean oil, tapioca starch, lactic acid, carrageenan\n",
       "4                                                                                                                                                                                                                                                                                                                                                                                                                                                                                                                                                                cream, skim milk, water, liquid sugar , sugar, canola oil, soybean oil, egg yolks, corn syrup, wheat flour, coconut oil, corn starch, cocoa , corn syrup solids, cocoa, graham flour, salt, egg whites, butteroil, tapioca starch, guar gum, soy lecithin, baking soda, natural flavor, molasses, honey, vanilla extract, pectin, caramelized sugar syrup, carrageenan\n",
       "                                                                                                                                                                                                                                                                                                                                                                                                                                                                     ...                                                                                                                                                                                                                                                                                                                                                                                                                                                               \n",
       "236                                                                                                                                                                                                                                                                                                                                                                                                                                                                                                           milk, corn syrup, sugar, brown sugar, soybean oil, water, butter, cream, salt, corn syrup, spice, salt, soybean lecithin, vanilla extract, dried cane syrup, unbleached unenriched wheat flour, coconut oil, water, butter, cream, salt, molasses, sodium bicarbonate, spice, corn syrup, soy lecithin, salt, fructose, coconut oil, whey, cream, vegetable gums, guar, carob bean, mono and diglycerides, natural flavor\n",
       "237                                                                                                                                                                                                                                                                                                                                                                                                                                                                                    milk, water, caramel swirl, sugar, water, corn syrup, high fructose corn syrup, nonfat milk solids, butter, cream, salt, salt, molasses, pectin, soy lecithin, natural flavor, potassium sorbate , sodium citrate, lactic acid, maltitol syrup, polydextrose, coconut oil, whey, glycerin, cream, soluble corn fiber, vegetable gums, carob bean gum, guar gum, caramel , mono and diglycerides, natural flavor, acesulfame potassium, sucralose\n",
       "238                                                                                                                                                                                                                                                                                                                                                                                                                                                                                                                                          milk, corn syrup, sugar, wheat flour, butter, cream , salt, palm oil, corn syrup, nonfat milk, water, rice flour, natural flavors, salt, wheat flour, sugar, palm oil, molasses, spices, salt, baking soda, natural flavor, soybean lecithin, fructose, coconut oil, dutched cocoa , whey, cream, vegetable gums, guar, carob bean, mono and diglycerides, natural flavor, vanilla extract\n",
       "239                                                                                                                                                                                                                                                                                                                                                                                                                                                                                                                                 milk, corn syrup, enriched wheat flour, wheat flour, niacin, reduced iron, thiamin mononitrate, riboflavin, folic acid, sugar, butter, cream, salt, canola oil, skim milk powder, salt, sodium bicarbonate, peaches, fructose, coconut oil, sugar, whey, cream, vegetable gums, guar gum, carob bean gum, tara gum, mono and diglycerides, natural flavor, vanilla beans, annatto , vanilla extract\n",
       "240    milk, corn syrup, sugar, enriched wheat flour, wheat flour, niacin, reduced iron, thiamine mononitrate , riboflavin , folic acid, powdered sugar, sugar, cornstarch, cocoa , water, palm kernel oil, soybean oil, nonfat dry milk, soy lecithin , natural flavors, fructose, cheesecake pieces with graham crust, cream cheese, pasteurized milk, cream, cheese cultures, salt, carob bean gum, sugar, pasteurized whole eggs, graham crumb, unbleached unenriched wheat flour, whole wheat/graham flour, sugar, canola oil, molasses, honey, salt, sodium bicarbonate, cornstarch, palm oil, natural flavor, sweetened lemon zest, lemon peel, sugar, lemon oil, guar gum, coconut oil, dutched cocoa , whey, cream, cream cheese, pasteurized milk, cream, cheese cultures, salt, carob bean gum, dried cane syrup, vegetable gums, guar, carob bean gum, mono and diglycerides, natural flavor, salt, pectin, sugar, annatto \n",
       "Name: ingredients_cleaned, Length: 241, dtype: object"
      ]
     },
     "execution_count": 13,
     "metadata": {},
     "output_type": "execute_result"
    }
   ],
   "source": [
    "#checking results\n",
    "\n",
    "df['ingredients_cleaned']"
   ]
  },
  {
   "cell_type": "code",
   "execution_count": null,
   "metadata": {},
   "outputs": [],
   "source": [
    "# Observations with ':' \n",
    "# These observations strongly indicates that ice cream have additional items (coating, caramel/fudge, chocolate chips, chocolate drizzle, peanut butter, etc)\n",
    "\n",
    "# 1) First, I'm going to create a column that checks for existing additional items. Then, if necessary, I will manually make corrections.\n",
    "# 2) Secondl, because the first ':' indicates the first item (ice cream) ingredients, i'll split that row and select second column (\"ice cream: milk, ...\")"
   ]
  },
  {
   "cell_type": "code",
   "execution_count": 14,
   "metadata": {},
   "outputs": [],
   "source": [
    "# checking ice creams flavors that have additional items\n",
    "bool = df['ingredients_cleaned'].str.contains(\":\", regex=False)\n",
    "df['have_additional_items'] = bool"
   ]
  },
  {
   "cell_type": "code",
   "execution_count": 15,
   "metadata": {},
   "outputs": [
    {
     "data": {
      "text/html": [
       "<div>\n",
       "<style scoped>\n",
       "    .dataframe tbody tr th:only-of-type {\n",
       "        vertical-align: middle;\n",
       "    }\n",
       "\n",
       "    .dataframe tbody tr th {\n",
       "        vertical-align: top;\n",
       "    }\n",
       "\n",
       "    .dataframe thead th {\n",
       "        text-align: right;\n",
       "    }\n",
       "</style>\n",
       "<table border=\"1\" class=\"dataframe\">\n",
       "  <thead>\n",
       "    <tr style=\"text-align: right;\">\n",
       "      <th></th>\n",
       "      <th>brand</th>\n",
       "      <th>name</th>\n",
       "      <th>rating</th>\n",
       "      <th>rating_count</th>\n",
       "      <th>ingredients</th>\n",
       "      <th>ingredients_cleaned</th>\n",
       "      <th>have_additional_items</th>\n",
       "    </tr>\n",
       "  </thead>\n",
       "  <tbody>\n",
       "    <tr>\n",
       "      <th>62</th>\n",
       "      <td>HaagenDazs</td>\n",
       "      <td>Caramel Soft Dipped Ice Cream Bar</td>\n",
       "      <td>4.9</td>\n",
       "      <td>8</td>\n",
       "      <td>CARAMEL ICE CREAM: CREAM, SKIM MILK, SUGAR, EGG YOLKS, SWEETENED CONDENSED MILK (CONDENSED MILK SUGAR), CORN SYRUP, SALT, PECTIN, BAKING SODA, VANILLA EXTRACT. CHOCOLATY COATING: SUGAR, COCOA PROCESSED WITH ALKALI, CANOLA OIL, PALM OIL, MILKFAT, SOY LECITHIN. SALTED CARAMEL SWIRL: CORN SYRUP, SWEETENED CONDENSED MILK (CONDENSED MILK SUGAR), CREAM, SUGAR, WATER, BUTTER (CREAM, SALT), SALT, PECTIN, MILKFAT, SOY LECITHIN.\\nCONTAINS: MILK, EGG AND SOY INGREDIENTS</td>\n",
       "      <td>caramel ice cream: cream, skim milk, sugar, egg yolks, sweetened condensed milk , corn syrup, salt, pectin, baking soda, vanilla extract</td>\n",
       "      <td>True</td>\n",
       "    </tr>\n",
       "    <tr>\n",
       "      <th>67</th>\n",
       "      <td>HaagenDazs</td>\n",
       "      <td>Chocolate Soft Dipped Ice Cream Bar</td>\n",
       "      <td>2.6</td>\n",
       "      <td>25</td>\n",
       "      <td>CHOCOLATE ICE CREAM: CREAM, SKIM MILK, SUGAR, COCOA PROCESSED WITH ALKALI, EGG YOLKS. CHOCOLATY COATING: SUGAR, COCOA PROCESSED WITH ALKALI, CANOLA OIL, PALM OIL, SOY LECITHIN.\\nCONTAINS: MILK, EGG AND SOY INGREDIENTS</td>\n",
       "      <td>chocolate ice cream: cream, skim milk, sugar, cocoa processed with alkali, egg yolks</td>\n",
       "      <td>True</td>\n",
       "    </tr>\n",
       "    <tr>\n",
       "      <th>84</th>\n",
       "      <td>HaagenDazs</td>\n",
       "      <td>Double Belgian Chocolate Chip Ice Cream</td>\n",
       "      <td>4.8</td>\n",
       "      <td>158</td>\n",
       "      <td>CHOCOLATE ICE CREAM: CREAM, SKIM MILK, DARK CHOCOLATE (BELGIAN CHOCOLATE, SUGAR, COCOA BUTTER, SOY LECITHIN, VANILLA), SUGAR, EGG YOLKS, COCOA PROCESSED WITH ALKALI, VANILLA EXTRACT. CHOCOLATE CHUNKS WITH VEGETABLE OIL: BELGIAN CHOCOLATE (SUGAR, CHOCOLATE, COCOA BUTTER, SOY LECITHIN, NATURAL FLAVOR), COTTONSEED OIL, COCONUT OIL. CONTAINS: MILK, EGG AND SOY INGREDIENTS</td>\n",
       "      <td>chocolate ice cream: cream, skim milk, dark chocolate , sugar, egg yolks, cocoa processed with alkali, vanilla extract</td>\n",
       "      <td>True</td>\n",
       "    </tr>\n",
       "    <tr>\n",
       "      <th>85</th>\n",
       "      <td>HaagenDazs</td>\n",
       "      <td>Dulce de Leche Cookie Squares</td>\n",
       "      <td>3.9</td>\n",
       "      <td>35</td>\n",
       "      <td>ULCE DE LECHE ICE CREAM: CREAM, SKIM MILK, SUGAR, SWEETENED CONDENSED MILK (MILK,SUGAR), EGG YOLKS, CORN SYRUP, BAKING SODA, SALT, VANILLA EXTRACT. MILK CHOCOLATE AND VEGETABLE OIL COATING: MILK CHOCOLATE (SUGAR, WHOLE MILK POWDER, CHOCOLATE, COCOA BUTTER, SOY LECITHIN, VANILLA EXTRACT), COCONUT OIL. CHOCOLATE COOKIE: BLEACHED WHEAT FLOUR, SUGAR, PALM OIL, COCOA PROCESSED WITH ALKALI, CORN SYRUP, MOLASSES, BAKING SODA, SALT, SOY LECITHIN. CARAMEL SWIRL: SWEETENED CONDENSED MILK (MILK, SUGAR), SUGAR, WATER, CORN SYRUP, COCONUT OIL, PECTIN, SOY LECITHIN, SALT, BAKING SODA, VANILLA EXTRACT. DARK CHOCOLATE DRIZZLE WITH VEGETABLE OIL: DARK CHOCOLATE (SUGAR, CHOCOLATE, SOY LECITHIN, VANILLA EXTRACT), COCONUT OIL, SOYBEAN OIL</td>\n",
       "      <td>ulce de leche ice cream: cream, skim milk, sugar, sweetened condensed milk , egg yolks, corn syrup, baking soda, salt, vanilla extract</td>\n",
       "      <td>True</td>\n",
       "    </tr>\n",
       "    <tr>\n",
       "      <th>99</th>\n",
       "      <td>HaagenDazs</td>\n",
       "      <td>Peanut Butter Chocolate Fudge Non-Dairy Bar</td>\n",
       "      <td>4.8</td>\n",
       "      <td>32</td>\n",
       "      <td>PEANUT BUTTER FROZEN DESSERT: WATER, CORN SYRUP, SUGAR, PEANUTS, PEANUT OIL, COCONUT OIL, PECTIN, SALT. DARK CHOCOLATE AND VEGETABLE OIL COATING: DARK CHOCOLATE (SUGAR, CHOCOLATE, SOY LECITHIN, VANILLA EXTRACT), COCONUT OIL, SOYBEAN OIL. SALTED FUDGE SWIRL: POWDERED CANE SUGAR (CANE SUGAR, CORN STARCH), SUNFLOWER OIL, COCOA, SALT, SUNFLOWER LECITHIN</td>\n",
       "      <td>peanut butter frozen dessert: water, corn syrup, sugar, peanuts, peanut oil, coconut oil, pectin, salt</td>\n",
       "      <td>True</td>\n",
       "    </tr>\n",
       "    <tr>\n",
       "      <th>101</th>\n",
       "      <td>HaagenDazs</td>\n",
       "      <td>Peppermint Bark Ice Cream Bar</td>\n",
       "      <td>5.0</td>\n",
       "      <td>8</td>\n",
       "      <td>WHITE CHOCOLATE ICE CREAM: CREAM, SKIM MILK, SUGAR, CORN SYRUP, EGG YOLKS, NATURAL FLAVOR, COCOA BUTTER. DARK CHOCOLATE AND VEGETABLE OIL COATING WITH PEPPERMINT CANDY PIECES: DARK CHOCOLATE (SUGAR, CHOCOLATE, SOY LECITHIN, VANILLA EXTRACT), PEPPERMINT CANDY PIECES: (SUGAR, CORN SYRUP, COCONUT OIL, NATURAL FLAVOR, SOY LECITHIN), COCONUT OIL, SOYBEAN OIL</td>\n",
       "      <td>white chocolate ice cream: cream, skim milk, sugar, corn syrup, egg yolks, natural flavor, cocoa butter</td>\n",
       "      <td>True</td>\n",
       "    </tr>\n",
       "    <tr>\n",
       "      <th>103</th>\n",
       "      <td>HaagenDazs</td>\n",
       "      <td>Pistachio Ice Cream</td>\n",
       "      <td>3.8</td>\n",
       "      <td>64</td>\n",
       "      <td>WEET CREAM ICE CREAM: CREAM, SKIM MILK, SUGAR, LACTOSE REDUCED SKIM MILK, CORN SYRUP, EGG YOLKS, SALT. ROASTED PISTACHIOS: PISTACHIOS, SAFFLOWER OIL</td>\n",
       "      <td>weet cream ice cream: cream, skim milk, sugar, lactose reduced skim milk, corn syrup, egg yolks, salt</td>\n",
       "      <td>True</td>\n",
       "    </tr>\n",
       "    <tr>\n",
       "      <th>117</th>\n",
       "      <td>HaagenDazs</td>\n",
       "      <td>Vanilla Soft Dipped Ice Cream Bar</td>\n",
       "      <td>4.4</td>\n",
       "      <td>13</td>\n",
       "      <td>VANILLA ICE CREAM: CREAM, SKIM MILK, SUGAR, EGG YOLKS, VANILLA EXTRACT. CHOCOLATY COATING: SUGAR, COCOA PROCESSED WITH ALKALI, CANOLA OIL, PALM OIL, SOY LECITHIN.\\nCONTAINS: MILK, EGG AND SOY INGREDIENTS</td>\n",
       "      <td>vanilla ice cream: cream, skim milk, sugar, egg yolks, vanilla extract</td>\n",
       "      <td>True</td>\n",
       "    </tr>\n",
       "    <tr>\n",
       "      <th>157</th>\n",
       "      <td>Talenti</td>\n",
       "      <td>ORGANIC OAK-AGED VANILLA GELATO</td>\n",
       "      <td>4.8</td>\n",
       "      <td>19</td>\n",
       "      <td>INGREDIENTS: ORGANIC SKIM MILK, ORGANIC CREAM, ORGANIC CANE SUGAR, ORGANIC DEXTROSE, OAKWOOD EXTRACT, ORGANIC CAROB BEAN GUM, ORGANIC VANILLA EXTRACT</td>\n",
       "      <td>ingredients: organic skim milk, organic cream, organic cane sugar, organic dextrose, oakwood extract, organic carob bean gum, organic vanilla extract</td>\n",
       "      <td>True</td>\n",
       "    </tr>\n",
       "  </tbody>\n",
       "</table>\n",
       "</div>"
      ],
      "text/plain": [
       "          brand                                         name  rating  \\\n",
       "62   HaagenDazs            Caramel Soft Dipped Ice Cream Bar     4.9   \n",
       "67   HaagenDazs          Chocolate Soft Dipped Ice Cream Bar     2.6   \n",
       "84   HaagenDazs      Double Belgian Chocolate Chip Ice Cream     4.8   \n",
       "85   HaagenDazs                Dulce de Leche Cookie Squares     3.9   \n",
       "99   HaagenDazs  Peanut Butter Chocolate Fudge Non-Dairy Bar     4.8   \n",
       "101  HaagenDazs                Peppermint Bark Ice Cream Bar     5.0   \n",
       "103  HaagenDazs                          Pistachio Ice Cream     3.8   \n",
       "117  HaagenDazs            Vanilla Soft Dipped Ice Cream Bar     4.4   \n",
       "157     Talenti              ORGANIC OAK-AGED VANILLA GELATO     4.8   \n",
       "\n",
       "     rating_count  \\\n",
       "62              8   \n",
       "67             25   \n",
       "84            158   \n",
       "85             35   \n",
       "99             32   \n",
       "101             8   \n",
       "103            64   \n",
       "117            13   \n",
       "157            19   \n",
       "\n",
       "                                                                                                                                                                                                                                                                                                                                                                                                                                                                                                                                                                                                                                                                                                                                                  ingredients  \\\n",
       "62                                                                                                                                                                                                                                                                            CARAMEL ICE CREAM: CREAM, SKIM MILK, SUGAR, EGG YOLKS, SWEETENED CONDENSED MILK (CONDENSED MILK SUGAR), CORN SYRUP, SALT, PECTIN, BAKING SODA, VANILLA EXTRACT. CHOCOLATY COATING: SUGAR, COCOA PROCESSED WITH ALKALI, CANOLA OIL, PALM OIL, MILKFAT, SOY LECITHIN. SALTED CARAMEL SWIRL: CORN SYRUP, SWEETENED CONDENSED MILK (CONDENSED MILK SUGAR), CREAM, SUGAR, WATER, BUTTER (CREAM, SALT), SALT, PECTIN, MILKFAT, SOY LECITHIN.\\nCONTAINS: MILK, EGG AND SOY INGREDIENTS   \n",
       "67                                                                                                                                                                                                                                                                                                                                                                                                                                                                                                                                  CHOCOLATE ICE CREAM: CREAM, SKIM MILK, SUGAR, COCOA PROCESSED WITH ALKALI, EGG YOLKS. CHOCOLATY COATING: SUGAR, COCOA PROCESSED WITH ALKALI, CANOLA OIL, PALM OIL, SOY LECITHIN.\\nCONTAINS: MILK, EGG AND SOY INGREDIENTS   \n",
       "84                                                                                                                                                                                                                                                                                                                                                                         CHOCOLATE ICE CREAM: CREAM, SKIM MILK, DARK CHOCOLATE (BELGIAN CHOCOLATE, SUGAR, COCOA BUTTER, SOY LECITHIN, VANILLA), SUGAR, EGG YOLKS, COCOA PROCESSED WITH ALKALI, VANILLA EXTRACT. CHOCOLATE CHUNKS WITH VEGETABLE OIL: BELGIAN CHOCOLATE (SUGAR, CHOCOLATE, COCOA BUTTER, SOY LECITHIN, NATURAL FLAVOR), COTTONSEED OIL, COCONUT OIL. CONTAINS: MILK, EGG AND SOY INGREDIENTS   \n",
       "85   ULCE DE LECHE ICE CREAM: CREAM, SKIM MILK, SUGAR, SWEETENED CONDENSED MILK (MILK,SUGAR), EGG YOLKS, CORN SYRUP, BAKING SODA, SALT, VANILLA EXTRACT. MILK CHOCOLATE AND VEGETABLE OIL COATING: MILK CHOCOLATE (SUGAR, WHOLE MILK POWDER, CHOCOLATE, COCOA BUTTER, SOY LECITHIN, VANILLA EXTRACT), COCONUT OIL. CHOCOLATE COOKIE: BLEACHED WHEAT FLOUR, SUGAR, PALM OIL, COCOA PROCESSED WITH ALKALI, CORN SYRUP, MOLASSES, BAKING SODA, SALT, SOY LECITHIN. CARAMEL SWIRL: SWEETENED CONDENSED MILK (MILK, SUGAR), SUGAR, WATER, CORN SYRUP, COCONUT OIL, PECTIN, SOY LECITHIN, SALT, BAKING SODA, VANILLA EXTRACT. DARK CHOCOLATE DRIZZLE WITH VEGETABLE OIL: DARK CHOCOLATE (SUGAR, CHOCOLATE, SOY LECITHIN, VANILLA EXTRACT), COCONUT OIL, SOYBEAN OIL   \n",
       "99                                                                                                                                                                                                                                                                                                                                                                                            PEANUT BUTTER FROZEN DESSERT: WATER, CORN SYRUP, SUGAR, PEANUTS, PEANUT OIL, COCONUT OIL, PECTIN, SALT. DARK CHOCOLATE AND VEGETABLE OIL COATING: DARK CHOCOLATE (SUGAR, CHOCOLATE, SOY LECITHIN, VANILLA EXTRACT), COCONUT OIL, SOYBEAN OIL. SALTED FUDGE SWIRL: POWDERED CANE SUGAR (CANE SUGAR, CORN STARCH), SUNFLOWER OIL, COCOA, SALT, SUNFLOWER LECITHIN   \n",
       "101                                                                                                                                                                                                                                                                                                                                                                                       WHITE CHOCOLATE ICE CREAM: CREAM, SKIM MILK, SUGAR, CORN SYRUP, EGG YOLKS, NATURAL FLAVOR, COCOA BUTTER. DARK CHOCOLATE AND VEGETABLE OIL COATING WITH PEPPERMINT CANDY PIECES: DARK CHOCOLATE (SUGAR, CHOCOLATE, SOY LECITHIN, VANILLA EXTRACT), PEPPERMINT CANDY PIECES: (SUGAR, CORN SYRUP, COCONUT OIL, NATURAL FLAVOR, SOY LECITHIN), COCONUT OIL, SOYBEAN OIL   \n",
       "103                                                                                                                                                                                                                                                                                                                                                                                                                                                                                                                                                                                                      WEET CREAM ICE CREAM: CREAM, SKIM MILK, SUGAR, LACTOSE REDUCED SKIM MILK, CORN SYRUP, EGG YOLKS, SALT. ROASTED PISTACHIOS: PISTACHIOS, SAFFLOWER OIL   \n",
       "117                                                                                                                                                                                                                                                                                                                                                                                                                                                                                                                                               VANILLA ICE CREAM: CREAM, SKIM MILK, SUGAR, EGG YOLKS, VANILLA EXTRACT. CHOCOLATY COATING: SUGAR, COCOA PROCESSED WITH ALKALI, CANOLA OIL, PALM OIL, SOY LECITHIN.\\nCONTAINS: MILK, EGG AND SOY INGREDIENTS   \n",
       "157                                                                                                                                                                                                                                                                                                                                                                                                                                                                                                                                                                                                     INGREDIENTS: ORGANIC SKIM MILK, ORGANIC CREAM, ORGANIC CANE SUGAR, ORGANIC DEXTROSE, OAKWOOD EXTRACT, ORGANIC CAROB BEAN GUM, ORGANIC VANILLA EXTRACT   \n",
       "\n",
       "                                                                                                                                       ingredients_cleaned  \\\n",
       "62                caramel ice cream: cream, skim milk, sugar, egg yolks, sweetened condensed milk , corn syrup, salt, pectin, baking soda, vanilla extract   \n",
       "67                                                                    chocolate ice cream: cream, skim milk, sugar, cocoa processed with alkali, egg yolks   \n",
       "84                                  chocolate ice cream: cream, skim milk, dark chocolate , sugar, egg yolks, cocoa processed with alkali, vanilla extract   \n",
       "85                  ulce de leche ice cream: cream, skim milk, sugar, sweetened condensed milk , egg yolks, corn syrup, baking soda, salt, vanilla extract   \n",
       "99                                                  peanut butter frozen dessert: water, corn syrup, sugar, peanuts, peanut oil, coconut oil, pectin, salt   \n",
       "101                                                white chocolate ice cream: cream, skim milk, sugar, corn syrup, egg yolks, natural flavor, cocoa butter   \n",
       "103                                                  weet cream ice cream: cream, skim milk, sugar, lactose reduced skim milk, corn syrup, egg yolks, salt   \n",
       "117                                                                                 vanilla ice cream: cream, skim milk, sugar, egg yolks, vanilla extract   \n",
       "157  ingredients: organic skim milk, organic cream, organic cane sugar, organic dextrose, oakwood extract, organic carob bean gum, organic vanilla extract   \n",
       "\n",
       "     have_additional_items  \n",
       "62                    True  \n",
       "67                    True  \n",
       "84                    True  \n",
       "85                    True  \n",
       "99                    True  \n",
       "101                   True  \n",
       "103                   True  \n",
       "117                   True  \n",
       "157                   True  "
      ]
     },
     "execution_count": 15,
     "metadata": {},
     "output_type": "execute_result"
    }
   ],
   "source": [
    "# checking inconsistencies\n",
    "\n",
    "df[df['have_additional_items']== True]"
   ]
  },
  {
   "cell_type": "code",
   "execution_count": null,
   "metadata": {},
   "outputs": [],
   "source": [
    "# manual correction\n",
    "# only row 157 (Talenti Organic Oak-Aged Vanilla Gelato) needs correction\n",
    "\n",
    "df.loc[157, 'have_additional_items'] = False"
   ]
  },
  {
   "cell_type": "code",
   "execution_count": null,
   "metadata": {},
   "outputs": [],
   "source": [
    "# observations with ':' problem - spliting by and selecting only second column\n",
    "\n",
    "bool = df['ingredients_cleaned'].str.contains(\":\", regex=False)\n",
    "val_to_replace = df['ingredients_cleaned'][bool].str.split(\": \").str[1] # here we will use the second column, not the first\n",
    "df['ingredients_cleaned'] = df['ingredients_cleaned'].mask(bool, val_to_replace)"
   ]
  },
  {
   "cell_type": "code",
   "execution_count": null,
   "metadata": {},
   "outputs": [],
   "source": [
    "df['ingredients_cleaned']"
   ]
  },
  {
   "cell_type": "markdown",
   "metadata": {},
   "source": [
    "* Data Treatment: Manual Correction"
   ]
  },
  {
   "cell_type": "code",
   "execution_count": null,
   "metadata": {},
   "outputs": [],
   "source": [
    "# tests\n",
    "#df[df['ingredients_cleaned'].str.contains(\"mono and diglycerides\", regex=False)] == True\n",
    "#df[df['ingredients_cleaned'].str.contains(\" and \", regex=False)] == True\n",
    "#df[df['ingredients_cleaned'].str.contains(\"and/or\", regex=False)] == True\n",
    "#df[df['ingredients_cleaned'].str.contains(\"†\", regex=False)] == True\n",
    "#df[df['ingredients_cleaned'].str.contains(\"*\", regex=False)] == True\n",
    "#df[df['ingredients_cleaned'].str.contains(\")\", regex=False)] == True\n",
    "#df[df['ingredients_cleaned'].str.contains(\"/\", regex=False)] == True\n",
    "df[df['ingredients_cleaned'].str.contains(\"vanilla ice cream\", regex=False) == True]\n",
    "\n",
    "#81 have_add"
   ]
  },
  {
   "cell_type": "code",
   "execution_count": null,
   "metadata": {},
   "outputs": [],
   "source": [
    "# treating the problem with 'mono and diglycerides'\n",
    "\n",
    "df['ingredients_cleaned'] = df['ingredients_cleaned'].str.replace(\"mono and diglycerides\", \"monoglycerides, diglycerides\", regex=False)"
   ]
  },
  {
   "cell_type": "code",
   "execution_count": null,
   "metadata": {},
   "outputs": [],
   "source": [
    "# treating the problem with 'and/or' + 'and':\n",
    "unwanted_text = [' and ', 'and/or']\n",
    "\n",
    "for word in unwanted_text:\n",
    "    df['ingredients_cleaned'] = df['ingredients_cleaned'].str.replace(word, ',', regex=False)"
   ]
  },
  {
   "cell_type": "code",
   "execution_count": null,
   "metadata": {},
   "outputs": [],
   "source": [
    "# replacing strange text to ''\n",
    "\n",
    "unwanted_text = ['†', ')' , 'organic', 'pasteurized','(sugar', 'unbleached', 'enriched', 'unenriched', 'vanilla ice cream', 'coffee ice cream', 'white chocolate ice cream', \n",
    "'unsweetened', 'whole', 'pieces', 'concentrates', 'concentrate', 'juice', 'pasteurized', 'puree',  'vegetable s', ' lake']\n",
    "\n",
    "for word in unwanted_text:\n",
    "    df['ingredients_cleaned'] = df['ingredients_cleaned'].str.replace(word, '', regex=False)"
   ]
  },
  {
   "cell_type": "code",
   "execution_count": null,
   "metadata": {},
   "outputs": [],
   "source": [
    "# replacing strange text to ' '\n",
    "\n",
    "unwanted_text = ['*', '/']\n",
    "\n",
    "for word in unwanted_text:\n",
    "    df['ingredients_cleaned'] = df['ingredients_cleaned'].str.replace(word, ' ', regex=False)"
   ]
  },
  {
   "cell_type": "code",
   "execution_count": null,
   "metadata": {},
   "outputs": [],
   "source": [
    "# Word Correcting\n",
    "\n",
    "# Ok. I'm feeling very dumb for doing this checking mannually. \n",
    "# I could use PorterStemmer, which is based on suffixes in the English language. But after some tests, i'm not feeling very confident to use that method.\n",
    "\n",
    "# Creating a dictionary\n",
    "word_correcting = {\"reese's mini \": \"reese's peanut butter\", \"reese's peanut butter cup \": \"reese's peanut butter\", \"reese's peanut butter cups\": \"reese's peanut butter\", \"reese's peanut butter sauce\": \"reese's peanut butter\", \"reese's peanut butter swirl\": \"reese's peanut butter\", 'almonds roasted in vegetable oil': 'almonds', 'roasted almonds': 'almonds', 'dried apples': 'apple', 'apples': 'apple', 'artificial color lake': 'artificial color', 'color added': 'artificial color', 'annatto': 'artificial color', 'blue 1': 'artificial color', 'blue 1': 'artificial color', 'blue 1 lake': 'artificial color', 'blue 2': 'artificial color', 'blue 2 lake': 'artificial color', 'yellow 5': 'artificial color', 'yellow 5 lake': 'artificial color', 'yellow 6': 'artificial color', 'yellow 6 lake': 'artificial color', 'red 40': 'artificial color', 'red 40 lake': 'artificial color', 'reb a': 'artificial color', 'artificial color lake': 'artificial color', 'artificial flavoring': 'artificial flavor', 'artificial flavors': 'artificial flavor', 'banana puree': 'banana', 'bananas': 'banana', 'black carrot s': 'black carrot', 'black raspberry puree': 'black raspberry', 'black raspberries': 'black raspberry', 'blueberries': 'blueberry', 'butteroil': 'butter', 'butterfat': 'butter', 'butter oil': 'butter', 'dried cane syrup': 'cane syrup', 'caramelized sugar': 'caramel', 'caramel color': 'caramel', 'caramel flavor': 'caramel', 'caramel swirl': 'caramel', 'caramel syrup': 'caramel', 'caramelized sugar syrup': 'caramelized sugar', 'carob bean': 'carob bean gum', 'carob gum': 'carob bean gum', 'cheese culture': 'cheese cultures', 'cherries': 'cherry', 'cherry': 'cherry', 'cherry puree': 'cherry', 'cherry concentrate': 'cherry', 'cherry juice concentrate': 'cherry', 'chocolate chip cookies': 'chocolate', 'chocolate chips': 'chocolate', 'chocolate cookie pieces': 'chocolate', 'chocolate flavored coating': 'chocolate', 'chocolate liquor': 'chocolate', 'chocolate processed with alkali': 'chocolate', 'chocolatey chips': 'chocolate', 'milk chocolate candies': 'chocolate', 'milk chocolate': 'chocolate', 'dark chocolate': 'chocolate', 'semi-sweet chocolate chunks': 'chocolate', 'chocolaty coated cone': 'chocolatey coated cone', 'black cocoa processed with alkali': 'cocoa processed with alkali', 'coconut concentrate': 'coconut', 'coconut cream': 'coconut', 'coconut extract': 'coconut', 'desiccated coconut': 'coconut', 'coffee extract': 'coffee', 'coffee extract concentrate': 'coffee', 'condensed skim milk': 'condensed milk', 'evaporated milk': 'condensed milk', 'sweetened condensed milk': 'condensed milk', 'sweetened condensed skim milk': 'condensed milk', 'corn syrup solids': 'corn syrup', 'high fructose corn syrup': 'corn syrup', 'corn starch': 'cornstarch', 'modified corn starch': 'cornstarch', 'modified cornstarch': 'cornstarch', 'modified food starch': 'cornstarch', 'modified cornstarch': 'cornstarch', 'eggs': 'egg', 'whole egg': 'egg', 'whole eggs': 'egg', 'egg whites': 'egg white', 'egg yolks': 'egg yolk', 'guar': 'guar gum', 'ground heath toffee': 'heath toffee bar', 'hibiscus flower': 'hibiscus', 'hibiscus powder': 'hibiscus', 'invert cane sugar': 'inverted sugar syrup', 'invert sugar': 'inverted sugar syrup', 'lactase enzyme': 'lactase', 'lemon juice': 'lemon', 'lemon juice concentrate': 'lemon', 'locust bean': 'locust bean gum', 'dry malt extract': 'malt extract', 'maltitol': 'maltitol syrup', 'corn maltodextrin': 'maltodextrin', 'mango puree': 'mango', 'mangos': 'mango', 'organic milk': 'milk', 'anhydrous milkfat': 'milk fat', 'milkfat': 'milk fat', 'nonfat milk solids': 'milk powder', 'nonfat dry milk': 'milk powder', 'whole milk powder': 'milk powder', 'skim milk powder': 'milk powder', 'natural flavors': 'natural flavor', 'rolled oats': 'oats', 'vitamin a palm oil oilitate': 'palm oil', '^palm$': 'palm oil', 'palm kernel': 'palm oil', 'palm kernel oil': 'palm oil', 'partially defatted peanut flour': 'peanut', 'roasted peanuts': 'peanuts', 'peppermint bark': 'peppermint', 'peppermint extract': 'peppermint', 'peppermint oil': 'peppermint', 'peppermint twists candy': 'peppermint', 'pistachio paste': 'pistachio', 'pistachios': 'pistachio', 'raspberries': 'raspberry', 'raspberry swirl': 'raspberry', 'sea salt': 'salt', 'organic skim milk': 'skim milk', 'lactose reduced skim milk': 'skim milk', 'nonfat milk': 'skim milk', 'soy lecithin': 'soybean lecithin', 'soybean lecithin natural flavor': 'soybean lecithin', 'soy lecithin natural flavor': 'soybean lecithin', 'soybean oils': 'soybean oil', 'expeller pressed soybean oil': 'soybean oil', 'spice': 'spices', 'strawberries': 'strawberry', 'strawberry swirl': 'strawberry', 'powdered sugar': 'sugar', 'cane sugar': 'sugar', 'liquid sugar': 'sugar syrup', 'sunflower oils': 'sunflower oil', 'tapioca flour': 'tapioca', 'tapioca starch': 'tapioca', 'tapioca syrup': 'tapioca', 'tara': 'tara gum', 'thiamin mononitrate': 'thiamine mononitrate', 'vanilla bean seeds': 'vanilla', 'vanilla beans': 'vanilla', 'vanilla extract': 'vanilla', 'ground vanilla': 'vanilla', 'processed vanilla': 'vanilla', 'vegetable gums': 'vegetable gum', 'waffle cone': 'waffle cone pieces', 'un wheat flour': 'wheat flour', 'bleached wheat flour': 'wheat flour', 'whey protein concentrate': 'whey', 'milk protein concentrate': 'whey', 'whey protein': 'whey', 'heavy cream': 'cream'\n",
    "}"
   ]
  },
  {
   "cell_type": "code",
   "execution_count": null,
   "metadata": {},
   "outputs": [],
   "source": [
    "# dictionary\n",
    "\n",
    "df['ingredients_cleaned'] = df['ingredients_cleaned'].replace(word_correcting, regex=True)"
   ]
  },
  {
   "cell_type": "code",
   "execution_count": null,
   "metadata": {},
   "outputs": [],
   "source": [
    "df['ingredients_cleaned']"
   ]
  },
  {
   "cell_type": "code",
   "execution_count": null,
   "metadata": {},
   "outputs": [],
   "source": [
    "# generate all unique ingredients\n",
    "all_ingredients = set()\n",
    "\n",
    "for row in df.iterrows():\n",
    "    ingredients = df.loc[row[0], 'ingredients_cleaned']\n",
    "    ingredients = ingredients.replace(' , ', ', ') # trim excess of whitespace\n",
    "    ingredients = ingredients.replace(',,', ', ') # trim excess of comma\n",
    "    for ingredient in ingredients.split(','):\n",
    "        if ingredient not in all_ingredients:\n",
    "            #print(ingredient)\n",
    "            ingredient = re.sub(r\"^ +| +$\", \"\", ingredient) # trim leading and trailing whitespace\n",
    "            all_ingredients.add(ingredient)"
   ]
  },
  {
   "cell_type": "code",
   "execution_count": null,
   "metadata": {},
   "outputs": [],
   "source": [
    "all_ingredients.remove('')"
   ]
  },
  {
   "cell_type": "code",
   "execution_count": null,
   "metadata": {},
   "outputs": [],
   "source": [
    "all_ingredients"
   ]
  },
  {
   "cell_type": "code",
   "execution_count": null,
   "metadata": {},
   "outputs": [],
   "source": [
    "df['ingredients_cleaned'] = df['ingredients_cleaned'].str.split(',')"
   ]
  },
  {
   "cell_type": "code",
   "execution_count": null,
   "metadata": {},
   "outputs": [],
   "source": [
    "stop code"
   ]
  },
  {
   "cell_type": "markdown",
   "metadata": {},
   "source": [
    "# Getting Dummy Matrix"
   ]
  },
  {
   "cell_type": "code",
   "execution_count": null,
   "metadata": {},
   "outputs": [],
   "source": [
    "y = df.loc[:, 'rating']\n",
    "X = df.drop('rating', axis=1)\n",
    "df_bckp = df.copy()"
   ]
  },
  {
   "cell_type": "code",
   "execution_count": null,
   "metadata": {},
   "outputs": [],
   "source": [
    "def dummy(df, column, prefix):\n",
    "    dummies = pd.get_dummies(df[column], prefix=prefix)\n",
    "    df = pd.concat([df, dummies], axis=1)\n",
    "    df = df.drop(column, axis=1)\n",
    "    return df"
   ]
  },
  {
   "cell_type": "code",
   "execution_count": null,
   "metadata": {},
   "outputs": [],
   "source": [
    "X = dummy(X, 'brand', 'b')"
   ]
  },
  {
   "cell_type": "code",
   "execution_count": null,
   "metadata": {},
   "outputs": [],
   "source": [
    "X"
   ]
  },
  {
   "cell_type": "code",
   "execution_count": null,
   "metadata": {},
   "outputs": [],
   "source": [
    "ingredients_df = X['ingredients_cleaned']\n",
    "ingredients_df"
   ]
  },
  {
   "cell_type": "code",
   "execution_count": null,
   "metadata": {},
   "outputs": [],
   "source": [
    "from sklearn.preprocessing import MultiLabelBinarizer\n",
    "from sklearn.model_selection import train_test_split"
   ]
  },
  {
   "cell_type": "code",
   "execution_count": null,
   "metadata": {},
   "outputs": [],
   "source": [
    "mlb = MultiLabelBinarizer()\n",
    "\n",
    "ingredients_df = pd.DataFrame(mlb.fit_transform(ingredients_df), columns=mlb.classes_)"
   ]
  },
  {
   "cell_type": "code",
   "execution_count": null,
   "metadata": {},
   "outputs": [],
   "source": [
    "for col in ingredients_df.columns:\n",
    "    print(col)"
   ]
  },
  {
   "cell_type": "code",
   "execution_count": null,
   "metadata": {},
   "outputs": [],
   "source": [
    "X_train, X_test, y_train, y_test = train_test_split(X, y, train_size=0.7, random_state=100)\n",
    "#arrumar aqui"
   ]
  },
  {
   "cell_type": "code",
   "execution_count": null,
   "metadata": {},
   "outputs": [],
   "source": [
    "X_train"
   ]
  },
  {
   "cell_type": "code",
   "execution_count": null,
   "metadata": {},
   "outputs": [],
   "source": [
    "from sklearn.linear_model import LinearRegression"
   ]
  },
  {
   "cell_type": "code",
   "execution_count": null,
   "metadata": {},
   "outputs": [],
   "source": [
    "model = LinearRegression()\n",
    "\n",
    "model.fit(X_train, y_train)"
   ]
  },
  {
   "cell_type": "markdown",
   "metadata": {},
   "source": [
    "* Ingredients without Order"
   ]
  },
  {
   "cell_type": "code",
   "execution_count": null,
   "metadata": {},
   "outputs": [],
   "source": [
    "# putting ingredient order row content\n",
    "# split: splita a coluna ingredients usando a vírgula como separador\n",
    "\n",
    "new_ingredients = df['ingredients'].str.split(\",\", expand=True) \n",
    "new_ingredients.head()"
   ]
  },
  {
   "cell_type": "code",
   "execution_count": null,
   "metadata": {},
   "outputs": [],
   "source": [
    "# all unique ingredients: final\n",
    "all_ingredients = set()\n",
    "\n",
    "for row in df.iterrows():\n",
    "    ingredients = df.loc[row[0], 'ingredients']\n",
    "    for ingredient in ingredients.split(','):\n",
    "        if ingredient not in all_ingredients:\n",
    "            all_ingredients.add(ingredient)"
   ]
  },
  {
   "cell_type": "markdown",
   "metadata": {},
   "source": [
    "* Ingredients with Order"
   ]
  },
  {
   "cell_type": "code",
   "execution_count": null,
   "metadata": {},
   "outputs": [],
   "source": [
    "for col in new_ingredients.columns:\n",
    "    new_ingredients[col] = new_ingredients[col] + \" \" + str((col + 1))\n",
    "new_ingredients.head()"
   ]
  },
  {
   "cell_type": "code",
   "execution_count": null,
   "metadata": {},
   "outputs": [],
   "source": [
    "new_ingredients = new_ingredients.stack().value_counts().reset_index()\n",
    "\n",
    "# stack: reshapa o df de forma que cada observação tenha um em index \"interno\"\n",
    "# value_counts: contagem de vezes em que o ingrediente aparece\n",
    "# reset_index: cria uma nova linha e coluna com os índices (a ideia é usar para inserir nome para as colunas)"
   ]
  },
  {
   "cell_type": "code",
   "execution_count": null,
   "metadata": {},
   "outputs": [],
   "source": [
    "new_ingredients.columns = ['Word', 'Frequency']\n",
    "new_ingredients"
   ]
  },
  {
   "cell_type": "code",
   "execution_count": null,
   "metadata": {},
   "outputs": [],
   "source": [
    "# checks for unique values for check any problem"
   ]
  },
  {
   "cell_type": "code",
   "execution_count": null,
   "metadata": {},
   "outputs": [],
   "source": [
    "# https://www.fda.gov/food/food-ingredients-packaging/overview-food-ingredients-additives-colors"
   ]
  },
  {
   "cell_type": "markdown",
   "metadata": {},
   "source": [
    "## Chi Squared Feature Selection"
   ]
  },
  {
   "cell_type": "code",
   "execution_count": null,
   "metadata": {},
   "outputs": [],
   "source": [
    "# https://machinelearningmastery.com/feature-selection-with-categorical-data/"
   ]
  },
  {
   "cell_type": "markdown",
   "metadata": {},
   "source": [
    "## Deprecated"
   ]
  },
  {
   "cell_type": "code",
   "execution_count": null,
   "metadata": {},
   "outputs": [],
   "source": [
    "# showing the problem with \"contains:\" and \"\\ncontains:\"\n",
    "bool = df['ingredients_cleaned'].str.contains('\\ncontains', regex=False)\n",
    "df['ingredients_cleaned'][bool == True] # checking"
   ]
  },
  {
   "cell_type": "code",
   "execution_count": null,
   "metadata": {},
   "outputs": [],
   "source": [
    "pd.options.display.max_rows = None\n",
    "pd.options.display.max_columns = None"
   ]
  },
  {
   "cell_type": "code",
   "execution_count": null,
   "metadata": {},
   "outputs": [],
   "source": [
    "# eliminating content after '\\ncontains'\n",
    "val_to_replace = df['ingredients_cleaned'][df['ingredients_cleaned'].str.contains(\":\", regex=False) == True].str.split('\\ncontains').str[0]\n",
    "df['ingredients_cleaned'] = df['ingredients_cleaned'].mask(bool, val_to_replace)"
   ]
  },
  {
   "cell_type": "code",
   "execution_count": null,
   "metadata": {},
   "outputs": [],
   "source": [
    "df['ingredients_cleaned'][117]"
   ]
  },
  {
   "cell_type": "code",
   "execution_count": null,
   "metadata": {},
   "outputs": [],
   "source": [
    "\"\"\"# Draw a scatter plot while assigning point colors and sizes to different variables in the dataset\n",
    "f, ax = plt.subplots(figsize=(6.5, 6.5))\n",
    "sns.despine(f, left=True, bottom=True)\n",
    "clarity_ranking = [\"bj\", \"breyers\", \"hd\", \"talenti\"]\n",
    "sns.scatterplot(x=\"rating\", y=\"rating_count\",\n",
    "                hue=\"rating\",\n",
    "                palette=\"ch:r=-.2,d=.3_r\",\n",
    "                hue_order=clarity_ranking,\n",
    "                sizes=(1, 8), linewidth=0,\n",
    "                data=df, ax=ax)\"\"\""
   ]
  },
  {
   "cell_type": "code",
   "execution_count": null,
   "metadata": {},
   "outputs": [],
   "source": [
    "\"\"\"f, ax = plt.subplots(figsize=(6.5, 6.5))\n",
    "sns.despine(f, left=True, bottom=True)\n",
    "clarity_ranking = [\"bj\", \"breyers\", \"hd\", \"talenti\"]\n",
    "sns.scatterplot(data=df,\n",
    "                x=\"rating\", y=\"rating_count\",\n",
    "                hue=\"brand\",\n",
    "                style=\"brand\",\n",
    "                sizes=(1, 8), linewidth=0\n",
    "                )\"\"\""
   ]
  }
 ],
 "metadata": {
  "kernelspec": {
   "display_name": "venv",
   "language": "python",
   "name": "python3"
  },
  "language_info": {
   "codemirror_mode": {
    "name": "ipython",
    "version": 3
   },
   "file_extension": ".py",
   "mimetype": "text/x-python",
   "name": "python",
   "nbconvert_exporter": "python",
   "pygments_lexer": "ipython3",
   "version": "3.9.6 (tags/v3.9.6:db3ff76, Jun 28 2021, 15:26:21) [MSC v.1929 64 bit (AMD64)]"
  },
  "orig_nbformat": 4,
  "vscode": {
   "interpreter": {
    "hash": "2f5c964f10db18ca2e24ede473c8e1bbf38968f9e6b980b72f721a488ad58e77"
   }
  }
 },
 "nbformat": 4,
 "nbformat_minor": 2
}
