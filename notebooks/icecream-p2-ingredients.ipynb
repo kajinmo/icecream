{
 "cells": [
  {
   "cell_type": "markdown",
   "metadata": {},
   "source": [
    "# Intro\n",
    "\n",
    "Dataset link: https://www.kaggle.com/datasets/tysonpo/ice-cream-dataset\n",
    "\n",
    "Inspiration Notebooks:\n",
    "- Using Ice Cream Ingredients to Predict Rating: https://www.kaggle.com/code/gcdatkin/using-ice-cream-ingredients-to-predict-rating\n",
    "- Finding the Best Ice Cream: https://www.kaggle.com/code/kelvintran1998/finding-the-best-ice-cream\n",
    "- EDA ideas: McDonalds Ice Cream Machines Breaking: https://www.kaggle.com/code/aashidutt3/eda-mcdonalds-ice-cream-machines-breaking"
   ]
  },
  {
   "attachments": {},
   "cell_type": "markdown",
   "metadata": {},
   "source": [
    "# Loading Data and Libraries"
   ]
  },
  {
   "cell_type": "code",
   "execution_count": 1,
   "metadata": {},
   "outputs": [],
   "source": [
    "# loading libraries\n",
    "import numpy as np\n",
    "import pandas as pd\n",
    "import matplotlib.pyplot as plt\n",
    "import matplotlib.ticker as mticker\n",
    "from pylab import rcParams\n",
    "import seaborn as sns\n",
    "import os\n",
    "import re"
   ]
  },
  {
   "cell_type": "code",
   "execution_count": 2,
   "metadata": {},
   "outputs": [],
   "source": [
    "# Get the parent directory of the notebook\n",
    "notebook_dir = os.path.abspath('')  # This gets the current notebook path\n",
    "project_root = os.path.dirname(notebook_dir)  # Go one level up if needed\n",
    "\n",
    "# Change the working directory\n",
    "os.chdir(project_root)"
   ]
  },
  {
   "cell_type": "code",
   "execution_count": 3,
   "metadata": {},
   "outputs": [
    {
     "name": "stdout",
     "output_type": "stream",
     "text": [
      "the dataset has 241 observations (ice cream flavors) and 5 features ['brand', 'name', 'rating', 'rating_count', 'ingredients']\n"
     ]
    }
   ],
   "source": [
    "# reading dataset\n",
    "df = pd.read_csv(\"data/intermediate/pre-processed.csv\")\n",
    "print(\"the dataset has \" + str(df.shape[0]) + \" observations (ice cream flavors) and \" + str(df.shape[1]) + \" features \" + str([col for col in df.columns]))"
   ]
  },
  {
   "cell_type": "code",
   "execution_count": 4,
   "metadata": {},
   "outputs": [
    {
     "data": {
      "application/vnd.microsoft.datawrangler.viewer.v0+json": {
       "columns": [
        {
         "name": "index",
         "rawType": "int64",
         "type": "integer"
        },
        {
         "name": "brand",
         "rawType": "object",
         "type": "string"
        },
        {
         "name": "name",
         "rawType": "object",
         "type": "string"
        },
        {
         "name": "rating",
         "rawType": "float64",
         "type": "float"
        },
        {
         "name": "rating_count",
         "rawType": "int64",
         "type": "integer"
        },
        {
         "name": "ingredients",
         "rawType": "object",
         "type": "string"
        }
       ],
       "conversionMethod": "pd.DataFrame",
       "ref": "9f586dd1-5bee-49b8-b4e1-d22c43cce1b9",
       "rows": [
        [
         "0",
         "BenJerrys",
         "Salted Caramel Core",
         "3.7",
         "208",
         "CREAM, SKIM MILK, LIQUID SUGAR (SUGAR, WATER), WATER, BROWN SUGAR, SUGAR, MILK, WHEAT FLOUR, EGG YOLKS, CORN SYRUP, EGGS, BUTTER (CREAM, SALT), BUTTEROIL, PECTIN, SEA SALT, SOYBEAN OIL, VANILLA EXTRACT, GUAR GUM, SOY LECITHIN, BAKING POWDER (SODIUM ACID PYROPHOSPHATE, SODIUM BICARBONATE, CORN STARCH, MONOCALCIUM PHOSPHATE), BAKING SODA, SALT, CARRAGEENAN, LACTASE"
        ],
        [
         "1",
         "BenJerrys",
         "Netflix & Chilll'd™",
         "4.0",
         "127",
         "CREAM, SKIM MILK, LIQUID SUGAR (SUGAR, WATER), WATER, SUGAR, PEANUTS, WHEAT FLOUR, CANOLA OIL, EGG YOLKS, CORN STARCH, PEANUT OIL, COCOA POWDER, SALT, SOYBEAN OIL, INVERT CANE SUGAR, MILK FAT, EGGS, EGG WHITES, GUAR GUM, SOY LECITHIN, TAPIOCA STARCH, BAKING SODA, CARRAGEENAN, VANILLA EXTRACT, BARLEY MALT, MALTED BARLEY FLOUR"
        ],
        [
         "2",
         "BenJerrys",
         "Chip Happens",
         "4.7",
         "130",
         "CREAM, LIQUID SUGAR (SUGAR, WATER), SKIM MILK, WATER, SUGAR, COCOA (PROCESSED WITH ALKALI), POTATO, COCONUT OIL, CORN SYRUP SOLIDS, SOYBEAN OIL, EGG YOLKS, RICE STARCH, SUNFLOWER OIL, BARLEY MALT, COCOA POWDER, WHEAT FLOUR, MILK, SALT, SOY LECITHIN, YEAST EXTRACT, NATURAL FLAVOR, GUAR GUM, SEA SALT, MILKFAT, VANILLA EXTRACT, ENZYMES, CARRAGEENAN, BAKING SODA. CONTAINS MILK, EGGS, WHEAT AND SOY"
        ],
        [
         "3",
         "BenJerrys",
         "Cannoli",
         "3.6",
         "70",
         "CREAM, SKIM MILK, LIQUID SUGAR (SUGAR, WATER),  WATER, CORN SYRUP, COCONUT OIL, SUGAR, DRIED CANE SYRUP, EGG YOLKS, WHEAT FLOUR, MILK, COCOA, NATURAL FLAVOR, GUAR GUM, SOY LECITHIN, BUTTER OIL, NATURAL FLAVORS, LOCUST BEAN GUM, SALT, CITRIC ACID, VANILLA BEAN SEEDS, SOYBEAN OIL, TAPIOCA STARCH, LACTIC ACID, CARRAGEENAN"
        ],
        [
         "4",
         "BenJerrys",
         "Gimme S’more!™",
         "4.5",
         "281",
         "CREAM, SKIM MILK, WATER, LIQUID SUGAR (SUGAR, WATER), SUGAR, CANOLA OIL, SOYBEAN OIL, EGG YOLKS, CORN SYRUP, WHEAT FLOUR, COCONUT OIL, CORN STARCH, COCOA (PROCESSED WITH ALKALI), CORN SYRUP SOLIDS, COCOA, GRAHAM FLOUR, SALT, EGG WHITES, BUTTEROIL, TAPIOCA STARCH, GUAR GUM, SOY LECITHIN, BAKING SODA, NATURAL FLAVOR, MOLASSES, HONEY, VANILLA EXTRACT, PECTIN, CARAMELIZED SUGAR SYRUP, CARRAGEENAN"
        ],
        [
         "5",
         "BenJerrys",
         "Peanut Butter Half Baked®",
         "4.9",
         "14",
         "CREAM, LIQUID SUGAR (SUGAR, WATER), SKIM MILK, WATER, SUGAR, WHEAT FLOUR, PEANUTS, COCOA (PROCESSED WITH ALKALI), BROWN SUGAR, EGG YOLKS, COCOA POWDER, PEANUT OIL, SOYBEAN OIL, BUTTER (CREAM, SALT), INVERT CANE SUGAR, SALT, CHOCOLATE LIQUOR, EGGS, TAPIOCA FLOUR, PEANUT FLOUR, PEANUT EXTRACT, VANILLA EXTRACT, EGG WHITES, GUAR GUM, COCOA BUTTER, NATURAL FLAVOR, CARRAGEENAN, SOY LECITHIN, BAKING SODA, MALTED BARLEY FLOUR"
        ],
        [
         "6",
         "BenJerrys",
         "Berry Sweet Mascarpone",
         "4.6",
         "10",
         "CREAM, SKIM MILK, WATER, LIQUID SUGAR (SUGAR, WATER), ROASTED ALMONDS (ALMONDS, PEANUT OIL), DRIED CANE SYRUP, EGG YOLKS, WHEAT FLOUR, COCONUT OIL, BLACKBERRY JUICE CONCENTRATE, BUTTER (CREAM, SALT), SUGAR, COCOA, SOYBEAN OIL, CORN SYRUP, SALT, BUTTEROIL, SOY LECITHIN, VANILLA EXTRACT, EGGS, GUAR GUM, MILK, NATURAL FLAVORS, BAKING SODA, TAPIOCA STARCH, CARRAGEENAN, LACTIC ACID, CITRIC ACID"
        ],
        [
         "7",
         "BenJerrys",
         "Chocolate Peanut Butter Split",
         "5.0",
         "7",
         "CREAM, SKIM MILK, LIQUID SUGAR (SUGAR, WATER), WATER, SUGAR, PEANUTS, COCONUT OIL, BANANA PUREE, COCOA (PROCESSED WITH ALKALI), EGG YOLKS, MILK, NONFAT MILK, GUAR GUM, NATURAL FLAVORS, LEMON JUICE CONCENTRATE, SALT, COCOA, SOY LECITHIN, VANILLA EXTRACT, CARRAGEENAN"
        ],
        [
         "8",
         "BenJerrys",
         "Justice ReMix'd ™",
         "4.3",
         "110",
         "CREAM, LIQUID SUGAR (SUGAR, WATER), SKIM MILK, WATER, SUGAR, WHEAT FLOUR, DRIED CANE SYRUP, COCOA (PROCESSED WITH ALKALI), EGG YOLKS, COCOA POWDER, SOYBEAN OIL, INVERT SUGAR, BUTTER (CREAM, SALT), COCONUT OIL, MOLASSES, SALT, EGGS, SPICES, BAKING SODA, CORN SYRUP, SOY LECITHIN, EGG WHITES, GUAR GUM, CINNAMON, NATURAL FLAVOR, CARRAGEENAN, VANILLA EXTRACT, MALTED BARLEY FLOUR"
        ],
        [
         "9",
         "BenJerrys",
         "Boots on the Moooo’n™",
         "4.7",
         "42",
         "CREAM, LIQUID SUGAR (SUGAR, WATER), SKIM MILK, WATER, SUGAR, COCOA (PROCESSED WITH ALKALI), SOYBEAN OIL, COCONUT OIL, WHEAT FLOUR, CORN SYRUP, ALMONDS, BUTTER (CREAM, SALT), EGG YOLKS, VANILLA EXTRACT, SALT, NATURAL FLAVORS, EGGS, GUAR GUM, COCOA, SOY LECITHIN, MILK, BAKING SODA, CARRAGEENAN"
        ]
       ],
       "shape": {
        "columns": 5,
        "rows": 10
       }
      },
      "text/html": [
       "<div>\n",
       "<style scoped>\n",
       "    .dataframe tbody tr th:only-of-type {\n",
       "        vertical-align: middle;\n",
       "    }\n",
       "\n",
       "    .dataframe tbody tr th {\n",
       "        vertical-align: top;\n",
       "    }\n",
       "\n",
       "    .dataframe thead th {\n",
       "        text-align: right;\n",
       "    }\n",
       "</style>\n",
       "<table border=\"1\" class=\"dataframe\">\n",
       "  <thead>\n",
       "    <tr style=\"text-align: right;\">\n",
       "      <th></th>\n",
       "      <th>brand</th>\n",
       "      <th>name</th>\n",
       "      <th>rating</th>\n",
       "      <th>rating_count</th>\n",
       "      <th>ingredients</th>\n",
       "    </tr>\n",
       "  </thead>\n",
       "  <tbody>\n",
       "    <tr>\n",
       "      <th>0</th>\n",
       "      <td>BenJerrys</td>\n",
       "      <td>Salted Caramel Core</td>\n",
       "      <td>3.7</td>\n",
       "      <td>208</td>\n",
       "      <td>CREAM, SKIM MILK, LIQUID SUGAR (SUGAR, WATER),...</td>\n",
       "    </tr>\n",
       "    <tr>\n",
       "      <th>1</th>\n",
       "      <td>BenJerrys</td>\n",
       "      <td>Netflix &amp; Chilll'd™</td>\n",
       "      <td>4.0</td>\n",
       "      <td>127</td>\n",
       "      <td>CREAM, SKIM MILK, LIQUID SUGAR (SUGAR, WATER),...</td>\n",
       "    </tr>\n",
       "    <tr>\n",
       "      <th>2</th>\n",
       "      <td>BenJerrys</td>\n",
       "      <td>Chip Happens</td>\n",
       "      <td>4.7</td>\n",
       "      <td>130</td>\n",
       "      <td>CREAM, LIQUID SUGAR (SUGAR, WATER), SKIM MILK,...</td>\n",
       "    </tr>\n",
       "    <tr>\n",
       "      <th>3</th>\n",
       "      <td>BenJerrys</td>\n",
       "      <td>Cannoli</td>\n",
       "      <td>3.6</td>\n",
       "      <td>70</td>\n",
       "      <td>CREAM, SKIM MILK, LIQUID SUGAR (SUGAR, WATER),...</td>\n",
       "    </tr>\n",
       "    <tr>\n",
       "      <th>4</th>\n",
       "      <td>BenJerrys</td>\n",
       "      <td>Gimme S’more!™</td>\n",
       "      <td>4.5</td>\n",
       "      <td>281</td>\n",
       "      <td>CREAM, SKIM MILK, WATER, LIQUID SUGAR (SUGAR, ...</td>\n",
       "    </tr>\n",
       "    <tr>\n",
       "      <th>5</th>\n",
       "      <td>BenJerrys</td>\n",
       "      <td>Peanut Butter Half Baked®</td>\n",
       "      <td>4.9</td>\n",
       "      <td>14</td>\n",
       "      <td>CREAM, LIQUID SUGAR (SUGAR, WATER), SKIM MILK,...</td>\n",
       "    </tr>\n",
       "    <tr>\n",
       "      <th>6</th>\n",
       "      <td>BenJerrys</td>\n",
       "      <td>Berry Sweet Mascarpone</td>\n",
       "      <td>4.6</td>\n",
       "      <td>10</td>\n",
       "      <td>CREAM, SKIM MILK, WATER, LIQUID SUGAR (SUGAR, ...</td>\n",
       "    </tr>\n",
       "    <tr>\n",
       "      <th>7</th>\n",
       "      <td>BenJerrys</td>\n",
       "      <td>Chocolate Peanut Butter Split</td>\n",
       "      <td>5.0</td>\n",
       "      <td>7</td>\n",
       "      <td>CREAM, SKIM MILK, LIQUID SUGAR (SUGAR, WATER),...</td>\n",
       "    </tr>\n",
       "    <tr>\n",
       "      <th>8</th>\n",
       "      <td>BenJerrys</td>\n",
       "      <td>Justice ReMix'd ™</td>\n",
       "      <td>4.3</td>\n",
       "      <td>110</td>\n",
       "      <td>CREAM, LIQUID SUGAR (SUGAR, WATER), SKIM MILK,...</td>\n",
       "    </tr>\n",
       "    <tr>\n",
       "      <th>9</th>\n",
       "      <td>BenJerrys</td>\n",
       "      <td>Boots on the Moooo’n™</td>\n",
       "      <td>4.7</td>\n",
       "      <td>42</td>\n",
       "      <td>CREAM, LIQUID SUGAR (SUGAR, WATER), SKIM MILK,...</td>\n",
       "    </tr>\n",
       "  </tbody>\n",
       "</table>\n",
       "</div>"
      ],
      "text/plain": [
       "       brand                           name  rating  rating_count  \\\n",
       "0  BenJerrys            Salted Caramel Core     3.7           208   \n",
       "1  BenJerrys            Netflix & Chilll'd™     4.0           127   \n",
       "2  BenJerrys                   Chip Happens     4.7           130   \n",
       "3  BenJerrys                        Cannoli     3.6            70   \n",
       "4  BenJerrys                 Gimme S’more!™     4.5           281   \n",
       "5  BenJerrys      Peanut Butter Half Baked®     4.9            14   \n",
       "6  BenJerrys         Berry Sweet Mascarpone     4.6            10   \n",
       "7  BenJerrys  Chocolate Peanut Butter Split     5.0             7   \n",
       "8  BenJerrys              Justice ReMix'd ™     4.3           110   \n",
       "9  BenJerrys          Boots on the Moooo’n™     4.7            42   \n",
       "\n",
       "                                         ingredients  \n",
       "0  CREAM, SKIM MILK, LIQUID SUGAR (SUGAR, WATER),...  \n",
       "1  CREAM, SKIM MILK, LIQUID SUGAR (SUGAR, WATER),...  \n",
       "2  CREAM, LIQUID SUGAR (SUGAR, WATER), SKIM MILK,...  \n",
       "3  CREAM, SKIM MILK, LIQUID SUGAR (SUGAR, WATER),...  \n",
       "4  CREAM, SKIM MILK, WATER, LIQUID SUGAR (SUGAR, ...  \n",
       "5  CREAM, LIQUID SUGAR (SUGAR, WATER), SKIM MILK,...  \n",
       "6  CREAM, SKIM MILK, WATER, LIQUID SUGAR (SUGAR, ...  \n",
       "7  CREAM, SKIM MILK, LIQUID SUGAR (SUGAR, WATER),...  \n",
       "8  CREAM, LIQUID SUGAR (SUGAR, WATER), SKIM MILK,...  \n",
       "9  CREAM, LIQUID SUGAR (SUGAR, WATER), SKIM MILK,...  "
      ]
     },
     "execution_count": 4,
     "metadata": {},
     "output_type": "execute_result"
    }
   ],
   "source": [
    "df.head(10)"
   ]
  },
  {
   "attachments": {},
   "cell_type": "markdown",
   "metadata": {},
   "source": [
    "# Correcting the ingredient list and getting an unique list with all Ingredients"
   ]
  },
  {
   "attachments": {},
   "cell_type": "markdown",
   "metadata": {},
   "source": [
    "I aim to generate a unique set of ingredients for each ice cream to analyze how ingredient composition affects ratings. By comparing the ingredient lists of the top 10 and bottom 10 rated ice creams, I hope to identify patterns or key differences.\n",
    "\n",
    "Next, I will use this unique ingredient set to create a dummy matrix as input for machine learning models.\n",
    "\n",
    "However, before proceeding, I need to resolve various formatting issues in the ingredient lists."
   ]
  },
  {
   "cell_type": "markdown",
   "metadata": {},
   "source": [
    "* Data Cleaning"
   ]
  },
  {
   "cell_type": "code",
   "execution_count": 5,
   "metadata": {},
   "outputs": [],
   "source": [
    "# increasing column character limit for better visualization\n",
    "pd.set_option('display.max_colwidth', 50000)"
   ]
  },
  {
   "cell_type": "code",
   "execution_count": 6,
   "metadata": {},
   "outputs": [
    {
     "data": {
      "text/plain": [
       "0                                   cream, skim milk, liquid sugar (sugar, water), water, brown sugar, sugar, milk, wheat flour, egg yolks, corn syrup, eggs, butter (cream, salt), butteroil, pectin, sea salt, soybean oil, vanilla extract, guar gum, soy lecithin, baking powder (sodium acid pyrophosphate, sodium bicarbonate, corn starch, monocalcium phosphate), baking soda, salt, carrageenan, lactase\n",
       "1                                                                          cream, skim milk, liquid sugar (sugar, water), water, sugar, peanuts, wheat flour, canola oil, egg yolks, corn starch, peanut oil, cocoa powder, salt, soybean oil, invert cane sugar, milk fat, eggs, egg whites, guar gum, soy lecithin, tapioca starch, baking soda, carrageenan, vanilla extract, barley malt, malted barley flour\n",
       "2    cream, liquid sugar (sugar, water), skim milk, water, sugar, cocoa (processed with alkali), potato, coconut oil, corn syrup solids, soybean oil, egg yolks, rice starch, sunflower oil, barley malt, cocoa powder, wheat flour, milk, salt, soy lecithin, yeast extract, natural flavor, guar gum, sea salt, milkfat, vanilla extract, enzymes, carrageenan, baking soda. contains milk, eggs, wheat and soy\n",
       "3                                                                                cream, skim milk, liquid sugar (sugar, water),  water, corn syrup, coconut oil, sugar, dried cane syrup, egg yolks, wheat flour, milk, cocoa, natural flavor, guar gum, soy lecithin, butter oil, natural flavors, locust bean gum, salt, citric acid, vanilla bean seeds, soybean oil, tapioca starch, lactic acid, carrageenan\n",
       "4     cream, skim milk, water, liquid sugar (sugar, water), sugar, canola oil, soybean oil, egg yolks, corn syrup, wheat flour, coconut oil, corn starch, cocoa (processed with alkali), corn syrup solids, cocoa, graham flour, salt, egg whites, butteroil, tapioca starch, guar gum, soy lecithin, baking soda, natural flavor, molasses, honey, vanilla extract, pectin, caramelized sugar syrup, carrageenan\n",
       "Name: ingredients_cleaned, dtype: object"
      ]
     },
     "execution_count": 6,
     "metadata": {},
     "output_type": "execute_result"
    }
   ],
   "source": [
    "# leave the ingredients column in lower case.\n",
    "df['ingredients_cleaned'] = df['ingredients'].str.lower()\n",
    "df['ingredients_cleaned'].head()"
   ]
  },
  {
   "cell_type": "code",
   "execution_count": 7,
   "metadata": {},
   "outputs": [],
   "source": [
    "# checking for all unique ingredients to find errors\n",
    "all_ingredients = set()\n",
    "\n",
    "for row in df.iterrows():\n",
    "    ingredients = df.loc[row[0], 'ingredients_cleaned']\n",
    "    for ingredient in ingredients.split(','):\n",
    "        if ingredient not in all_ingredients:\n",
    "            all_ingredients.add(ingredient)\n",
    "\n",
    "# iterrows(): returns a tuple containing the index and the rest of the row"
   ]
  },
  {
   "cell_type": "code",
   "execution_count": 8,
   "metadata": {},
   "outputs": [
    {
     "data": {
      "text/plain": [
       "{'  water',\n",
       " ' acesulfame potassium',\n",
       " ' almond extract',\n",
       " ' almonds',\n",
       " ' almonds roasted in vegetable oil',\n",
       " ' and/or baking soda',\n",
       " ' and/or calcium phosphate',\n",
       " ' and/or canola oil',\n",
       " ' and/or palm oil',\n",
       " ' and/or sunflower oil)',\n",
       " ' anhydrous milkfat',\n",
       " ' annatto (color)',\n",
       " ' annatto (for color)',\n",
       " ' apple juice',\n",
       " ' artificial color',\n",
       " ' artificial flavor',\n",
       " ' artificial flavoring',\n",
       " ' artificial flavors',\n",
       " ' ascorbic acid',\n",
       " ' baking powder',\n",
       " ' baking powder (sodium acid pyrophosphate',\n",
       " ' baking soda',\n",
       " ' baking soda and/or calcium phosphate',\n",
       " ' baking soda. contains milk',\n",
       " ' balsamic vinegar (red wine vinegar',\n",
       " ' banana puree',\n",
       " ' bananas',\n",
       " ' barley malt',\n",
       " ' beet juice (for color)',\n",
       " ' belgian chocolate',\n",
       " ' black carrot concentrate (for color)',\n",
       " ' black cherries',\n",
       " ' black raspberries',\n",
       " ' black raspberry puree',\n",
       " ' blackberry juice concentrate',\n",
       " ' bleached wheat flour',\n",
       " ' blue 1',\n",
       " ' blue 1 lake',\n",
       " ' blue 2',\n",
       " ' blue 2 lake',\n",
       " ' blueberries',\n",
       " ' blueberry puree concentrate',\n",
       " ' bourbon',\n",
       " ' brown sugar',\n",
       " ' brown sugar†',\n",
       " ' butter',\n",
       " ' butter (cream',\n",
       " ' butter (cream)',\n",
       " ' butter (milk)',\n",
       " ' butter oil',\n",
       " ' butterfat',\n",
       " ' butteroil',\n",
       " ' calcium carbonate',\n",
       " ' cane sugar',\n",
       " ' canola oil',\n",
       " ' caramel (for color)',\n",
       " ' caramel color',\n",
       " ' caramel flavor',\n",
       " ' caramel swirl',\n",
       " ' caramelized sugar',\n",
       " ' caramelized sugar syrup',\n",
       " ' carnauba wax',\n",
       " ' carob bean',\n",
       " ' carob bean gum',\n",
       " ' carob bean gum)',\n",
       " ' carob gum',\n",
       " ' carrageenan',\n",
       " ' carrot juice concentrate',\n",
       " ' carrot powder (color)',\n",
       " ' cellulose gum',\n",
       " ' cheese culture',\n",
       " ' cheese cultures',\n",
       " ' cheesecake base',\n",
       " ' cheesecake pieces with graham crust',\n",
       " ' cherries',\n",
       " ' cherry and black carrot concentrates (for color)',\n",
       " ' cherry concentrate (for color)',\n",
       " ' cherry juice concentrate',\n",
       " ' cherry puree',\n",
       " ' chocolate',\n",
       " ' chocolate (processed with alkali)',\n",
       " ' chocolate chip cookies',\n",
       " ' chocolate chips (sugar',\n",
       " ' chocolate cookie pieces',\n",
       " ' chocolate flavored coating',\n",
       " ' chocolate liquor',\n",
       " ' chocolate liquor (processed with alkali)',\n",
       " ' chocolate processed with alkali',\n",
       " ' chocolatey chips',\n",
       " ' chocolatey coated peanuts',\n",
       " ' chocolaty coated cone pieces',\n",
       " ' cinnamon',\n",
       " ' citric acid',\n",
       " ' citric acid (to maintain freshness)',\n",
       " ' cloves',\n",
       " ' cocoa',\n",
       " ' cocoa (processed with alkali)',\n",
       " ' cocoa butter',\n",
       " ' cocoa butter)',\n",
       " ' cocoa butter. dark chocolate and vegetable oil coating with peppermint candy pieces: dark chocolate (sugar',\n",
       " ' cocoa powder',\n",
       " ' cocoa powder (processed with alkali)',\n",
       " ' cocoa processed with alkali',\n",
       " ' coconut',\n",
       " ' coconut and soybean and sunflower oils',\n",
       " ' coconut and soybean oil',\n",
       " ' coconut concentrate',\n",
       " ' coconut cream',\n",
       " ' coconut cream (coconut extract',\n",
       " ' coconut extract',\n",
       " ' coconut oil',\n",
       " ' coconut oil. chocolate cookie: bleached wheat flour',\n",
       " ' coconut oil. contains: milk',\n",
       " ' coffee',\n",
       " ' coffee extract',\n",
       " ' coffee extract concentrate',\n",
       " ' coffee ice cream',\n",
       " ' color added',\n",
       " ' condensed milk',\n",
       " ' condensed skim milk',\n",
       " ' cone pieces',\n",
       " \" confectioner's glaze\",\n",
       " ' corn maltodextrin',\n",
       " ' corn oil',\n",
       " ' corn starch',\n",
       " ' corn starch)',\n",
       " ' corn syrup',\n",
       " ' corn syrup solids',\n",
       " ' corn syrup†',\n",
       " ' cornstarch',\n",
       " ' cornstarch)',\n",
       " ' cottonseed oil',\n",
       " ' cream',\n",
       " ' cream (milk)',\n",
       " ' cream cheese',\n",
       " ' cream cheese (cream',\n",
       " ' cream cheese (cultured pasteurized milk and cream',\n",
       " ' cream cheese (milk',\n",
       " ' cream cheese (pasteurized milk',\n",
       " ' cream cheese (pasteurized milk and cream',\n",
       " ' cream of tartar',\n",
       " ' dark chocolate',\n",
       " ' dark chocolate (belgian chocolate',\n",
       " ' desiccated coconut',\n",
       " ' dextrin',\n",
       " ' dextrose',\n",
       " ' dextrose†',\n",
       " ' dried apples',\n",
       " ' dried cane syrup',\n",
       " ' dry malt extract (barley)',\n",
       " ' dutched cocoa (processed with alkali)',\n",
       " ' egg',\n",
       " ' egg and egg yolk',\n",
       " ' egg and soy ingredients',\n",
       " ' egg whites',\n",
       " ' egg yolk and egg',\n",
       " ' egg yolk and whole egg',\n",
       " ' egg yolks',\n",
       " ' egg yolks and egg whites',\n",
       " ' egg yolks. chocolaty coating: sugar',\n",
       " ' eggs',\n",
       " ' enriched flour',\n",
       " ' enriched flour (wheat flour',\n",
       " ' enriched wheat flour',\n",
       " ' enriched wheat flour (wheat flour',\n",
       " ' enzymes',\n",
       " ' enzymes)',\n",
       " ' erythritol',\n",
       " ' evaporated milk',\n",
       " ' expeller pressed soybean oil',\n",
       " ' folic acid',\n",
       " ' folic acid)',\n",
       " ' fructose',\n",
       " ' fruit and vegetable concentrates (color)',\n",
       " ' fruit and vegetable juice (for color)',\n",
       " ' fudge coating',\n",
       " ' fudge covered waffle cone pieces',\n",
       " ' fudge swirl',\n",
       " ' ginger',\n",
       " ' glycerin',\n",
       " ' graham crumb',\n",
       " ' graham flour',\n",
       " ' grape juice concentrate',\n",
       " ' grape must)',\n",
       " ' green tea',\n",
       " ' ground heath toffee pieces',\n",
       " ' ground vanilla beans',\n",
       " ' guar',\n",
       " ' guar gum',\n",
       " ' guar gum)',\n",
       " ' hazelnuts',\n",
       " ' heath toffee bar pieces',\n",
       " ' heavy cream',\n",
       " ' hibiscus flower',\n",
       " ' hibiscus powder',\n",
       " ' high fructose corn syrup',\n",
       " ' honey',\n",
       " ' hydrogenated vegetable oil',\n",
       " ' invert cane sugar',\n",
       " ' invert sugar',\n",
       " ' lactase',\n",
       " ' lactase enzyme',\n",
       " ' lactic acid',\n",
       " ' lactose',\n",
       " ' lactose reduced skim milk',\n",
       " ' leavening',\n",
       " ' lecithin (soy)',\n",
       " ' lemon juice',\n",
       " ' lemon juice concentrate',\n",
       " ' lemon oil',\n",
       " ' lemon peel',\n",
       " ' lime juice concentrate',\n",
       " ' liquid sugar',\n",
       " ' liquid sugar (sugar',\n",
       " ' locust bean',\n",
       " ' locust bean gum',\n",
       " \" m&m's minis milk chocolate candies with cocoa butter\",\n",
       " ' malic acid',\n",
       " ' malted barley flour',\n",
       " ' maltitol',\n",
       " ' maltitol syrup',\n",
       " ' maltodextrin (corn)',\n",
       " ' mango',\n",
       " ' mango puree',\n",
       " ' maple syrup',\n",
       " ' milk',\n",
       " ' milk chocolate',\n",
       " ' milk chocolate and vegetable oil coating',\n",
       " ' milk chocolate candies',\n",
       " ' milk fat',\n",
       " ' milk protein concentrate',\n",
       " ' milkfat',\n",
       " ' mint leaf extractives',\n",
       " ' modified corn starch',\n",
       " ' modified cornstarch',\n",
       " ' modified food starch (corn)',\n",
       " ' modified food starch (tapioca)',\n",
       " ' molasses',\n",
       " ' molasses†',\n",
       " ' mono and diglycerides',\n",
       " ' monocalcium phosphate',\n",
       " ' monocalcium phosphate)',\n",
       " ' natural flavor',\n",
       " ' natural flavor (coconut)',\n",
       " ' natural flavor)',\n",
       " ' natural flavors',\n",
       " ' natural flavors (contains barley)',\n",
       " ' niacin',\n",
       " ' nonfat dry milk',\n",
       " ' nonfat milk',\n",
       " ' nonfat milk solids',\n",
       " ' nutmeg',\n",
       " ' oakwood extract',\n",
       " ' oats',\n",
       " ' orange juice (from concentrate)',\n",
       " ' orange juice concentrate',\n",
       " ' oreo cookie pieces',\n",
       " ' organic black cocoa processed with alkali',\n",
       " ' organic butter (cream',\n",
       " ' organic butter (organic cream',\n",
       " ' organic cane sugar',\n",
       " ' organic caramelized sugar (organic cane sugar',\n",
       " ' organic carob bean gum',\n",
       " ' organic chocolate',\n",
       " ' organic cocoa processed with alkali',\n",
       " ' organic cream',\n",
       " ' organic dextrose',\n",
       " ' organic egg whites and egg yolks',\n",
       " ' organic egg yolks',\n",
       " ' organic ginger',\n",
       " ' organic green tea',\n",
       " ' organic lemon juice concentrate',\n",
       " ' organic matcha green tea',\n",
       " ' organic milk',\n",
       " ' organic vanilla extract',\n",
       " ' palm and palm kernel oil',\n",
       " ' palm and soybean oils',\n",
       " ' palm kernel',\n",
       " ' palm kernel oil',\n",
       " ' palm oil',\n",
       " ' palm oil and soybean oil',\n",
       " ' palm oil and/or canola oil',\n",
       " ' partially defatted peanut flour',\n",
       " ' pasteurized eggs',\n",
       " ' pasteurized milk',\n",
       " ' pasteurized milk and cream',\n",
       " ' pasteurized whole eggs',\n",
       " ' pea protein',\n",
       " ' peaches',\n",
       " ' peanut butter (peanuts)',\n",
       " ' peanut extract',\n",
       " ' peanut flour',\n",
       " ' peanut oil',\n",
       " ' peanut oil)',\n",
       " ' peanuts',\n",
       " ' pecans',\n",
       " ' pectin',\n",
       " ' pectin. caramel swirl: brown sugar',\n",
       " ' peppermint bark pieces (sugar',\n",
       " ' peppermint candy pieces: (sugar',\n",
       " ' peppermint extract',\n",
       " ' peppermint oil',\n",
       " ' peppermint oil)',\n",
       " ' peppermint twists candy (sugar',\n",
       " ' pgpr',\n",
       " ' pgpr (emulsifier)',\n",
       " ' pineapple',\n",
       " ' pistachio paste',\n",
       " ' pistachios',\n",
       " ' pistachios and soy ingredients',\n",
       " ' plum',\n",
       " ' plum concentrate (for color)',\n",
       " ' polydextrose',\n",
       " ' potassium sorbate (preservative)',\n",
       " ' potato',\n",
       " ' potato flour',\n",
       " ' powdered sugar',\n",
       " ' powdered sugar (cane sugar',\n",
       " ' processed vanilla beans',\n",
       " ' propylene glycol monoesters',\n",
       " ' pumpkin',\n",
       " ' pumpkin juice concentrate',\n",
       " ' pumpkin puree',\n",
       " ' raisins',\n",
       " ' raspberry puree',\n",
       " ' raspberry puree concentrate',\n",
       " ' raspberry swirl',\n",
       " ' reb a (stevia leaf extract)',\n",
       " ' red 40',\n",
       " ' red 40 lake',\n",
       " ' red cabbage juice (color)',\n",
       " ' red cabbage juice concentrate (for color)',\n",
       " ' reduced iron',\n",
       " \" reese's mini pieces\",\n",
       " \" reese's peanut butter cup pieces\",\n",
       " \" reese's peanut butter cups\",\n",
       " \" reese's peanut butter sauce\",\n",
       " \" reese's peanut butter swirl\",\n",
       " ' riboflavin',\n",
       " ' riboflavin (vitamin b2)',\n",
       " ' rice flour',\n",
       " ' rice starch',\n",
       " ' roasted almonds',\n",
       " ' roasted almonds (almonds',\n",
       " ' roasted peanuts',\n",
       " ' rolled oats',\n",
       " ' rum',\n",
       " ' safflower',\n",
       " ' safflower oil',\n",
       " ' salt',\n",
       " ' salt)',\n",
       " ' salt). organic glucose syrup',\n",
       " ' salt. dark chocolate and vegetable oil coating: dark chocolate (sugar',\n",
       " ' salt. roasted pistachios: pistachios',\n",
       " ' sea salt',\n",
       " ' semi-sweet chocolate chunks',\n",
       " ' skim milk',\n",
       " ' skim milk powder',\n",
       " ' snickers pieces*',\n",
       " ' sodium acid pyrophosphate',\n",
       " ' sodium bicarbonate',\n",
       " ' sodium caseinate',\n",
       " ' sodium citrate',\n",
       " ' soluble corn fiber',\n",
       " ' sorbitol',\n",
       " ' soy lecithin',\n",
       " ' soy lecithin (emulsifier)',\n",
       " ' soy lecithin natural flavor',\n",
       " ' soy lecithin)',\n",
       " ' soy lecithin.\\ncontains: milk',\n",
       " ' soy lecithin. caramel swirl: sweetened condensed milk (milk',\n",
       " ' soy lecithin. may contain other tree nuts',\n",
       " ' soy lecithin. salted caramel swirl: corn syrup',\n",
       " ' soybean',\n",
       " ' soybean lecithin',\n",
       " ' soybean oil',\n",
       " ' soybean oil. salted fudge swirl: powdered cane sugar (cane sugar',\n",
       " ' spice',\n",
       " ' spices',\n",
       " ' strawberries',\n",
       " ' strawberry puree',\n",
       " ' strawberry swirl',\n",
       " ' sucralose',\n",
       " ' sugar',\n",
       " ' sugar)',\n",
       " ' sugar†',\n",
       " ' sunflower lecithin',\n",
       " ' sunflower oil',\n",
       " ' sweetened condensed milk',\n",
       " ' sweetened condensed milk (condensed milk sugar)',\n",
       " ' sweetened condensed milk (milk',\n",
       " ' sweetened condensed skim milk (skim milk',\n",
       " ' sweetened lemon zest',\n",
       " ' tapioca flour',\n",
       " ' tapioca starch',\n",
       " ' tapioca syrup',\n",
       " ' tara',\n",
       " ' tara gum',\n",
       " ' tbhq (preservative)',\n",
       " ' tbhq (to maintain freshness)',\n",
       " ' tbhq and citric acid (to maintain freshness)',\n",
       " ' thaimin mononitrate',\n",
       " ' thiamin mononitrate',\n",
       " ' thiamin mononitrate (vitamin b1)',\n",
       " ' thiamine mononitrate',\n",
       " ' thiamine mononitrate (vitamin b1)',\n",
       " ' toffee',\n",
       " ' unbleached enriched flour',\n",
       " ' unbleached enriched wheat flour',\n",
       " ' unbleached unenriched wheat flour',\n",
       " ' unsweetened chocolate',\n",
       " ' vanilla',\n",
       " ' vanilla bean seeds',\n",
       " ' vanilla beans',\n",
       " ' vanilla extract',\n",
       " ' vanilla extract)',\n",
       " ' vanilla extract. chocolate chunks with vegetable oil: belgian chocolate (sugar',\n",
       " ' vanilla extract. chocolaty coating: sugar',\n",
       " ' vanilla extract. dark chocolate drizzle with vegetable oil: dark chocolate (sugar',\n",
       " ' vanilla extract. milk chocolate and vegetable oil coating: milk chocolate (sugar',\n",
       " ' vanilla)',\n",
       " ' vanillin',\n",
       " ' vanillin (artificial flavor)',\n",
       " ' vegetable gum (guar)',\n",
       " ' vegetable gum (tara)',\n",
       " ' vegetable gums',\n",
       " ' vegetable juice (for color)',\n",
       " ' vegetable juice concentrate color.\\ncontains: milk',\n",
       " ' vegetable oil',\n",
       " ' vegetable oil (canola',\n",
       " ' vermouth',\n",
       " ' vitamin a palmitate',\n",
       " ' waffle cone',\n",
       " ' waffle cone pieces',\n",
       " ' walnuts',\n",
       " ' water',\n",
       " ' water)',\n",
       " ' wheat and soy',\n",
       " ' wheat bran',\n",
       " ' wheat flour',\n",
       " ' wheat germ',\n",
       " ' whey',\n",
       " ' whey protein concentrate',\n",
       " ' whiskey',\n",
       " ' whole egg',\n",
       " ' whole egg and egg yolk',\n",
       " ' whole eggs',\n",
       " ' whole milk powder',\n",
       " ' whole wheat graham flour',\n",
       " ' whole wheat/graham flour',\n",
       " ' wine',\n",
       " ' xanthan gum',\n",
       " ' xanthan gum)',\n",
       " ' yeast extract',\n",
       " ' yellow 5',\n",
       " ' yellow 5 lake',\n",
       " ' yellow 6',\n",
       " ' yellow 6 lake',\n",
       " 'almond milk',\n",
       " 'cane sugar',\n",
       " 'caramel ice cream: cream',\n",
       " 'chocolate ice cream: cream',\n",
       " 'coconut cream',\n",
       " 'coconut cream (coconut extract',\n",
       " 'cream',\n",
       " 'ingredients: organic skim milk',\n",
       " 'mangos',\n",
       " 'milk',\n",
       " 'nonfat milk',\n",
       " 'organic skim milk',\n",
       " 'peanut butter frozen dessert: water',\n",
       " 'raspberries',\n",
       " 'skim milk',\n",
       " 'sugar)',\n",
       " 'thiamin mononitrate',\n",
       " 'ulce de leche ice cream: cream',\n",
       " 'vanilla extract',\n",
       " 'vanilla ice cream',\n",
       " 'vanilla ice cream: cream',\n",
       " 'water',\n",
       " 'weet cream ice cream: cream',\n",
       " 'white chocolate ice cream',\n",
       " 'white chocolate ice cream (cream',\n",
       " 'white chocolate ice cream: cream'}"
      ]
     },
     "execution_count": 8,
     "metadata": {},
     "output_type": "execute_result"
    }
   ],
   "source": [
    "#printing the all_ingredients set to check formatting problems\n",
    "all_ingredients"
   ]
  },
  {
   "cell_type": "markdown",
   "metadata": {},
   "source": [
    "We can identify several issues with the ingredient descriptions which can make the data harder to clean and standardize. These issues include:\n",
    "\n",
    "1) Parentheses capturing content:\n",
    "The descriptions often include parentheses that capture sub-ingredients or additional details, which need to be handled carefully to extract meaningful information.\n",
    "\n",
    "2) Logical Operators (AND/OR):\n",
    "The use of logical terms like \"AND\" and \"OR\" in ingredient lists can create ambiguity, especially when determining whether multiple ingredients are required or optional.\n",
    "\n",
    "3) Special Characters:\n",
    "The presence of special characters (e.g., commas, semicolons, slashes) can complicate parsing and analysis, as they may not consistently represent separators or relationships between ingredients.\n",
    "\n",
    "4) Excess Whitespace:\n",
    "Inconsistent or excessive use of whitespace (e.g., extra spaces, tabs, or newlines).\n",
    "\n",
    "4) Synonyms or Equivalent Ingredients:\n",
    "The use of synonyms or alternative names for the same ingredient (e.g., \"sugar\" vs. \"cane sugar\") can lead to duplication or inconsistency.\n",
    "\n",
    "Addressing these issues is crucial for ensuring accurate analysis and modeling of the ingredient data."
   ]
  },
  {
   "cell_type": "code",
   "execution_count": 9,
   "metadata": {},
   "outputs": [
    {
     "data": {
      "text/plain": [
       "0                                                                                                            cream, skim milk, liquid sugar , water, brown sugar, sugar, milk, wheat flour, egg yolks, corn syrup, eggs, butter , butteroil, pectin, sea salt, soybean oil, vanilla extract, guar gum, soy lecithin, baking powder , baking soda, salt, carrageenan, lactase\n",
       "1                                                   cream, skim milk, liquid sugar , water, sugar, peanuts, wheat flour, canola oil, egg yolks, corn starch, peanut oil, cocoa powder, salt, soybean oil, invert cane sugar, milk fat, eggs, egg whites, guar gum, soy lecithin, tapioca starch, baking soda, carrageenan, vanilla extract, barley malt, malted barley flour\n",
       "2    cream, liquid sugar , skim milk, water, sugar, cocoa , potato, coconut oil, corn syrup solids, soybean oil, egg yolks, rice starch, sunflower oil, barley malt, cocoa powder, wheat flour, milk, salt, soy lecithin, yeast extract, natural flavor, guar gum, sea salt, milkfat, vanilla extract, enzymes, carrageenan, baking soda. contains milk, eggs, wheat and soy\n",
       "3                                                         cream, skim milk, liquid sugar ,  water, corn syrup, coconut oil, sugar, dried cane syrup, egg yolks, wheat flour, milk, cocoa, natural flavor, guar gum, soy lecithin, butter oil, natural flavors, locust bean gum, salt, citric acid, vanilla bean seeds, soybean oil, tapioca starch, lactic acid, carrageenan\n",
       "4     cream, skim milk, water, liquid sugar , sugar, canola oil, soybean oil, egg yolks, corn syrup, wheat flour, coconut oil, corn starch, cocoa , corn syrup solids, cocoa, graham flour, salt, egg whites, butteroil, tapioca starch, guar gum, soy lecithin, baking soda, natural flavor, molasses, honey, vanilla extract, pectin, caramelized sugar syrup, carrageenan\n",
       "Name: ingredients_cleaned, dtype: object"
      ]
     },
     "execution_count": 9,
     "metadata": {},
     "output_type": "execute_result"
    }
   ],
   "source": [
    "# using regex module to eliminate content inside parentheses '()'\n",
    "df['ingredients_cleaned'] = df['ingredients_cleaned'].str.replace(r'\\([^()]*\\)',\"\", regex=True)\n",
    "df['ingredients_cleaned'].head() # checking"
   ]
  },
  {
   "cell_type": "code",
   "execution_count": 10,
   "metadata": {},
   "outputs": [
    {
     "data": {
      "text/plain": [
       "0                                                                                                             cream, skim milk, liquid sugar, water, brown sugar, sugar, milk, wheat flour, egg yolks, corn syrup, eggs, butter, butteroil, pectin, sea salt, soybean oil, vanilla extract, guar gum, soy lecithin, baking powder, baking soda, salt, carrageenan, lactase\n",
       "1                                                  cream, skim milk, liquid sugar, water, sugar, peanuts, wheat flour, canola oil, egg yolks, corn starch, peanut oil, cocoa powder, salt, soybean oil, invert cane sugar, milk fat, eggs, egg whites, guar gum, soy lecithin, tapioca starch, baking soda, carrageenan, vanilla extract, barley malt, malted barley flour\n",
       "2    cream, liquid sugar, skim milk, water, sugar, cocoa, potato, coconut oil, corn syrup solids, soybean oil, egg yolks, rice starch, sunflower oil, barley malt, cocoa powder, wheat flour, milk, salt, soy lecithin, yeast extract, natural flavor, guar gum, sea salt, milkfat, vanilla extract, enzymes, carrageenan, baking soda. contains milk, eggs, wheat and soy\n",
       "3                                                         cream, skim milk, liquid sugar, water, corn syrup, coconut oil, sugar, dried cane syrup, egg yolks, wheat flour, milk, cocoa, natural flavor, guar gum, soy lecithin, butter oil, natural flavors, locust bean gum, salt, citric acid, vanilla bean seeds, soybean oil, tapioca starch, lactic acid, carrageenan\n",
       "4     cream, skim milk, water, liquid sugar, sugar, canola oil, soybean oil, egg yolks, corn syrup, wheat flour, coconut oil, corn starch, cocoa, corn syrup solids, cocoa, graham flour, salt, egg whites, butteroil, tapioca starch, guar gum, soy lecithin, baking soda, natural flavor, molasses, honey, vanilla extract, pectin, caramelized sugar syrup, carrageenan\n",
       "Name: ingredients_cleaned, dtype: object"
      ]
     },
     "execution_count": 10,
     "metadata": {},
     "output_type": "execute_result"
    }
   ],
   "source": [
    "# using regex module to remove excess of whitespace\n",
    "df['ingredients_cleaned'] = df['ingredients_cleaned'].str.replace(r'\\s*,\\s*',\", \", regex=True)\n",
    "df['ingredients_cleaned'].head() # checking results"
   ]
  },
  {
   "cell_type": "code",
   "execution_count": 11,
   "metadata": {},
   "outputs": [],
   "source": [
    "# since this will be a repetitive task, let's create a function to split, correct, and process the text.\n",
    "def ingredients_processing(text):\n",
    "    bool = df['ingredients_cleaned'].str.contains(text, regex=False)\n",
    "    val_to_replace = df['ingredients_cleaned'][bool].str.split(text).str[0]\n",
    "    df['ingredients_cleaned'] = df['ingredients_cleaned'].mask(bool, val_to_replace)\n",
    "    return"
   ]
  },
  {
   "cell_type": "code",
   "execution_count": 12,
   "metadata": {},
   "outputs": [],
   "source": [
    "# problematic text: spliting by and selecting only first column\n",
    "problematic_text_ingredients_list = ['\\ncontains', 'contains', '.']\n",
    "\n",
    "for text in problematic_text_ingredients_list:\n",
    "    ingredients_processing(text)"
   ]
  },
  {
   "cell_type": "code",
   "execution_count": 13,
   "metadata": {},
   "outputs": [
    {
     "data": {
      "text/plain": [
       "0                                                                                                                                                                                                                                                                                                                                                                                                                                                                                                                                                                                                                                                                     cream, skim milk, liquid sugar, water, brown sugar, sugar, milk, wheat flour, egg yolks, corn syrup, eggs, butter, butteroil, pectin, sea salt, soybean oil, vanilla extract, guar gum, soy lecithin, baking powder, baking soda, salt, carrageenan, lactase\n",
       "1                                                                                                                                                                                                                                                                                                                                                                                                                                                                                                                                                                                                          cream, skim milk, liquid sugar, water, sugar, peanuts, wheat flour, canola oil, egg yolks, corn starch, peanut oil, cocoa powder, salt, soybean oil, invert cane sugar, milk fat, eggs, egg whites, guar gum, soy lecithin, tapioca starch, baking soda, carrageenan, vanilla extract, barley malt, malted barley flour\n",
       "2                                                                                                                                                                                                                                                                                                                                                                                                                                                                                                                                                                                                cream, liquid sugar, skim milk, water, sugar, cocoa, potato, coconut oil, corn syrup solids, soybean oil, egg yolks, rice starch, sunflower oil, barley malt, cocoa powder, wheat flour, milk, salt, soy lecithin, yeast extract, natural flavor, guar gum, sea salt, milkfat, vanilla extract, enzymes, carrageenan, baking soda\n",
       "3                                                                                                                                                                                                                                                                                                                                                                                                                                                                                                                                                                                                                 cream, skim milk, liquid sugar, water, corn syrup, coconut oil, sugar, dried cane syrup, egg yolks, wheat flour, milk, cocoa, natural flavor, guar gum, soy lecithin, butter oil, natural flavors, locust bean gum, salt, citric acid, vanilla bean seeds, soybean oil, tapioca starch, lactic acid, carrageenan\n",
       "4                                                                                                                                                                                                                                                                                                                                                                                                                                                                                                                                                             cream, skim milk, water, liquid sugar, sugar, canola oil, soybean oil, egg yolks, corn syrup, wheat flour, coconut oil, corn starch, cocoa, corn syrup solids, cocoa, graham flour, salt, egg whites, butteroil, tapioca starch, guar gum, soy lecithin, baking soda, natural flavor, molasses, honey, vanilla extract, pectin, caramelized sugar syrup, carrageenan\n",
       "                                                                                                                                                                                                                                                                                                                                                                                                                                                                  ...                                                                                                                                                                                                                                                                                                                                                                                                                                                             \n",
       "236                                                                                                                                                                                                                                                                                                                                                                                                                                                                                                      milk, corn syrup, sugar, brown sugar, soybean oil, water, butter, cream, salt, corn syrup, spice, salt, soybean lecithin, vanilla extract, dried cane syrup, unbleached unenriched wheat flour, coconut oil, water, butter, cream, salt, molasses, sodium bicarbonate, spice, corn syrup, soy lecithin, salt, fructose, coconut oil, whey, cream, vegetable gums, guar, carob bean, mono and diglycerides, natural flavor\n",
       "237                                                                                                                                                                                                                                                                                                                                                                                                                                                                                 milk, water, caramel swirl, sugar, water, corn syrup, high fructose corn syrup, nonfat milk solids, butter, cream, salt, salt, molasses, pectin, soy lecithin, natural flavor, potassium sorbate, sodium citrate, lactic acid, maltitol syrup, polydextrose, coconut oil, whey, glycerin, cream, soluble corn fiber, vegetable gums, carob bean gum, guar gum, caramel, mono and diglycerides, natural flavor, acesulfame potassium, sucralose\n",
       "238                                                                                                                                                                                                                                                                                                                                                                                                                                                                                                                                       milk, corn syrup, sugar, wheat flour, butter, cream, salt, palm oil, corn syrup, nonfat milk, water, rice flour, natural flavors, salt, wheat flour, sugar, palm oil, molasses, spices, salt, baking soda, natural flavor, soybean lecithin, fructose, coconut oil, dutched cocoa, whey, cream, vegetable gums, guar, carob bean, mono and diglycerides, natural flavor, vanilla extract\n",
       "239                                                                                                                                                                                                                                                                                                                                                                                                                                                                                                                             milk, corn syrup, enriched wheat flour, wheat flour, niacin, reduced iron, thiamin mononitrate, riboflavin, folic acid, sugar, butter, cream, salt, canola oil, skim milk powder, salt, sodium bicarbonate, peaches, fructose, coconut oil, sugar, whey, cream, vegetable gums, guar gum, carob bean gum, tara gum, mono and diglycerides, natural flavor, vanilla beans, annatto, vanilla extract\n",
       "240    milk, corn syrup, sugar, enriched wheat flour, wheat flour, niacin, reduced iron, thiamine mononitrate, riboflavin, folic acid, powdered sugar, sugar, cornstarch, cocoa, water, palm kernel oil, soybean oil, nonfat dry milk, soy lecithin, natural flavors, fructose, cheesecake pieces with graham crust, cream cheese, pasteurized milk, cream, cheese cultures, salt, carob bean gum, sugar, pasteurized whole eggs, graham crumb, unbleached unenriched wheat flour, whole wheat/graham flour, sugar, canola oil, molasses, honey, salt, sodium bicarbonate, cornstarch, palm oil, natural flavor, sweetened lemon zest, lemon peel, sugar, lemon oil, guar gum, coconut oil, dutched cocoa, whey, cream, cream cheese, pasteurized milk, cream, cheese cultures, salt, carob bean gum, dried cane syrup, vegetable gums, guar, carob bean gum, mono and diglycerides, natural flavor, salt, pectin, sugar, annatto \n",
       "Name: ingredients_cleaned, Length: 241, dtype: object"
      ]
     },
     "execution_count": 13,
     "metadata": {},
     "output_type": "execute_result"
    }
   ],
   "source": [
    "# observations with ':' problem - spliting by and selecting only second column\n",
    "bool = df['ingredients_cleaned'].str.contains(\":\", regex=False)\n",
    "val_to_replace = df['ingredients_cleaned'][bool].str.split(\": \").str[1] # here we will use the second column, not the first\n",
    "df['ingredients_cleaned'] = df['ingredients_cleaned'].mask(bool, val_to_replace)\n",
    "\n",
    "df['ingredients_cleaned'] #checking results (It looks like all the rows are blank, but in reality, the last row has more ingredients. Scroll to the right to check.)"
   ]
  },
  {
   "cell_type": "markdown",
   "metadata": {},
   "source": [
    "* Data Treatment: Manual Correction"
   ]
  },
  {
   "cell_type": "code",
   "execution_count": 14,
   "metadata": {},
   "outputs": [],
   "source": [
    "# checking tests (all tests needs to be False)\n",
    "\n",
    "#df[df['ingredients_cleaned'].str.contains(\"mono and diglycerides\", regex=False)] == True\n",
    "#df[df['ingredients_cleaned'].str.contains(\" and \", regex=False)] == True\n",
    "#df[df['ingredients_cleaned'].str.contains(\"and/or\", regex=False)] == True\n",
    "#df[df['ingredients_cleaned'].str.contains(\"†\", regex=False)] == True\n",
    "#df[df['ingredients_cleaned'].str.contains(\"*\", regex=False)] == True\n",
    "#df[df['ingredients_cleaned'].str.contains(\")\", regex=False)] == True\n",
    "#df[df['ingredients_cleaned'].str.contains(\"/\", regex=False)] == True\n",
    "#df[df['ingredients_cleaned'].str.contains(\"vanilla ice cream\", regex=False) == True]"
   ]
  },
  {
   "cell_type": "code",
   "execution_count": 15,
   "metadata": {},
   "outputs": [],
   "source": [
    "# treating the problem with 'mono and diglycerides'\n",
    "df['ingredients_cleaned'] = df['ingredients_cleaned'].str.replace(\"mono and diglycerides\", \"monoglycerides, diglycerides\", regex=False)"
   ]
  },
  {
   "cell_type": "code",
   "execution_count": 16,
   "metadata": {},
   "outputs": [],
   "source": [
    "# treating the problem with 'and/or' + 'and':\n",
    "unwanted_text = [' and ', 'and/or']\n",
    "\n",
    "for word in unwanted_text:\n",
    "    df['ingredients_cleaned'] = df['ingredients_cleaned'].str.replace(word, ',', regex=False)"
   ]
  },
  {
   "cell_type": "code",
   "execution_count": 17,
   "metadata": {},
   "outputs": [],
   "source": [
    "# replacing strange text to ''\n",
    "unwanted_text = ['†', ')' , 'organic', 'pasteurized','(sugar', 'unbleached', 'enriched', 'unenriched', 'vanilla ice cream', 'coffee ice cream', 'white chocolate ice cream', \n",
    "'unsweetened', 'whole', 'pieces', 'concentrates', 'concentrate', 'juice', 'pasteurized', 'puree',  'vegetable s', ' lake']\n",
    "\n",
    "for word in unwanted_text:\n",
    "    df['ingredients_cleaned'] = df['ingredients_cleaned'].str.replace(word, '', regex=False)"
   ]
  },
  {
   "cell_type": "code",
   "execution_count": 18,
   "metadata": {},
   "outputs": [],
   "source": [
    "# replacing strange text to ' '\n",
    "unwanted_text = ['*', '/']\n",
    "\n",
    "for word in unwanted_text:\n",
    "    df['ingredients_cleaned'] = df['ingredients_cleaned'].str.replace(word, ' ', regex=False)"
   ]
  },
  {
   "cell_type": "markdown",
   "metadata": {},
   "source": [
    "### Word Correcting\n",
    "\n",
    "First Attempt: PorterStemmer() and stem() Function\n",
    "- The PorterStemmer() and stem() functions break down words into their root forms, helping to reduce redundancy (e.g., \"egg\" vs. \"eggs\"). These libraries, based on common English language suffixes, can be effective for standardizing text. However, the results were not consistently satisfactory.\n",
    "\n",
    "<br>\n",
    "\n",
    "Second Attempt: Manual Approach\n",
    "- I’m feeling a bit frustrated with the need to check everything manually. I initially tried using the PorterStemmer to automate the process, but after running several tests, I’m not confident in this method due to the high number of errors it generates."
   ]
  },
  {
   "cell_type": "code",
   "execution_count": 19,
   "metadata": {},
   "outputs": [],
   "source": [
    "# Creating a dictionary\n",
    "word_correcting = {\"reese's mini \": \"reese's peanut butter\", \"reese's peanut butter cup \": \"reese's peanut butter\", \"reese's peanut butter cups\": \"reese's peanut butter\",\n",
    "                   \"reese's peanut butter sauce\": \"reese's peanut butter\", \"reese's peanut butter swirl\": \"reese's peanut butter\", 'almonds roasted in vegetable oil': 'almonds',\n",
    "                   'roasted almonds': 'almonds', 'dried apples': 'apple', 'apples': 'apple', 'artificial color lake': 'artificial color', 'color added': 'artificial color',\n",
    "                   'annatto': 'artificial color', 'blue 1': 'artificial color', 'blue 1': 'artificial color', 'blue 1 lake': 'artificial color', 'blue 2': 'artificial color',\n",
    "                   'blue 2 lake': 'artificial color', 'yellow 5': 'artificial color', 'yellow 5 lake': 'artificial color', 'yellow 6': 'artificial color', 'yellow 6 lake': 'artificial color',\n",
    "                   'red 40': 'artificial color', 'red 40 lake': 'artificial color', 'reb a': 'artificial color', 'artificial color lake': 'artificial color',\n",
    "                   'artificial flavoring': 'artificial flavor', 'artificial flavors': 'artificial flavor', 'banana puree': 'banana', 'bananas': 'banana', 'black carrot s': 'black carrot',\n",
    "                   'black raspberry puree': 'black raspberry', 'black raspberries': 'black raspberry', 'blueberries': 'blueberry', 'butteroil': 'butter', 'butterfat': 'butter',\n",
    "                   'butter oil': 'butter', 'dried cane syrup': 'cane syrup', 'caramelized sugar': 'caramel', 'caramel color': 'caramel', 'caramel flavor': 'caramel',\n",
    "                   'caramel swirl': 'caramel', 'caramel syrup': 'caramel', 'caramelized sugar syrup': 'caramelized sugar', 'carob bean': 'carob bean gum', 'carob gum': 'carob bean gum',\n",
    "                   'cheese cultures': 'cheese culture', 'cherries': 'cherry', 'cherry': 'cherry', 'cherry puree': 'cherry', 'cherry concentrate': 'cherry', 'cherry juice concentrate': 'cherry',\n",
    "                   'chocolate chip cookies': 'chocolate', 'chocolate chips': 'chocolate', 'chocolate cookie pieces': 'chocolate', 'chocolate flavored coating': 'chocolate', 'chocolate liquor':\n",
    "                   'chocolate', 'chocolate processed with alkali': 'chocolate', 'chocolatey chips': 'chocolate', 'milk chocolate candies': 'chocolate',\n",
    "                   'milk chocolate': 'chocolate','dark chocolate': 'chocolate', 'semi-sweet chocolate chunks': 'chocolate', 'chocolaty coated cone': 'chocolatey coated cone',\n",
    "                   'black cocoa processed with alkali': 'cocoa powder', 'dutched cocoa': 'cocoa powder', 'coconut concentrate': 'coconut', 'coconut cream': 'coconut', 'coconut extract': 'coconut',\n",
    "                   'desiccated coconut': 'coconut', 'coffee extract': 'coffee', 'coffee extract concentrate': 'coffee', 'condensed skim milk': 'condensed milk',\n",
    "                   'evaporated milk': 'condensed milk', 'sweetened condensed milk': 'condensed milk', 'sweetened condensed skim milk': 'condensed milk', 'corn syrup solids': 'corn syrup',\n",
    "                   'high fructose corn syrup': 'corn syrup', 'corn starch': 'cornstarch', 'modified corn starch': 'cornstarch', 'modified food starch': 'cornstarch',\n",
    "                   'modified cornstarch': 'cornstarch', 'eggs': 'egg', 'whole egg': 'egg', 'whole eggs': 'egg', 'egg whites': 'egg white',\n",
    "                   'egg yolks': 'egg yolk', 'guar': 'guar gum', 'ground heath toffee': 'heath toffee bar', 'hibiscus flower': 'hibiscus', 'hibiscus powder': 'hibiscus',\n",
    "                   'invert cane sugar': 'inverted sugar syrup', 'invert sugar': 'inverted sugar syrup', 'lactase enzyme': 'lactase', 'lemon juice': 'lemon', 'lemon juice concentrate': 'lemon',\n",
    "                   'locust bean': 'locust bean gum', 'dry malt extract': 'malt extract', 'maltitol': 'maltitol syrup', 'corn maltodextrin': 'maltodextrin', 'mango puree': 'mango',\n",
    "                   'mangos': 'mango', 'organic milk': 'milk', 'anhydrous milkfat': 'milk fat', 'milkfat': 'milk fat', 'nonfat milk solids': 'milk powder', 'nonfat dry milk': 'milk powder',\n",
    "                   'whole milk powder': 'milk powder', 'skim milk powder': 'milk powder', 'natural flavors': 'natural flavor', 'rolled oats': 'oats', 'vitamin a palm oil oilitate': 'palm oil',\n",
    "                   '^palm$': 'palm oil', 'palm': 'palm oil', 'palm kernel': 'palm oil', 'palm kernel oil': 'palm oil', 'partially defatted peanut flour': 'peanut', 'roasted peanuts': 'peanut',\n",
    "                   'peppermint bark': 'peppermint', 'peppermint extract': 'peppermint', 'peppermint oil': 'peppermint', 'peppermint twists candy': 'peppermint', 'pistachio paste': 'pistachio',\n",
    "                   'pistachios': 'pistachio', 'raspberries': 'raspberry', 'raspberry swirl': 'raspberry', 'sea salt': 'salt', 'organic skim milk': 'skim milk', 'lactose reduced skim milk': 'skim milk',\n",
    "                   'nonfat milk': 'skim milk', 'soy lecithin': 'soybean lecithin', 'soybean lecithin natural flavor': 'soybean lecithin','soybean oils': 'soybean oil',\n",
    "                   'expeller pressed soybean oil': 'soybean oil', 'spice': 'spices', 'strawberries': 'strawberry', 'strawberry swirl': 'strawberry',\n",
    "                   'powdered sugar': 'sugar', 'cane sugar': 'sugar', 'liquid sugar': 'sugar syrup', 'sunflower oils': 'sunflower oil', 'tapioca flour': 'tapioca', 'tapioca starch': 'tapioca',\n",
    "                   'tapioca syrup': 'tapioca', 'tara': 'tara gum', 'thiamin mononitrate': 'thiamine mononitrate', 'vanilla bean seeds': 'vanilla', 'vanilla beans': 'vanilla',\n",
    "                   'vanilla extract': 'vanilla', 'ground vanilla': 'vanilla', 'processed vanilla': 'vanilla', 'vegetable gums': 'vegetable gum', 'vegetable oil coating': 'vegetable oil',\n",
    "                   'waffle cone': 'waffle cone pieces', 'un wheat flour': 'wheat flour', 'bleached wheat flour': 'wheat flour', 'whey protein concentrate': 'whey',\n",
    "                   'milk protein concentrate': 'whey', 'whey protein': 'whey', 'milk protein': 'whey', 'heavy cream': 'cream', 'cheesecake with graham crust': 'cheesecake', 'cheesecake base': 'cheesecake'\n",
    "}"
   ]
  },
  {
   "cell_type": "code",
   "execution_count": 20,
   "metadata": {},
   "outputs": [],
   "source": [
    "# using the dictionary to correct wrong words\n",
    "df['ingredients_cleaned'] = df['ingredients_cleaned'].replace(word_correcting, regex=True)"
   ]
  },
  {
   "cell_type": "code",
   "execution_count": 21,
   "metadata": {},
   "outputs": [],
   "source": [
    "# making other corrections manually \n",
    "# problems like repeated words and excess of whitespace\n",
    "df['ingredients_cleaned'] = df['ingredients_cleaned'].replace(' , ', ', ') # trim excess of whitespace\n",
    "df['ingredients_cleaned'] = df['ingredients_cleaned'].replace(' , ', ', ') # trim excess of whitespace\n",
    "df['ingredients_cleaned'] = df['ingredients_cleaned'].replace(',,', ', ') # trim excess of comma\n",
    "df['ingredients_cleaned'] = df['ingredients_cleaned'].replace(r'\"', '') # trim quotation marks\n",
    "df['ingredients_cleaned'] = df['ingredients_cleaned'].replace(to_replace=r'gum gum', value='gum', regex=True) # duplicated gum words\n",
    "df['ingredients_cleaned'] = df['ingredients_cleaned'].replace(to_replace=r'oil oil', value='oil', regex=True) # duplicated oil words\n",
    "df['ingredients_cleaned'] = df['ingredients_cleaned'].replace(to_replace=r'syrup syrup', value='syrup', regex=True) # duplicated syrup words\n",
    "df['ingredients_cleaned'] = df['ingredients_cleaned'].replace(to_replace=r'peanuts', value='peanut', regex=True)\n",
    "df['ingredients_cleaned'] = df['ingredients_cleaned'].replace(to_replace=r'palm oil kernel oil', value='palm oil', regex=True)\n",
    "df['ingredients_cleaned'] = df['ingredients_cleaned'].replace(to_replace=r'palm oil kernel', value='palm oil', regex=True)\n",
    "df['ingredients_cleaned'] = df['ingredients_cleaned'].replace(to_replace=r'vitamin a palm oilitate', value='vitamin a palmitate', regex=True)\n",
    "df['ingredients_cleaned'] = df['ingredients_cleaned'].replace(to_replace=r'cocoa processed with alkali', value='cocoa powder', regex=True)\n",
    "df['ingredients_cleaned'] = df['ingredients_cleaned'].replace(to_replace=r', cocoa,', value=', cocoa powder,', regex=True)\n",
    "df['ingredients_cleaned'] = df['ingredients_cleaned'].replace(to_replace=r', cocoa,', value=', cocoa powder,', regex=True) # yeah... i really need to do this 2x\n",
    "df['ingredients_cleaned'] = df['ingredients_cleaned'].replace(to_replace=r'spicess', value='spices', regex=True)\n",
    "df['ingredients_cleaned'] = df['ingredients_cleaned'].replace(to_replace=r'soybean lecithin natural flavor', value='soybean lecithin', regex=True)\n",
    "df['ingredients_cleaned'] = df['ingredients_cleaned'].replace(to_replace=r' with graham crust', value='', regex=True) #for some reason, the dict method isnt working\n",
    "df['ingredients_cleaned'] = df['ingredients_cleaned'].replace(to_replace=r'^\\s*,\\s*', value='', regex=True) # trim ingredient list wich starts with ','\n",
    "df['ingredients_cleaned'] = df['ingredients_cleaned'].replace(to_replace=r'^\\s+', value='', regex=True) # trim ingredient list wich starts with whitespace\n",
    "df['ingredients_cleaned'] = df['ingredients_cleaned'].replace(to_replace=r'\\s*,\\s*', value=', ', regex=True) # trim leading and trailing whitespace\n",
    "df['ingredients_cleaned'] = df['ingredients_cleaned'].replace(to_replace=r',\\s,\\s', value=', ', regex=True) # trim excess of comma\n",
    "df['ingredients_cleaned'] = df['ingredients_cleaned'].replace(to_replace=r'\\s{2,}', value='', regex=True) # trim excess of whitespace\n",
    "df['ingredients_cleaned'] = df['ingredients_cleaned'].replace(to_replace=r'\\s+$', value='', regex=True) # remove all whitespaces at the end of a string\n",
    "df = df.drop('ingredients', axis=1)"
   ]
  },
  {
   "cell_type": "code",
   "execution_count": 29,
   "metadata": {},
   "outputs": [],
   "source": [
    "#df_copy = df.copy()\n",
    "df = df_copy.copy()"
   ]
  },
  {
   "cell_type": "code",
   "execution_count": 30,
   "metadata": {},
   "outputs": [
    {
     "data": {
      "application/vnd.microsoft.datawrangler.viewer.v0+json": {
       "columns": [
        {
         "name": "index",
         "rawType": "int64",
         "type": "integer"
        },
        {
         "name": "brand",
         "rawType": "object",
         "type": "string"
        },
        {
         "name": "name",
         "rawType": "object",
         "type": "string"
        },
        {
         "name": "rating",
         "rawType": "float64",
         "type": "float"
        },
        {
         "name": "rating_count",
         "rawType": "int64",
         "type": "integer"
        },
        {
         "name": "ingredients_cleaned",
         "rawType": "object",
         "type": "string"
        }
       ],
       "conversionMethod": "pd.DataFrame",
       "ref": "7a3332d7-da08-4ff2-8e67-ee088f46d547",
       "rows": [
        [
         "0",
         "BenJerrys",
         "Salted Caramel Core",
         "3.7",
         "208",
         "cream, skim milk, sugar syrup, water, brown sugar, sugar, milk, wheat flour, egg yolk, corn syrup, egg, butter, butter, pectin, salt, soybean oil, vanilla, guar gum, soybean lecithin, baking powder, baking soda, salt, carrageenan, lactase"
        ],
        [
         "1",
         "BenJerrys",
         "Netflix & Chilll'd™",
         "4.0",
         "127",
         "cream, skim milk, sugar syrup, water, sugar, peanut, wheat flour, canola oil, egg yolk, cornstarch, peanut oil, cocoa powder, salt, soybean oil, inverted sugar syrup, milk fat, egg, egg white, guar gum, soybean lecithin, tapioca, baking soda, carrageenan, vanilla, barley malt, malted barley flour"
        ],
        [
         "2",
         "BenJerrys",
         "Chip Happens",
         "4.7",
         "130",
         "cream, sugar syrup, skim milk, water, sugar, cocoa powder, potato, coconut oil, corn syrup, soybean oil, egg yolk, rice starch, sunflower oil, barley malt, cocoa powder, wheat flour, milk, salt, soybean lecithin, yeast extract, natural flavor, guar gum, salt, milk fat, vanilla, enzymes, carrageenan, baking soda"
        ],
        [
         "3",
         "BenJerrys",
         "Cannoli",
         "3.6",
         "70",
         "cream, skim milk, sugar syrup, water, corn syrup, coconut oil, sugar, cane syrup, egg yolk, wheat flour, milk, cocoa powder, natural flavor, guar gum, soybean lecithin, butter, natural flavor, locust bean gum, salt, citric acid, vanilla, soybean oil, tapioca, lactic acid, carrageenan"
        ],
        [
         "4",
         "BenJerrys",
         "Gimme S’more!™",
         "4.5",
         "281",
         "cream, skim milk, water, sugar syrup, sugar, canola oil, soybean oil, egg yolk, corn syrup, wheat flour, coconut oil, cornstarch, cocoa powder, corn syrup, cocoa powder, graham flour, salt, egg white, butter, tapioca, guar gum, soybean lecithin, baking soda, natural flavor, molasses, honey, vanilla, pectin, caramel syrup, carrageenan"
        ],
        [
         "5",
         "BenJerrys",
         "Peanut Butter Half Baked®",
         "4.9",
         "14",
         "cream, sugar syrup, skim milk, water, sugar, wheat flour, peanut, cocoa powder, brown sugar, egg yolk, cocoa powder, peanut oil, soybean oil, butter, inverted sugar syrup, salt, chocolate, egg, tapioca, peanut flour, peanut extract, vanilla, egg white, guar gum, cocoa butter, natural flavor, carrageenan, soybean lecithin, baking soda, malted barley flour"
        ],
        [
         "6",
         "BenJerrys",
         "Berry Sweet Mascarpone",
         "4.6",
         "10",
         "cream, skim milk, water, sugar syrup, almonds, cane syrup, egg yolk, wheat flour, coconut oil, blackberry, butter, sugar, cocoa powder, soybean oil, corn syrup, salt, butter, soybean lecithin, vanilla, egg, guar gum, milk, natural flavor, baking soda, tapioca, carrageenan, lactic acid, citric acid"
        ],
        [
         "7",
         "BenJerrys",
         "Chocolate Peanut Butter Split",
         "5.0",
         "7",
         "cream, skim milk, sugar syrup, water, sugar, peanut, coconut oil, banana, cocoa powder, egg yolk, milk, skim milk, guar gum, natural flavor, lemon, salt, cocoa powder, soybean lecithin, vanilla, carrageenan"
        ],
        [
         "8",
         "BenJerrys",
         "Justice ReMix'd ™",
         "4.3",
         "110",
         "cream, sugar syrup, skim milk, water, sugar, wheat flour, cane syrup, cocoa powder, egg yolk, cocoa powder, soybean oil, inverted sugar syrup, butter, coconut oil, molasses, salt, egg, spices, baking soda, corn syrup, soybean lecithin, egg white, guar gum, cinnamon, natural flavor, carrageenan, vanilla, malted barley flour"
        ],
        [
         "9",
         "BenJerrys",
         "Boots on the Moooo’n™",
         "4.7",
         "42",
         "cream, sugar syrup, skim milk, water, sugar, cocoa powder, soybean oil, coconut oil, wheat flour, corn syrup, almonds, butter, egg yolk, vanilla, salt, natural flavor, egg, guar gum, cocoa powder, soybean lecithin, milk, baking soda, carrageenan"
        ],
        [
         "10",
         "BenJerrys",
         "Americone Dream®",
         "4.7",
         "370",
         "cream, skim milk, sugar syrup, water, corn syrup, cane syrup, sugar, wheat flour, egg yolk, coconut oil, butter, cocoa powder, vanilla, natural flavor, soybean lecithin, salt, butter, milk, carrageenan, guar gum, soybean oil, baking soda"
        ],
        [
         "11",
         "BenJerrys",
         "Bourbon Pecan Pie",
         "4.6",
         "9",
         "cream, skim milk, sugar syrup, water, corn syrup, pecans, butter, wheat flour, egg yolk, sugar, cane syrup, whiskey, malt extract, soybean oil, salt, egg, caramel, peanut oil, guar gum, baking soda, carrageenan, soybean lecithin"
        ],
        [
         "12",
         "BenJerrys",
         "Brewed to Matter™",
         "4.7",
         "35",
         "cream, skim milk, sugar syrup, water, sugar, coffee, coconut oil, egg yolk, cocoa powder, wheat flour, butter, chocolate, corn syrup, cocoa powder, canola oil, guar gum, soybean lecithin, salt, carrageenan, natural flavor, milk fat, baking soda, vanilla"
        ],
        [
         "13",
         "BenJerrys",
         "Caramel Chocolate Cheesecake",
         "4.0",
         "133",
         "cream, skim milk, water, sugar syrup, sugar, corn syrup, canola oil, cream cheese, coconut oil, egg yolk, wheat flour, cane syrup, soybean oil, graham flour, egg, cocoa powder, natural flavor, cocoa powder, guar gum, butter, whey, cornstarch, salt, soybean lecithin, tapioca, pectin, caramel syrup, baking soda, molasses, honey, carrageenan, vanilla"
        ],
        [
         "14",
         "BenJerrys",
         "Cherry Garcia®",
         "4.4",
         "153",
         "cream, skim milk, sugar syrup, water, cherry, sugar, egg yolk, coconut oil, cocoa powder, fruit, vegetable, cocoa powder, guar gum, natural flavor, lemon, carrageenan, milk fat, soybean lecithin"
        ],
        [
         "15",
         "BenJerrys",
         "Chillin' the Roast™",
         "3.3",
         "172",
         "cream, skim milk, sugar syrup, water, sugar, coconut oil, egg yolk, butter, coffee, wheat flour, whey, cocoa powder, soybean oil, guar gum, natural flavor, salt, cornstarch, canola oil, rum, soybean lecithin, chocolate, baking soda, carrageenan"
        ],
        [
         "16",
         "BenJerrys",
         "Chocolate Chip Cookie Dough",
         "4.6",
         "983",
         "cream, skim milk, sugar syrup, water, wheat flour, sugar, brown sugar, egg yolk, butter, soybean oil, egg, coconut oil, chocolate, vanilla, cocoa powder, cocoa powder, salt, molasses, guar gum, cocoa butter, natural flavor, carrageenan, milk fat, soybean lecithin"
        ],
        [
         "17",
         "BenJerrys",
         "Chocolate Fudge Brownie",
         "3.4",
         "204",
         "cream, sugar syrup, skim milk, water, sugar, cocoa powder, wheat flour, cocoa powder, soybean oil, egg yolk, inverted sugar syrup, egg, egg white, guar gum, salt, carrageenan, vanilla, malted barley flour, sodium bicarbonate"
        ],
        [
         "18",
         "BenJerrys",
         "Chocolate Shake It™",
         "3.9",
         "111",
         "cream, skim milk, sugar syrup, water, corn syrup, wheat flour, sugar, sugar, egg yolk, cocoa powder, butter, barley malt, tapioca, egg white, milk, cocoa powder, salt, guar gum, natural flavor, pectin, vanilla, enzymes, carrageenan, salt, baking soda"
        ],
        [
         "19",
         "BenJerrys",
         "Chocolate Therapy®",
         "4.8",
         "72",
         "cream, sugar syrup, skim milk, water, cocoa powder, wheat flour, sugar, soybean oil, brown sugar, egg yolk, chocolate, cocoa powder, honey, guar gum, cocoa butter, vanilla, salt, baking soda, natural flavor, soybean lecithin, carrageenan"
        ],
        [
         "20",
         "BenJerrys",
         "Chubby Hubby®",
         "4.3",
         "118",
         "cream, skim milk, sugar syrup, water, sugar, peanut, wheat flour, coconut oil, peanut, egg yolk, butter, peanut oil, barley malt, vanilla, milk, cocoa powder, salt, soybean lecithin, cocoa powder, chocolate, soybean oil, guar gum, enzymes, baking soda, carrageenan"
        ],
        [
         "21",
         "BenJerrys",
         "Chunky Monkey®",
         "4.4",
         "108",
         "cream, skim milk, sugar syrup, water, sugar, walnuts, banana, coconut oil, egg yolk, cocoa powder, cocoa powder, lemon, guar gum, natural flavor, milk fat, carrageenan, soybean lecithin, vanilla"
        ],
        [
         "22",
         "BenJerrys",
         "Cinnamon Buns®",
         "4.6",
         "83",
         "cream, skim milk, water, sugar syrup, sugar, cane syrup, wheat flour, corn syrup, egg yolk, brown sugar, soybean oil, butter, spices, coconut oil, molasses, salt, soybean lecithin, sodium bicarbonate, vanilla, guar gum, carrageenan"
        ],
        [
         "23",
         "BenJerrys",
         "Coffee Coffee BuzzBuzzBuzz!®",
         "4.9",
         "47",
         "cream, skim milk, sugar syrup, water, sugar, coconut oil, coffee, egg yolk, cocoa powder, coffee, cocoa powder, soybean lecithin, guar gum, vanilla, carrageenan"
        ],
        [
         "24",
         "BenJerrys",
         "Coffee Toffee Bar Crunch",
         "2.9",
         "302",
         "cream, skim milk, sugar syrup, water, sugar, coconut oil, coffee, egg yolk, butter, almonds, cocoa powder, milk, soybean lecithin, cocoa powder, natural flavor, salt, vanilla, vegetable oil, guar gum, carrageenan"
        ],
        [
         "25",
         "BenJerrys",
         "Cold Brew Caramel Latte",
         "4.6",
         "10",
         "cream, skim milk, water, sugar syrup, corn syrup, egg yolk, sugar, butter, coffee, salt, guar gum, caramel syrup, carrageenan, baking soda"
        ],
        [
         "26",
         "BenJerrys",
         "Everything But The...®",
         "3.8",
         "72",
         "cream, skim milk, sugar syrup, water, sugar, coconut oil, cocoa powder, egg yolk, peanut, almonds, peanut, cane syrup, butter, vanilla, milk, cocoa powder, soybean lecithin, almonds, salt, guar gum, natural flavor, milk fat, butter, vegetable oil, carrageenan, maltodextrin"
        ],
        [
         "27",
         "BenJerrys",
         "Glampfire Trail Mix™",
         "4.7",
         "68",
         "cream, sugar syrup, skim milk, water, cocoa powder, corn syrup, sugar, canola oil, wheat flour, cornstarch, almonds, cane syrup, coconut oil, egg yolk, salt, milk fat, cocoa powder, egg white, soybean lecithin, butter, vanilla, guar gum, tapioca, natural flavor, pectin, soybean oil, baking soda, carrageenan, barley malt"
        ],
        [
         "28",
         "BenJerrys",
         "Half Baked®",
         "4.7",
         "887",
         "cream, sugar syrup, skim milk, water, sugar, wheat flour, brown sugar, cocoa powder, egg yolk, butter, cocoa powder, egg, soybean oil, soybean oil, inverted sugar syrup, chocolate, vanilla, salt, egg white, guar gum, molasses, cocoa butter, natural flavor, carrageenan, soybean lecithin, baking soda, malted barley flour"
        ],
        [
         "29",
         "BenJerrys",
         "Ice Cream Sammie",
         "5.0",
         "31",
         "cream, skim milk, sugar syrup, water, sugar, wheat flour, canola oil, egg yolk, cocoa powder, coconut oil, sunflower oil, cocoa powder, butter, salt, baking soda, tapioca, natural flavor, guar gum, soybean lecithin, vanilla, natural flavor, carrageenan"
        ],
        [
         "30",
         "BenJerrys",
         "Milk & Cookies",
         "4.7",
         "104",
         "cream, skim milk, sugar syrup, water, sugar, wheat flour, canola oil, egg yolk, brown sugar, butter, cocoa powder, cocoa powder, coconut oil, chocolate, soybean oil, egg, salt, natural flavor, vanilla, tapioca, guar gum, honey, baking soda, cocoa butter, soybean lecithin, vanilla, carrageenan"
        ],
        [
         "31",
         "BenJerrys",
         "Mint Chocolate Cookie",
         "4.4",
         "141",
         "cream, skim milk, sugar syrup, water, sugar, wheat flour, egg yolk, coconut oil, cocoa powder, sunflower oil, salt, baking soda, guar gum, natural flavor, soybean lecithin, peppermint, carrageenan"
        ],
        [
         "32",
         "BenJerrys",
         "Minter Wonderland™",
         "4.7",
         "32",
         "cream, sugar syrup, skim milk, water, cocoa powder, sugar, corn syrup, canola oil, wheat flour, egg yolk, cocoa powder, coconut oil, egg white, natural flavor, tapioca, guar gum, salt, pectin, soybean lecithin, baking soda, carrageenan"
        ],
        [
         "33",
         "BenJerrys",
         "New York Super Fudge Chunk®",
         "4.9",
         "63",
         "cream, sugar syrup, skim milk, water, cocoa powder, sugar, coconut oil, walnuts, pecans, almonds, cane syrup, egg yolk, cocoa powder, milk fat, salt, soybean lecithin, vanilla, guar gum, butter, peanut oil, butter, natural flavor, carrageenan"
        ],
        [
         "34",
         "BenJerrys",
         "Oat of This Swirled™",
         "4.5",
         "255",
         "cream, skim milk, sugar syrup, water, sugar, canola oil, coconut oil, egg yolk, butter, cocoa powder, butter, wheat flour, oats, brown sugar, cocoa powder, spices, tapioca, salt, guar gum, soybean lecithin, vanilla, baking soda, natural flavor, lemon, carrageenan, milk fat"
        ],
        [
         "35",
         "BenJerrys",
         "Peanut Butter Cup",
         "4.4",
         "41",
         "cream, skim milk, sugar syrup, water, peanut, sugar, coconut oil, egg yolk, peanut, peanut oil, milk, cocoa powder, salt, guar gum, cocoa powder, natural flavor, soybean lecithin, vanilla, carrageenan"
        ],
        [
         "36",
         "BenJerrys",
         "Peanut Butter World®",
         "4.9",
         "69",
         "cream, sugar syrup, skim milk, water, peanut, sugar, cocoa powder, canola oil, peanut oil, wheat flour, cocoa powder, coconut oil, egg yolk, salt, tapioca, guar gum, natural flavor, soybean lecithin, baking soda, carrageenan"
        ],
        [
         "37",
         "BenJerrys",
         "Phish Food®",
         "4.8",
         "93",
         "cream, water, skim milk, sugar syrup, corn syrup, sugar, cocoa powder, coconut oil, butter, egg yolk, egg white, vanilla, natural flavor, guar gum, pectin, cocoa powder, salt, carrageenan, baking soda, milk, soybean lecithin"
        ],
        [
         "38",
         "BenJerrys",
         "Pistachio Pistachio",
         "4.0",
         "80",
         "cream, skim milk, sugar syrup, water, pistachio, egg yolk, sugar, coconut oil, guar gum, salt, natural flavor, carrageenan"
        ],
        [
         "39",
         "BenJerrys",
         "Pumpkin Cheesecake",
         "4.6",
         "58",
         "cream, skim milk, water, sugar syrup, sugar, pumpkin, soybean oil, egg yolk, cornstarch, cream cheese, wheat flour, graham flour, salt, butter, canola oil, tapioca, guar gum, cinnamon, lactic acid, molasses, honey, soybean lecithin, baking soda, natural flavor, nutmeg, ginger, lemon, cloves, artificial color, carrageenan"
        ],
        [
         "40",
         "BenJerrys",
         "Red, White & Blueberry",
         "3.4",
         "39",
         "cream, skim milk, water, sugar syrup, blueberry, strawberry, egg yolk, wheat flour, cane syrup, sugar, butter, raspberry, soybean oil, vanilla, egg, guar gum, baking soda, salt, carrageenan, lemon"
        ],
        [
         "41",
         "BenJerrys",
         "S'mores",
         "4.1",
         "151",
         "cream, sugar syrup, skim milk, water, sugar, cocoa powder, soybean oil, corn syrup, cornstarch, coconut oil, corn syrup, wheat flour, graham flour, egg yolk, salt, butter, egg white, canola oil, cocoa powder, guar gum, tapioca, molasses, honey, soybean lecithin, sodium bicarbonate, vanilla, pectin, milk fat, carrageenan, natural flavor"
        ],
        [
         "42",
         "BenJerrys",
         "Salted Caramel Almond",
         "4.5",
         "23",
         "cream, skim milk, sugar syrup, water, sugar, almonds, milk, egg yolk, coconut oil, corn syrup, cocoa powder, butter, butter, pectin, salt, cocoa powder, guar gum, vanilla, soybean lecithin, baking soda, vanilla, milk fat, carrageenan, lactase, natural flavor"
        ],
        [
         "43",
         "BenJerrys",
         "Strawberry Cheesecake",
         "4.7",
         "231",
         "cream, skim milk, water, sugar syrup, sugar, strawberry, soybean oil, strawberry, egg yolk, cornstarch, cream cheese, wheat flour, graham flour, salt, butter, canola oil, guar gum, natural flavor, tapioca, molasses, honey, lactic acid, soybean lecithin, sodium bicarbonate, lemon, pectin, carrageenan"
        ],
        [
         "44",
         "BenJerrys",
         "The Tonight Dough®",
         "4.7",
         "639",
         "cream, sugar syrup, skim milk, water, wheat flour, sugar, cocoa powder, brown sugar, canola oil, egg yolk, peanut butter, corn syrup, egg, cocoa powder, butter, coconut oil, soybean oil, salt, chocolate, natural flavor, tapioca, guar gum, baking soda, soybean lecithin, molasses, cocoa butter, carrageenan"
        ],
        [
         "45",
         "BenJerrys",
         "Triple Caramel Chunk®",
         "4.3",
         "16",
         "cream, skim milk, water, sugar syrup, corn syrup, sugar, egg yolk, coconut oil, butter, milk, cocoa powder, salt, guar gum, carrageenan, vanilla, baking soda, cocoa powder, soybean lecithin, natural flavor"
        ],
        [
         "46",
         "BenJerrys",
         "Urban Bourbon™",
         "4.2",
         "181",
         "cream, skim milk, water, sugar syrup, corn syrup, sugar, almonds, coconut oil, egg yolk, cocoa powder, butter, whiskey, caramel syrup, cocoa powder, malt extract, guar gum, salt, carrageenan, baking soda, milk fat, soybean lecithin, vanilla, natural flavor"
        ],
        [
         "47",
         "BenJerrys",
         "Vanilla",
         "4.7",
         "10",
         "cream, skim milk, sugar syrup, water, egg yolk, sugar, guar gum, vanilla, vanilla, carrageenan"
        ],
        [
         "48",
         "BenJerrys",
         "Vanilla Caramel Fudge",
         "4.8",
         "29",
         "cream, skim milk, sugar syrup, water, corn syrup, sugar, butter, egg yolk, vanilla, cocoa powder, salt, carrageenan, chocolate, guar gum, baking soda"
        ],
        [
         "49",
         "BenJerrys",
         "Boom Chocolatta™ Cookie Core",
         "4.6",
         "97",
         "cream, skim milk, sugar syrup, water, sugar, soybean oil, cocoa powder, egg yolk, butter, coffee, corn syrup, rice flour, potato flour, wheat flour, coconut oil, brown sugar, vanilla, baking soda, salt, natural flavor, cocoa powder, soybean lecithin, egg, chocolate, cocoa butter, milk, whey, guar gum, carrageenan, milk fat"
        ]
       ],
       "shape": {
        "columns": 5,
        "rows": 241
       }
      },
      "text/html": [
       "<div>\n",
       "<style scoped>\n",
       "    .dataframe tbody tr th:only-of-type {\n",
       "        vertical-align: middle;\n",
       "    }\n",
       "\n",
       "    .dataframe tbody tr th {\n",
       "        vertical-align: top;\n",
       "    }\n",
       "\n",
       "    .dataframe thead th {\n",
       "        text-align: right;\n",
       "    }\n",
       "</style>\n",
       "<table border=\"1\" class=\"dataframe\">\n",
       "  <thead>\n",
       "    <tr style=\"text-align: right;\">\n",
       "      <th></th>\n",
       "      <th>brand</th>\n",
       "      <th>name</th>\n",
       "      <th>rating</th>\n",
       "      <th>rating_count</th>\n",
       "      <th>ingredients_cleaned</th>\n",
       "    </tr>\n",
       "  </thead>\n",
       "  <tbody>\n",
       "    <tr>\n",
       "      <th>0</th>\n",
       "      <td>BenJerrys</td>\n",
       "      <td>Salted Caramel Core</td>\n",
       "      <td>3.7</td>\n",
       "      <td>208</td>\n",
       "      <td>cream, skim milk, sugar syrup, water, brown sugar, sugar, milk, wheat flour, egg yolk, corn syrup, egg, butter, butter, pectin, salt, soybean oil, vanilla, guar gum, soybean lecithin, baking powder, baking soda, salt, carrageenan, lactase</td>\n",
       "    </tr>\n",
       "    <tr>\n",
       "      <th>1</th>\n",
       "      <td>BenJerrys</td>\n",
       "      <td>Netflix &amp; Chilll'd™</td>\n",
       "      <td>4.0</td>\n",
       "      <td>127</td>\n",
       "      <td>cream, skim milk, sugar syrup, water, sugar, peanut, wheat flour, canola oil, egg yolk, cornstarch, peanut oil, cocoa powder, salt, soybean oil, inverted sugar syrup, milk fat, egg, egg white, guar gum, soybean lecithin, tapioca, baking soda, carrageenan, vanilla, barley malt, malted barley flour</td>\n",
       "    </tr>\n",
       "    <tr>\n",
       "      <th>2</th>\n",
       "      <td>BenJerrys</td>\n",
       "      <td>Chip Happens</td>\n",
       "      <td>4.7</td>\n",
       "      <td>130</td>\n",
       "      <td>cream, sugar syrup, skim milk, water, sugar, cocoa powder, potato, coconut oil, corn syrup, soybean oil, egg yolk, rice starch, sunflower oil, barley malt, cocoa powder, wheat flour, milk, salt, soybean lecithin, yeast extract, natural flavor, guar gum, salt, milk fat, vanilla, enzymes, carrageenan, baking soda</td>\n",
       "    </tr>\n",
       "    <tr>\n",
       "      <th>3</th>\n",
       "      <td>BenJerrys</td>\n",
       "      <td>Cannoli</td>\n",
       "      <td>3.6</td>\n",
       "      <td>70</td>\n",
       "      <td>cream, skim milk, sugar syrup, water, corn syrup, coconut oil, sugar, cane syrup, egg yolk, wheat flour, milk, cocoa powder, natural flavor, guar gum, soybean lecithin, butter, natural flavor, locust bean gum, salt, citric acid, vanilla, soybean oil, tapioca, lactic acid, carrageenan</td>\n",
       "    </tr>\n",
       "    <tr>\n",
       "      <th>4</th>\n",
       "      <td>BenJerrys</td>\n",
       "      <td>Gimme S’more!™</td>\n",
       "      <td>4.5</td>\n",
       "      <td>281</td>\n",
       "      <td>cream, skim milk, water, sugar syrup, sugar, canola oil, soybean oil, egg yolk, corn syrup, wheat flour, coconut oil, cornstarch, cocoa powder, corn syrup, cocoa powder, graham flour, salt, egg white, butter, tapioca, guar gum, soybean lecithin, baking soda, natural flavor, molasses, honey, vanilla, pectin, caramel syrup, carrageenan</td>\n",
       "    </tr>\n",
       "    <tr>\n",
       "      <th>...</th>\n",
       "      <td>...</td>\n",
       "      <td>...</td>\n",
       "      <td>...</td>\n",
       "      <td>...</td>\n",
       "      <td>...</td>\n",
       "    </tr>\n",
       "    <tr>\n",
       "      <th>236</th>\n",
       "      <td>Breyers</td>\n",
       "      <td>CINNABON®</td>\n",
       "      <td>4.0</td>\n",
       "      <td>28</td>\n",
       "      <td>milk, corn syrup, sugar, brown sugar, soybean oil, water, butter, cream, salt, corn syrup, spices, salt, soybean lecithin, vanilla, cane syrup, wheat flour, coconut oil, water, butter, cream, salt, molasses, sodium bicarbonate, spices, corn syrup, soybean lecithin, salt, fructose, coconut oil, whey, cream, vegetable gum, guar gum, carob bean gum, monoglycerides, diglycerides, natural flavor</td>\n",
       "    </tr>\n",
       "    <tr>\n",
       "      <th>237</th>\n",
       "      <td>Breyers</td>\n",
       "      <td>CarbSmart™ Caramel Swirl Bar</td>\n",
       "      <td>4.7</td>\n",
       "      <td>18</td>\n",
       "      <td>milk, water, caramel, sugar, water, corn syrup, corn syrup, milk powder, butter, cream, salt, salt, molasses, pectin, soybean lecithin, natural flavor, potassium sorbate, sodium citrate, lactic acid, maltitol syrup, polydextrose, coconut oil, whey, glycerin, cream, soluble corn fiber, vegetable gum, carob bean gum, guar gum, caramel, monoglycerides, diglycerides, natural flavor, acesulfame potassium, sucralose</td>\n",
       "    </tr>\n",
       "    <tr>\n",
       "      <th>238</th>\n",
       "      <td>Breyers</td>\n",
       "      <td>Layered Dessert S'mores</td>\n",
       "      <td>2.5</td>\n",
       "      <td>31</td>\n",
       "      <td>milk, corn syrup, sugar, wheat flour, butter, cream, salt, palm oil, corn syrup, skim milk, water, rice flour, natural flavor, salt, wheat flour, sugar, palm oil, molasses, spices, salt, baking soda, natural flavor, soybean lecithin, fructose, coconut oil, cocoa powder, whey, cream, vegetable gum, guar gum, carob bean gum, monoglycerides, diglycerides, natural flavor, vanilla</td>\n",
       "    </tr>\n",
       "    <tr>\n",
       "      <th>239</th>\n",
       "      <td>Breyers</td>\n",
       "      <td>Layered Dessert Peach Cobbler</td>\n",
       "      <td>3.2</td>\n",
       "      <td>38</td>\n",
       "      <td>milk, corn syrup, wheat flour, wheat flour, niacin, reduced iron, thiamine mononitrate, riboflavin, folic acid, sugar, butter, cream, salt, canola oil, milk powder, salt, sodium bicarbonate, peaches, fructose, coconut oil, sugar, whey, cream, vegetable gum, guar gum, carob bean gum, tara gum, monoglycerides, diglycerides, natural flavor, vanilla, artificial color, vanilla</td>\n",
       "    </tr>\n",
       "    <tr>\n",
       "      <th>240</th>\n",
       "      <td>Breyers</td>\n",
       "      <td>Layered Dessert Brownie Cheesecake</td>\n",
       "      <td>2.8</td>\n",
       "      <td>25</td>\n",
       "      <td>milk, corn syrup, sugar, wheat flour, wheat flour, niacin, reduced iron, thiamine mononitrate, riboflavin, folic acid, sugar, sugar, cornstarch, cocoa powder, water, palm oil, soybean oil, milk powder, soybean lecithin, natural flavor, fructose, cheesecake, cream cheese, milk, cream, cheese culture, salt, carob bean gum, sugar, egg, graham crumb, wheat flour, wheat graham flour, sugar, canola oil, molasses, honey, salt, sodium bicarbonate, cornstarch, palm oil, natural flavor, sweetened lemon zest, lemon peel, sugar, lemon oil, guar gum, coconut oil, cocoa powder, whey, cream, cream cheese, milk, cream, cheese culture, salt, carob bean gum, cane syrup, vegetable gum, guar gum, carob bean gum, monoglycerides, diglycerides, natural flavor, salt, pectin, sugar, artificial color</td>\n",
       "    </tr>\n",
       "  </tbody>\n",
       "</table>\n",
       "<p>241 rows × 5 columns</p>\n",
       "</div>"
      ],
      "text/plain": [
       "         brand                                name  rating  rating_count  \\\n",
       "0    BenJerrys                 Salted Caramel Core     3.7           208   \n",
       "1    BenJerrys                 Netflix & Chilll'd™     4.0           127   \n",
       "2    BenJerrys                        Chip Happens     4.7           130   \n",
       "3    BenJerrys                             Cannoli     3.6            70   \n",
       "4    BenJerrys                      Gimme S’more!™     4.5           281   \n",
       "..         ...                                 ...     ...           ...   \n",
       "236    Breyers                           CINNABON®     4.0            28   \n",
       "237    Breyers        CarbSmart™ Caramel Swirl Bar     4.7            18   \n",
       "238    Breyers             Layered Dessert S'mores     2.5            31   \n",
       "239    Breyers       Layered Dessert Peach Cobbler     3.2            38   \n",
       "240    Breyers  Layered Dessert Brownie Cheesecake     2.8            25   \n",
       "\n",
       "                                                                                                                                                                                                                                                                                                                                                                                                                                                                                                                                                                                                                                                                                                                                                                                                   ingredients_cleaned  \n",
       "0                                                                                                                                                                                                                                                                                                                                                                                                                                                                                                                                                                       cream, skim milk, sugar syrup, water, brown sugar, sugar, milk, wheat flour, egg yolk, corn syrup, egg, butter, butter, pectin, salt, soybean oil, vanilla, guar gum, soybean lecithin, baking powder, baking soda, salt, carrageenan, lactase  \n",
       "1                                                                                                                                                                                                                                                                                                                                                                                                                                                                                                            cream, skim milk, sugar syrup, water, sugar, peanut, wheat flour, canola oil, egg yolk, cornstarch, peanut oil, cocoa powder, salt, soybean oil, inverted sugar syrup, milk fat, egg, egg white, guar gum, soybean lecithin, tapioca, baking soda, carrageenan, vanilla, barley malt, malted barley flour  \n",
       "2                                                                                                                                                                                                                                                                                                                                                                                                                                                                                             cream, sugar syrup, skim milk, water, sugar, cocoa powder, potato, coconut oil, corn syrup, soybean oil, egg yolk, rice starch, sunflower oil, barley malt, cocoa powder, wheat flour, milk, salt, soybean lecithin, yeast extract, natural flavor, guar gum, salt, milk fat, vanilla, enzymes, carrageenan, baking soda  \n",
       "3                                                                                                                                                                                                                                                                                                                                                                                                                                                                                                                         cream, skim milk, sugar syrup, water, corn syrup, coconut oil, sugar, cane syrup, egg yolk, wheat flour, milk, cocoa powder, natural flavor, guar gum, soybean lecithin, butter, natural flavor, locust bean gum, salt, citric acid, vanilla, soybean oil, tapioca, lactic acid, carrageenan  \n",
       "4                                                                                                                                                                                                                                                                                                                                                                                                                                                                      cream, skim milk, water, sugar syrup, sugar, canola oil, soybean oil, egg yolk, corn syrup, wheat flour, coconut oil, cornstarch, cocoa powder, corn syrup, cocoa powder, graham flour, salt, egg white, butter, tapioca, guar gum, soybean lecithin, baking soda, natural flavor, molasses, honey, vanilla, pectin, caramel syrup, carrageenan  \n",
       "..                                                                                                                                                                                                                                                                                                                                                                                                                                                                                                                                                                                                                                                                                                                                                                                                                 ...  \n",
       "236                                                                                                                                                                                                                                                                                                                                                                                                          milk, corn syrup, sugar, brown sugar, soybean oil, water, butter, cream, salt, corn syrup, spices, salt, soybean lecithin, vanilla, cane syrup, wheat flour, coconut oil, water, butter, cream, salt, molasses, sodium bicarbonate, spices, corn syrup, soybean lecithin, salt, fructose, coconut oil, whey, cream, vegetable gum, guar gum, carob bean gum, monoglycerides, diglycerides, natural flavor  \n",
       "237                                                                                                                                                                                                                                                                                                                                                                                      milk, water, caramel, sugar, water, corn syrup, corn syrup, milk powder, butter, cream, salt, salt, molasses, pectin, soybean lecithin, natural flavor, potassium sorbate, sodium citrate, lactic acid, maltitol syrup, polydextrose, coconut oil, whey, glycerin, cream, soluble corn fiber, vegetable gum, carob bean gum, guar gum, caramel, monoglycerides, diglycerides, natural flavor, acesulfame potassium, sucralose  \n",
       "238                                                                                                                                                                                                                                                                                                                                                                                                                         milk, corn syrup, sugar, wheat flour, butter, cream, salt, palm oil, corn syrup, skim milk, water, rice flour, natural flavor, salt, wheat flour, sugar, palm oil, molasses, spices, salt, baking soda, natural flavor, soybean lecithin, fructose, coconut oil, cocoa powder, whey, cream, vegetable gum, guar gum, carob bean gum, monoglycerides, diglycerides, natural flavor, vanilla  \n",
       "239                                                                                                                                                                                                                                                                                                                                                                                                                             milk, corn syrup, wheat flour, wheat flour, niacin, reduced iron, thiamine mononitrate, riboflavin, folic acid, sugar, butter, cream, salt, canola oil, milk powder, salt, sodium bicarbonate, peaches, fructose, coconut oil, sugar, whey, cream, vegetable gum, guar gum, carob bean gum, tara gum, monoglycerides, diglycerides, natural flavor, vanilla, artificial color, vanilla  \n",
       "240  milk, corn syrup, sugar, wheat flour, wheat flour, niacin, reduced iron, thiamine mononitrate, riboflavin, folic acid, sugar, sugar, cornstarch, cocoa powder, water, palm oil, soybean oil, milk powder, soybean lecithin, natural flavor, fructose, cheesecake, cream cheese, milk, cream, cheese culture, salt, carob bean gum, sugar, egg, graham crumb, wheat flour, wheat graham flour, sugar, canola oil, molasses, honey, salt, sodium bicarbonate, cornstarch, palm oil, natural flavor, sweetened lemon zest, lemon peel, sugar, lemon oil, guar gum, coconut oil, cocoa powder, whey, cream, cream cheese, milk, cream, cheese culture, salt, carob bean gum, cane syrup, vegetable gum, guar gum, carob bean gum, monoglycerides, diglycerides, natural flavor, salt, pectin, sugar, artificial color  \n",
       "\n",
       "[241 rows x 5 columns]"
      ]
     },
     "execution_count": 30,
     "metadata": {},
     "output_type": "execute_result"
    }
   ],
   "source": [
    "df"
   ]
  },
  {
   "cell_type": "code",
   "execution_count": 31,
   "metadata": {},
   "outputs": [],
   "source": [
    "# the function title don't handle all edge cases (e.g., words with apostrophes or hyphens).\n",
    "def capitalize_after_whitespace(text):\n",
    "    # Split the text into words\n",
    "    words = text.split(' ')\n",
    "    # Capitalize the first letter of each word\n",
    "    capitalized_words = [word.capitalize() for word in words]\n",
    "    # Join the words back into a single string\n",
    "    return ' '.join(capitalized_words)"
   ]
  },
  {
   "cell_type": "code",
   "execution_count": null,
   "metadata": {},
   "outputs": [],
   "source": [
    "# correcting Ice Cream names \n",
    "df['name'] = df['name'].replace(to_replace=r'[™®©’]', value='', regex=True) # Removing Special Characters in Ice Cream name\n",
    "df['name'] = df['name'].apply(capitalize_after_whitespace) # lower all capitalized words"
   ]
  },
  {
   "cell_type": "code",
   "execution_count": 33,
   "metadata": {},
   "outputs": [
    {
     "data": {
      "application/vnd.microsoft.datawrangler.viewer.v0+json": {
       "columns": [
        {
         "name": "index",
         "rawType": "int64",
         "type": "integer"
        },
        {
         "name": "brand",
         "rawType": "object",
         "type": "string"
        },
        {
         "name": "name",
         "rawType": "object",
         "type": "string"
        },
        {
         "name": "rating",
         "rawType": "float64",
         "type": "float"
        },
        {
         "name": "rating_count",
         "rawType": "int64",
         "type": "integer"
        },
        {
         "name": "ingredients_cleaned",
         "rawType": "object",
         "type": "string"
        }
       ],
       "conversionMethod": "pd.DataFrame",
       "ref": "3637f0fa-16ec-4157-aeab-5573c06bde01",
       "rows": [
        [
         "0",
         "BenJerrys",
         "Salted Caramel Core",
         "3.7",
         "208",
         "cream, skim milk, sugar syrup, water, brown sugar, sugar, milk, wheat flour, egg yolk, corn syrup, egg, butter, butter, pectin, salt, soybean oil, vanilla, guar gum, soybean lecithin, baking powder, baking soda, salt, carrageenan, lactase"
        ],
        [
         "1",
         "BenJerrys",
         "Netflix & Chilll'd",
         "4.0",
         "127",
         "cream, skim milk, sugar syrup, water, sugar, peanut, wheat flour, canola oil, egg yolk, cornstarch, peanut oil, cocoa powder, salt, soybean oil, inverted sugar syrup, milk fat, egg, egg white, guar gum, soybean lecithin, tapioca, baking soda, carrageenan, vanilla, barley malt, malted barley flour"
        ],
        [
         "2",
         "BenJerrys",
         "Chip Happens",
         "4.7",
         "130",
         "cream, sugar syrup, skim milk, water, sugar, cocoa powder, potato, coconut oil, corn syrup, soybean oil, egg yolk, rice starch, sunflower oil, barley malt, cocoa powder, wheat flour, milk, salt, soybean lecithin, yeast extract, natural flavor, guar gum, salt, milk fat, vanilla, enzymes, carrageenan, baking soda"
        ],
        [
         "3",
         "BenJerrys",
         "Cannoli",
         "3.6",
         "70",
         "cream, skim milk, sugar syrup, water, corn syrup, coconut oil, sugar, cane syrup, egg yolk, wheat flour, milk, cocoa powder, natural flavor, guar gum, soybean lecithin, butter, natural flavor, locust bean gum, salt, citric acid, vanilla, soybean oil, tapioca, lactic acid, carrageenan"
        ],
        [
         "4",
         "BenJerrys",
         "Gimme Smore!",
         "4.5",
         "281",
         "cream, skim milk, water, sugar syrup, sugar, canola oil, soybean oil, egg yolk, corn syrup, wheat flour, coconut oil, cornstarch, cocoa powder, corn syrup, cocoa powder, graham flour, salt, egg white, butter, tapioca, guar gum, soybean lecithin, baking soda, natural flavor, molasses, honey, vanilla, pectin, caramel syrup, carrageenan"
        ],
        [
         "5",
         "BenJerrys",
         "Peanut Butter Half Baked",
         "4.9",
         "14",
         "cream, sugar syrup, skim milk, water, sugar, wheat flour, peanut, cocoa powder, brown sugar, egg yolk, cocoa powder, peanut oil, soybean oil, butter, inverted sugar syrup, salt, chocolate, egg, tapioca, peanut flour, peanut extract, vanilla, egg white, guar gum, cocoa butter, natural flavor, carrageenan, soybean lecithin, baking soda, malted barley flour"
        ],
        [
         "6",
         "BenJerrys",
         "Berry Sweet Mascarpone",
         "4.6",
         "10",
         "cream, skim milk, water, sugar syrup, almonds, cane syrup, egg yolk, wheat flour, coconut oil, blackberry, butter, sugar, cocoa powder, soybean oil, corn syrup, salt, butter, soybean lecithin, vanilla, egg, guar gum, milk, natural flavor, baking soda, tapioca, carrageenan, lactic acid, citric acid"
        ],
        [
         "7",
         "BenJerrys",
         "Chocolate Peanut Butter Split",
         "5.0",
         "7",
         "cream, skim milk, sugar syrup, water, sugar, peanut, coconut oil, banana, cocoa powder, egg yolk, milk, skim milk, guar gum, natural flavor, lemon, salt, cocoa powder, soybean lecithin, vanilla, carrageenan"
        ],
        [
         "8",
         "BenJerrys",
         "Justice Remix'd ",
         "4.3",
         "110",
         "cream, sugar syrup, skim milk, water, sugar, wheat flour, cane syrup, cocoa powder, egg yolk, cocoa powder, soybean oil, inverted sugar syrup, butter, coconut oil, molasses, salt, egg, spices, baking soda, corn syrup, soybean lecithin, egg white, guar gum, cinnamon, natural flavor, carrageenan, vanilla, malted barley flour"
        ],
        [
         "9",
         "BenJerrys",
         "Boots On The Moooon",
         "4.7",
         "42",
         "cream, sugar syrup, skim milk, water, sugar, cocoa powder, soybean oil, coconut oil, wheat flour, corn syrup, almonds, butter, egg yolk, vanilla, salt, natural flavor, egg, guar gum, cocoa powder, soybean lecithin, milk, baking soda, carrageenan"
        ],
        [
         "10",
         "BenJerrys",
         "Americone Dream",
         "4.7",
         "370",
         "cream, skim milk, sugar syrup, water, corn syrup, cane syrup, sugar, wheat flour, egg yolk, coconut oil, butter, cocoa powder, vanilla, natural flavor, soybean lecithin, salt, butter, milk, carrageenan, guar gum, soybean oil, baking soda"
        ],
        [
         "11",
         "BenJerrys",
         "Bourbon Pecan Pie",
         "4.6",
         "9",
         "cream, skim milk, sugar syrup, water, corn syrup, pecans, butter, wheat flour, egg yolk, sugar, cane syrup, whiskey, malt extract, soybean oil, salt, egg, caramel, peanut oil, guar gum, baking soda, carrageenan, soybean lecithin"
        ],
        [
         "12",
         "BenJerrys",
         "Brewed To Matter",
         "4.7",
         "35",
         "cream, skim milk, sugar syrup, water, sugar, coffee, coconut oil, egg yolk, cocoa powder, wheat flour, butter, chocolate, corn syrup, cocoa powder, canola oil, guar gum, soybean lecithin, salt, carrageenan, natural flavor, milk fat, baking soda, vanilla"
        ],
        [
         "13",
         "BenJerrys",
         "Caramel Chocolate Cheesecake",
         "4.0",
         "133",
         "cream, skim milk, water, sugar syrup, sugar, corn syrup, canola oil, cream cheese, coconut oil, egg yolk, wheat flour, cane syrup, soybean oil, graham flour, egg, cocoa powder, natural flavor, cocoa powder, guar gum, butter, whey, cornstarch, salt, soybean lecithin, tapioca, pectin, caramel syrup, baking soda, molasses, honey, carrageenan, vanilla"
        ],
        [
         "14",
         "BenJerrys",
         "Cherry Garcia",
         "4.4",
         "153",
         "cream, skim milk, sugar syrup, water, cherry, sugar, egg yolk, coconut oil, cocoa powder, fruit, vegetable, cocoa powder, guar gum, natural flavor, lemon, carrageenan, milk fat, soybean lecithin"
        ],
        [
         "15",
         "BenJerrys",
         "Chillin' The Roast",
         "3.3",
         "172",
         "cream, skim milk, sugar syrup, water, sugar, coconut oil, egg yolk, butter, coffee, wheat flour, whey, cocoa powder, soybean oil, guar gum, natural flavor, salt, cornstarch, canola oil, rum, soybean lecithin, chocolate, baking soda, carrageenan"
        ],
        [
         "16",
         "BenJerrys",
         "Chocolate Chip Cookie Dough",
         "4.6",
         "983",
         "cream, skim milk, sugar syrup, water, wheat flour, sugar, brown sugar, egg yolk, butter, soybean oil, egg, coconut oil, chocolate, vanilla, cocoa powder, cocoa powder, salt, molasses, guar gum, cocoa butter, natural flavor, carrageenan, milk fat, soybean lecithin"
        ],
        [
         "17",
         "BenJerrys",
         "Chocolate Fudge Brownie",
         "3.4",
         "204",
         "cream, sugar syrup, skim milk, water, sugar, cocoa powder, wheat flour, cocoa powder, soybean oil, egg yolk, inverted sugar syrup, egg, egg white, guar gum, salt, carrageenan, vanilla, malted barley flour, sodium bicarbonate"
        ],
        [
         "18",
         "BenJerrys",
         "Chocolate Shake It",
         "3.9",
         "111",
         "cream, skim milk, sugar syrup, water, corn syrup, wheat flour, sugar, sugar, egg yolk, cocoa powder, butter, barley malt, tapioca, egg white, milk, cocoa powder, salt, guar gum, natural flavor, pectin, vanilla, enzymes, carrageenan, salt, baking soda"
        ],
        [
         "19",
         "BenJerrys",
         "Chocolate Therapy",
         "4.8",
         "72",
         "cream, sugar syrup, skim milk, water, cocoa powder, wheat flour, sugar, soybean oil, brown sugar, egg yolk, chocolate, cocoa powder, honey, guar gum, cocoa butter, vanilla, salt, baking soda, natural flavor, soybean lecithin, carrageenan"
        ],
        [
         "20",
         "BenJerrys",
         "Chubby Hubby",
         "4.3",
         "118",
         "cream, skim milk, sugar syrup, water, sugar, peanut, wheat flour, coconut oil, peanut, egg yolk, butter, peanut oil, barley malt, vanilla, milk, cocoa powder, salt, soybean lecithin, cocoa powder, chocolate, soybean oil, guar gum, enzymes, baking soda, carrageenan"
        ],
        [
         "21",
         "BenJerrys",
         "Chunky Monkey",
         "4.4",
         "108",
         "cream, skim milk, sugar syrup, water, sugar, walnuts, banana, coconut oil, egg yolk, cocoa powder, cocoa powder, lemon, guar gum, natural flavor, milk fat, carrageenan, soybean lecithin, vanilla"
        ],
        [
         "22",
         "BenJerrys",
         "Cinnamon Buns",
         "4.6",
         "83",
         "cream, skim milk, water, sugar syrup, sugar, cane syrup, wheat flour, corn syrup, egg yolk, brown sugar, soybean oil, butter, spices, coconut oil, molasses, salt, soybean lecithin, sodium bicarbonate, vanilla, guar gum, carrageenan"
        ],
        [
         "23",
         "BenJerrys",
         "Coffee Coffee Buzzbuzzbuzz!",
         "4.9",
         "47",
         "cream, skim milk, sugar syrup, water, sugar, coconut oil, coffee, egg yolk, cocoa powder, coffee, cocoa powder, soybean lecithin, guar gum, vanilla, carrageenan"
        ],
        [
         "24",
         "BenJerrys",
         "Coffee Toffee Bar Crunch",
         "2.9",
         "302",
         "cream, skim milk, sugar syrup, water, sugar, coconut oil, coffee, egg yolk, butter, almonds, cocoa powder, milk, soybean lecithin, cocoa powder, natural flavor, salt, vanilla, vegetable oil, guar gum, carrageenan"
        ],
        [
         "25",
         "BenJerrys",
         "Cold Brew Caramel Latte",
         "4.6",
         "10",
         "cream, skim milk, water, sugar syrup, corn syrup, egg yolk, sugar, butter, coffee, salt, guar gum, caramel syrup, carrageenan, baking soda"
        ],
        [
         "26",
         "BenJerrys",
         "Everything But The...",
         "3.8",
         "72",
         "cream, skim milk, sugar syrup, water, sugar, coconut oil, cocoa powder, egg yolk, peanut, almonds, peanut, cane syrup, butter, vanilla, milk, cocoa powder, soybean lecithin, almonds, salt, guar gum, natural flavor, milk fat, butter, vegetable oil, carrageenan, maltodextrin"
        ],
        [
         "27",
         "BenJerrys",
         "Glampfire Trail Mix",
         "4.7",
         "68",
         "cream, sugar syrup, skim milk, water, cocoa powder, corn syrup, sugar, canola oil, wheat flour, cornstarch, almonds, cane syrup, coconut oil, egg yolk, salt, milk fat, cocoa powder, egg white, soybean lecithin, butter, vanilla, guar gum, tapioca, natural flavor, pectin, soybean oil, baking soda, carrageenan, barley malt"
        ],
        [
         "28",
         "BenJerrys",
         "Half Baked",
         "4.7",
         "887",
         "cream, sugar syrup, skim milk, water, sugar, wheat flour, brown sugar, cocoa powder, egg yolk, butter, cocoa powder, egg, soybean oil, soybean oil, inverted sugar syrup, chocolate, vanilla, salt, egg white, guar gum, molasses, cocoa butter, natural flavor, carrageenan, soybean lecithin, baking soda, malted barley flour"
        ],
        [
         "29",
         "BenJerrys",
         "Ice Cream Sammie",
         "5.0",
         "31",
         "cream, skim milk, sugar syrup, water, sugar, wheat flour, canola oil, egg yolk, cocoa powder, coconut oil, sunflower oil, cocoa powder, butter, salt, baking soda, tapioca, natural flavor, guar gum, soybean lecithin, vanilla, natural flavor, carrageenan"
        ],
        [
         "30",
         "BenJerrys",
         "Milk & Cookies",
         "4.7",
         "104",
         "cream, skim milk, sugar syrup, water, sugar, wheat flour, canola oil, egg yolk, brown sugar, butter, cocoa powder, cocoa powder, coconut oil, chocolate, soybean oil, egg, salt, natural flavor, vanilla, tapioca, guar gum, honey, baking soda, cocoa butter, soybean lecithin, vanilla, carrageenan"
        ],
        [
         "31",
         "BenJerrys",
         "Mint Chocolate Cookie",
         "4.4",
         "141",
         "cream, skim milk, sugar syrup, water, sugar, wheat flour, egg yolk, coconut oil, cocoa powder, sunflower oil, salt, baking soda, guar gum, natural flavor, soybean lecithin, peppermint, carrageenan"
        ],
        [
         "32",
         "BenJerrys",
         "Minter Wonderland",
         "4.7",
         "32",
         "cream, sugar syrup, skim milk, water, cocoa powder, sugar, corn syrup, canola oil, wheat flour, egg yolk, cocoa powder, coconut oil, egg white, natural flavor, tapioca, guar gum, salt, pectin, soybean lecithin, baking soda, carrageenan"
        ],
        [
         "33",
         "BenJerrys",
         "New York Super Fudge Chunk",
         "4.9",
         "63",
         "cream, sugar syrup, skim milk, water, cocoa powder, sugar, coconut oil, walnuts, pecans, almonds, cane syrup, egg yolk, cocoa powder, milk fat, salt, soybean lecithin, vanilla, guar gum, butter, peanut oil, butter, natural flavor, carrageenan"
        ],
        [
         "34",
         "BenJerrys",
         "Oat Of This Swirled",
         "4.5",
         "255",
         "cream, skim milk, sugar syrup, water, sugar, canola oil, coconut oil, egg yolk, butter, cocoa powder, butter, wheat flour, oats, brown sugar, cocoa powder, spices, tapioca, salt, guar gum, soybean lecithin, vanilla, baking soda, natural flavor, lemon, carrageenan, milk fat"
        ],
        [
         "35",
         "BenJerrys",
         "Peanut Butter Cup",
         "4.4",
         "41",
         "cream, skim milk, sugar syrup, water, peanut, sugar, coconut oil, egg yolk, peanut, peanut oil, milk, cocoa powder, salt, guar gum, cocoa powder, natural flavor, soybean lecithin, vanilla, carrageenan"
        ],
        [
         "36",
         "BenJerrys",
         "Peanut Butter World",
         "4.9",
         "69",
         "cream, sugar syrup, skim milk, water, peanut, sugar, cocoa powder, canola oil, peanut oil, wheat flour, cocoa powder, coconut oil, egg yolk, salt, tapioca, guar gum, natural flavor, soybean lecithin, baking soda, carrageenan"
        ],
        [
         "37",
         "BenJerrys",
         "Phish Food",
         "4.8",
         "93",
         "cream, water, skim milk, sugar syrup, corn syrup, sugar, cocoa powder, coconut oil, butter, egg yolk, egg white, vanilla, natural flavor, guar gum, pectin, cocoa powder, salt, carrageenan, baking soda, milk, soybean lecithin"
        ],
        [
         "38",
         "BenJerrys",
         "Pistachio Pistachio",
         "4.0",
         "80",
         "cream, skim milk, sugar syrup, water, pistachio, egg yolk, sugar, coconut oil, guar gum, salt, natural flavor, carrageenan"
        ],
        [
         "39",
         "BenJerrys",
         "Pumpkin Cheesecake",
         "4.6",
         "58",
         "cream, skim milk, water, sugar syrup, sugar, pumpkin, soybean oil, egg yolk, cornstarch, cream cheese, wheat flour, graham flour, salt, butter, canola oil, tapioca, guar gum, cinnamon, lactic acid, molasses, honey, soybean lecithin, baking soda, natural flavor, nutmeg, ginger, lemon, cloves, artificial color, carrageenan"
        ],
        [
         "40",
         "BenJerrys",
         "Red, White & Blueberry",
         "3.4",
         "39",
         "cream, skim milk, water, sugar syrup, blueberry, strawberry, egg yolk, wheat flour, cane syrup, sugar, butter, raspberry, soybean oil, vanilla, egg, guar gum, baking soda, salt, carrageenan, lemon"
        ],
        [
         "41",
         "BenJerrys",
         "S'mores",
         "4.1",
         "151",
         "cream, sugar syrup, skim milk, water, sugar, cocoa powder, soybean oil, corn syrup, cornstarch, coconut oil, corn syrup, wheat flour, graham flour, egg yolk, salt, butter, egg white, canola oil, cocoa powder, guar gum, tapioca, molasses, honey, soybean lecithin, sodium bicarbonate, vanilla, pectin, milk fat, carrageenan, natural flavor"
        ],
        [
         "42",
         "BenJerrys",
         "Salted Caramel Almond",
         "4.5",
         "23",
         "cream, skim milk, sugar syrup, water, sugar, almonds, milk, egg yolk, coconut oil, corn syrup, cocoa powder, butter, butter, pectin, salt, cocoa powder, guar gum, vanilla, soybean lecithin, baking soda, vanilla, milk fat, carrageenan, lactase, natural flavor"
        ],
        [
         "43",
         "BenJerrys",
         "Strawberry Cheesecake",
         "4.7",
         "231",
         "cream, skim milk, water, sugar syrup, sugar, strawberry, soybean oil, strawberry, egg yolk, cornstarch, cream cheese, wheat flour, graham flour, salt, butter, canola oil, guar gum, natural flavor, tapioca, molasses, honey, lactic acid, soybean lecithin, sodium bicarbonate, lemon, pectin, carrageenan"
        ],
        [
         "44",
         "BenJerrys",
         "The Tonight Dough",
         "4.7",
         "639",
         "cream, sugar syrup, skim milk, water, wheat flour, sugar, cocoa powder, brown sugar, canola oil, egg yolk, peanut butter, corn syrup, egg, cocoa powder, butter, coconut oil, soybean oil, salt, chocolate, natural flavor, tapioca, guar gum, baking soda, soybean lecithin, molasses, cocoa butter, carrageenan"
        ],
        [
         "45",
         "BenJerrys",
         "Triple Caramel Chunk",
         "4.3",
         "16",
         "cream, skim milk, water, sugar syrup, corn syrup, sugar, egg yolk, coconut oil, butter, milk, cocoa powder, salt, guar gum, carrageenan, vanilla, baking soda, cocoa powder, soybean lecithin, natural flavor"
        ],
        [
         "46",
         "BenJerrys",
         "Urban Bourbon",
         "4.2",
         "181",
         "cream, skim milk, water, sugar syrup, corn syrup, sugar, almonds, coconut oil, egg yolk, cocoa powder, butter, whiskey, caramel syrup, cocoa powder, malt extract, guar gum, salt, carrageenan, baking soda, milk fat, soybean lecithin, vanilla, natural flavor"
        ],
        [
         "47",
         "BenJerrys",
         "Vanilla",
         "4.7",
         "10",
         "cream, skim milk, sugar syrup, water, egg yolk, sugar, guar gum, vanilla, vanilla, carrageenan"
        ],
        [
         "48",
         "BenJerrys",
         "Vanilla Caramel Fudge",
         "4.8",
         "29",
         "cream, skim milk, sugar syrup, water, corn syrup, sugar, butter, egg yolk, vanilla, cocoa powder, salt, carrageenan, chocolate, guar gum, baking soda"
        ],
        [
         "49",
         "BenJerrys",
         "Boom Chocolatta Cookie Core",
         "4.6",
         "97",
         "cream, skim milk, sugar syrup, water, sugar, soybean oil, cocoa powder, egg yolk, butter, coffee, corn syrup, rice flour, potato flour, wheat flour, coconut oil, brown sugar, vanilla, baking soda, salt, natural flavor, cocoa powder, soybean lecithin, egg, chocolate, cocoa butter, milk, whey, guar gum, carrageenan, milk fat"
        ]
       ],
       "shape": {
        "columns": 5,
        "rows": 241
       }
      },
      "text/html": [
       "<div>\n",
       "<style scoped>\n",
       "    .dataframe tbody tr th:only-of-type {\n",
       "        vertical-align: middle;\n",
       "    }\n",
       "\n",
       "    .dataframe tbody tr th {\n",
       "        vertical-align: top;\n",
       "    }\n",
       "\n",
       "    .dataframe thead th {\n",
       "        text-align: right;\n",
       "    }\n",
       "</style>\n",
       "<table border=\"1\" class=\"dataframe\">\n",
       "  <thead>\n",
       "    <tr style=\"text-align: right;\">\n",
       "      <th></th>\n",
       "      <th>brand</th>\n",
       "      <th>name</th>\n",
       "      <th>rating</th>\n",
       "      <th>rating_count</th>\n",
       "      <th>ingredients_cleaned</th>\n",
       "    </tr>\n",
       "  </thead>\n",
       "  <tbody>\n",
       "    <tr>\n",
       "      <th>0</th>\n",
       "      <td>BenJerrys</td>\n",
       "      <td>Salted Caramel Core</td>\n",
       "      <td>3.7</td>\n",
       "      <td>208</td>\n",
       "      <td>cream, skim milk, sugar syrup, water, brown sugar, sugar, milk, wheat flour, egg yolk, corn syrup, egg, butter, butter, pectin, salt, soybean oil, vanilla, guar gum, soybean lecithin, baking powder, baking soda, salt, carrageenan, lactase</td>\n",
       "    </tr>\n",
       "    <tr>\n",
       "      <th>1</th>\n",
       "      <td>BenJerrys</td>\n",
       "      <td>Netflix &amp; Chilll'd</td>\n",
       "      <td>4.0</td>\n",
       "      <td>127</td>\n",
       "      <td>cream, skim milk, sugar syrup, water, sugar, peanut, wheat flour, canola oil, egg yolk, cornstarch, peanut oil, cocoa powder, salt, soybean oil, inverted sugar syrup, milk fat, egg, egg white, guar gum, soybean lecithin, tapioca, baking soda, carrageenan, vanilla, barley malt, malted barley flour</td>\n",
       "    </tr>\n",
       "    <tr>\n",
       "      <th>2</th>\n",
       "      <td>BenJerrys</td>\n",
       "      <td>Chip Happens</td>\n",
       "      <td>4.7</td>\n",
       "      <td>130</td>\n",
       "      <td>cream, sugar syrup, skim milk, water, sugar, cocoa powder, potato, coconut oil, corn syrup, soybean oil, egg yolk, rice starch, sunflower oil, barley malt, cocoa powder, wheat flour, milk, salt, soybean lecithin, yeast extract, natural flavor, guar gum, salt, milk fat, vanilla, enzymes, carrageenan, baking soda</td>\n",
       "    </tr>\n",
       "    <tr>\n",
       "      <th>3</th>\n",
       "      <td>BenJerrys</td>\n",
       "      <td>Cannoli</td>\n",
       "      <td>3.6</td>\n",
       "      <td>70</td>\n",
       "      <td>cream, skim milk, sugar syrup, water, corn syrup, coconut oil, sugar, cane syrup, egg yolk, wheat flour, milk, cocoa powder, natural flavor, guar gum, soybean lecithin, butter, natural flavor, locust bean gum, salt, citric acid, vanilla, soybean oil, tapioca, lactic acid, carrageenan</td>\n",
       "    </tr>\n",
       "    <tr>\n",
       "      <th>4</th>\n",
       "      <td>BenJerrys</td>\n",
       "      <td>Gimme Smore!</td>\n",
       "      <td>4.5</td>\n",
       "      <td>281</td>\n",
       "      <td>cream, skim milk, water, sugar syrup, sugar, canola oil, soybean oil, egg yolk, corn syrup, wheat flour, coconut oil, cornstarch, cocoa powder, corn syrup, cocoa powder, graham flour, salt, egg white, butter, tapioca, guar gum, soybean lecithin, baking soda, natural flavor, molasses, honey, vanilla, pectin, caramel syrup, carrageenan</td>\n",
       "    </tr>\n",
       "    <tr>\n",
       "      <th>...</th>\n",
       "      <td>...</td>\n",
       "      <td>...</td>\n",
       "      <td>...</td>\n",
       "      <td>...</td>\n",
       "      <td>...</td>\n",
       "    </tr>\n",
       "    <tr>\n",
       "      <th>236</th>\n",
       "      <td>Breyers</td>\n",
       "      <td>Cinnabon</td>\n",
       "      <td>4.0</td>\n",
       "      <td>28</td>\n",
       "      <td>milk, corn syrup, sugar, brown sugar, soybean oil, water, butter, cream, salt, corn syrup, spices, salt, soybean lecithin, vanilla, cane syrup, wheat flour, coconut oil, water, butter, cream, salt, molasses, sodium bicarbonate, spices, corn syrup, soybean lecithin, salt, fructose, coconut oil, whey, cream, vegetable gum, guar gum, carob bean gum, monoglycerides, diglycerides, natural flavor</td>\n",
       "    </tr>\n",
       "    <tr>\n",
       "      <th>237</th>\n",
       "      <td>Breyers</td>\n",
       "      <td>Carbsmart Caramel Swirl Bar</td>\n",
       "      <td>4.7</td>\n",
       "      <td>18</td>\n",
       "      <td>milk, water, caramel, sugar, water, corn syrup, corn syrup, milk powder, butter, cream, salt, salt, molasses, pectin, soybean lecithin, natural flavor, potassium sorbate, sodium citrate, lactic acid, maltitol syrup, polydextrose, coconut oil, whey, glycerin, cream, soluble corn fiber, vegetable gum, carob bean gum, guar gum, caramel, monoglycerides, diglycerides, natural flavor, acesulfame potassium, sucralose</td>\n",
       "    </tr>\n",
       "    <tr>\n",
       "      <th>238</th>\n",
       "      <td>Breyers</td>\n",
       "      <td>Layered Dessert S'mores</td>\n",
       "      <td>2.5</td>\n",
       "      <td>31</td>\n",
       "      <td>milk, corn syrup, sugar, wheat flour, butter, cream, salt, palm oil, corn syrup, skim milk, water, rice flour, natural flavor, salt, wheat flour, sugar, palm oil, molasses, spices, salt, baking soda, natural flavor, soybean lecithin, fructose, coconut oil, cocoa powder, whey, cream, vegetable gum, guar gum, carob bean gum, monoglycerides, diglycerides, natural flavor, vanilla</td>\n",
       "    </tr>\n",
       "    <tr>\n",
       "      <th>239</th>\n",
       "      <td>Breyers</td>\n",
       "      <td>Layered Dessert Peach Cobbler</td>\n",
       "      <td>3.2</td>\n",
       "      <td>38</td>\n",
       "      <td>milk, corn syrup, wheat flour, wheat flour, niacin, reduced iron, thiamine mononitrate, riboflavin, folic acid, sugar, butter, cream, salt, canola oil, milk powder, salt, sodium bicarbonate, peaches, fructose, coconut oil, sugar, whey, cream, vegetable gum, guar gum, carob bean gum, tara gum, monoglycerides, diglycerides, natural flavor, vanilla, artificial color, vanilla</td>\n",
       "    </tr>\n",
       "    <tr>\n",
       "      <th>240</th>\n",
       "      <td>Breyers</td>\n",
       "      <td>Layered Dessert Brownie Cheesecake</td>\n",
       "      <td>2.8</td>\n",
       "      <td>25</td>\n",
       "      <td>milk, corn syrup, sugar, wheat flour, wheat flour, niacin, reduced iron, thiamine mononitrate, riboflavin, folic acid, sugar, sugar, cornstarch, cocoa powder, water, palm oil, soybean oil, milk powder, soybean lecithin, natural flavor, fructose, cheesecake, cream cheese, milk, cream, cheese culture, salt, carob bean gum, sugar, egg, graham crumb, wheat flour, wheat graham flour, sugar, canola oil, molasses, honey, salt, sodium bicarbonate, cornstarch, palm oil, natural flavor, sweetened lemon zest, lemon peel, sugar, lemon oil, guar gum, coconut oil, cocoa powder, whey, cream, cream cheese, milk, cream, cheese culture, salt, carob bean gum, cane syrup, vegetable gum, guar gum, carob bean gum, monoglycerides, diglycerides, natural flavor, salt, pectin, sugar, artificial color</td>\n",
       "    </tr>\n",
       "  </tbody>\n",
       "</table>\n",
       "<p>241 rows × 5 columns</p>\n",
       "</div>"
      ],
      "text/plain": [
       "         brand                                name  rating  rating_count  \\\n",
       "0    BenJerrys                 Salted Caramel Core     3.7           208   \n",
       "1    BenJerrys                  Netflix & Chilll'd     4.0           127   \n",
       "2    BenJerrys                        Chip Happens     4.7           130   \n",
       "3    BenJerrys                             Cannoli     3.6            70   \n",
       "4    BenJerrys                        Gimme Smore!     4.5           281   \n",
       "..         ...                                 ...     ...           ...   \n",
       "236    Breyers                            Cinnabon     4.0            28   \n",
       "237    Breyers         Carbsmart Caramel Swirl Bar     4.7            18   \n",
       "238    Breyers             Layered Dessert S'mores     2.5            31   \n",
       "239    Breyers       Layered Dessert Peach Cobbler     3.2            38   \n",
       "240    Breyers  Layered Dessert Brownie Cheesecake     2.8            25   \n",
       "\n",
       "                                                                                                                                                                                                                                                                                                                                                                                                                                                                                                                                                                                                                                                                                                                                                                                                   ingredients_cleaned  \n",
       "0                                                                                                                                                                                                                                                                                                                                                                                                                                                                                                                                                                       cream, skim milk, sugar syrup, water, brown sugar, sugar, milk, wheat flour, egg yolk, corn syrup, egg, butter, butter, pectin, salt, soybean oil, vanilla, guar gum, soybean lecithin, baking powder, baking soda, salt, carrageenan, lactase  \n",
       "1                                                                                                                                                                                                                                                                                                                                                                                                                                                                                                            cream, skim milk, sugar syrup, water, sugar, peanut, wheat flour, canola oil, egg yolk, cornstarch, peanut oil, cocoa powder, salt, soybean oil, inverted sugar syrup, milk fat, egg, egg white, guar gum, soybean lecithin, tapioca, baking soda, carrageenan, vanilla, barley malt, malted barley flour  \n",
       "2                                                                                                                                                                                                                                                                                                                                                                                                                                                                                             cream, sugar syrup, skim milk, water, sugar, cocoa powder, potato, coconut oil, corn syrup, soybean oil, egg yolk, rice starch, sunflower oil, barley malt, cocoa powder, wheat flour, milk, salt, soybean lecithin, yeast extract, natural flavor, guar gum, salt, milk fat, vanilla, enzymes, carrageenan, baking soda  \n",
       "3                                                                                                                                                                                                                                                                                                                                                                                                                                                                                                                         cream, skim milk, sugar syrup, water, corn syrup, coconut oil, sugar, cane syrup, egg yolk, wheat flour, milk, cocoa powder, natural flavor, guar gum, soybean lecithin, butter, natural flavor, locust bean gum, salt, citric acid, vanilla, soybean oil, tapioca, lactic acid, carrageenan  \n",
       "4                                                                                                                                                                                                                                                                                                                                                                                                                                                                      cream, skim milk, water, sugar syrup, sugar, canola oil, soybean oil, egg yolk, corn syrup, wheat flour, coconut oil, cornstarch, cocoa powder, corn syrup, cocoa powder, graham flour, salt, egg white, butter, tapioca, guar gum, soybean lecithin, baking soda, natural flavor, molasses, honey, vanilla, pectin, caramel syrup, carrageenan  \n",
       "..                                                                                                                                                                                                                                                                                                                                                                                                                                                                                                                                                                                                                                                                                                                                                                                                                 ...  \n",
       "236                                                                                                                                                                                                                                                                                                                                                                                                          milk, corn syrup, sugar, brown sugar, soybean oil, water, butter, cream, salt, corn syrup, spices, salt, soybean lecithin, vanilla, cane syrup, wheat flour, coconut oil, water, butter, cream, salt, molasses, sodium bicarbonate, spices, corn syrup, soybean lecithin, salt, fructose, coconut oil, whey, cream, vegetable gum, guar gum, carob bean gum, monoglycerides, diglycerides, natural flavor  \n",
       "237                                                                                                                                                                                                                                                                                                                                                                                      milk, water, caramel, sugar, water, corn syrup, corn syrup, milk powder, butter, cream, salt, salt, molasses, pectin, soybean lecithin, natural flavor, potassium sorbate, sodium citrate, lactic acid, maltitol syrup, polydextrose, coconut oil, whey, glycerin, cream, soluble corn fiber, vegetable gum, carob bean gum, guar gum, caramel, monoglycerides, diglycerides, natural flavor, acesulfame potassium, sucralose  \n",
       "238                                                                                                                                                                                                                                                                                                                                                                                                                         milk, corn syrup, sugar, wheat flour, butter, cream, salt, palm oil, corn syrup, skim milk, water, rice flour, natural flavor, salt, wheat flour, sugar, palm oil, molasses, spices, salt, baking soda, natural flavor, soybean lecithin, fructose, coconut oil, cocoa powder, whey, cream, vegetable gum, guar gum, carob bean gum, monoglycerides, diglycerides, natural flavor, vanilla  \n",
       "239                                                                                                                                                                                                                                                                                                                                                                                                                             milk, corn syrup, wheat flour, wheat flour, niacin, reduced iron, thiamine mononitrate, riboflavin, folic acid, sugar, butter, cream, salt, canola oil, milk powder, salt, sodium bicarbonate, peaches, fructose, coconut oil, sugar, whey, cream, vegetable gum, guar gum, carob bean gum, tara gum, monoglycerides, diglycerides, natural flavor, vanilla, artificial color, vanilla  \n",
       "240  milk, corn syrup, sugar, wheat flour, wheat flour, niacin, reduced iron, thiamine mononitrate, riboflavin, folic acid, sugar, sugar, cornstarch, cocoa powder, water, palm oil, soybean oil, milk powder, soybean lecithin, natural flavor, fructose, cheesecake, cream cheese, milk, cream, cheese culture, salt, carob bean gum, sugar, egg, graham crumb, wheat flour, wheat graham flour, sugar, canola oil, molasses, honey, salt, sodium bicarbonate, cornstarch, palm oil, natural flavor, sweetened lemon zest, lemon peel, sugar, lemon oil, guar gum, coconut oil, cocoa powder, whey, cream, cream cheese, milk, cream, cheese culture, salt, carob bean gum, cane syrup, vegetable gum, guar gum, carob bean gum, monoglycerides, diglycerides, natural flavor, salt, pectin, sugar, artificial color  \n",
       "\n",
       "[241 rows x 5 columns]"
      ]
     },
     "execution_count": 33,
     "metadata": {},
     "output_type": "execute_result"
    }
   ],
   "source": [
    "df"
   ]
  },
  {
   "cell_type": "code",
   "execution_count": 35,
   "metadata": {},
   "outputs": [],
   "source": [
    "# saving results to csv to next code (icecream-p3-model.ipynb)\n",
    "processed_csv_path = os.path.join(project_root, 'data', 'intermediate', 'processed.csv')\n",
    "df.to_csv(processed_csv_path, index=False, header=True, encoding='cp1252')"
   ]
  },
  {
   "cell_type": "markdown",
   "metadata": {},
   "source": [
    "# Classifying ingredients list into groups"
   ]
  },
  {
   "attachments": {},
   "cell_type": "markdown",
   "metadata": {},
   "source": [
    "* Data Treatment: unique ingredients list"
   ]
  },
  {
   "cell_type": "code",
   "execution_count": 36,
   "metadata": {},
   "outputs": [],
   "source": [
    "# convert the ingredients list in a python set\n",
    "all_ingredients = set()\n",
    "\n",
    "for row in df.iterrows():\n",
    "    ingredient_list = df.loc[row[0], 'ingredients_cleaned'].split(', ')\n",
    "    for ingredient in ingredient_list:\n",
    "        if ingredient not in all_ingredients:\n",
    "            all_ingredients.add(ingredient)"
   ]
  },
  {
   "cell_type": "code",
   "execution_count": 37,
   "metadata": {},
   "outputs": [
    {
     "data": {
      "text/plain": [
       "{'acesulfame potassium',\n",
       " 'almond extract',\n",
       " 'almond milk',\n",
       " 'almonds',\n",
       " 'apple',\n",
       " 'artificial color',\n",
       " 'artificial flavor',\n",
       " 'ascorbic acid',\n",
       " 'baking powder',\n",
       " 'baking soda',\n",
       " 'balsamic vinegar',\n",
       " 'banana',\n",
       " 'barley malt',\n",
       " 'beet',\n",
       " 'belgian chocolate',\n",
       " 'black carrot',\n",
       " 'black cherry',\n",
       " 'black raspberry',\n",
       " 'blackberry',\n",
       " 'blueberry',\n",
       " 'bourbon',\n",
       " 'brown sugar',\n",
       " 'butter',\n",
       " 'calcium carbonate',\n",
       " 'calcium phosphate',\n",
       " 'cane syrup',\n",
       " 'canola oil',\n",
       " 'caramel',\n",
       " 'caramel syrup',\n",
       " 'carnauba wax',\n",
       " 'carob bean gum',\n",
       " 'carrageenan',\n",
       " 'carrot',\n",
       " 'carrot powder',\n",
       " 'cellulose gum',\n",
       " 'cheese culture',\n",
       " 'cheesecake',\n",
       " 'cherry',\n",
       " 'chocolate',\n",
       " 'chocolate cookie',\n",
       " 'chocolatey coated cone',\n",
       " 'chocolatey coated peanut',\n",
       " 'cinnamon',\n",
       " 'citric acid',\n",
       " 'cloves',\n",
       " 'cocoa butter',\n",
       " 'cocoa powder',\n",
       " 'coconut',\n",
       " 'coconut oil',\n",
       " 'coffee',\n",
       " 'condensed milk',\n",
       " 'cone',\n",
       " \"confectioner's glaze\",\n",
       " 'corn oil',\n",
       " 'corn syrup',\n",
       " 'cornstarch',\n",
       " 'cottonseed oil',\n",
       " 'cream',\n",
       " 'cream cheese',\n",
       " 'cream of tartar',\n",
       " 'dextrin',\n",
       " 'dextrose',\n",
       " 'diglycerides',\n",
       " 'egg',\n",
       " 'egg white',\n",
       " 'egg yolk',\n",
       " 'enzymes',\n",
       " 'erythritol',\n",
       " 'flour',\n",
       " 'folic acid',\n",
       " 'fructose',\n",
       " 'fruit',\n",
       " 'fudge coating',\n",
       " 'fudge covered waffle cone pieces',\n",
       " 'fudge swirl',\n",
       " 'ginger',\n",
       " 'glycerin',\n",
       " 'graham crumb',\n",
       " 'graham flour',\n",
       " 'grape',\n",
       " 'green tea',\n",
       " 'guar gum',\n",
       " 'hazelnuts',\n",
       " 'heath toffee bar',\n",
       " 'hibiscus',\n",
       " 'honey',\n",
       " 'hydrogenated vegetable oil',\n",
       " 'inverted sugar syrup',\n",
       " 'lactase',\n",
       " 'lactic acid',\n",
       " 'lactose',\n",
       " 'leavening',\n",
       " 'lecithin',\n",
       " 'lemon',\n",
       " 'lemon oil',\n",
       " 'lemon peel',\n",
       " 'lime',\n",
       " 'locust bean gum',\n",
       " \"m&m's minis chocolate with cocoa butter\",\n",
       " 'malic acid',\n",
       " 'malt extract',\n",
       " 'malted barley flour',\n",
       " 'maltitol syrup',\n",
       " 'maltodextrin',\n",
       " 'mango',\n",
       " 'maple syrup',\n",
       " 'matcha green tea',\n",
       " 'milk',\n",
       " 'milk fat',\n",
       " 'milk powder',\n",
       " 'mint leaf extractives',\n",
       " 'modified cornstarch',\n",
       " 'molasses',\n",
       " 'monocalcium phosphate',\n",
       " 'monoglycerides',\n",
       " 'natural flavor',\n",
       " 'niacin',\n",
       " 'nutmeg',\n",
       " 'oakwood extract',\n",
       " 'oats',\n",
       " 'orange',\n",
       " 'oreo cookie',\n",
       " 'palm oil',\n",
       " 'pea protein',\n",
       " 'peaches',\n",
       " 'peanut',\n",
       " 'peanut butter',\n",
       " 'peanut extract',\n",
       " 'peanut flour',\n",
       " 'peanut oil',\n",
       " 'pecans',\n",
       " 'pectin',\n",
       " 'peppermint',\n",
       " 'pgpr',\n",
       " 'pineapple',\n",
       " 'pistachio',\n",
       " 'plum',\n",
       " 'polydextrose',\n",
       " 'potassium sorbate',\n",
       " 'potato',\n",
       " 'potato flour',\n",
       " 'propylene glycol monoesters',\n",
       " 'pumpkin',\n",
       " 'raisins',\n",
       " 'raspberry',\n",
       " 'red cabbage',\n",
       " 'reduced iron',\n",
       " \"reese's peanut butter\",\n",
       " 'riboflavin',\n",
       " 'rice flour',\n",
       " 'rice starch',\n",
       " 'rum',\n",
       " 'safflower oil',\n",
       " 'salt',\n",
       " 'skim milk',\n",
       " 'snickers',\n",
       " 'sodium acid pyrophosphate',\n",
       " 'sodium bicarbonate',\n",
       " 'sodium caseinate',\n",
       " 'sodium citrate',\n",
       " 'soluble corn fiber',\n",
       " 'sorbitol',\n",
       " 'soybean',\n",
       " 'soybean lecithin',\n",
       " 'soybean oil',\n",
       " 'spices',\n",
       " 'strawberry',\n",
       " 'sucralose',\n",
       " 'sugar',\n",
       " 'sugar syrup',\n",
       " 'sunflower lecithin',\n",
       " 'sunflower oil',\n",
       " 'sweetened condensed milk',\n",
       " 'sweetened lemon zest',\n",
       " 'tapioca',\n",
       " 'tara gum',\n",
       " 'tbhq',\n",
       " 'thiamine mononitrate',\n",
       " 'toffee',\n",
       " 'vanilla',\n",
       " 'vanillin',\n",
       " 'vegetable',\n",
       " 'vegetable gum',\n",
       " 'vegetable oil',\n",
       " 'vegetablecolor',\n",
       " 'vermouth',\n",
       " 'vitamin a palmitate',\n",
       " 'waffle cone pieces',\n",
       " 'walnuts',\n",
       " 'water',\n",
       " 'wheat bran',\n",
       " 'wheat flour',\n",
       " 'wheat germ',\n",
       " 'wheat graham flour',\n",
       " 'whey',\n",
       " 'whiskey',\n",
       " 'wine',\n",
       " 'xanthan gum',\n",
       " 'yeast extract'}"
      ]
     },
     "execution_count": 37,
     "metadata": {},
     "output_type": "execute_result"
    }
   ],
   "source": [
    "#checking the unique ingredients list (set datatype)\n",
    "all_ingredients"
   ]
  },
  {
   "cell_type": "code",
   "execution_count": 38,
   "metadata": {},
   "outputs": [
    {
     "name": "stdout",
     "output_type": "stream",
     "text": [
      "There are 199 unique ingredients\n"
     ]
    }
   ],
   "source": [
    "unique_ingredients_lenght = len(all_ingredients)\n",
    "\n",
    "print(\"There are \" + str(unique_ingredients_lenght) + \" unique ingredients\")"
   ]
  },
  {
   "cell_type": "markdown",
   "metadata": {},
   "source": [
    "* Data Treatment: classifying ingredients into categories"
   ]
  },
  {
   "cell_type": "code",
   "execution_count": 39,
   "metadata": {},
   "outputs": [],
   "source": [
    "# create a new column classifying ingredients according to fat, milk/water, sweetening, flavor, dye and other to generate filtered lists\n",
    "categories = {\n",
    "    'colorants': [\n",
    "        'artificial color', 'black carrot', 'red cabbage', 'carrot powder', 'vegetablecolor'\n",
    "    ],\n",
    "    'fats_and_oils': [\n",
    "        'butter', 'canola oil', 'carnauba wax', 'cocoa butter', 'coconut oil', \n",
    "        'corn oil', 'cottonseed oil', 'cream', 'hydrogenated vegetable oil', \n",
    "        'milk fat', 'palm oil', 'peanut oil', 'safflower oil', 'soybean oil', \n",
    "        'sunflower oil', 'vegetable oil'\n",
    "    ],\n",
    "    'flavors': [\n",
    "        'almond extract', 'almonds', 'apple', 'balsamic vinegar', 'banana', \n",
    "        'belgian chocolate', 'black cherry', 'black raspberry', 'blackberry', \n",
    "        'blueberry', 'bourbon', 'carrot', 'cheesecake', 'cherry', 'chocolate', \n",
    "        'chocolate cookie', 'chocolatey coated cone', 'chocolatey coated peanut', \n",
    "        'cinnamon', 'cloves', 'cocoa powder', 'coconut', 'coffee', 'cone', \n",
    "        \"confectioner's glaze\", 'cream cheese', 'fruit', 'fudge coating', \n",
    "        'fudge covered waffle cone pieces', 'fudge swirl', 'ginger', 'graham crumb', \n",
    "        'graham flour', 'grape', 'green tea', 'hazelnuts', 'heath toffee bar', \n",
    "        'hibiscus', 'lemon', 'lemon oil', 'lemon peel', 'lime', \n",
    "        \"m&m's minis chocolate with cocoa butter\", 'malted barley flour', 'mango', \n",
    "        'matcha green tea', 'mint leaf extractives', 'natural flavor', 'nutmeg', \n",
    "        'oakwood extract', 'oats', 'orange', 'oreo cookie', 'peaches', 'peanut', \n",
    "        'peanut butter', 'peanut extract', 'peanut flour', 'pecans', 'peppermint', \n",
    "        'pineapple', 'pistachio', 'plum', 'pumpkin', 'raisins', 'raspberry', \n",
    "        \"reese's peanut butter\", 'rum', 'salt', 'snickers', 'spices', 'strawberry', \n",
    "        'sweetened lemon zest', 'toffee', 'vanilla', 'vermouth', 'waffle cone pieces', \n",
    "        'walnuts', 'wheat bran', 'wheat germ', 'wheat graham flour', 'whiskey', 'wine'\n",
    "    ],\n",
    "    'dairy_and_alternatives': [\n",
    "        'almond milk', 'condensed milk', 'milk', 'milk powder', 'skim milk', \n",
    "        'sweetened condensed milk', 'water', 'whey', 'lactose'\n",
    "    ],\n",
    "    'sweeteners': [\n",
    "        'acesulfame potassium', 'barley malt', 'beet', 'brown sugar', 'cane syrup', \n",
    "        'caramel', 'caramel syrup', 'corn syrup', 'dextrin', 'dextrose', 'erythritol', \n",
    "        'fructose', 'honey', 'inverted sugar syrup', 'maltitol syrup', 'maltodextrin', \n",
    "        'maple syrup', 'molasses', 'polydextrose', 'sorbitol', 'sucralose', 'sugar', \n",
    "        'sugar syrup', 'malt extract'\n",
    "    ],\n",
    "    'stabilizers_and_emulsifiers': [\n",
    "        'carob bean gum', 'carrageenan', 'cellulose gum', 'diglycerides', 'glycerin', \n",
    "        'guar gum', 'lecithin', 'locust bean gum', 'monoglycerides', 'pectin', 'pgpr', \n",
    "        'propylene glycol monoesters', 'soybean lecithin', 'sunflower lecithin', \n",
    "        'tara gum', 'xanthan gum', 'vegetable gum'\n",
    "    ],\n",
    "    'acids_and_leavening_agents': [\n",
    "        'ascorbic acid', 'baking powder', 'baking soda', 'calcium carbonate', \n",
    "        'calcium phosphate', 'citric acid', 'cream of tartar', 'lactic acid', \n",
    "        'malic acid', 'monocalcium phosphate', 'sodium acid pyrophosphate', \n",
    "        'sodium bicarbonate', 'sodium citrate', 'leavening'\n",
    "    ],\n",
    "    'proteins_and_enzymes': [\n",
    "        'cheese culture', 'egg', 'egg white', 'egg yolk', 'enzymes', 'lactase', \n",
    "        'rice flour', 'rice starch', 'sodium caseinate', 'tapioca', 'wheat flour', \n",
    "        'yeast extract', 'soybean', 'pea protein'\n",
    "    ],\n",
    "    'vitamins_and_minerals': [\n",
    "        'folic acid', 'niacin', 'reduced iron', 'riboflavin', 'thiamine mononitrate', \n",
    "        'vitamin a palmitate'\n",
    "    ],\n",
    "    'preservatives_and_antioxidants': [\n",
    "        'potassium sorbate', 'tbhq'\n",
    "    ],\n",
    "    'miscellaneous': [\n",
    "        'artificial flavor', 'cornstarch', 'flour', 'modified cornstarch', \n",
    "        'potato', 'potato flour', 'soluble corn fiber', 'vanillin', 'vegetable'\n",
    "    ]\n",
    "}"
   ]
  },
  {
   "cell_type": "code",
   "execution_count": 40,
   "metadata": {},
   "outputs": [
    {
     "data": {
      "application/vnd.microsoft.datawrangler.viewer.v0+json": {
       "columns": [
        {
         "name": "index",
         "rawType": "int64",
         "type": "integer"
        },
        {
         "name": "ingredient",
         "rawType": "object",
         "type": "string"
        },
        {
         "name": "classification",
         "rawType": "object",
         "type": "string"
        }
       ],
       "conversionMethod": "pd.DataFrame",
       "ref": "dcdd43e3-afa2-4c6c-887c-0ae2dc3bfa65",
       "rows": [
        [
         "0",
         "almond extract",
         "flavors"
        ],
        [
         "1",
         "lemon peel",
         "flavors"
        ],
        [
         "2",
         "sweetened lemon zest",
         "flavors"
        ],
        [
         "3",
         "malted barley flour",
         "flavors"
        ],
        [
         "4",
         "chocolatey coated peanut",
         "flavors"
        ],
        [
         "5",
         "blackberry",
         "flavors"
        ],
        [
         "6",
         "confectioner's glaze",
         "flavors"
        ],
        [
         "7",
         "fudge coating",
         "flavors"
        ],
        [
         "8",
         "chocolatey coated cone",
         "flavors"
        ],
        [
         "9",
         "vegetable oil",
         "fats_and_oils"
        ],
        [
         "10",
         "caramel syrup",
         "sweeteners"
        ],
        [
         "11",
         "tbhq",
         "preservatives_and_antioxidants"
        ],
        [
         "12",
         "cream of tartar",
         "acids_and_leavening_agents"
        ],
        [
         "13",
         "ginger",
         "flavors"
        ],
        [
         "14",
         "niacin",
         "vitamins_and_minerals"
        ],
        [
         "15",
         "safflower oil",
         "fats_and_oils"
        ],
        [
         "16",
         "oats",
         "flavors"
        ],
        [
         "17",
         "carrot",
         "flavors"
        ],
        [
         "18",
         "pea protein",
         "proteins_and_enzymes"
        ],
        [
         "19",
         "nutmeg",
         "flavors"
        ],
        [
         "20",
         "peanut oil",
         "fats_and_oils"
        ],
        [
         "21",
         "potassium sorbate",
         "preservatives_and_antioxidants"
        ],
        [
         "22",
         "corn syrup",
         "sweeteners"
        ],
        [
         "23",
         "soybean",
         "proteins_and_enzymes"
        ],
        [
         "24",
         "peanut",
         "flavors"
        ],
        [
         "25",
         "lactose",
         "dairy_and_alternatives"
        ],
        [
         "26",
         "lemon oil",
         "flavors"
        ],
        [
         "27",
         "fructose",
         "sweeteners"
        ],
        [
         "28",
         "tara gum",
         "stabilizers_and_emulsifiers"
        ],
        [
         "29",
         "butter",
         "fats_and_oils"
        ],
        [
         "30",
         "mango",
         "flavors"
        ],
        [
         "31",
         "soybean oil",
         "fats_and_oils"
        ],
        [
         "32",
         "calcium phosphate",
         "acids_and_leavening_agents"
        ],
        [
         "33",
         "almond milk",
         "dairy_and_alternatives"
        ],
        [
         "34",
         "sodium caseinate",
         "proteins_and_enzymes"
        ],
        [
         "35",
         "hydrogenated vegetable oil",
         "fats_and_oils"
        ],
        [
         "36",
         "cocoa powder",
         "flavors"
        ],
        [
         "37",
         "enzymes",
         "proteins_and_enzymes"
        ],
        [
         "38",
         "chocolate cookie",
         "flavors"
        ],
        [
         "39",
         "xanthan gum",
         "stabilizers_and_emulsifiers"
        ],
        [
         "40",
         "inverted sugar syrup",
         "sweeteners"
        ],
        [
         "41",
         "cornstarch",
         "miscellaneous"
        ],
        [
         "42",
         "palm oil",
         "fats_and_oils"
        ],
        [
         "43",
         "toffee",
         "flavors"
        ],
        [
         "44",
         "maltitol syrup",
         "sweeteners"
        ],
        [
         "45",
         "canola oil",
         "fats_and_oils"
        ],
        [
         "46",
         "peppermint",
         "flavors"
        ],
        [
         "47",
         "vanilla",
         "flavors"
        ],
        [
         "48",
         "red cabbage",
         "colorants"
        ],
        [
         "49",
         "monoglycerides",
         "stabilizers_and_emulsifiers"
        ]
       ],
       "shape": {
        "columns": 2,
        "rows": 199
       }
      },
      "text/html": [
       "<div>\n",
       "<style scoped>\n",
       "    .dataframe tbody tr th:only-of-type {\n",
       "        vertical-align: middle;\n",
       "    }\n",
       "\n",
       "    .dataframe tbody tr th {\n",
       "        vertical-align: top;\n",
       "    }\n",
       "\n",
       "    .dataframe thead th {\n",
       "        text-align: right;\n",
       "    }\n",
       "</style>\n",
       "<table border=\"1\" class=\"dataframe\">\n",
       "  <thead>\n",
       "    <tr style=\"text-align: right;\">\n",
       "      <th></th>\n",
       "      <th>ingredient</th>\n",
       "      <th>classification</th>\n",
       "    </tr>\n",
       "  </thead>\n",
       "  <tbody>\n",
       "    <tr>\n",
       "      <th>0</th>\n",
       "      <td>almond extract</td>\n",
       "      <td>flavors</td>\n",
       "    </tr>\n",
       "    <tr>\n",
       "      <th>1</th>\n",
       "      <td>lemon peel</td>\n",
       "      <td>flavors</td>\n",
       "    </tr>\n",
       "    <tr>\n",
       "      <th>2</th>\n",
       "      <td>sweetened lemon zest</td>\n",
       "      <td>flavors</td>\n",
       "    </tr>\n",
       "    <tr>\n",
       "      <th>3</th>\n",
       "      <td>malted barley flour</td>\n",
       "      <td>flavors</td>\n",
       "    </tr>\n",
       "    <tr>\n",
       "      <th>4</th>\n",
       "      <td>chocolatey coated peanut</td>\n",
       "      <td>flavors</td>\n",
       "    </tr>\n",
       "    <tr>\n",
       "      <th>...</th>\n",
       "      <td>...</td>\n",
       "      <td>...</td>\n",
       "    </tr>\n",
       "    <tr>\n",
       "      <th>194</th>\n",
       "      <td>condensed milk</td>\n",
       "      <td>dairy_and_alternatives</td>\n",
       "    </tr>\n",
       "    <tr>\n",
       "      <th>195</th>\n",
       "      <td>m&amp;m's minis chocolate with cocoa butter</td>\n",
       "      <td>flavors</td>\n",
       "    </tr>\n",
       "    <tr>\n",
       "      <th>196</th>\n",
       "      <td>fudge swirl</td>\n",
       "      <td>flavors</td>\n",
       "    </tr>\n",
       "    <tr>\n",
       "      <th>197</th>\n",
       "      <td>sucralose</td>\n",
       "      <td>sweeteners</td>\n",
       "    </tr>\n",
       "    <tr>\n",
       "      <th>198</th>\n",
       "      <td>corn oil</td>\n",
       "      <td>fats_and_oils</td>\n",
       "    </tr>\n",
       "  </tbody>\n",
       "</table>\n",
       "<p>199 rows × 2 columns</p>\n",
       "</div>"
      ],
      "text/plain": [
       "                                  ingredient          classification\n",
       "0                             almond extract                 flavors\n",
       "1                                 lemon peel                 flavors\n",
       "2                       sweetened lemon zest                 flavors\n",
       "3                        malted barley flour                 flavors\n",
       "4                   chocolatey coated peanut                 flavors\n",
       "..                                       ...                     ...\n",
       "194                           condensed milk  dairy_and_alternatives\n",
       "195  m&m's minis chocolate with cocoa butter                 flavors\n",
       "196                              fudge swirl                 flavors\n",
       "197                                sucralose              sweeteners\n",
       "198                                 corn oil           fats_and_oils\n",
       "\n",
       "[199 rows x 2 columns]"
      ]
     },
     "execution_count": 40,
     "metadata": {},
     "output_type": "execute_result"
    }
   ],
   "source": [
    "# Create a mapping of ingredients to classifications\n",
    "ingredient_classification = []\n",
    "\n",
    "for ingredient in all_ingredients:\n",
    "    for category, ingredients in categories.items():\n",
    "        if ingredient in ingredients:\n",
    "            ingredient_classification.append((ingredient, category))\n",
    "\n",
    "# Create a DataFrame\n",
    "unique_ingredients_classified_df = pd.DataFrame(ingredient_classification, columns=['ingredient', 'classification'])\n",
    "unique_ingredients_classified_df"
   ]
  },
  {
   "cell_type": "code",
   "execution_count": 41,
   "metadata": {},
   "outputs": [],
   "source": [
    "# saving results to csv to next code (icecream-p3-model.ipynb)\n",
    "unique_ingredients_csv_path = os.path.join(project_root, 'data', 'intermediate', 'unique_ingredients.csv')\n",
    "unique_ingredients_classified_df.to_csv(unique_ingredients_csv_path, index=False, header=True, encoding='utf-8')"
   ]
  },
  {
   "attachments": {},
   "cell_type": "markdown",
   "metadata": {},
   "source": [
    "# Analysis: Comparing ingredients for top and bottom ice cream for each brand"
   ]
  },
  {
   "attachments": {},
   "cell_type": "markdown",
   "metadata": {},
   "source": [
    "With the list of ingredients ready, we will analyze the components of the top 10 and bottom 10 ice creams from each brand.\n",
    "\n",
    "To avoid repetitive tasks, we will create functions to streamline the process instead of rewriting code for each brand and ingredient group. Here’s the step-by-step plan:\n",
    "\n",
    "Step 1: Create separate lists for the top 10 and bottom 10 ice creams for each brand.\n",
    "\n",
    "Step 2: Compile a set of all ingredients found in the top 10 and bottom 10 lists.\n",
    "\n",
    "Step 3: Generate a table showing the frequency of each ingredient in the top 10 and bottom 10 lists.\n",
    "\n",
    "Step 4: Categorize the ingredients into six groups: dyes, fats, flavors, milk/water, other, and sweetening.\n",
    "\n",
    "Step 5: For each ingredient group, consolidate the results and create a comparison table showing how often the ingredients appear in the top 10 versus the bottom 10.\n",
    "\n",
    "Step 6: Visualize the results by plotting a graph for better interpretation.\n",
    "\n",
    "Observation: It is evident that dyes are more commonly used in the worst-performing ice creams. When dyes are present, they are predominantly \"artificial colors.\" Given their lack of significance in the analysis, further visual examination of this group will not be necessary."
   ]
  },
  {
   "cell_type": "code",
   "execution_count": 48,
   "metadata": {},
   "outputs": [],
   "source": [
    "# 1 - parse in top + bot filtering by brand\n",
    "# possible brand (string) values: all, BenJerrys, Breyers, HaagenDazs, Talenti\n",
    "# output: 2 df variables (top10 and bot10)\n",
    "\n",
    "def parse_top_bot_ingredients(brand, df):\n",
    "    # classifying and parsing the top and bot df\n",
    "    if brand == 'all':\n",
    "        top10 = df.sort_values('rating', ascending=False).head(10)\n",
    "        bot10 = df.sort_values('rating', ascending=False).tail(10)\n",
    "    else:\n",
    "        top10 = df[df['brand'] == brand].sort_values('rating', ascending=False).head(10)\n",
    "        bot10 = df[df['brand'] == brand].sort_values('rating', ascending=False).tail(10)\n",
    "\n",
    "    return top10, bot10"
   ]
  },
  {
   "cell_type": "code",
   "execution_count": 43,
   "metadata": {},
   "outputs": [],
   "source": [
    "# 2 - generates a top10 or bot10 unique ingredients list\n",
    "# uses the top10 or bot10 generated on the previous step\n",
    "# output: 1 set variable with unique ingredients for the top10 or bot10 ice cream for that brand\n",
    "\n",
    "def generate_unique_ingredient_list(top_or_bot_df):\n",
    "    tb10_unique_ingredients = set()\n",
    "    for row in top_or_bot_df.iterrows():\n",
    "        ingredient_list = top_or_bot_df.loc[row[0], 'ingredients_cleaned'].split(', ')\n",
    "        for ingredient in ingredient_list:\n",
    "            if ingredient not in tb10_unique_ingredients:\n",
    "                tb10_unique_ingredients.add(ingredient)\n",
    "    return tb10_unique_ingredients"
   ]
  },
  {
   "cell_type": "code",
   "execution_count": 44,
   "metadata": {},
   "outputs": [],
   "source": [
    "# 3 - count ocurrencies\n",
    "# uses the variables generated on the previous steps 1 and 2 (top10/bot10 + tb10_unique_ingredients)\n",
    "# output: 1 dictionary where ingredient is key and value is counting time of this ingredient in top10 or bot10 \n",
    "\n",
    "def tb_ingredients_count(tb10_filtered, tb10_unique_set):\n",
    "    # tb10 prefix is for top10 or bot10. this function works for both\n",
    "\n",
    "    tb10_dict_ingredients = dict.fromkeys(tb10_unique_set, 0) # before counting ocurrencies, we need to create dictionary with zero counting\n",
    "\n",
    "    for ingredient in tb10_dict_ingredients:\n",
    "        pattern = '[' + ingredient + ']'\n",
    "\n",
    "        # transforming the 'ingrediets_cleaned' column to be easier to find substrings\n",
    "        for row in tb10_filtered.iterrows():\n",
    "                converted_ingredients_to_str = tb10_filtered.loc[row[0], 'ingredients_cleaned'].replace(', ', '][')\n",
    "                converted_ingredients_to_str = '[' + converted_ingredients_to_str + ']'\n",
    "                \n",
    "                # counting the ocurrencies of the ingredient\n",
    "                check = pattern in converted_ingredients_to_str\n",
    "                if check is True:\n",
    "                    tb10_dict_ingredients[ingredient] += 1\n",
    "\n",
    "    return tb10_dict_ingredients"
   ]
  },
  {
   "cell_type": "code",
   "execution_count": 50,
   "metadata": {},
   "outputs": [],
   "source": [
    "# 4 - parsing the ingredients according to their selected category\n",
    "# count_dictionary: obtained on step #3\n",
    "# categories: ingredient_group_list: obteained on previous cell code\n",
    "# output: filtered dict with ingredient and their count\n",
    "\n",
    "def filter_ingredient_group(count_dictionary, ingredient_group_list):\n",
    "    tb10_unique_ingredients={}\n",
    "    for ingredient, count in count_dictionary.items():\n",
    "        if ingredient in ingredient_group_list:\n",
    "            tb10_unique_ingredients[ingredient] = count\n",
    "    return tb10_unique_ingredients"
   ]
  },
  {
   "cell_type": "code",
   "execution_count": 51,
   "metadata": {},
   "outputs": [],
   "source": [
    "# 5 - merging top and bot and calculate count difference between then\n",
    "# output: table with 3 columns (top count, bot count and difference)\n",
    "\n",
    "def unify(filtered_top_count_group, filtered_bot_count_group):\n",
    "    # convert dict to series\n",
    "    top10_ingredients_series = pd.Series(filtered_top_count_group, name='top_count').astype('int64')\n",
    "    bot10_ingredients_series = pd.Series(filtered_bot_count_group, name='bottom_count').astype('int64')\n",
    "\n",
    "    # unifying the series into df\n",
    "    unified_ingredient_count = pd.concat([top10_ingredients_series, bot10_ingredients_series], axis=1)\n",
    "    unified_ingredient_count = unified_ingredient_count.fillna(0).astype('int64') #because fillna will go to float\n",
    "    \n",
    "    unified_ingredient_count['diff'] = unified_ingredient_count['top_count'] - unified_ingredient_count['bottom_count']\n",
    "    unified_ingredient_count = unified_ingredient_count.sort_values('diff', ascending=False).reset_index().rename(columns={'index':'ingredient'})\n",
    "    unified_ingredient_count['diff'] = unified_ingredient_count['diff'].astype('int64')\n",
    "    return unified_ingredient_count"
   ]
  },
  {
   "cell_type": "code",
   "execution_count": 52,
   "metadata": {},
   "outputs": [],
   "source": [
    "# 6 - a function to call all previous steps in one command\n",
    "# output: the diff table in previous step #5\n",
    "\n",
    "def compare_top10_and_bot10_ingredients(brand, df, ingredient_group):\n",
    "    top10, bot10 = parse_top_bot_ingredients(brand, df)\n",
    "\n",
    "    #top\n",
    "    unique_top10 = generate_unique_ingredient_list(top10)\n",
    "    top_count_dict = tb_ingredients_count(top10, unique_top10)\n",
    "    filtered_top_count_group = filter_ingredient_group(top_count_dict,ingredient_group)\n",
    "    filtered_top_count_group\n",
    "    \n",
    "    #bot\n",
    "    unique_bot10 = generate_unique_ingredient_list(bot10)\n",
    "    bot_count_dict = tb_ingredients_count(bot10, unique_bot10)\n",
    "    filtered_bot_count_group = filter_ingredient_group(bot_count_dict, ingredient_group)\n",
    "    filtered_bot_count_group\n",
    "    \n",
    "    table = unify(filtered_top_count_group, filtered_bot_count_group)\n",
    "\n",
    "    return table"
   ]
  },
  {
   "cell_type": "code",
   "execution_count": null,
   "metadata": {},
   "outputs": [
    {
     "data": {
      "text/plain": [
       "<function dict.keys>"
      ]
     },
     "execution_count": 47,
     "metadata": {},
     "output_type": "execute_result"
    }
   ],
   "source": [
    "ingredient_group_list = [\n",
    "    'colorants', 'fats_and_oils', 'flavors', 'dairy_and_alternatives', 'sweeteners',\n",
    "    'stabilizers_and_emulsifiers', 'acids_and_leavening_agents', 'proteins_and_enzymes',\n",
    "    'vitamins_and_minerals','preservatives_and_antioxidants', 'miscellaneous'\n",
    "    ]"
   ]
  },
  {
   "cell_type": "code",
   "execution_count": null,
   "metadata": {},
   "outputs": [
    {
     "data": {
      "text/plain": [
       "['butter',\n",
       " 'canola oil',\n",
       " 'carnauba wax',\n",
       " 'cocoa butter',\n",
       " 'coconut oil',\n",
       " 'corn oil',\n",
       " 'cottonseed oil',\n",
       " 'cream',\n",
       " 'hydrogenated vegetable oil',\n",
       " 'milk fat',\n",
       " 'palm oil',\n",
       " 'peanut oil',\n",
       " 'safflower oil',\n",
       " 'soybean oil',\n",
       " 'sunflower oil',\n",
       " 'vegetable oil']"
      ]
     },
     "execution_count": 53,
     "metadata": {},
     "output_type": "execute_result"
    }
   ],
   "source": []
  },
  {
   "cell_type": "code",
   "execution_count": 58,
   "metadata": {},
   "outputs": [],
   "source": [
    "# 7 - using step #6 function to iterate ingredents groups and plotting a subplot for each\n",
    "# output: a plot with subplot for each ingredient group\n",
    "\n",
    "def diff_graph_ingredients(brand, df):\n",
    "    ingredient_group_list = [categories['fats_and_oils'],\n",
    "                             categories['flavors'],\n",
    "                             categories['dairy_and_alternatives'],\n",
    "                             categories['sweeteners']\n",
    "                             ]\n",
    "    dict_for_title = {0:'fats and oils', 1:'flavors', 2:'milk or water', 3:'sweeteners'}\n",
    "\n",
    "    plt.rcParams[\"figure.autolayout\"] = False\n",
    "    fig, ax = plt.subplots(2, 2, figsize=(8, 10))\n",
    "    fig.subplots_adjust(hspace=0.3, wspace=0.8)\n",
    "    plt.gca().xaxis.set_major_locator(mticker.MultipleLocator(1)) # force to show only integer values on x axis\n",
    "    #plt.suptitle('ingredient usage difference between ' + brand +  ' top10 vs. bot10', fontsize=12, y=0.95)\n",
    "\n",
    "    for n, ingredient_group in enumerate(ingredient_group_list):\n",
    "        # Plot the bar plots in the subplots\n",
    "        plt.gca().xaxis.set_major_locator(mticker.MultipleLocator(1)) # force to show only integer values on x axis\n",
    "        ax = plt.subplot(2, 2, n + 1)\n",
    "\n",
    "        #generate data\n",
    "        data = compare_top10_and_bot10_ingredients(brand, df, ingredient_group)\n",
    "\n",
    "        # getting higher absolute number, to uniformize x axis size\n",
    "        #min = np.absolute(data['diff'].min())\n",
    "        #max = np.absolute(data['diff'].max())\n",
    "        min = np.absolute(6)\n",
    "        max = np.absolute(6)\n",
    "        higher_abs=np.amax([min,max])\n",
    "\n",
    "        # Plot the bar plots in the subplots\n",
    "        ax = plt.subplot(2, 2, n + 1)\n",
    "        sns.barplot(data=data, x='diff', y='ingredient', orient='h', palette='plasma', hue='ingredient')\n",
    "        ax.set_xlim(left=-higher_abs, right=higher_abs)\n",
    "        ax.set_title(dict_for_title[n])\n",
    "        ax.set_xlabel(\"\")\n",
    "        ax.set_ylabel(\"\")"
   ]
  },
  {
   "attachments": {},
   "cell_type": "markdown",
   "metadata": {},
   "source": [
    "# Plotting Diff Graphs"
   ]
  },
  {
   "attachments": {},
   "cell_type": "markdown",
   "metadata": {},
   "source": [
    "Ben Jerry's ingredient usage difference between top10 vs. bot10"
   ]
  },
  {
   "cell_type": "code",
   "execution_count": 59,
   "metadata": {},
   "outputs": [
    {
     "data": {
      "image/png": "[encoded data removed]",
      "text/plain": [
       "<Figure size 800x1000 with 4 Axes>"
      ]
     },
     "metadata": {},
     "output_type": "display_data"
    }
   ],
   "source": [
    "diff_graph_ingredients('BenJerrys', df)"
   ]
  },
  {
   "attachments": {},
   "cell_type": "markdown",
   "metadata": {},
   "source": [
    "HaagenDazs ingredient usage difference between top10 vs. bot10"
   ]
  },
  {
   "cell_type": "code",
   "execution_count": 60,
   "metadata": {},
   "outputs": [
    {
     "data": {
      "image/png": "[encoded data removed]",
      "text/plain": [
       "<Figure size 800x1000 with 4 Axes>"
      ]
     },
     "metadata": {},
     "output_type": "display_data"
    }
   ],
   "source": [
    "diff_graph_ingredients('HaagenDazs', df)"
   ]
  },
  {
   "attachments": {},
   "cell_type": "markdown",
   "metadata": {},
   "source": [
    "Breyers ingredient usage difference between top10 vs. bot10"
   ]
  },
  {
   "cell_type": "code",
   "execution_count": 61,
   "metadata": {},
   "outputs": [
    {
     "data": {
      "image/png": "[encoded data removed]",
      "text/plain": [
       "<Figure size 800x1000 with 4 Axes>"
      ]
     },
     "metadata": {},
     "output_type": "display_data"
    }
   ],
   "source": [
    "diff_graph_ingredients('Breyers', df)"
   ]
  },
  {
   "attachments": {},
   "cell_type": "markdown",
   "metadata": {},
   "source": [
    "Talenti ingredient usage difference between top10 vs. bot10"
   ]
  },
  {
   "cell_type": "code",
   "execution_count": 62,
   "metadata": {},
   "outputs": [
    {
     "data": {
      "image/png": "[encoded data removed]",
      "text/plain": [
       "<Figure size 800x1000 with 4 Axes>"
      ]
     },
     "metadata": {},
     "output_type": "display_data"
    }
   ],
   "source": [
    "diff_graph_ingredients('Talenti', df)"
   ]
  },
  {
   "cell_type": "code",
   "execution_count": 63,
   "metadata": {},
   "outputs": [
    {
     "data": {
      "application/vnd.microsoft.datawrangler.viewer.v0+json": {
       "columns": [
        {
         "name": "index",
         "rawType": "int64",
         "type": "integer"
        },
        {
         "name": "ingredient",
         "rawType": "object",
         "type": "string"
        },
        {
         "name": "top_count",
         "rawType": "int64",
         "type": "integer"
        },
        {
         "name": "bottom_count",
         "rawType": "int64",
         "type": "integer"
        },
        {
         "name": "diff",
         "rawType": "int64",
         "type": "integer"
        }
       ],
       "conversionMethod": "pd.DataFrame",
       "ref": "a99b8afd-8460-4853-9983-97938f120b4b",
       "rows": [
        [
         "0",
         "cocoa powder",
         "6",
         "5",
         "1"
        ],
        [
         "1",
         "oreo cookie",
         "1",
         "0",
         "1"
        ],
        [
         "2",
         "natural flavor",
         "10",
         "9",
         "1"
        ],
        [
         "3",
         "fudge swirl",
         "1",
         "0",
         "1"
        ],
        [
         "4",
         "chocolate",
         "1",
         "1",
         "0"
        ],
        [
         "5",
         "almonds",
         "1",
         "1",
         "0"
        ],
        [
         "6",
         "peanut",
         "1",
         "1",
         "0"
        ],
        [
         "7",
         "salt",
         "6",
         "6",
         "0"
        ],
        [
         "8",
         "lemon peel",
         "0",
         "1",
         "-1"
        ],
        [
         "9",
         "sweetened lemon zest",
         "0",
         "1",
         "-1"
        ],
        [
         "10",
         "cream cheese",
         "0",
         "1",
         "-1"
        ],
        [
         "11",
         "cherry",
         "0",
         "1",
         "-1"
        ],
        [
         "12",
         "wheat graham flour",
         "0",
         "1",
         "-1"
        ],
        [
         "13",
         "peaches",
         "0",
         "1",
         "-1"
        ],
        [
         "14",
         "cheesecake",
         "0",
         "1",
         "-1"
        ],
        [
         "15",
         "graham crumb",
         "0",
         "1",
         "-1"
        ],
        [
         "16",
         "plum",
         "0",
         "1",
         "-1"
        ],
        [
         "17",
         "pecans",
         "0",
         "1",
         "-1"
        ],
        [
         "18",
         "coffee",
         "0",
         "1",
         "-1"
        ],
        [
         "19",
         "lemon oil",
         "0",
         "1",
         "-1"
        ],
        [
         "20",
         "spices",
         "0",
         "1",
         "-1"
        ],
        [
         "21",
         "vanilla",
         "0",
         "3",
         "-3"
        ]
       ],
       "shape": {
        "columns": 4,
        "rows": 22
       }
      },
      "text/html": [
       "<div>\n",
       "<style scoped>\n",
       "    .dataframe tbody tr th:only-of-type {\n",
       "        vertical-align: middle;\n",
       "    }\n",
       "\n",
       "    .dataframe tbody tr th {\n",
       "        vertical-align: top;\n",
       "    }\n",
       "\n",
       "    .dataframe thead th {\n",
       "        text-align: right;\n",
       "    }\n",
       "</style>\n",
       "<table border=\"1\" class=\"dataframe\">\n",
       "  <thead>\n",
       "    <tr style=\"text-align: right;\">\n",
       "      <th></th>\n",
       "      <th>ingredient</th>\n",
       "      <th>top_count</th>\n",
       "      <th>bottom_count</th>\n",
       "      <th>diff</th>\n",
       "    </tr>\n",
       "  </thead>\n",
       "  <tbody>\n",
       "    <tr>\n",
       "      <th>0</th>\n",
       "      <td>cocoa powder</td>\n",
       "      <td>6</td>\n",
       "      <td>5</td>\n",
       "      <td>1</td>\n",
       "    </tr>\n",
       "    <tr>\n",
       "      <th>1</th>\n",
       "      <td>oreo cookie</td>\n",
       "      <td>1</td>\n",
       "      <td>0</td>\n",
       "      <td>1</td>\n",
       "    </tr>\n",
       "    <tr>\n",
       "      <th>2</th>\n",
       "      <td>natural flavor</td>\n",
       "      <td>10</td>\n",
       "      <td>9</td>\n",
       "      <td>1</td>\n",
       "    </tr>\n",
       "    <tr>\n",
       "      <th>3</th>\n",
       "      <td>fudge swirl</td>\n",
       "      <td>1</td>\n",
       "      <td>0</td>\n",
       "      <td>1</td>\n",
       "    </tr>\n",
       "    <tr>\n",
       "      <th>4</th>\n",
       "      <td>chocolate</td>\n",
       "      <td>1</td>\n",
       "      <td>1</td>\n",
       "      <td>0</td>\n",
       "    </tr>\n",
       "    <tr>\n",
       "      <th>5</th>\n",
       "      <td>almonds</td>\n",
       "      <td>1</td>\n",
       "      <td>1</td>\n",
       "      <td>0</td>\n",
       "    </tr>\n",
       "    <tr>\n",
       "      <th>6</th>\n",
       "      <td>peanut</td>\n",
       "      <td>1</td>\n",
       "      <td>1</td>\n",
       "      <td>0</td>\n",
       "    </tr>\n",
       "    <tr>\n",
       "      <th>7</th>\n",
       "      <td>salt</td>\n",
       "      <td>6</td>\n",
       "      <td>6</td>\n",
       "      <td>0</td>\n",
       "    </tr>\n",
       "    <tr>\n",
       "      <th>8</th>\n",
       "      <td>lemon peel</td>\n",
       "      <td>0</td>\n",
       "      <td>1</td>\n",
       "      <td>-1</td>\n",
       "    </tr>\n",
       "    <tr>\n",
       "      <th>9</th>\n",
       "      <td>sweetened lemon zest</td>\n",
       "      <td>0</td>\n",
       "      <td>1</td>\n",
       "      <td>-1</td>\n",
       "    </tr>\n",
       "    <tr>\n",
       "      <th>10</th>\n",
       "      <td>cream cheese</td>\n",
       "      <td>0</td>\n",
       "      <td>1</td>\n",
       "      <td>-1</td>\n",
       "    </tr>\n",
       "    <tr>\n",
       "      <th>11</th>\n",
       "      <td>cherry</td>\n",
       "      <td>0</td>\n",
       "      <td>1</td>\n",
       "      <td>-1</td>\n",
       "    </tr>\n",
       "    <tr>\n",
       "      <th>12</th>\n",
       "      <td>wheat graham flour</td>\n",
       "      <td>0</td>\n",
       "      <td>1</td>\n",
       "      <td>-1</td>\n",
       "    </tr>\n",
       "    <tr>\n",
       "      <th>13</th>\n",
       "      <td>peaches</td>\n",
       "      <td>0</td>\n",
       "      <td>1</td>\n",
       "      <td>-1</td>\n",
       "    </tr>\n",
       "    <tr>\n",
       "      <th>14</th>\n",
       "      <td>cheesecake</td>\n",
       "      <td>0</td>\n",
       "      <td>1</td>\n",
       "      <td>-1</td>\n",
       "    </tr>\n",
       "    <tr>\n",
       "      <th>15</th>\n",
       "      <td>graham crumb</td>\n",
       "      <td>0</td>\n",
       "      <td>1</td>\n",
       "      <td>-1</td>\n",
       "    </tr>\n",
       "    <tr>\n",
       "      <th>16</th>\n",
       "      <td>plum</td>\n",
       "      <td>0</td>\n",
       "      <td>1</td>\n",
       "      <td>-1</td>\n",
       "    </tr>\n",
       "    <tr>\n",
       "      <th>17</th>\n",
       "      <td>pecans</td>\n",
       "      <td>0</td>\n",
       "      <td>1</td>\n",
       "      <td>-1</td>\n",
       "    </tr>\n",
       "    <tr>\n",
       "      <th>18</th>\n",
       "      <td>coffee</td>\n",
       "      <td>0</td>\n",
       "      <td>1</td>\n",
       "      <td>-1</td>\n",
       "    </tr>\n",
       "    <tr>\n",
       "      <th>19</th>\n",
       "      <td>lemon oil</td>\n",
       "      <td>0</td>\n",
       "      <td>1</td>\n",
       "      <td>-1</td>\n",
       "    </tr>\n",
       "    <tr>\n",
       "      <th>20</th>\n",
       "      <td>spices</td>\n",
       "      <td>0</td>\n",
       "      <td>1</td>\n",
       "      <td>-1</td>\n",
       "    </tr>\n",
       "    <tr>\n",
       "      <th>21</th>\n",
       "      <td>vanilla</td>\n",
       "      <td>0</td>\n",
       "      <td>3</td>\n",
       "      <td>-3</td>\n",
       "    </tr>\n",
       "  </tbody>\n",
       "</table>\n",
       "</div>"
      ],
      "text/plain": [
       "              ingredient  top_count  bottom_count  diff\n",
       "0           cocoa powder          6             5     1\n",
       "1            oreo cookie          1             0     1\n",
       "2         natural flavor         10             9     1\n",
       "3            fudge swirl          1             0     1\n",
       "4              chocolate          1             1     0\n",
       "5                almonds          1             1     0\n",
       "6                 peanut          1             1     0\n",
       "7                   salt          6             6     0\n",
       "8             lemon peel          0             1    -1\n",
       "9   sweetened lemon zest          0             1    -1\n",
       "10          cream cheese          0             1    -1\n",
       "11                cherry          0             1    -1\n",
       "12    wheat graham flour          0             1    -1\n",
       "13               peaches          0             1    -1\n",
       "14            cheesecake          0             1    -1\n",
       "15          graham crumb          0             1    -1\n",
       "16                  plum          0             1    -1\n",
       "17                pecans          0             1    -1\n",
       "18                coffee          0             1    -1\n",
       "19             lemon oil          0             1    -1\n",
       "20                spices          0             1    -1\n",
       "21               vanilla          0             3    -3"
      ]
     },
     "execution_count": 63,
     "metadata": {},
     "output_type": "execute_result"
    }
   ],
   "source": [
    "table_tb10_all = compare_top10_and_bot10_ingredients('all', df, categories['flavors'])\n",
    "table_tb10_bj = compare_top10_and_bot10_ingredients('BenJerrys', df, categories['flavors'])\n",
    "table_tb10_hd = compare_top10_and_bot10_ingredients('HaagenDazs', df, categories['flavors'])\n",
    "table_tb10_br = compare_top10_and_bot10_ingredients('Breyers', df, categories['flavors'])\n",
    "table_tb10_tl = compare_top10_and_bot10_ingredients('Talenti', df, categories['flavors'])\n",
    "table_tb10_br"
   ]
  },
  {
   "cell_type": "code",
   "execution_count": 64,
   "metadata": {},
   "outputs": [
    {
     "data": {
      "application/vnd.microsoft.datawrangler.viewer.v0+json": {
       "columns": [
        {
         "name": "index",
         "rawType": "int64",
         "type": "integer"
        },
        {
         "name": "brand",
         "rawType": "object",
         "type": "string"
        },
        {
         "name": "name",
         "rawType": "object",
         "type": "string"
        },
        {
         "name": "rating",
         "rawType": "float64",
         "type": "float"
        },
        {
         "name": "rating_count",
         "rawType": "int64",
         "type": "integer"
        },
        {
         "name": "ingredients_cleaned",
         "rawType": "object",
         "type": "string"
        }
       ],
       "conversionMethod": "pd.DataFrame",
       "ref": "95c9a0e2-b436-49e6-b8ec-1cc76d62a587",
       "rows": [
        [
         "213",
         "Breyers",
         "Oreo Snack Cups 10ct",
         "5.0",
         "2",
         "skim milk, sugar syrup, sugar, water, cream, corn syrup, corn syrup, oreo cookie, flour, wheat flour, niacin, reduced iron, thiamine mononitrate, riboflavin, folic acid, sugar, palm oil, canola oil, cocoa powder, corn syrup, leavening, baking soda, calcium phosphate, salt, soybean lecithin, chocolate, artificial flavor, whey, propylene glycol monoesters, monoglycerides, diglycerides, vegetable gum, natural flavor, cellulose gum, carrageenan, vitamin a palmitate"
        ],
        [
         "202",
         "Breyers",
         "No Sugar Added Caramel Swirl",
         "4.9",
         "19",
         "milk, maltitol syrup, maltodextrin, cream, maltitol syrup, polydextrose, whey, coconut oil, butter, cream, salt, monoglycerides, diglycerides, vegetable gum, carob bean gum, guar gum, tara gum, salt, caramel, natural flavor, sucralose, soybean lecithin, acesulfame potassium, vitamin a palmitate, artificial color"
        ],
        [
         "235",
         "Breyers",
         "Chocolate Snack Cups 10ct",
         "4.9",
         "26",
         "milk, cream, sugar, water, cocoa powder, whey, vegetable gum, natural flavor"
        ],
        [
         "198",
         "Breyers",
         "Non-dairy Vanilla Peanut Butter",
         "4.8",
         "116",
         "almond milk, water, almonds, sugar syrup, sugar, water, peanut, coconut oil, corn syrup, pea protein, vegetable gum, carob bean gum, guar gum, monoglycerides, diglycerides, peanut oil, salt, natural flavor"
        ],
        [
         "175",
         "Breyers",
         "Chocolate",
         "4.7",
         "225",
         "milk, cream, sugar, cocoa powder, whey, vegetable gum, natural flavor"
        ],
        [
         "196",
         "Breyers",
         "Lactose Free Chocolate",
         "4.7",
         "24",
         "skim milk, sugar, corn syrup, cream, cocoa powder, whey, vegetable gum, carob bean gum, guar gum, tara gum, monoglycerides, diglycerides, salt, lactase, vitamin a palmitate, natural flavor"
        ],
        [
         "237",
         "Breyers",
         "Carbsmart Caramel Swirl Bar",
         "4.7",
         "18",
         "milk, water, caramel, sugar, water, corn syrup, corn syrup, milk powder, butter, cream, salt, salt, molasses, pectin, soybean lecithin, natural flavor, potassium sorbate, sodium citrate, lactic acid, maltitol syrup, polydextrose, coconut oil, whey, glycerin, cream, soluble corn fiber, vegetable gum, carob bean gum, guar gum, caramel, monoglycerides, diglycerides, natural flavor, acesulfame potassium, sucralose"
        ],
        [
         "212",
         "Breyers",
         "Carbsmart Mint Fudge Bar",
         "4.6",
         "20",
         "milk, water, fudge swirl, corn syrup, corn syrup, water, sugar, cocoa powder, cornstarch, natural flavor, salt, lactic acid, potassium sorbate, maltitol syrup, polydextrose, coconut oil, whey, glycerin, cream, soluble corn fiber, vegetable gum, carob bean gum, guar gum, monoglycerides, diglycerides, natural flavor, acesulfame potassium, artificial color, sucralose"
        ],
        [
         "224",
         "Breyers",
         "Vanilla Chocolate",
         "4.6",
         "95",
         "milk, cream, sugar, whey, cocoa powder, vegetable gum, tara gum, carob bean gum, natural flavor"
        ],
        [
         "233",
         "Breyers",
         "Natural Vanilla Snack Cups 10ct",
         "4.6",
         "28",
         "milk, cream, sugar, water, vegetable gum, natural flavor"
        ]
       ],
       "shape": {
        "columns": 5,
        "rows": 10
       }
      },
      "text/html": [
       "<div>\n",
       "<style scoped>\n",
       "    .dataframe tbody tr th:only-of-type {\n",
       "        vertical-align: middle;\n",
       "    }\n",
       "\n",
       "    .dataframe tbody tr th {\n",
       "        vertical-align: top;\n",
       "    }\n",
       "\n",
       "    .dataframe thead th {\n",
       "        text-align: right;\n",
       "    }\n",
       "</style>\n",
       "<table border=\"1\" class=\"dataframe\">\n",
       "  <thead>\n",
       "    <tr style=\"text-align: right;\">\n",
       "      <th></th>\n",
       "      <th>brand</th>\n",
       "      <th>name</th>\n",
       "      <th>rating</th>\n",
       "      <th>rating_count</th>\n",
       "      <th>ingredients_cleaned</th>\n",
       "    </tr>\n",
       "  </thead>\n",
       "  <tbody>\n",
       "    <tr>\n",
       "      <th>213</th>\n",
       "      <td>Breyers</td>\n",
       "      <td>Oreo Snack Cups 10ct</td>\n",
       "      <td>5.0</td>\n",
       "      <td>2</td>\n",
       "      <td>skim milk, sugar syrup, sugar, water, cream, corn syrup, corn syrup, oreo cookie, flour, wheat flour, niacin, reduced iron, thiamine mononitrate, riboflavin, folic acid, sugar, palm oil, canola oil, cocoa powder, corn syrup, leavening, baking soda, calcium phosphate, salt, soybean lecithin, chocolate, artificial flavor, whey, propylene glycol monoesters, monoglycerides, diglycerides, vegetable gum, natural flavor, cellulose gum, carrageenan, vitamin a palmitate</td>\n",
       "    </tr>\n",
       "    <tr>\n",
       "      <th>202</th>\n",
       "      <td>Breyers</td>\n",
       "      <td>No Sugar Added Caramel Swirl</td>\n",
       "      <td>4.9</td>\n",
       "      <td>19</td>\n",
       "      <td>milk, maltitol syrup, maltodextrin, cream, maltitol syrup, polydextrose, whey, coconut oil, butter, cream, salt, monoglycerides, diglycerides, vegetable gum, carob bean gum, guar gum, tara gum, salt, caramel, natural flavor, sucralose, soybean lecithin, acesulfame potassium, vitamin a palmitate, artificial color</td>\n",
       "    </tr>\n",
       "    <tr>\n",
       "      <th>235</th>\n",
       "      <td>Breyers</td>\n",
       "      <td>Chocolate Snack Cups 10ct</td>\n",
       "      <td>4.9</td>\n",
       "      <td>26</td>\n",
       "      <td>milk, cream, sugar, water, cocoa powder, whey, vegetable gum, natural flavor</td>\n",
       "    </tr>\n",
       "    <tr>\n",
       "      <th>198</th>\n",
       "      <td>Breyers</td>\n",
       "      <td>Non-dairy Vanilla Peanut Butter</td>\n",
       "      <td>4.8</td>\n",
       "      <td>116</td>\n",
       "      <td>almond milk, water, almonds, sugar syrup, sugar, water, peanut, coconut oil, corn syrup, pea protein, vegetable gum, carob bean gum, guar gum, monoglycerides, diglycerides, peanut oil, salt, natural flavor</td>\n",
       "    </tr>\n",
       "    <tr>\n",
       "      <th>175</th>\n",
       "      <td>Breyers</td>\n",
       "      <td>Chocolate</td>\n",
       "      <td>4.7</td>\n",
       "      <td>225</td>\n",
       "      <td>milk, cream, sugar, cocoa powder, whey, vegetable gum, natural flavor</td>\n",
       "    </tr>\n",
       "    <tr>\n",
       "      <th>196</th>\n",
       "      <td>Breyers</td>\n",
       "      <td>Lactose Free Chocolate</td>\n",
       "      <td>4.7</td>\n",
       "      <td>24</td>\n",
       "      <td>skim milk, sugar, corn syrup, cream, cocoa powder, whey, vegetable gum, carob bean gum, guar gum, tara gum, monoglycerides, diglycerides, salt, lactase, vitamin a palmitate, natural flavor</td>\n",
       "    </tr>\n",
       "    <tr>\n",
       "      <th>237</th>\n",
       "      <td>Breyers</td>\n",
       "      <td>Carbsmart Caramel Swirl Bar</td>\n",
       "      <td>4.7</td>\n",
       "      <td>18</td>\n",
       "      <td>milk, water, caramel, sugar, water, corn syrup, corn syrup, milk powder, butter, cream, salt, salt, molasses, pectin, soybean lecithin, natural flavor, potassium sorbate, sodium citrate, lactic acid, maltitol syrup, polydextrose, coconut oil, whey, glycerin, cream, soluble corn fiber, vegetable gum, carob bean gum, guar gum, caramel, monoglycerides, diglycerides, natural flavor, acesulfame potassium, sucralose</td>\n",
       "    </tr>\n",
       "    <tr>\n",
       "      <th>212</th>\n",
       "      <td>Breyers</td>\n",
       "      <td>Carbsmart Mint Fudge Bar</td>\n",
       "      <td>4.6</td>\n",
       "      <td>20</td>\n",
       "      <td>milk, water, fudge swirl, corn syrup, corn syrup, water, sugar, cocoa powder, cornstarch, natural flavor, salt, lactic acid, potassium sorbate, maltitol syrup, polydextrose, coconut oil, whey, glycerin, cream, soluble corn fiber, vegetable gum, carob bean gum, guar gum, monoglycerides, diglycerides, natural flavor, acesulfame potassium, artificial color, sucralose</td>\n",
       "    </tr>\n",
       "    <tr>\n",
       "      <th>224</th>\n",
       "      <td>Breyers</td>\n",
       "      <td>Vanilla Chocolate</td>\n",
       "      <td>4.6</td>\n",
       "      <td>95</td>\n",
       "      <td>milk, cream, sugar, whey, cocoa powder, vegetable gum, tara gum, carob bean gum, natural flavor</td>\n",
       "    </tr>\n",
       "    <tr>\n",
       "      <th>233</th>\n",
       "      <td>Breyers</td>\n",
       "      <td>Natural Vanilla Snack Cups 10ct</td>\n",
       "      <td>4.6</td>\n",
       "      <td>28</td>\n",
       "      <td>milk, cream, sugar, water, vegetable gum, natural flavor</td>\n",
       "    </tr>\n",
       "  </tbody>\n",
       "</table>\n",
       "</div>"
      ],
      "text/plain": [
       "       brand                             name  rating  rating_count  \\\n",
       "213  Breyers             Oreo Snack Cups 10ct     5.0             2   \n",
       "202  Breyers     No Sugar Added Caramel Swirl     4.9            19   \n",
       "235  Breyers        Chocolate Snack Cups 10ct     4.9            26   \n",
       "198  Breyers  Non-dairy Vanilla Peanut Butter     4.8           116   \n",
       "175  Breyers                        Chocolate     4.7           225   \n",
       "196  Breyers           Lactose Free Chocolate     4.7            24   \n",
       "237  Breyers      Carbsmart Caramel Swirl Bar     4.7            18   \n",
       "212  Breyers         Carbsmart Mint Fudge Bar     4.6            20   \n",
       "224  Breyers                Vanilla Chocolate     4.6            95   \n",
       "233  Breyers  Natural Vanilla Snack Cups 10ct     4.6            28   \n",
       "\n",
       "                                                                                                                                                                                                                                                                                                                                                                                                                                                                   ingredients_cleaned  \n",
       "213  skim milk, sugar syrup, sugar, water, cream, corn syrup, corn syrup, oreo cookie, flour, wheat flour, niacin, reduced iron, thiamine mononitrate, riboflavin, folic acid, sugar, palm oil, canola oil, cocoa powder, corn syrup, leavening, baking soda, calcium phosphate, salt, soybean lecithin, chocolate, artificial flavor, whey, propylene glycol monoesters, monoglycerides, diglycerides, vegetable gum, natural flavor, cellulose gum, carrageenan, vitamin a palmitate  \n",
       "202                                                                                                                                                          milk, maltitol syrup, maltodextrin, cream, maltitol syrup, polydextrose, whey, coconut oil, butter, cream, salt, monoglycerides, diglycerides, vegetable gum, carob bean gum, guar gum, tara gum, salt, caramel, natural flavor, sucralose, soybean lecithin, acesulfame potassium, vitamin a palmitate, artificial color  \n",
       "235                                                                                                                                                                                                                                                                                                                                                                                                       milk, cream, sugar, water, cocoa powder, whey, vegetable gum, natural flavor  \n",
       "198                                                                                                                                                                                                                                                                      almond milk, water, almonds, sugar syrup, sugar, water, peanut, coconut oil, corn syrup, pea protein, vegetable gum, carob bean gum, guar gum, monoglycerides, diglycerides, peanut oil, salt, natural flavor  \n",
       "175                                                                                                                                                                                                                                                                                                                                                                                                              milk, cream, sugar, cocoa powder, whey, vegetable gum, natural flavor  \n",
       "196                                                                                                                                                                                                                                                                                       skim milk, sugar, corn syrup, cream, cocoa powder, whey, vegetable gum, carob bean gum, guar gum, tara gum, monoglycerides, diglycerides, salt, lactase, vitamin a palmitate, natural flavor  \n",
       "237                                                      milk, water, caramel, sugar, water, corn syrup, corn syrup, milk powder, butter, cream, salt, salt, molasses, pectin, soybean lecithin, natural flavor, potassium sorbate, sodium citrate, lactic acid, maltitol syrup, polydextrose, coconut oil, whey, glycerin, cream, soluble corn fiber, vegetable gum, carob bean gum, guar gum, caramel, monoglycerides, diglycerides, natural flavor, acesulfame potassium, sucralose  \n",
       "212                                                                                                     milk, water, fudge swirl, corn syrup, corn syrup, water, sugar, cocoa powder, cornstarch, natural flavor, salt, lactic acid, potassium sorbate, maltitol syrup, polydextrose, coconut oil, whey, glycerin, cream, soluble corn fiber, vegetable gum, carob bean gum, guar gum, monoglycerides, diglycerides, natural flavor, acesulfame potassium, artificial color, sucralose  \n",
       "224                                                                                                                                                                                                                                                                                                                                                                                    milk, cream, sugar, whey, cocoa powder, vegetable gum, tara gum, carob bean gum, natural flavor  \n",
       "233                                                                                                                                                                                                                                                                                                                                                                                                                           milk, cream, sugar, water, vegetable gum, natural flavor  "
      ]
     },
     "execution_count": 64,
     "metadata": {},
     "output_type": "execute_result"
    }
   ],
   "source": [
    "df[df['brand'] == 'Breyers'].sort_values('rating', ascending=False).head(10)"
   ]
  },
  {
   "cell_type": "code",
   "execution_count": null,
   "metadata": {},
   "outputs": [],
   "source": [
    "#pd.options.display.max_rows = None\n",
    "#pd.options.display.max_columns = None"
   ]
  },
  {
   "attachments": {},
   "cell_type": "markdown",
   "metadata": {},
   "source": [
    "[Bonus] step by step : Talenti example"
   ]
  },
  {
   "cell_type": "code",
   "execution_count": 65,
   "metadata": {},
   "outputs": [],
   "source": [
    "#setting parameters\n",
    "brand = 'Talenti'\n",
    "ingredient_group = categories['flavors']\n",
    "df = df.copy()"
   ]
  },
  {
   "cell_type": "code",
   "execution_count": 66,
   "metadata": {},
   "outputs": [],
   "source": [
    "top10_tl, bot10_tl = parse_top_bot_ingredients(brand, df)"
   ]
  },
  {
   "cell_type": "code",
   "execution_count": 67,
   "metadata": {},
   "outputs": [
    {
     "data": {
      "application/vnd.microsoft.datawrangler.viewer.v0+json": {
       "columns": [
        {
         "name": "index",
         "rawType": "int64",
         "type": "integer"
        },
        {
         "name": "brand",
         "rawType": "object",
         "type": "string"
        },
        {
         "name": "name",
         "rawType": "object",
         "type": "string"
        },
        {
         "name": "rating",
         "rawType": "float64",
         "type": "float"
        },
        {
         "name": "rating_count",
         "rawType": "int64",
         "type": "integer"
        },
        {
         "name": "ingredients_cleaned",
         "rawType": "object",
         "type": "string"
        }
       ],
       "conversionMethod": "pd.DataFrame",
       "ref": "da947cb8-d316-44cf-afff-f6404b54ab4d",
       "rows": [
        [
         "129",
         "Talenti",
         "Belgian Chocolate Gelato",
         "4.8",
         "27",
         "milk, sugar, cream, egg, egg yolk, dextrose, chocolate, cocoa powder, cocoa butter, chocolate, carob bean gum, soybean lecithin, natural flavor"
        ],
        [
         "138",
         "Talenti",
         "Coconut Almond Chocolate Gelato",
         "4.8",
         "82",
         "milk, sugar, cream, chocolate, almonds, coconut, coconut, dextrose, coconut, soybean, sunflower oil, salt, carob bean gum, soybean lecithin, vanilla, natural flavor"
        ],
        [
         "132",
         "Talenti",
         "Caramel Apple Pie Gelato",
         "4.8",
         "115",
         "milk, sugar, cream, dextrose, skim milk, wheat flour, cinnamon, apple, corn syrup, vanilla, carob bean gum, coconut oil, baking soda, egg, salt"
        ],
        [
         "157",
         "Talenti",
         "Organic Oak-aged Vanilla Gelato",
         "4.8",
         "19",
         "skim milk, cream, sugar, dextrose, oakwood extract, carob bean gum, vanilla"
        ],
        [
         "127",
         "Talenti",
         "Alphonso Mango Sorbetto",
         "4.7",
         "139",
         "mango, water, sugar, dextrose, lemon, carob bean gum"
        ],
        [
         "165",
         "Talenti",
         "Salted Caramel Truffle",
         "4.7",
         "160",
         "milk, sugar, skim milk, cream, water, coconut oil, corn syrup, egg, egg yolk, cocoa powder, wheat flour, dextrose, palm oil, soybean oil, baking soda, vanilla, carob bean gum, sunflower lecithin, salt, soybean lecithin, natural flavor, cane syrup, cocoa powder, butter, guar gum, cornstarch, salt"
        ],
        [
         "156",
         "Talenti",
         "Organic Ginger Matcha Gelato",
         "4.7",
         "21",
         "skim milk, cream, sugar, dextrose, ginger, matcha green tea, green tea, carob bean gum, vanilla, lemon"
        ],
        [
         "159",
         "Talenti",
         "Peanut Butter Fudge Sorbetto",
         "4.7",
         "77",
         "water, peanut, sugar, dextrose, salt, cocoa powder, corn syrup, coconut oil, chocolate, cornstarch, salt, vanilla, carob bean gum, guar gum, xanthan gum"
        ],
        [
         "164",
         "Talenti",
         "Roman Raspberry Sorbetto",
         "4.7",
         "161",
         "raspberry, water, sugar, dextrose, lemon, carob bean gum"
        ],
        [
         "151",
         "Talenti",
         "Mediterranean Mint Gelato",
         "4.7",
         "324",
         "milk, sugar, cream, chocolate, dextrose, milk fat, cocoa butter, sunflower lecithin, carob bean gum, natural flavor, guar gum, chocolate, vanilla, soybean lecithin, mint leaf extractives"
        ]
       ],
       "shape": {
        "columns": 5,
        "rows": 10
       }
      },
      "text/html": [
       "<div>\n",
       "<style scoped>\n",
       "    .dataframe tbody tr th:only-of-type {\n",
       "        vertical-align: middle;\n",
       "    }\n",
       "\n",
       "    .dataframe tbody tr th {\n",
       "        vertical-align: top;\n",
       "    }\n",
       "\n",
       "    .dataframe thead th {\n",
       "        text-align: right;\n",
       "    }\n",
       "</style>\n",
       "<table border=\"1\" class=\"dataframe\">\n",
       "  <thead>\n",
       "    <tr style=\"text-align: right;\">\n",
       "      <th></th>\n",
       "      <th>brand</th>\n",
       "      <th>name</th>\n",
       "      <th>rating</th>\n",
       "      <th>rating_count</th>\n",
       "      <th>ingredients_cleaned</th>\n",
       "    </tr>\n",
       "  </thead>\n",
       "  <tbody>\n",
       "    <tr>\n",
       "      <th>129</th>\n",
       "      <td>Talenti</td>\n",
       "      <td>Belgian Chocolate Gelato</td>\n",
       "      <td>4.8</td>\n",
       "      <td>27</td>\n",
       "      <td>milk, sugar, cream, egg, egg yolk, dextrose, chocolate, cocoa powder, cocoa butter, chocolate, carob bean gum, soybean lecithin, natural flavor</td>\n",
       "    </tr>\n",
       "    <tr>\n",
       "      <th>138</th>\n",
       "      <td>Talenti</td>\n",
       "      <td>Coconut Almond Chocolate Gelato</td>\n",
       "      <td>4.8</td>\n",
       "      <td>82</td>\n",
       "      <td>milk, sugar, cream, chocolate, almonds, coconut, coconut, dextrose, coconut, soybean, sunflower oil, salt, carob bean gum, soybean lecithin, vanilla, natural flavor</td>\n",
       "    </tr>\n",
       "    <tr>\n",
       "      <th>132</th>\n",
       "      <td>Talenti</td>\n",
       "      <td>Caramel Apple Pie Gelato</td>\n",
       "      <td>4.8</td>\n",
       "      <td>115</td>\n",
       "      <td>milk, sugar, cream, dextrose, skim milk, wheat flour, cinnamon, apple, corn syrup, vanilla, carob bean gum, coconut oil, baking soda, egg, salt</td>\n",
       "    </tr>\n",
       "    <tr>\n",
       "      <th>157</th>\n",
       "      <td>Talenti</td>\n",
       "      <td>Organic Oak-aged Vanilla Gelato</td>\n",
       "      <td>4.8</td>\n",
       "      <td>19</td>\n",
       "      <td>skim milk, cream, sugar, dextrose, oakwood extract, carob bean gum, vanilla</td>\n",
       "    </tr>\n",
       "    <tr>\n",
       "      <th>127</th>\n",
       "      <td>Talenti</td>\n",
       "      <td>Alphonso Mango Sorbetto</td>\n",
       "      <td>4.7</td>\n",
       "      <td>139</td>\n",
       "      <td>mango, water, sugar, dextrose, lemon, carob bean gum</td>\n",
       "    </tr>\n",
       "    <tr>\n",
       "      <th>165</th>\n",
       "      <td>Talenti</td>\n",
       "      <td>Salted Caramel Truffle</td>\n",
       "      <td>4.7</td>\n",
       "      <td>160</td>\n",
       "      <td>milk, sugar, skim milk, cream, water, coconut oil, corn syrup, egg, egg yolk, cocoa powder, wheat flour, dextrose, palm oil, soybean oil, baking soda, vanilla, carob bean gum, sunflower lecithin, salt, soybean lecithin, natural flavor, cane syrup, cocoa powder, butter, guar gum, cornstarch, salt</td>\n",
       "    </tr>\n",
       "    <tr>\n",
       "      <th>156</th>\n",
       "      <td>Talenti</td>\n",
       "      <td>Organic Ginger Matcha Gelato</td>\n",
       "      <td>4.7</td>\n",
       "      <td>21</td>\n",
       "      <td>skim milk, cream, sugar, dextrose, ginger, matcha green tea, green tea, carob bean gum, vanilla, lemon</td>\n",
       "    </tr>\n",
       "    <tr>\n",
       "      <th>159</th>\n",
       "      <td>Talenti</td>\n",
       "      <td>Peanut Butter Fudge Sorbetto</td>\n",
       "      <td>4.7</td>\n",
       "      <td>77</td>\n",
       "      <td>water, peanut, sugar, dextrose, salt, cocoa powder, corn syrup, coconut oil, chocolate, cornstarch, salt, vanilla, carob bean gum, guar gum, xanthan gum</td>\n",
       "    </tr>\n",
       "    <tr>\n",
       "      <th>164</th>\n",
       "      <td>Talenti</td>\n",
       "      <td>Roman Raspberry Sorbetto</td>\n",
       "      <td>4.7</td>\n",
       "      <td>161</td>\n",
       "      <td>raspberry, water, sugar, dextrose, lemon, carob bean gum</td>\n",
       "    </tr>\n",
       "    <tr>\n",
       "      <th>151</th>\n",
       "      <td>Talenti</td>\n",
       "      <td>Mediterranean Mint Gelato</td>\n",
       "      <td>4.7</td>\n",
       "      <td>324</td>\n",
       "      <td>milk, sugar, cream, chocolate, dextrose, milk fat, cocoa butter, sunflower lecithin, carob bean gum, natural flavor, guar gum, chocolate, vanilla, soybean lecithin, mint leaf extractives</td>\n",
       "    </tr>\n",
       "  </tbody>\n",
       "</table>\n",
       "</div>"
      ],
      "text/plain": [
       "       brand                             name  rating  rating_count  \\\n",
       "129  Talenti         Belgian Chocolate Gelato     4.8            27   \n",
       "138  Talenti  Coconut Almond Chocolate Gelato     4.8            82   \n",
       "132  Talenti         Caramel Apple Pie Gelato     4.8           115   \n",
       "157  Talenti  Organic Oak-aged Vanilla Gelato     4.8            19   \n",
       "127  Talenti          Alphonso Mango Sorbetto     4.7           139   \n",
       "165  Talenti           Salted Caramel Truffle     4.7           160   \n",
       "156  Talenti     Organic Ginger Matcha Gelato     4.7            21   \n",
       "159  Talenti     Peanut Butter Fudge Sorbetto     4.7            77   \n",
       "164  Talenti         Roman Raspberry Sorbetto     4.7           161   \n",
       "151  Talenti        Mediterranean Mint Gelato     4.7           324   \n",
       "\n",
       "                                                                                                                                                                                                                                                                                          ingredients_cleaned  \n",
       "129                                                                                                                                                           milk, sugar, cream, egg, egg yolk, dextrose, chocolate, cocoa powder, cocoa butter, chocolate, carob bean gum, soybean lecithin, natural flavor  \n",
       "138                                                                                                                                      milk, sugar, cream, chocolate, almonds, coconut, coconut, dextrose, coconut, soybean, sunflower oil, salt, carob bean gum, soybean lecithin, vanilla, natural flavor  \n",
       "132                                                                                                                                                           milk, sugar, cream, dextrose, skim milk, wheat flour, cinnamon, apple, corn syrup, vanilla, carob bean gum, coconut oil, baking soda, egg, salt  \n",
       "157                                                                                                                                                                                                                               skim milk, cream, sugar, dextrose, oakwood extract, carob bean gum, vanilla  \n",
       "127                                                                                                                                                                                                                                                      mango, water, sugar, dextrose, lemon, carob bean gum  \n",
       "165  milk, sugar, skim milk, cream, water, coconut oil, corn syrup, egg, egg yolk, cocoa powder, wheat flour, dextrose, palm oil, soybean oil, baking soda, vanilla, carob bean gum, sunflower lecithin, salt, soybean lecithin, natural flavor, cane syrup, cocoa powder, butter, guar gum, cornstarch, salt  \n",
       "156                                                                                                                                                                                                    skim milk, cream, sugar, dextrose, ginger, matcha green tea, green tea, carob bean gum, vanilla, lemon  \n",
       "159                                                                                                                                                  water, peanut, sugar, dextrose, salt, cocoa powder, corn syrup, coconut oil, chocolate, cornstarch, salt, vanilla, carob bean gum, guar gum, xanthan gum  \n",
       "164                                                                                                                                                                                                                                                  raspberry, water, sugar, dextrose, lemon, carob bean gum  \n",
       "151                                                                                                                milk, sugar, cream, chocolate, dextrose, milk fat, cocoa butter, sunflower lecithin, carob bean gum, natural flavor, guar gum, chocolate, vanilla, soybean lecithin, mint leaf extractives  "
      ]
     },
     "execution_count": 67,
     "metadata": {},
     "output_type": "execute_result"
    }
   ],
   "source": [
    "top10_tl"
   ]
  },
  {
   "cell_type": "code",
   "execution_count": 68,
   "metadata": {},
   "outputs": [
    {
     "data": {
      "application/vnd.microsoft.datawrangler.viewer.v0+json": {
       "columns": [
        {
         "name": "index",
         "rawType": "int64",
         "type": "integer"
        },
        {
         "name": "brand",
         "rawType": "object",
         "type": "string"
        },
        {
         "name": "name",
         "rawType": "object",
         "type": "string"
        },
        {
         "name": "rating",
         "rawType": "float64",
         "type": "float"
        },
        {
         "name": "rating_count",
         "rawType": "int64",
         "type": "integer"
        },
        {
         "name": "ingredients_cleaned",
         "rawType": "object",
         "type": "string"
        }
       ],
       "conversionMethod": "pd.DataFrame",
       "ref": "8ce39e03-cd94-4daa-8d2a-455f018ff43b",
       "rows": [
        [
         "143",
         "Talenti",
         "Dark Chocolate Cherry",
         "4.2",
         "48",
         "milk, sugar, cream, egg yolk, egg white, chocolate, cocoa powder, coconut oil, dextrose, water, cherry, canola oil, vermouth, cherry, milk fat, cocoa butter, whey, lemon, vanilla, chocolate, carob bean gum, cocoa powder, soybean lecithin, salt, natural flavor"
        ],
        [
         "144",
         "Talenti",
         "Dark Chocolate Sorbetto",
         "4.2",
         "41",
         "water, sugar, cocoa powder, dextrose, coconut oil, egg yolk, egg white, chocolate, carob bean gum, salt, natural flavor, pectin"
        ],
        [
         "166",
         "Talenti",
         "Sea Salt Caramel Gelato",
         "4.1",
         "146",
         "milk, skim milk, sugar, cream, egg yolk, egg, corn syrup, coconut oil, dextrose, cocoa powder, salt, carob bean gum, vanilla, soybean lecithin, natural flavor"
        ],
        [
         "130",
         "Talenti",
         "Black Raspberry Chocolate Chip Gelato",
         "4.0",
         "105",
         "milk, sugar, cream, black raspberry, dextrose, chocolate, coconut oil, carob bean gum, soybean oil, vanilla, soybean lecithin"
        ],
        [
         "169",
         "Talenti",
         "Vanilla Blueberry Crumble Gelato",
         "3.9",
         "70",
         "milk, sugar, cream, tapioca, dextrose, oats, coconut oil, wheat flour, blueberry, vanilla, brown sugar, natural flavor, carob bean gum, vanilla, pectin, guar gum, artificial color, salt, citric acid, lemon peel"
        ],
        [
         "150",
         "Talenti",
         "Madagascan Vanilla Bean Gelato",
         "3.9",
         "198",
         "milk, sugar, cream, dextrose, vanilla, sunflower lecithin, carob bean gum, guar gum, natural flavor, lemon peel"
        ],
        [
         "163",
         "Talenti",
         "Raspberry Cheesecake Gelato",
         "3.9",
         "76",
         "milk, sugar, cream, cream cheese, corn syrup, flour, balsamic vinegar, egg, wheat graham flour, raspberry, vanilla, carob bean gum, modified cornstarch, palm oil, brown sugar, natural flavor, artificial color, carrageenan, honey, salt, soybean lecithin"
        ],
        [
         "148",
         "Talenti",
         "Key Lime Pie Gelato",
         "3.6",
         "208",
         "milk, sugar, cream, dextrose, wheat flour, cottonseed oil, wheat graham flour, coconut oil, canola oil, carob bean gum, vanilla, palm oil, palm oil, wheat bran, honey, natural flavor, salt, molasses, soybean lecithin, wheat germ, cinnamon"
        ],
        [
         "170",
         "Talenti",
         "Vanilla Caramel Swirl Gelato",
         "3.6",
         "38",
         "milk, sugar, cream, skim milk, dextrose, vanilla, corn syrup, carob bean gum, natural flavor, lemon peel, vanilla"
        ],
        [
         "136",
         "Talenti",
         "Chocolate Chip Cookie Dough Gelato",
         "2.8",
         "104",
         "milk, sugar, cream, wheat flour, dextrose, skim milk, chocolate, vanilla, egg, cocoa powder, molasses, soybean oil, carob bean gum, rice flour, natural flavor, salt, cocoa butter, lemon peel, soybean lecithin"
        ]
       ],
       "shape": {
        "columns": 5,
        "rows": 10
       }
      },
      "text/html": [
       "<div>\n",
       "<style scoped>\n",
       "    .dataframe tbody tr th:only-of-type {\n",
       "        vertical-align: middle;\n",
       "    }\n",
       "\n",
       "    .dataframe tbody tr th {\n",
       "        vertical-align: top;\n",
       "    }\n",
       "\n",
       "    .dataframe thead th {\n",
       "        text-align: right;\n",
       "    }\n",
       "</style>\n",
       "<table border=\"1\" class=\"dataframe\">\n",
       "  <thead>\n",
       "    <tr style=\"text-align: right;\">\n",
       "      <th></th>\n",
       "      <th>brand</th>\n",
       "      <th>name</th>\n",
       "      <th>rating</th>\n",
       "      <th>rating_count</th>\n",
       "      <th>ingredients_cleaned</th>\n",
       "    </tr>\n",
       "  </thead>\n",
       "  <tbody>\n",
       "    <tr>\n",
       "      <th>143</th>\n",
       "      <td>Talenti</td>\n",
       "      <td>Dark Chocolate Cherry</td>\n",
       "      <td>4.2</td>\n",
       "      <td>48</td>\n",
       "      <td>milk, sugar, cream, egg yolk, egg white, chocolate, cocoa powder, coconut oil, dextrose, water, cherry, canola oil, vermouth, cherry, milk fat, cocoa butter, whey, lemon, vanilla, chocolate, carob bean gum, cocoa powder, soybean lecithin, salt, natural flavor</td>\n",
       "    </tr>\n",
       "    <tr>\n",
       "      <th>144</th>\n",
       "      <td>Talenti</td>\n",
       "      <td>Dark Chocolate Sorbetto</td>\n",
       "      <td>4.2</td>\n",
       "      <td>41</td>\n",
       "      <td>water, sugar, cocoa powder, dextrose, coconut oil, egg yolk, egg white, chocolate, carob bean gum, salt, natural flavor, pectin</td>\n",
       "    </tr>\n",
       "    <tr>\n",
       "      <th>166</th>\n",
       "      <td>Talenti</td>\n",
       "      <td>Sea Salt Caramel Gelato</td>\n",
       "      <td>4.1</td>\n",
       "      <td>146</td>\n",
       "      <td>milk, skim milk, sugar, cream, egg yolk, egg, corn syrup, coconut oil, dextrose, cocoa powder, salt, carob bean gum, vanilla, soybean lecithin, natural flavor</td>\n",
       "    </tr>\n",
       "    <tr>\n",
       "      <th>130</th>\n",
       "      <td>Talenti</td>\n",
       "      <td>Black Raspberry Chocolate Chip Gelato</td>\n",
       "      <td>4.0</td>\n",
       "      <td>105</td>\n",
       "      <td>milk, sugar, cream, black raspberry, dextrose, chocolate, coconut oil, carob bean gum, soybean oil, vanilla, soybean lecithin</td>\n",
       "    </tr>\n",
       "    <tr>\n",
       "      <th>169</th>\n",
       "      <td>Talenti</td>\n",
       "      <td>Vanilla Blueberry Crumble Gelato</td>\n",
       "      <td>3.9</td>\n",
       "      <td>70</td>\n",
       "      <td>milk, sugar, cream, tapioca, dextrose, oats, coconut oil, wheat flour, blueberry, vanilla, brown sugar, natural flavor, carob bean gum, vanilla, pectin, guar gum, artificial color, salt, citric acid, lemon peel</td>\n",
       "    </tr>\n",
       "    <tr>\n",
       "      <th>150</th>\n",
       "      <td>Talenti</td>\n",
       "      <td>Madagascan Vanilla Bean Gelato</td>\n",
       "      <td>3.9</td>\n",
       "      <td>198</td>\n",
       "      <td>milk, sugar, cream, dextrose, vanilla, sunflower lecithin, carob bean gum, guar gum, natural flavor, lemon peel</td>\n",
       "    </tr>\n",
       "    <tr>\n",
       "      <th>163</th>\n",
       "      <td>Talenti</td>\n",
       "      <td>Raspberry Cheesecake Gelato</td>\n",
       "      <td>3.9</td>\n",
       "      <td>76</td>\n",
       "      <td>milk, sugar, cream, cream cheese, corn syrup, flour, balsamic vinegar, egg, wheat graham flour, raspberry, vanilla, carob bean gum, modified cornstarch, palm oil, brown sugar, natural flavor, artificial color, carrageenan, honey, salt, soybean lecithin</td>\n",
       "    </tr>\n",
       "    <tr>\n",
       "      <th>148</th>\n",
       "      <td>Talenti</td>\n",
       "      <td>Key Lime Pie Gelato</td>\n",
       "      <td>3.6</td>\n",
       "      <td>208</td>\n",
       "      <td>milk, sugar, cream, dextrose, wheat flour, cottonseed oil, wheat graham flour, coconut oil, canola oil, carob bean gum, vanilla, palm oil, palm oil, wheat bran, honey, natural flavor, salt, molasses, soybean lecithin, wheat germ, cinnamon</td>\n",
       "    </tr>\n",
       "    <tr>\n",
       "      <th>170</th>\n",
       "      <td>Talenti</td>\n",
       "      <td>Vanilla Caramel Swirl Gelato</td>\n",
       "      <td>3.6</td>\n",
       "      <td>38</td>\n",
       "      <td>milk, sugar, cream, skim milk, dextrose, vanilla, corn syrup, carob bean gum, natural flavor, lemon peel, vanilla</td>\n",
       "    </tr>\n",
       "    <tr>\n",
       "      <th>136</th>\n",
       "      <td>Talenti</td>\n",
       "      <td>Chocolate Chip Cookie Dough Gelato</td>\n",
       "      <td>2.8</td>\n",
       "      <td>104</td>\n",
       "      <td>milk, sugar, cream, wheat flour, dextrose, skim milk, chocolate, vanilla, egg, cocoa powder, molasses, soybean oil, carob bean gum, rice flour, natural flavor, salt, cocoa butter, lemon peel, soybean lecithin</td>\n",
       "    </tr>\n",
       "  </tbody>\n",
       "</table>\n",
       "</div>"
      ],
      "text/plain": [
       "       brand                                   name  rating  rating_count  \\\n",
       "143  Talenti                  Dark Chocolate Cherry     4.2            48   \n",
       "144  Talenti                Dark Chocolate Sorbetto     4.2            41   \n",
       "166  Talenti                Sea Salt Caramel Gelato     4.1           146   \n",
       "130  Talenti  Black Raspberry Chocolate Chip Gelato     4.0           105   \n",
       "169  Talenti       Vanilla Blueberry Crumble Gelato     3.9            70   \n",
       "150  Talenti         Madagascan Vanilla Bean Gelato     3.9           198   \n",
       "163  Talenti            Raspberry Cheesecake Gelato     3.9            76   \n",
       "148  Talenti                    Key Lime Pie Gelato     3.6           208   \n",
       "170  Talenti           Vanilla Caramel Swirl Gelato     3.6            38   \n",
       "136  Talenti     Chocolate Chip Cookie Dough Gelato     2.8           104   \n",
       "\n",
       "                                                                                                                                                                                                                                                     ingredients_cleaned  \n",
       "143  milk, sugar, cream, egg yolk, egg white, chocolate, cocoa powder, coconut oil, dextrose, water, cherry, canola oil, vermouth, cherry, milk fat, cocoa butter, whey, lemon, vanilla, chocolate, carob bean gum, cocoa powder, soybean lecithin, salt, natural flavor  \n",
       "144                                                                                                                                      water, sugar, cocoa powder, dextrose, coconut oil, egg yolk, egg white, chocolate, carob bean gum, salt, natural flavor, pectin  \n",
       "166                                                                                                       milk, skim milk, sugar, cream, egg yolk, egg, corn syrup, coconut oil, dextrose, cocoa powder, salt, carob bean gum, vanilla, soybean lecithin, natural flavor  \n",
       "130                                                                                                                                        milk, sugar, cream, black raspberry, dextrose, chocolate, coconut oil, carob bean gum, soybean oil, vanilla, soybean lecithin  \n",
       "169                                                   milk, sugar, cream, tapioca, dextrose, oats, coconut oil, wheat flour, blueberry, vanilla, brown sugar, natural flavor, carob bean gum, vanilla, pectin, guar gum, artificial color, salt, citric acid, lemon peel  \n",
       "150                                                                                                                                                      milk, sugar, cream, dextrose, vanilla, sunflower lecithin, carob bean gum, guar gum, natural flavor, lemon peel  \n",
       "163         milk, sugar, cream, cream cheese, corn syrup, flour, balsamic vinegar, egg, wheat graham flour, raspberry, vanilla, carob bean gum, modified cornstarch, palm oil, brown sugar, natural flavor, artificial color, carrageenan, honey, salt, soybean lecithin  \n",
       "148                       milk, sugar, cream, dextrose, wheat flour, cottonseed oil, wheat graham flour, coconut oil, canola oil, carob bean gum, vanilla, palm oil, palm oil, wheat bran, honey, natural flavor, salt, molasses, soybean lecithin, wheat germ, cinnamon  \n",
       "170                                                                                                                                                    milk, sugar, cream, skim milk, dextrose, vanilla, corn syrup, carob bean gum, natural flavor, lemon peel, vanilla  \n",
       "136                                                     milk, sugar, cream, wheat flour, dextrose, skim milk, chocolate, vanilla, egg, cocoa powder, molasses, soybean oil, carob bean gum, rice flour, natural flavor, salt, cocoa butter, lemon peel, soybean lecithin  "
      ]
     },
     "execution_count": 68,
     "metadata": {},
     "output_type": "execute_result"
    }
   ],
   "source": [
    "bot10_tl"
   ]
  },
  {
   "cell_type": "code",
   "execution_count": 69,
   "metadata": {},
   "outputs": [
    {
     "data": {
      "application/vnd.microsoft.datawrangler.viewer.v0+json": {
       "columns": [
        {
         "name": "index",
         "rawType": "int64",
         "type": "integer"
        },
        {
         "name": "ingredient",
         "rawType": "object",
         "type": "string"
        },
        {
         "name": "top_count",
         "rawType": "int64",
         "type": "integer"
        },
        {
         "name": "bottom_count",
         "rawType": "int64",
         "type": "integer"
        },
        {
         "name": "diff",
         "rawType": "int64",
         "type": "integer"
        }
       ],
       "conversionMethod": "pd.DataFrame",
       "ref": "a0456da1-67d1-4413-a077-61a74e349485",
       "rows": [
        [
         "0",
         "lemon",
         "3",
         "1",
         "2"
        ],
        [
         "1",
         "almonds",
         "1",
         "0",
         "1"
        ],
        [
         "2",
         "mint leaf extractives",
         "1",
         "0",
         "1"
        ],
        [
         "3",
         "ginger",
         "1",
         "0",
         "1"
        ],
        [
         "4",
         "matcha green tea",
         "1",
         "0",
         "1"
        ],
        [
         "5",
         "peanut",
         "1",
         "0",
         "1"
        ],
        [
         "6",
         "coconut",
         "1",
         "0",
         "1"
        ],
        [
         "7",
         "oakwood extract",
         "1",
         "0",
         "1"
        ],
        [
         "8",
         "apple",
         "1",
         "0",
         "1"
        ],
        [
         "9",
         "mango",
         "1",
         "0",
         "1"
        ],
        [
         "10",
         "green tea",
         "1",
         "0",
         "1"
        ],
        [
         "11",
         "chocolate",
         "4",
         "4",
         "0"
        ],
        [
         "12",
         "cinnamon",
         "1",
         "1",
         "0"
        ],
        [
         "13",
         "raspberry",
         "1",
         "1",
         "0"
        ],
        [
         "14",
         "wheat germ",
         "0",
         "1",
         "-1"
        ],
        [
         "15",
         "cocoa powder",
         "3",
         "4",
         "-1"
        ],
        [
         "16",
         "cherry",
         "0",
         "1",
         "-1"
        ],
        [
         "17",
         "balsamic vinegar",
         "0",
         "1",
         "-1"
        ],
        [
         "18",
         "oats",
         "0",
         "1",
         "-1"
        ],
        [
         "19",
         "blueberry",
         "0",
         "1",
         "-1"
        ],
        [
         "20",
         "cream cheese",
         "0",
         "1",
         "-1"
        ],
        [
         "21",
         "wheat bran",
         "0",
         "1",
         "-1"
        ],
        [
         "22",
         "black raspberry",
         "0",
         "1",
         "-1"
        ],
        [
         "23",
         "vermouth",
         "0",
         "1",
         "-1"
        ],
        [
         "24",
         "vanilla",
         "7",
         "9",
         "-2"
        ],
        [
         "25",
         "wheat graham flour",
         "0",
         "2",
         "-2"
        ],
        [
         "26",
         "salt",
         "4",
         "7",
         "-3"
        ],
        [
         "27",
         "lemon peel",
         "0",
         "4",
         "-4"
        ],
        [
         "28",
         "natural flavor",
         "4",
         "9",
         "-5"
        ]
       ],
       "shape": {
        "columns": 4,
        "rows": 29
       }
      },
      "text/html": [
       "<div>\n",
       "<style scoped>\n",
       "    .dataframe tbody tr th:only-of-type {\n",
       "        vertical-align: middle;\n",
       "    }\n",
       "\n",
       "    .dataframe tbody tr th {\n",
       "        vertical-align: top;\n",
       "    }\n",
       "\n",
       "    .dataframe thead th {\n",
       "        text-align: right;\n",
       "    }\n",
       "</style>\n",
       "<table border=\"1\" class=\"dataframe\">\n",
       "  <thead>\n",
       "    <tr style=\"text-align: right;\">\n",
       "      <th></th>\n",
       "      <th>ingredient</th>\n",
       "      <th>top_count</th>\n",
       "      <th>bottom_count</th>\n",
       "      <th>diff</th>\n",
       "    </tr>\n",
       "  </thead>\n",
       "  <tbody>\n",
       "    <tr>\n",
       "      <th>0</th>\n",
       "      <td>lemon</td>\n",
       "      <td>3</td>\n",
       "      <td>1</td>\n",
       "      <td>2</td>\n",
       "    </tr>\n",
       "    <tr>\n",
       "      <th>1</th>\n",
       "      <td>almonds</td>\n",
       "      <td>1</td>\n",
       "      <td>0</td>\n",
       "      <td>1</td>\n",
       "    </tr>\n",
       "    <tr>\n",
       "      <th>2</th>\n",
       "      <td>mint leaf extractives</td>\n",
       "      <td>1</td>\n",
       "      <td>0</td>\n",
       "      <td>1</td>\n",
       "    </tr>\n",
       "    <tr>\n",
       "      <th>3</th>\n",
       "      <td>ginger</td>\n",
       "      <td>1</td>\n",
       "      <td>0</td>\n",
       "      <td>1</td>\n",
       "    </tr>\n",
       "    <tr>\n",
       "      <th>4</th>\n",
       "      <td>matcha green tea</td>\n",
       "      <td>1</td>\n",
       "      <td>0</td>\n",
       "      <td>1</td>\n",
       "    </tr>\n",
       "    <tr>\n",
       "      <th>5</th>\n",
       "      <td>peanut</td>\n",
       "      <td>1</td>\n",
       "      <td>0</td>\n",
       "      <td>1</td>\n",
       "    </tr>\n",
       "    <tr>\n",
       "      <th>6</th>\n",
       "      <td>coconut</td>\n",
       "      <td>1</td>\n",
       "      <td>0</td>\n",
       "      <td>1</td>\n",
       "    </tr>\n",
       "    <tr>\n",
       "      <th>7</th>\n",
       "      <td>oakwood extract</td>\n",
       "      <td>1</td>\n",
       "      <td>0</td>\n",
       "      <td>1</td>\n",
       "    </tr>\n",
       "    <tr>\n",
       "      <th>8</th>\n",
       "      <td>apple</td>\n",
       "      <td>1</td>\n",
       "      <td>0</td>\n",
       "      <td>1</td>\n",
       "    </tr>\n",
       "    <tr>\n",
       "      <th>9</th>\n",
       "      <td>mango</td>\n",
       "      <td>1</td>\n",
       "      <td>0</td>\n",
       "      <td>1</td>\n",
       "    </tr>\n",
       "    <tr>\n",
       "      <th>10</th>\n",
       "      <td>green tea</td>\n",
       "      <td>1</td>\n",
       "      <td>0</td>\n",
       "      <td>1</td>\n",
       "    </tr>\n",
       "    <tr>\n",
       "      <th>11</th>\n",
       "      <td>chocolate</td>\n",
       "      <td>4</td>\n",
       "      <td>4</td>\n",
       "      <td>0</td>\n",
       "    </tr>\n",
       "    <tr>\n",
       "      <th>12</th>\n",
       "      <td>cinnamon</td>\n",
       "      <td>1</td>\n",
       "      <td>1</td>\n",
       "      <td>0</td>\n",
       "    </tr>\n",
       "    <tr>\n",
       "      <th>13</th>\n",
       "      <td>raspberry</td>\n",
       "      <td>1</td>\n",
       "      <td>1</td>\n",
       "      <td>0</td>\n",
       "    </tr>\n",
       "    <tr>\n",
       "      <th>14</th>\n",
       "      <td>wheat germ</td>\n",
       "      <td>0</td>\n",
       "      <td>1</td>\n",
       "      <td>-1</td>\n",
       "    </tr>\n",
       "    <tr>\n",
       "      <th>15</th>\n",
       "      <td>cocoa powder</td>\n",
       "      <td>3</td>\n",
       "      <td>4</td>\n",
       "      <td>-1</td>\n",
       "    </tr>\n",
       "    <tr>\n",
       "      <th>16</th>\n",
       "      <td>cherry</td>\n",
       "      <td>0</td>\n",
       "      <td>1</td>\n",
       "      <td>-1</td>\n",
       "    </tr>\n",
       "    <tr>\n",
       "      <th>17</th>\n",
       "      <td>balsamic vinegar</td>\n",
       "      <td>0</td>\n",
       "      <td>1</td>\n",
       "      <td>-1</td>\n",
       "    </tr>\n",
       "    <tr>\n",
       "      <th>18</th>\n",
       "      <td>oats</td>\n",
       "      <td>0</td>\n",
       "      <td>1</td>\n",
       "      <td>-1</td>\n",
       "    </tr>\n",
       "    <tr>\n",
       "      <th>19</th>\n",
       "      <td>blueberry</td>\n",
       "      <td>0</td>\n",
       "      <td>1</td>\n",
       "      <td>-1</td>\n",
       "    </tr>\n",
       "    <tr>\n",
       "      <th>20</th>\n",
       "      <td>cream cheese</td>\n",
       "      <td>0</td>\n",
       "      <td>1</td>\n",
       "      <td>-1</td>\n",
       "    </tr>\n",
       "    <tr>\n",
       "      <th>21</th>\n",
       "      <td>wheat bran</td>\n",
       "      <td>0</td>\n",
       "      <td>1</td>\n",
       "      <td>-1</td>\n",
       "    </tr>\n",
       "    <tr>\n",
       "      <th>22</th>\n",
       "      <td>black raspberry</td>\n",
       "      <td>0</td>\n",
       "      <td>1</td>\n",
       "      <td>-1</td>\n",
       "    </tr>\n",
       "    <tr>\n",
       "      <th>23</th>\n",
       "      <td>vermouth</td>\n",
       "      <td>0</td>\n",
       "      <td>1</td>\n",
       "      <td>-1</td>\n",
       "    </tr>\n",
       "    <tr>\n",
       "      <th>24</th>\n",
       "      <td>vanilla</td>\n",
       "      <td>7</td>\n",
       "      <td>9</td>\n",
       "      <td>-2</td>\n",
       "    </tr>\n",
       "    <tr>\n",
       "      <th>25</th>\n",
       "      <td>wheat graham flour</td>\n",
       "      <td>0</td>\n",
       "      <td>2</td>\n",
       "      <td>-2</td>\n",
       "    </tr>\n",
       "    <tr>\n",
       "      <th>26</th>\n",
       "      <td>salt</td>\n",
       "      <td>4</td>\n",
       "      <td>7</td>\n",
       "      <td>-3</td>\n",
       "    </tr>\n",
       "    <tr>\n",
       "      <th>27</th>\n",
       "      <td>lemon peel</td>\n",
       "      <td>0</td>\n",
       "      <td>4</td>\n",
       "      <td>-4</td>\n",
       "    </tr>\n",
       "    <tr>\n",
       "      <th>28</th>\n",
       "      <td>natural flavor</td>\n",
       "      <td>4</td>\n",
       "      <td>9</td>\n",
       "      <td>-5</td>\n",
       "    </tr>\n",
       "  </tbody>\n",
       "</table>\n",
       "</div>"
      ],
      "text/plain": [
       "               ingredient  top_count  bottom_count  diff\n",
       "0                   lemon          3             1     2\n",
       "1                 almonds          1             0     1\n",
       "2   mint leaf extractives          1             0     1\n",
       "3                  ginger          1             0     1\n",
       "4        matcha green tea          1             0     1\n",
       "5                  peanut          1             0     1\n",
       "6                 coconut          1             0     1\n",
       "7         oakwood extract          1             0     1\n",
       "8                   apple          1             0     1\n",
       "9                   mango          1             0     1\n",
       "10              green tea          1             0     1\n",
       "11              chocolate          4             4     0\n",
       "12               cinnamon          1             1     0\n",
       "13              raspberry          1             1     0\n",
       "14             wheat germ          0             1    -1\n",
       "15           cocoa powder          3             4    -1\n",
       "16                 cherry          0             1    -1\n",
       "17       balsamic vinegar          0             1    -1\n",
       "18                   oats          0             1    -1\n",
       "19              blueberry          0             1    -1\n",
       "20           cream cheese          0             1    -1\n",
       "21             wheat bran          0             1    -1\n",
       "22        black raspberry          0             1    -1\n",
       "23               vermouth          0             1    -1\n",
       "24                vanilla          7             9    -2\n",
       "25     wheat graham flour          0             2    -2\n",
       "26                   salt          4             7    -3\n",
       "27             lemon peel          0             4    -4\n",
       "28         natural flavor          4             9    -5"
      ]
     },
     "execution_count": 69,
     "metadata": {},
     "output_type": "execute_result"
    }
   ],
   "source": [
    "diff_table_tl = compare_top10_and_bot10_ingredients('Talenti', df, categories['flavors'])\n",
    "diff_table_tl"
   ]
  },
  {
   "cell_type": "code",
   "execution_count": 70,
   "metadata": {},
   "outputs": [],
   "source": [
    "# saving these results in csv to medium gist files\n",
    "eda_path = os.path.join(project_root, 'data', 'eda\\\\')\n",
    "\n",
    "top10_tl.to_csv(eda_path + 'icecream2_top10_tl.csv', index=False, header=True, encoding='utf-8')\n",
    "bot10_tl.to_csv(eda_path + 'icecream2_bot10_tl.csv', index=False, header=True, encoding='utf-8')\n",
    "diff_table_tl.to_csv(eda_path + 'icecream2_diff_table_tl.csv', index=False, header=True, encoding='utf-8')"
   ]
  }
 ],
 "metadata": {
  "kernelspec": {
   "display_name": ".venv",
   "language": "python",
   "name": "python3"
  },
  "language_info": {
   "codemirror_mode": {
    "name": "ipython",
    "version": 3
   },
   "file_extension": ".py",
   "mimetype": "text/x-python",
   "name": "python",
   "nbconvert_exporter": "python",
   "pygments_lexer": "ipython3",
   "version": "3.12.3"
  },
  "orig_nbformat": 4
 },
 "nbformat": 4,
 "nbformat_minor": 2
}
